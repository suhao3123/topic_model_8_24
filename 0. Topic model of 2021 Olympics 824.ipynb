{
 "cells": [
  {
   "cell_type": "markdown",
   "metadata": {},
   "source": [
    "# Prerequisites"
   ]
  },
  {
   "cell_type": "code",
   "execution_count": 57,
   "metadata": {},
   "outputs": [],
   "source": [
    "# pip install PyMuPDF                    # (install PyMuPDF for extracting info from PDF files)\n",
    "# pip install tika                       # (install tika for extracting paragraphs from PDF files)\n",
    "# pip install spacy==2.2.0               # (install spacy for lemmatization)\n",
    "# conda install gensim                   # (intall gesim for topic modelling)\n",
    "# pip install pyLDAvis                   # (install pyLDAvis for topic modelling visulisation)\n",
    "# conda install -c conda-forge pyldavis  # (if you use aconda to install pyLADvis)"
   ]
  },
  {
   "cell_type": "code",
   "execution_count": 58,
   "metadata": {},
   "outputs": [],
   "source": [
    "import pandas as pd\n",
    "import numpy as np\n",
    "import re\n",
    "from pprint import pprint\n",
    "\n",
    "# glob for extracting the directories of metadata\n",
    "import glob\n",
    "\n",
    "# PyMuPDF\n",
    "import fitz\n",
    "\n",
    "# tika\n",
    "import tika               \n",
    "from tika import parser   \n",
    "\n",
    "# Gensim\n",
    "import gensim\n",
    "import gensim.corpora as corpora\n",
    "from gensim.utils import simple_preprocess\n",
    "from gensim.models import CoherenceModel\n",
    "\n",
    "# spacy for lemmatization\n",
    "import spacy\n",
    "\n",
    "# Visualisation\n",
    "import plotly.express as px\n",
    "import pyLDAvis\n",
    "import pyLDAvis.gensim_models\n",
    "import matplotlib.pyplot as plt\n",
    "%matplotlib inline\n",
    "\n",
    "# Enable logging for gensim - optional\n",
    "import logging\n",
    "logging.basicConfig(format='%(asctime)s : %(levelname)s : %(message)s', level=logging.ERROR)\n",
    "\n",
    "import warnings\n",
    "warnings.filterwarnings(\"ignore\",category=DeprecationWarning)\n",
    "import os"
   ]
  },
  {
   "cell_type": "markdown",
   "metadata": {},
   "source": [
    "# Import pdf files, data wrangling and overview"
   ]
  },
  {
   "cell_type": "code",
   "execution_count": 59,
   "metadata": {},
   "outputs": [
    {
     "data": {
      "text/plain": [
       "['D:\\\\LEON\\\\Business Analytics\\\\Study\\\\9. Business Project\\\\Data set\\\\Olympics\\\\Examination_of_Witnesses_Sept_2003_-_Q1-19.pdf']"
      ]
     },
     "execution_count": 59,
     "metadata": {},
     "output_type": "execute_result"
    }
   ],
   "source": [
    "# Extract the directories of the PDF files, make sure the folder name does not contain number\n",
    "pdf_dir = \"D:\\LEON\\Business Analytics\\Study\\9. Business Project\\Data set\\Olympics\"\n",
    "pdf_files = glob.glob(\"%s/*.pdf\" % pdf_dir)\n",
    "pdf_files[:1]"
   ]
  },
  {
   "cell_type": "code",
   "execution_count": 60,
   "metadata": {},
   "outputs": [],
   "source": [
    "# Use PyMuPDF to extract all info of the PDF files (text, title, date, etc)\n",
    "list_metadata = []\n",
    "for i in pdf_files:\n",
    "    with fitz.open(i) as doc:\n",
    "        info = doc.metadata\n",
    "        info['file_name'] = os.path.basename(i)\n",
    "        text = ''\n",
    "        for page in doc:\n",
    "            text+= page.getText()\n",
    "        info['Content'] = text\n",
    "        \n",
    "    list_metadata.append(info)"
   ]
  },
  {
   "cell_type": "code",
   "execution_count": 61,
   "metadata": {},
   "outputs": [
    {
     "data": {
      "text/html": [
       "<div>\n",
       "<style scoped>\n",
       "    .dataframe tbody tr th:only-of-type {\n",
       "        vertical-align: middle;\n",
       "    }\n",
       "\n",
       "    .dataframe tbody tr th {\n",
       "        vertical-align: top;\n",
       "    }\n",
       "\n",
       "    .dataframe thead th {\n",
       "        text-align: right;\n",
       "    }\n",
       "</style>\n",
       "<table border=\"1\" class=\"dataframe\">\n",
       "  <thead>\n",
       "    <tr style=\"text-align: right;\">\n",
       "      <th></th>\n",
       "      <th>format</th>\n",
       "      <th>title</th>\n",
       "      <th>author</th>\n",
       "      <th>subject</th>\n",
       "      <th>keywords</th>\n",
       "      <th>creator</th>\n",
       "      <th>producer</th>\n",
       "      <th>creationDate</th>\n",
       "      <th>modDate</th>\n",
       "      <th>trapped</th>\n",
       "      <th>encryption</th>\n",
       "      <th>file_name</th>\n",
       "      <th>Content</th>\n",
       "      <th>document_id</th>\n",
       "      <th>Word_count</th>\n",
       "    </tr>\n",
       "  </thead>\n",
       "  <tbody>\n",
       "    <tr>\n",
       "      <th>0</th>\n",
       "      <td>PDF 1.7</td>\n",
       "      <td></td>\n",
       "      <td>B Lewis</td>\n",
       "      <td></td>\n",
       "      <td></td>\n",
       "      <td>Microsoft Word</td>\n",
       "      <td></td>\n",
       "      <td>D:20210822083603+00'00'</td>\n",
       "      <td>D:20210822083603+00'00'</td>\n",
       "      <td></td>\n",
       "      <td>None</td>\n",
       "      <td>Examination_of_Witnesses_Sept_2003_-_Q1-19.pdf</td>\n",
       "      <td>Examination of Witnesses (1-19) \\n16 SEPTEMBER...</td>\n",
       "      <td>0</td>\n",
       "      <td>6115</td>\n",
       "    </tr>\n",
       "    <tr>\n",
       "      <th>1</th>\n",
       "      <td>PDF 1.7</td>\n",
       "      <td></td>\n",
       "      <td>B Lewis</td>\n",
       "      <td></td>\n",
       "      <td></td>\n",
       "      <td>Microsoft Word</td>\n",
       "      <td></td>\n",
       "      <td>D:20210822083606+00'00'</td>\n",
       "      <td>D:20210822083606+00'00'</td>\n",
       "      <td></td>\n",
       "      <td>None</td>\n",
       "      <td>Examination_of_Witnesses_Sept_2003_-_Q20-39.pdf</td>\n",
       "      <td>Examination of Witnesses (20-39) \\n16 SEPTEMBE...</td>\n",
       "      <td>1</td>\n",
       "      <td>4002</td>\n",
       "    </tr>\n",
       "    <tr>\n",
       "      <th>2</th>\n",
       "      <td>PDF 1.7</td>\n",
       "      <td></td>\n",
       "      <td>B Lewis</td>\n",
       "      <td></td>\n",
       "      <td></td>\n",
       "      <td>Microsoft Word</td>\n",
       "      <td></td>\n",
       "      <td>D:20210822083609+00'00'</td>\n",
       "      <td>D:20210822083609+00'00'</td>\n",
       "      <td></td>\n",
       "      <td>None</td>\n",
       "      <td>Examination_of_Witnesses_Sept_2003_-_Q40-44.pdf</td>\n",
       "      <td>Examination of Witnesses (40-44) \\n16 SEPTEMBE...</td>\n",
       "      <td>2</td>\n",
       "      <td>1007</td>\n",
       "    </tr>\n",
       "  </tbody>\n",
       "</table>\n",
       "</div>"
      ],
      "text/plain": [
       "    format title   author subject keywords         creator producer  \\\n",
       "0  PDF 1.7        B Lewis                   Microsoft Word            \n",
       "1  PDF 1.7        B Lewis                   Microsoft Word            \n",
       "2  PDF 1.7        B Lewis                   Microsoft Word            \n",
       "\n",
       "              creationDate                  modDate trapped encryption  \\\n",
       "0  D:20210822083603+00'00'  D:20210822083603+00'00'               None   \n",
       "1  D:20210822083606+00'00'  D:20210822083606+00'00'               None   \n",
       "2  D:20210822083609+00'00'  D:20210822083609+00'00'               None   \n",
       "\n",
       "                                         file_name  \\\n",
       "0   Examination_of_Witnesses_Sept_2003_-_Q1-19.pdf   \n",
       "1  Examination_of_Witnesses_Sept_2003_-_Q20-39.pdf   \n",
       "2  Examination_of_Witnesses_Sept_2003_-_Q40-44.pdf   \n",
       "\n",
       "                                             Content  document_id  Word_count  \n",
       "0  Examination of Witnesses (1-19) \\n16 SEPTEMBER...            0        6115  \n",
       "1  Examination of Witnesses (20-39) \\n16 SEPTEMBE...            1        4002  \n",
       "2  Examination of Witnesses (40-44) \\n16 SEPTEMBE...            2        1007  "
      ]
     },
     "execution_count": 61,
     "metadata": {},
     "output_type": "execute_result"
    }
   ],
   "source": [
    "df = pd.DataFrame(list_metadata)\n",
    "df['document_id'] = df.index\n",
    "df = df.drop_duplicates(subset = 'Content') # drop duplicate rows\n",
    "df = df.dropna(subset=['Content']) # drop rows whose text content is NaN\n",
    "df['Word_count'] = df ['Content'].str.count(' ') + 1\n",
    "df.head(3)"
   ]
  },
  {
   "cell_type": "code",
   "execution_count": 62,
   "metadata": {
    "scrolled": true
   },
   "outputs": [
    {
     "data": {
      "text/html": [
       "<div>\n",
       "<style scoped>\n",
       "    .dataframe tbody tr th:only-of-type {\n",
       "        vertical-align: middle;\n",
       "    }\n",
       "\n",
       "    .dataframe tbody tr th {\n",
       "        vertical-align: top;\n",
       "    }\n",
       "\n",
       "    .dataframe thead th {\n",
       "        text-align: right;\n",
       "    }\n",
       "</style>\n",
       "<table border=\"1\" class=\"dataframe\">\n",
       "  <thead>\n",
       "    <tr style=\"text-align: right;\">\n",
       "      <th></th>\n",
       "      <th>file_name</th>\n",
       "      <th>Content</th>\n",
       "    </tr>\n",
       "  </thead>\n",
       "  <tbody>\n",
       "  </tbody>\n",
       "</table>\n",
       "</div>"
      ],
      "text/plain": [
       "Empty DataFrame\n",
       "Columns: [file_name, Content]\n",
       "Index: []"
      ]
     },
     "execution_count": 62,
     "metadata": {},
     "output_type": "execute_result"
    }
   ],
   "source": [
    "# check if there are documents with few words\n",
    "min_word_count= 10                                               # set the mininum word_count of a document\n",
    "min_word_count_filter = df['Word_count'] <= min_word_count\n",
    "df_few_words = df[min_word_count_filter][['file_name', 'Content']]\n",
    "df_few_words"
   ]
  },
  {
   "cell_type": "code",
   "execution_count": 63,
   "metadata": {},
   "outputs": [
    {
     "name": "stdout",
     "output_type": "stream",
     "text": [
      "<class 'pandas.core.frame.DataFrame'>\n",
      "Int64Index: 169 entries, 0 to 168\n",
      "Data columns (total 15 columns):\n",
      " #   Column        Non-Null Count  Dtype \n",
      "---  ------        --------------  ----- \n",
      " 0   format        169 non-null    object\n",
      " 1   title         169 non-null    object\n",
      " 2   author        169 non-null    object\n",
      " 3   subject       169 non-null    object\n",
      " 4   keywords      169 non-null    object\n",
      " 5   creator       169 non-null    object\n",
      " 6   producer      169 non-null    object\n",
      " 7   creationDate  169 non-null    object\n",
      " 8   modDate       169 non-null    object\n",
      " 9   trapped       169 non-null    object\n",
      " 10  encryption    3 non-null      object\n",
      " 11  file_name     169 non-null    object\n",
      " 12  Content       169 non-null    object\n",
      " 13  document_id   169 non-null    int64 \n",
      " 14  Word_count    169 non-null    int64 \n",
      "dtypes: int64(2), object(13)\n",
      "memory usage: 21.1+ KB\n"
     ]
    }
   ],
   "source": [
    "df.info()"
   ]
  },
  {
   "cell_type": "markdown",
   "metadata": {},
   "source": [
    "### Word count"
   ]
  },
  {
   "cell_type": "code",
   "execution_count": 64,
   "metadata": {},
   "outputs": [
    {
     "data": {
      "text/plain": [
       "1054090"
      ]
     },
     "execution_count": 64,
     "metadata": {},
     "output_type": "execute_result"
    }
   ],
   "source": [
    "# Word count\n",
    "df['Word_count'].sum( )"
   ]
  },
  {
   "cell_type": "code",
   "execution_count": 65,
   "metadata": {},
   "outputs": [],
   "source": [
    "# Word count distribution\n",
    "#import seaborn as sns\n",
    "#ax1 = sns.distplot(df['Word_count'])\n",
    "#ax1.set(title = 'Word Count Distribution',\n",
    "#       xlabel = 'Word Count of Each Document');"
   ]
  },
  {
   "cell_type": "markdown",
   "metadata": {},
   "source": [
    "# Tokenization"
   ]
  },
  {
   "cell_type": "code",
   "execution_count": 66,
   "metadata": {
    "scrolled": false
   },
   "outputs": [],
   "source": [
    "data = df.Content.values.tolist()"
   ]
  },
  {
   "cell_type": "code",
   "execution_count": 67,
   "metadata": {},
   "outputs": [],
   "source": [
    "def sent_to_words(sentences):\n",
    "    for sentence in sentences:\n",
    "        yield(gensim.utils.simple_preprocess(str(sentence).encode('utf-8'), deacc=True))  # deacc=True removes punctuations\n",
    "\n",
    "data_words= list(sent_to_words(data))"
   ]
  },
  {
   "cell_type": "markdown",
   "metadata": {},
   "source": [
    "# Processing words: \n",
    "Remove Stopwords, Make Bigrams and Trigrams,Lemmatisation, remove short words and meaningless words"
   ]
  },
  {
   "cell_type": "code",
   "execution_count": 68,
   "metadata": {},
   "outputs": [],
   "source": [
    "# Build the bigram and trigram models\n",
    "bigram = gensim.models.Phrases(data_words, min_count=5, threshold=100) # higher threshold fewer phrases.\n",
    "trigram = gensim.models.Phrases(bigram[data_words], threshold=100)  \n",
    "bigram_mod = gensim.models.phrases.Phraser(bigram)\n",
    "trigram_mod = gensim.models.phrases.Phraser(trigram)"
   ]
  },
  {
   "cell_type": "code",
   "execution_count": 69,
   "metadata": {},
   "outputs": [
    {
     "data": {
      "text/plain": [
       "['further',\n",
       " 'against',\n",
       " 'which',\n",
       " 'found',\n",
       " 'their',\n",
       " 'toward',\n",
       " 'fill',\n",
       " 'them',\n",
       " 'couldnt',\n",
       " 'yourself',\n",
       " 'about',\n",
       " 'by',\n",
       " 'own',\n",
       " 'only',\n",
       " 'always',\n",
       " 'therein',\n",
       " 'go',\n",
       " 'nobody',\n",
       " 'thru',\n",
       " 'a',\n",
       " 'if',\n",
       " 'these',\n",
       " 'bottom',\n",
       " 'have',\n",
       " 'moreover',\n",
       " 'take',\n",
       " 'computer',\n",
       " 'done',\n",
       " 'doesn',\n",
       " 'onto',\n",
       " 'made',\n",
       " 'ltd',\n",
       " 'empty',\n",
       " 'herself',\n",
       " 'among',\n",
       " 'should',\n",
       " 'various',\n",
       " 'amount',\n",
       " 'her',\n",
       " 'some',\n",
       " 'sometime',\n",
       " 'per',\n",
       " 'up',\n",
       " 'hers',\n",
       " 'hence',\n",
       " 'quite',\n",
       " 'herein',\n",
       " 'full',\n",
       " 'most',\n",
       " 'through',\n",
       " 'who',\n",
       " 'bill',\n",
       " 'such',\n",
       " 'con',\n",
       " 'unless',\n",
       " 'us',\n",
       " 'either',\n",
       " 'are',\n",
       " 'may',\n",
       " 'whatever',\n",
       " 'someone',\n",
       " 'because',\n",
       " 'again',\n",
       " 'across',\n",
       " 'we',\n",
       " 'ours',\n",
       " 'those',\n",
       " 'within',\n",
       " 'anywhere',\n",
       " 'third',\n",
       " 'he',\n",
       " 'seemed',\n",
       " 'twenty',\n",
       " 'others',\n",
       " 'everywhere',\n",
       " 'being',\n",
       " 'his',\n",
       " 'no',\n",
       " 'was',\n",
       " 'meanwhile',\n",
       " 'somewhere',\n",
       " 'been',\n",
       " 'same',\n",
       " 'give',\n",
       " 'they',\n",
       " 'my',\n",
       " 'hereby',\n",
       " 'another',\n",
       " 'say',\n",
       " 'mostly',\n",
       " 'everything',\n",
       " 'system',\n",
       " 'towards',\n",
       " 'thereafter',\n",
       " 'noone',\n",
       " 'whenever',\n",
       " 'several',\n",
       " 'for',\n",
       " 'wherein',\n",
       " 'via',\n",
       " 'don',\n",
       " 'upon',\n",
       " 'whither',\n",
       " 'interest',\n",
       " 'co',\n",
       " 'whereas',\n",
       " 'regarding',\n",
       " 'becoming',\n",
       " 'under',\n",
       " 'name',\n",
       " 'call',\n",
       " 'amongst',\n",
       " 'between',\n",
       " 'throughout',\n",
       " 'whom',\n",
       " 'had',\n",
       " 'doing',\n",
       " 'you',\n",
       " 'with',\n",
       " 'please',\n",
       " 'part',\n",
       " 'any',\n",
       " 'due',\n",
       " 'how',\n",
       " 'everyone',\n",
       " 'hereafter',\n",
       " 'even',\n",
       " 'un',\n",
       " 'find',\n",
       " 'keep',\n",
       " 'elsewhere',\n",
       " 'namely',\n",
       " 'be',\n",
       " 'detail',\n",
       " 'than',\n",
       " 'eight',\n",
       " 'would',\n",
       " 'that',\n",
       " 'never',\n",
       " 'whose',\n",
       " 'thin',\n",
       " 'thus',\n",
       " 'then',\n",
       " 'out',\n",
       " 'amoungst',\n",
       " 'to',\n",
       " 'has',\n",
       " 'did',\n",
       " 'beside',\n",
       " 'whether',\n",
       " 'or',\n",
       " 'can',\n",
       " 'hasnt',\n",
       " 'there',\n",
       " 'each',\n",
       " 'i',\n",
       " 'seem',\n",
       " 'just',\n",
       " 'five',\n",
       " 'latterly',\n",
       " 'along',\n",
       " 'me',\n",
       " 'two',\n",
       " 'fifty',\n",
       " 'see',\n",
       " 'anything',\n",
       " 'much',\n",
       " 'nevertheless',\n",
       " 'something',\n",
       " 'fire',\n",
       " 'three',\n",
       " 'in',\n",
       " 'first',\n",
       " 'once',\n",
       " 'yet',\n",
       " 'when',\n",
       " 'often',\n",
       " 'make',\n",
       " 'now',\n",
       " 'behind',\n",
       " 'and',\n",
       " 'though',\n",
       " 'over',\n",
       " 'were',\n",
       " 'fifteen',\n",
       " 'himself',\n",
       " 'every',\n",
       " 'least',\n",
       " 'itself',\n",
       " 'however',\n",
       " 'nowhere',\n",
       " 'why',\n",
       " 'besides',\n",
       " 'am',\n",
       " 'inc',\n",
       " 'de',\n",
       " 'our',\n",
       " 'kg',\n",
       " 'yours',\n",
       " 'as',\n",
       " 'otherwise',\n",
       " 'hundred',\n",
       " 'really',\n",
       " 'sometimes',\n",
       " 'him',\n",
       " 'must',\n",
       " 'your',\n",
       " 'describe',\n",
       " 'km',\n",
       " 'afterwards',\n",
       " 'what',\n",
       " 'still',\n",
       " 'whereafter',\n",
       " 'using',\n",
       " 'eleven',\n",
       " 'before',\n",
       " 'nine',\n",
       " 'became',\n",
       " 'mill',\n",
       " 'six',\n",
       " 'both',\n",
       " 'together',\n",
       " 'not',\n",
       " 'whole',\n",
       " 'its',\n",
       " 'move',\n",
       " 'cannot',\n",
       " 'sincere',\n",
       " 'wherever',\n",
       " 'do',\n",
       " 'nor',\n",
       " 'beyond',\n",
       " 'put',\n",
       " 'seeming',\n",
       " 'off',\n",
       " 'too',\n",
       " 'anyone',\n",
       " 'enough',\n",
       " 'twelve',\n",
       " 'front',\n",
       " 'indeed',\n",
       " 'one',\n",
       " 'almost',\n",
       " 'myself',\n",
       " 'thence',\n",
       " 'while',\n",
       " 'ourselves',\n",
       " 'is',\n",
       " 'since',\n",
       " 'the',\n",
       " 'does',\n",
       " 'nothing',\n",
       " 'but',\n",
       " 'used',\n",
       " 'latter',\n",
       " 'into',\n",
       " 'below',\n",
       " 'top',\n",
       " 'perhaps',\n",
       " 'although',\n",
       " 'last',\n",
       " 'during',\n",
       " 'other',\n",
       " 'here',\n",
       " 'show',\n",
       " 'she',\n",
       " 'whereupon',\n",
       " 'all',\n",
       " 'around',\n",
       " 'none',\n",
       " 'sixty',\n",
       " 'will',\n",
       " 'of',\n",
       " 'ever',\n",
       " 'many',\n",
       " 'hereupon',\n",
       " 'next',\n",
       " 'become',\n",
       " 'whence',\n",
       " 'becomes',\n",
       " 'less',\n",
       " 'formerly',\n",
       " 'cry',\n",
       " 'cant',\n",
       " 'well',\n",
       " 'could',\n",
       " 'until',\n",
       " 'seems',\n",
       " 'anyhow',\n",
       " 're',\n",
       " 'also',\n",
       " 'serious',\n",
       " 'yourselves',\n",
       " 'eg',\n",
       " 'mine',\n",
       " 'alone',\n",
       " 'rather',\n",
       " 'forty',\n",
       " 'might',\n",
       " 'more',\n",
       " 'side',\n",
       " 'four',\n",
       " 'from',\n",
       " 'former',\n",
       " 'get',\n",
       " 'down',\n",
       " 'an',\n",
       " 'on',\n",
       " 'else',\n",
       " 'thereupon',\n",
       " 'so',\n",
       " 'ten',\n",
       " 'very',\n",
       " 'thereby',\n",
       " 'whereby',\n",
       " 'except',\n",
       " 'beforehand',\n",
       " 'it',\n",
       " 'somehow',\n",
       " 'already',\n",
       " 'didn',\n",
       " 'themselves',\n",
       " 'therefore',\n",
       " 'above',\n",
       " 'anyway',\n",
       " 'where',\n",
       " 'ie',\n",
       " 'neither',\n",
       " 'after',\n",
       " 'etc',\n",
       " 'without',\n",
       " 'few',\n",
       " 'thick',\n",
       " 'this',\n",
       " 'back',\n",
       " 'whoever',\n",
       " 'at',\n",
       " 'go',\n",
       " 'would',\n",
       " 'make',\n",
       " 'think',\n",
       " 'take',\n",
       " 'say',\n",
       " 'need',\n",
       " 'want',\n",
       " 'thing',\n",
       " 'have',\n",
       " 'lot']"
      ]
     },
     "execution_count": 69,
     "metadata": {},
     "output_type": "execute_result"
    }
   ],
   "source": [
    "# import the stop_words from gensim\n",
    "from gensim.parsing.preprocessing import remove_stopwords, STOPWORDS\n",
    "stop_words = [i for i in STOPWORDS]\n",
    "\n",
    "# add more stop words after analysing the overall term frequncy of each topic in pyLDAvis in the \"Word frequency of each topic\" section\n",
    "new_stop_words = ['go', 'would', 'make', 'think', 'take', 'say', 'need', 'want', 'thing', 'have', 'lot'] \n",
    "stop_words.extend(new_stop_words)\n",
    "stop_words"
   ]
  },
  {
   "cell_type": "code",
   "execution_count": 70,
   "metadata": {},
   "outputs": [],
   "source": [
    "# Define functions for stopwords, bigrams, trigrams and lemmatization\n",
    "def remove_stop_words(texts):\n",
    "    return [[word for word in doc if word not in stop_words] for doc in texts]\n",
    "\n",
    "def make_bigrams(texts):\n",
    "    return [bigram_mod[doc] for doc in texts]\n",
    "\n",
    "def make_trigrams(texts):\n",
    "    return [trigram_mod[bigram_mod[doc]] for doc in texts]\n",
    "\n",
    "def lemmatization(texts, allowed_postags=['NOUN', 'ADJ', 'VERB', 'ADV']):\n",
    "    \"\"\"https://spacy.io/api/annotation\"\"\"\n",
    "    texts_out = []\n",
    "    for sent in texts:\n",
    "        doc = nlp(\" \".join(sent)) \n",
    "        texts_out.append([token.lemma_ for token in doc if token.pos_ in allowed_postags])\n",
    "    return texts_out"
   ]
  },
  {
   "cell_type": "code",
   "execution_count": 71,
   "metadata": {},
   "outputs": [
    {
     "data": {
      "text/plain": [
       "[['examination',\n",
       "  'witness',\n",
       "  'morning',\n",
       "  'like',\n",
       "  'welcome',\n",
       "  'today',\n",
       "  'occasional',\n",
       "  'series',\n",
       "  'checking',\n",
       "  'session',\n",
       "  'follow',\n",
       "  'regard',\n",
       "  'olympic',\n",
       "  'bid',\n",
       "  'committee',\n",
       "  'report',\n",
       "  'bring',\n",
       "  'good',\n",
       "  'express',\n",
       "  'number',\n",
       "  'concern',\n",
       "  'issue',\n",
       "  'ought',\n",
       "  'consider',\n",
       "  'interested',\n",
       "  'hear',\n",
       "  'understand',\n",
       "  'course',\n",
       "  'acceptable',\n",
       "  'appearance',\n",
       "  'like',\n",
       "  'open',\n",
       "  'statement',\n",
       "  'happy',\n",
       "  'listen',\n",
       "  'thank',\n",
       "  'thank',\n",
       "  'opportunity',\n",
       "  'come',\n",
       "  'today',\n",
       "  'talk',\n",
       "  'little_bit',\n",
       "  'plan',\n",
       "  'hope',\n",
       "  'come',\n",
       "  'month',\n",
       "  'month',\n",
       "  'shall',\n",
       "  'able',\n",
       "  'meet',\n",
       "  'update',\n",
       "  'progress',\n",
       "  'like',\n",
       "  'role',\n",
       "  'week',\n",
       "  'explain',\n",
       "  'sitting',\n",
       "  'role',\n",
       "  'offer',\n",
       "  'accept',\n",
       "  'work',\n",
       "  'like',\n",
       "  'little_bit',\n",
       "  'idea',\n",
       "  'job',\n",
       "  'philosophy',\n",
       "  'bid',\n",
       "  'update',\n",
       "  'initial',\n",
       "  'thought',\n",
       "  'reaction',\n",
       "  'work',\n",
       "  'date',\n",
       "  'sense',\n",
       "  'progress',\n",
       "  'week',\n",
       "  'talk',\n",
       "  'little_bit',\n",
       "  'future',\n",
       "  'motivation',\n",
       "  'role',\n",
       "  'come',\n",
       "  'number',\n",
       "  'area',\n",
       "  'lucky',\n",
       "  'able',\n",
       "  'start',\n",
       "  'airline',\n",
       "  'hope',\n",
       "  'customer',\n",
       "  'great',\n",
       "  'fortune',\n",
       "  'work',\n",
       "  'tremendous',\n",
       "  'people',\n",
       "  'enormous',\n",
       "  'number',\n",
       "  'customer',\n",
       "  'area',\n",
       "  'business',\n",
       "  'tremendous',\n",
       "  'opportunity',\n",
       "  'feel',\n",
       "  'motivation',\n",
       "  'second',\n",
       "  'emotional',\n",
       "  'issue',\n",
       "  'believe',\n",
       "  'endeavour',\n",
       "  'believe',\n",
       "  'child',\n",
       "  'lucky',\n",
       "  'attend',\n",
       "  'olympic',\n",
       "  'believe',\n",
       "  'world',\n",
       "  'positive',\n",
       "  'country',\n",
       "  'compete',\n",
       "  'individual',\n",
       "  'team',\n",
       "  'pursuit',\n",
       "  'inspirational',\n",
       "  'love',\n",
       "  'bring',\n",
       "  'time',\n",
       "  'right',\n",
       "  'people',\n",
       "  'star',\n",
       "  'align',\n",
       "  'position',\n",
       "  'mayor',\n",
       "  'supportive',\n",
       "  'government',\n",
       "  'supportive',\n",
       "  'good',\n",
       "  'time',\n",
       "  'country',\n",
       "  'olympic',\n",
       "  'bid',\n",
       "  'important',\n",
       "  'consider',\n",
       "  'role',\n",
       "  'feel',\n",
       "  'role',\n",
       "  'bid',\n",
       "  'concern',\n",
       "  'business',\n",
       "  'background',\n",
       "  'useful',\n",
       "  'tough',\n",
       "  'business',\n",
       "  'reputation',\n",
       "  'tough',\n",
       "  'fair',\n",
       "  'believe',\n",
       "  'commitment',\n",
       "  'believe',\n",
       "  'strong',\n",
       "  'financial',\n",
       "  'management',\n",
       "  'believe',\n",
       "  'hire',\n",
       "  'capable',\n",
       "  'people',\n",
       "  'diverse',\n",
       "  'background',\n",
       "  'leave',\n",
       "  'believe',\n",
       "  'good',\n",
       "  'principle',\n",
       "  'management',\n",
       "  'new',\n",
       "  'world',\n",
       "  'new',\n",
       "  'world',\n",
       "  'good',\n",
       "  'learn',\n",
       "  'privilege',\n",
       "  'position',\n",
       "  'use',\n",
       "  'public',\n",
       "  'monie',\n",
       "  'win',\n",
       "  'game',\n",
       "  'good',\n",
       "  'fulfil',\n",
       "  'obligation',\n",
       "  'backdrop',\n",
       "  'believe',\n",
       "  'game',\n",
       "  'believe',\n",
       "  'believe',\n",
       "  'win',\n",
       "  'motivate',\n",
       "  'bring',\n",
       "  'business',\n",
       "  'philosophy',\n",
       "  'bid',\n",
       "  'learn',\n",
       "  'support',\n",
       "  'people',\n",
       "  'support',\n",
       "  'organisation',\n",
       "  'ioc',\n",
       "  'build',\n",
       "  'team',\n",
       "  'draw',\n",
       "  'experience',\n",
       "  'expertise',\n",
       "  'people',\n",
       "  'work',\n",
       "  'dcms',\n",
       "  'gla',\n",
       "  'boa',\n",
       "  'agree',\n",
       "  'create',\n",
       "  'separate',\n",
       "  'team',\n",
       "  'team',\n",
       "  'people',\n",
       "  'focus',\n",
       "  'win',\n",
       "  'bid',\n",
       "  'rely',\n",
       "  'support',\n",
       "  'organisation',\n",
       "  'help',\n",
       "  'work',\n",
       "  'issue',\n",
       "  'arise',\n",
       "  'arise',\n",
       "  'work',\n",
       "  'arrive',\n",
       "  'different',\n",
       "  'stage',\n",
       "  'work',\n",
       "  'today',\n",
       "  'shall',\n",
       "  'moment',\n",
       "  'bid',\n",
       "  'arup',\n",
       "  'report',\n",
       "  'report',\n",
       "  'high',\n",
       "  'level',\n",
       "  'start',\n",
       "  'oppose',\n",
       "  'tell',\n",
       "  'orient',\n",
       "  'competitive',\n",
       "  'process',\n",
       "  'repeat',\n",
       "  'work',\n",
       "  'game',\n",
       "  'case',\n",
       "  'tick',\n",
       "  'box',\n",
       "  'win',\n",
       "  'case',\n",
       "  'believe',\n",
       "  'live',\n",
       "  'city',\n",
       "  'city',\n",
       "  'create',\n",
       "  'worthy',\n",
       "  'competition',\n",
       "  'world_championship',\n",
       "  'bid',\n",
       "  'world_class',\n",
       "  'city',\n",
       "  'bid',\n",
       "  'approach',\n",
       "  'way',\n",
       "  'begin',\n",
       "  'understand',\n",
       "  'ioc',\n",
       "  'encourage',\n",
       "  'early',\n",
       "  'pronouncement',\n",
       "  'early',\n",
       "  'brush',\n",
       "  'organisation',\n",
       "  'try',\n",
       "  'change',\n",
       "  'nature',\n",
       "  'game',\n",
       "  'try',\n",
       "  'change',\n",
       "  'nature',\n",
       "  'bidding',\n",
       "  'issue',\n",
       "  'past',\n",
       "  'know',\n",
       "  'transform',\n",
       "  'organisation',\n",
       "  'way',\n",
       "  'work',\n",
       "  'ask',\n",
       "  'prepare',\n",
       "  'bid',\n",
       "  'insist',\n",
       "  'legacy',\n",
       "  'issue',\n",
       "  'venue',\n",
       "  'eager',\n",
       "  'game',\n",
       "  'contain',\n",
       "  'grow',\n",
       "  'big',\n",
       "  'big',\n",
       "  'issue',\n",
       "  'believe',\n",
       "  'work',\n",
       "  'favour',\n",
       "  'bid',\n",
       "  'live',\n",
       "  'cosmopolitan',\n",
       "  'democratic',\n",
       "  'country',\n",
       "  'people',\n",
       "  'compete',\n",
       "  'efficient',\n",
       "  'right',\n",
       "  'people',\n",
       "  'sport',\n",
       "  'country',\n",
       "  'early',\n",
       "  'feedback',\n",
       "  'receive',\n",
       "  'member',\n",
       "  'meeting',\n",
       "  'positive',\n",
       "  'open',\n",
       "  'sense',\n",
       "  'open',\n",
       "  'understand',\n",
       "  'positive',\n",
       "  'chance',\n",
       "  'win',\n",
       "  'important',\n",
       "  'accomplish',\n",
       "  'week',\n",
       "  'priority',\n",
       "  'deadline',\n",
       "  'mind',\n",
       "  'submit',\n",
       "  'applicant',\n",
       "  'questionnaire',\n",
       "  'simple',\n",
       "  'document',\n",
       "  'require',\n",
       "  'work',\n",
       "  'answer',\n",
       "  'simple',\n",
       "  'question',\n",
       "  'venue',\n",
       "  'approach',\n",
       "  'game',\n",
       "  'etcetera',\n",
       "  'order',\n",
       "  'complete',\n",
       "  'questionnaire',\n",
       "  'stage',\n",
       "  'hear',\n",
       "  'spring',\n",
       "  'undertake',\n",
       "  'number',\n",
       "  'piece',\n",
       "  'work',\n",
       "  'build',\n",
       "  'team',\n",
       "  'spend',\n",
       "  'time',\n",
       "  'interview',\n",
       "  'people',\n",
       "  'hire',\n",
       "  'people',\n",
       "  'hire',\n",
       "  'combination',\n",
       "  'people',\n",
       "  'sporting',\n",
       "  'experience',\n",
       "  'people',\n",
       "  'olympic',\n",
       "  'experience',\n",
       "  'people',\n",
       "  'come',\n",
       "  'business',\n",
       "  'chief_operate',\n",
       "  'officer',\n",
       "  'hire',\n",
       "  'week',\n",
       "  'start',\n",
       "  'week',\n",
       "  'guy',\n",
       "  'spend',\n",
       "  'year',\n",
       "  'proctor',\n",
       "  'gamble',\n",
       "  'work',\n",
       "  'bring',\n",
       "  'tremendous',\n",
       "  'organisational',\n",
       "  'skill',\n",
       "  'structure',\n",
       "  'ability',\n",
       "  'work',\n",
       "  'complex',\n",
       "  'project',\n",
       "  'deliver',\n",
       "  'background',\n",
       "  'tremendous',\n",
       "  'asset',\n",
       "  'olympic',\n",
       "  'expert',\n",
       "  'work',\n",
       "  'technical',\n",
       "  'bid',\n",
       "  'people',\n",
       "  'understand',\n",
       "  'group',\n",
       "  'satisfy',\n",
       "  'join',\n",
       "  'director',\n",
       "  'marketing',\n",
       "  'build',\n",
       "  'brand',\n",
       "  'create',\n",
       "  'exciting',\n",
       "  'communication',\n",
       "  'idea',\n",
       "  'middle',\n",
       "  'search',\n",
       "  'interview',\n",
       "  'people',\n",
       "  'group',\n",
       "  'executive',\n",
       "  'search',\n",
       "  'people',\n",
       "  'interview',\n",
       "  'people',\n",
       "  'important',\n",
       "  'right',\n",
       "  'person',\n",
       "  'confident',\n",
       "  'love',\n",
       "  'sit',\n",
       "  'today',\n",
       "  'middle',\n",
       "  'process',\n",
       "  'chairman',\n",
       "  'member',\n",
       "  'question',\n",
       "  'suggest',\n",
       "  'draw',\n",
       "  'remark',\n",
       "  'close',\n",
       "  'sure',\n",
       "  'able',\n",
       "  'response',\n",
       "  'question',\n",
       "  'thank',\n",
       "  'speculation',\n",
       "  'today',\n",
       "  'vice',\n",
       "  'chairman',\n",
       "  'today',\n",
       "  'announce',\n",
       "  'bring',\n",
       "  'board',\n",
       "  'vice',\n",
       "  'chairman',\n",
       "  'believe',\n",
       "  'bid',\n",
       "  'strong',\n",
       "  'leadership',\n",
       "  'figure',\n",
       "  'addition',\n",
       "  'complement',\n",
       "  'bid',\n",
       "  'ask',\n",
       "  'vice',\n",
       "  'chairman',\n",
       "  'role',\n",
       "  'iaaf',\n",
       "  'relationship',\n",
       "  'world',\n",
       "  'tremendous',\n",
       "  'assistance',\n",
       "  'bid',\n",
       "  'second',\n",
       "  'person',\n",
       "  'invite',\n",
       "  'vice',\n",
       "  'chairman',\n",
       "  'world',\n",
       "  'wide',\n",
       "  'reputation',\n",
       "  'different',\n",
       "  'know',\n",
       "  'strong',\n",
       "  'sport',\n",
       "  'administrator',\n",
       "  'terrific',\n",
       "  'athlete',\n",
       "  'agree',\n",
       "  'work',\n",
       "  'technical',\n",
       "  'bid',\n",
       "  'make_sure',\n",
       "  'board',\n",
       "  'learning',\n",
       "  'person',\n",
       "  'know',\n",
       "  'chairman',\n",
       "  'chairman',\n",
       "  'group',\n",
       "  'wise',\n",
       "  'counsel',\n",
       "  'look',\n",
       "  'provide',\n",
       "  'role',\n",
       "  'board',\n",
       "  'subject',\n",
       "  'interview',\n",
       "  'people',\n",
       "  'right',\n",
       "  'person',\n",
       "  'enthusiasm',\n",
       "  'drive',\n",
       "  'run',\n",
       "  'work',\n",
       "  'day',\n",
       "  'week',\n",
       "  'chairman',\n",
       "  'day',\n",
       "  'week',\n",
       "  'work',\n",
       "  'mention',\n",
       "  'bit',\n",
       "  'laugh',\n",
       "  'breakfast',\n",
       "  'table',\n",
       "  'morning',\n",
       "  'news',\n",
       "  'child',\n",
       "  'day',\n",
       "  'week',\n",
       "  'hour',\n",
       "  'day',\n",
       "  'night',\n",
       "  'week',\n",
       "  'order',\n",
       "  'happen',\n",
       "  'like',\n",
       "  'stick',\n",
       "  'day',\n",
       "  'week',\n",
       "  'personal',\n",
       "  'professional',\n",
       "  'reason',\n",
       "  'believe',\n",
       "  'bid',\n",
       "  'people',\n",
       "  'represent',\n",
       "  'leadership',\n",
       "  'bid',\n",
       "  'room',\n",
       "  'chairman',\n",
       "  'unable',\n",
       "  'meet',\n",
       "  'people',\n",
       "  'try',\n",
       "  'run',\n",
       "  'bid',\n",
       "  'hire',\n",
       "  'people',\n",
       "  'act',\n",
       "  'role',\n",
       "  'chairman',\n",
       "  'appreciate',\n",
       "  'confidence',\n",
       "  'assure',\n",
       "  'good',\n",
       "  'bid',\n",
       "  'hire',\n",
       "  'time',\n",
       "  'british',\n",
       "  'tight',\n",
       "  'deadline',\n",
       "  'mention',\n",
       "  'submission',\n",
       "  'response',\n",
       "  'bid',\n",
       "  'time',\n",
       "  'spend',\n",
       "  'schmooze',\n",
       "  'ioc',\n",
       "  'city',\n",
       "  'interesting',\n",
       "  'question',\n",
       "  'know',\n",
       "  'success',\n",
       "  'bid',\n",
       "  'lie',\n",
       "  'hand',\n",
       "  'member',\n",
       "  'vote',\n",
       "  'opportunity',\n",
       "  'meet',\n",
       "  'half',\n",
       "  'prague',\n",
       "  'trip',\n",
       "  'international',\n",
       "  'sporting',\n",
       "  'event',\n",
       "  'attend',\n",
       "  'view',\n",
       "  'strong',\n",
       "  'ioc',\n",
       "  'member',\n",
       "  'good',\n",
       "  'job',\n",
       "  'bid',\n",
       "  'eye',\n",
       "  'member',\n",
       "  'manner',\n",
       "  'intend',\n",
       "  'ioc',\n",
       "  'issue',\n",
       "  'change',\n",
       "  'rule',\n",
       "  'interact',\n",
       "  'bid',\n",
       "  'interact',\n",
       "  'ioc',\n",
       "  'example',\n",
       "  'lunch',\n",
       "  'rule',\n",
       "  'change',\n",
       "  'important',\n",
       "  'entertain',\n",
       "  'time',\n",
       "  'come',\n",
       "  'sit',\n",
       "  'lobby',\n",
       "  'try',\n",
       "  'catch',\n",
       "  'ioc',\n",
       "  'member',\n",
       "  'great',\n",
       "  'believer',\n",
       "  'order',\n",
       "  'sell',\n",
       "  'product',\n",
       "  'notch',\n",
       "  'shape',\n",
       "  'believe',\n",
       "  'attend',\n",
       "  'world',\n",
       "  'row',\n",
       "  'championship',\n",
       "  'sit',\n",
       "  'leadership',\n",
       "  'ask',\n",
       "  'class',\n",
       "  'rowing',\n",
       "  'championship',\n",
       "  'hold',\n",
       "  'number',\n",
       "  'sport',\n",
       "  'send',\n",
       "  'signal',\n",
       "  'game',\n",
       "  'sport',\n",
       "  'wonderful',\n",
       "  'attribute',\n",
       "  'bring',\n",
       "  'philosophy',\n",
       "  'fact',\n",
       "  'member',\n",
       "  'ring',\n",
       "  'response',\n",
       "  'number',\n",
       "  'article',\n",
       "  'paper',\n",
       "  'forget',\n",
       "  'judgment',\n",
       "  'feel',\n",
       "  'comfortable',\n",
       "  'approach',\n",
       "  'damage',\n",
       "  'product',\n",
       "  'damaged',\n",
       "  'reputation',\n",
       "  'picketts_lock',\n",
       "  'disaster',\n",
       "  'good',\n",
       "  'comeback',\n",
       "  'indoor',\n",
       "  'championship',\n",
       "  'residual',\n",
       "  'question',\n",
       "  'mark',\n",
       "  'ask',\n",
       "  'question',\n",
       "  'privacy',\n",
       "  'lounge',\n",
       "  'area',\n",
       "  'member',\n",
       "  'governing',\n",
       "  'board',\n",
       "  'meet',\n",
       "  'half',\n",
       "  'half',\n",
       "  'half',\n",
       "  'half',\n",
       "  'understand',\n",
       "  'build',\n",
       "  'specificity',\n",
       "  'stadium',\n",
       "  'shall',\n",
       "  'build',\n",
       "  'plan',\n",
       "  'stride',\n",
       "  'ground',\n",
       "  'good',\n",
       "  'morning',\n",
       "  'press',\n",
       "  'newspaper',\n",
       "  'report',\n",
       "  'true',\n",
       "  'people',\n",
       "  'offer',\n",
       "  'post',\n",
       "  'turn',\n",
       "  'offer',\n",
       "  'position',\n",
       "  'fascinating',\n",
       "  'watch',\n",
       "  'process',\n",
       "  'unwind',\n",
       "  'press',\n",
       "  'interview',\n",
       "  'people',\n",
       "  'people',\n",
       "  'invite',\n",
       "  'additional',\n",
       "  'chat',\n",
       "  'stakeholder',\n",
       "  'offer',\n",
       "  'ask',\n",
       "  'thought',\n",
       "  'vote',\n",
       "  'ioc',\n",
       "  'bid',\n",
       "  'cope',\n",
       "  'vote',\n",
       "  'ioc',\n",
       "  'committee',\n",
       "  'target',\n",
       "  'vote',\n",
       "  'people',\n",
       "  'identify',\n",
       "  'right',\n",
       "  'approach',\n",
       "  'sell',\n",
       "  'bid',\n",
       "  'strategy',\n",
       "  'sell',\n",
       "  'bid',\n",
       "  'priority',\n",
       "  'couple',\n",
       "  'month',\n",
       "  'identify',\n",
       "  'grouping',\n",
       "  'stage',\n",
       "  'begin',\n",
       "  'feel',\n",
       "  'careful',\n",
       "  'refer',\n",
       "  'ioc',\n",
       "  'member',\n",
       "  'religion',\n",
       "  'nationality',\n",
       "  'sport',\n",
       "  'person',\n",
       "  'leader',\n",
       "  'federation',\n",
       "  'work',\n",
       "  'understand',\n",
       "  'person',\n",
       "  'step',\n",
       "  'help',\n",
       "  'present',\n",
       "  'bid',\n",
       "  'positive',\n",
       "  'way',\n",
       "  'begin',\n",
       "  'work',\n",
       "  'course',\n",
       "  'recruit',\n",
       "  'member',\n",
       "  'speak',\n",
       "  'way',\n",
       "  'meaningful',\n",
       "  'ioc',\n",
       "  'member',\n",
       "  'stage',\n",
       "  'choose',\n",
       "  'way',\n",
       "  'derek_wyatt',\n",
       "  'look',\n",
       "  'assembly',\n",
       "  'people',\n",
       "  'bid',\n",
       "  'experience',\n",
       "  'international',\n",
       "  'sporting',\n",
       "  'event',\n",
       "  'bidding',\n",
       "  'experience',\n",
       "  'major',\n",
       "  'world_championship',\n",
       "  'rugby',\n",
       "  'etcetera',\n",
       "  'team',\n",
       "  'people',\n",
       "  'responsible',\n",
       "  'game',\n",
       "  'work',\n",
       "  'game',\n",
       "  'bid',\n",
       "  'work',\n",
       "  'number',\n",
       "  'summer',\n",
       "  'game',\n",
       "  'bid',\n",
       "  'combination',\n",
       "  'people',\n",
       "  'stage',\n",
       "  'event',\n",
       "  'people',\n",
       "  'bidding',\n",
       "  'manchester',\n",
       "  'people',\n",
       "  'feel',\n",
       "  'beneficial',\n",
       "  'intention',\n",
       "  'team',\n",
       "  'fact',\n",
       "  'interview',\n",
       "  'people',\n",
       "  'interesting',\n",
       "  'bid',\n",
       "  'team',\n",
       "  'long',\n",
       "  'time',\n",
       "  'game',\n",
       "  'near',\n",
       "  'challenge',\n",
       "  'right',\n",
       "  'combination',\n",
       "  'touch',\n",
       "  'people',\n",
       "  'responsible',\n",
       "  'useful',\n",
       "  'helpful',\n",
       "  'clear',\n",
       "  'role',\n",
       "  'film',\n",
       "  'inquiry',\n",
       "  'sport',\n",
       "  'channel',\n",
       "  'logo',\n",
       "  'right',\n",
       "  'hand',\n",
       "  'semi',\n",
       "  'final',\n",
       "  'final',\n",
       "  'wonder',\n",
       "  'legal',\n",
       "  'discussion',\n",
       "  'idea',\n",
       "  'television',\n",
       "  'broadcaster',\n",
       "  'broadcaster',\n",
       "  'fifth',\n",
       "  'avenue',\n",
       "  'shop',\n",
       "  'window',\n",
       "  'olympic',\n",
       "  'bid',\n",
       "  'olympic',\n",
       "  'bid',\n",
       "  'good',\n",
       "  'luggage',\n",
       "  'rack',\n",
       "  'shirt',\n",
       "  'badge',\n",
       "  'bid',\n",
       "  'conversation',\n",
       "  'handle',\n",
       "  'liaison',\n",
       "  'way',\n",
       "  'right',\n",
       "  'good',\n",
       "  'reason',\n",
       "  'bid',\n",
       "  'game',\n",
       "  'start',\n",
       "  'history',\n",
       "  'legacy',\n",
       "  'fail',\n",
       "  'bid',\n",
       "  'different',\n",
       "  'issue',\n",
       "  'participate',\n",
       "  'national',\n",
       "  'competition',\n",
       "  'win',\n",
       "  'brand',\n",
       "  'material',\n",
       "  'create',\n",
       "  'domestic',\n",
       "  'competition',\n",
       "  'process',\n",
       "  'tomorrow',\n",
       "  'fact',\n",
       "  'launch',\n",
       "  'logo',\n",
       "  'design',\n",
       "  'competition',\n",
       "  'large',\n",
       "  'cinema',\n",
       "  'leicest',\n",
       "  'square',\n",
       "  'people',\n",
       "  'design',\n",
       "  'come',\n",
       "  'competition',\n",
       "  'win',\n",
       "  'design',\n",
       "  'logo',\n",
       "  'choose',\n",
       "  'plan',\n",
       "  'brand',\n",
       "  'material',\n",
       "  'begin',\n",
       "  'discussion',\n",
       "  'retailer',\n",
       "  'organisation',\n",
       "  'discussion',\n",
       "  'bbc',\n",
       "  'high',\n",
       "  'level',\n",
       "  'people',\n",
       "  'help',\n",
       "  'stage',\n",
       "  'game',\n",
       "  'begin',\n",
       "  'discussion',\n",
       "  'question',\n",
       "  'legal',\n",
       "  'screen',\n",
       "  'understanding',\n",
       "  'example',\n",
       "  'push',\n",
       "  'little_bit',\n",
       "  'send',\n",
       "  'team',\n",
       "  'world',\n",
       "  'shirt',\n",
       "  'judge',\n",
       "  'risk',\n",
       "  'worth',\n",
       "  'difficult',\n",
       "  'understanding',\n",
       "  'precise',\n",
       "  'rule',\n",
       "  'write',\n",
       "  'ioc',\n",
       "  'stay',\n",
       "  'touch',\n",
       "  'promote',\n",
       "  'bid',\n",
       "  'harm',\n",
       "  'reputation',\n",
       "  'receive',\n",
       "  'sort',\n",
       "  'reprimand',\n",
       "  'respect',\n",
       "  'foreign',\n",
       "  'office',\n",
       "  'designate',\n",
       "  'ambassador',\n",
       "  'appoint',\n",
       "  'office',\n",
       "  'ambassador',\n",
       "  ...]]"
      ]
     },
     "execution_count": 71,
     "metadata": {},
     "output_type": "execute_result"
    }
   ],
   "source": [
    "# Form Trigrams\n",
    "data_words_trigrams = make_trigrams(data_words)\n",
    "\n",
    "# Initialize spacy 'en' model, keeping only tagger component (for efficiency)\n",
    "# python3 -m spacy download en\n",
    "nlp = spacy.load('en_core_web_sm', disable=['parser', 'ner'])\n",
    "\n",
    "#increase the maximum length of text that the parser or NER can process\n",
    "nlp.max_length = 13000000 #\n",
    "\n",
    "# Do lemmatization keeping only noun, adj, vb\n",
    "data_lemmatized1 = lemmatization(data_words_trigrams, allowed_postags=['NOUN', 'ADJ', 'VERB'])\n",
    "\n",
    "# Set the length of word threshold for removing the words less than the threshold\n",
    "minimum_len = 3 #\n",
    "data_lemmatized2 = []\n",
    "for i in data_lemmatized1:\n",
    "    new_element = [x for x in i if len(x) >= minimum_len]\n",
    "    data_lemmatized2.append(new_element)\n",
    "\n",
    "# remove stop words\n",
    "data_lemmatized = remove_stop_words(data_lemmatized2)\n",
    "data_lemmatized[:1]"
   ]
  },
  {
   "cell_type": "markdown",
   "metadata": {},
   "source": [
    "#  Create the Dictionary and Corpus needed for Topic Modeling"
   ]
  },
  {
   "cell_type": "code",
   "execution_count": 72,
   "metadata": {},
   "outputs": [
    {
     "name": "stdout",
     "output_type": "stream",
     "text": [
      "After removal of high and low frequency words - Number of unique tokens: 3420, 356211\n"
     ]
    }
   ],
   "source": [
    "# Create Dictionary, set the parameters to filter out tokens in the dictionary by their frequency\n",
    "no_below = 5             # filter out the tokens less frequent than no_below documents (absolute number)\n",
    "no_above = 0.85         # filter out the tokens more frequent than no_above documents (fraction of the total corpus size)\n",
    "id2word = corpora.Dictionary(data_lemmatized)\n",
    "id2word.filter_extremes(no_below = no_below, no_above = no_above)\n",
    "print('After removal of high and low frequency words - Number of unique tokens: %d, %d' % (len(id2word),id2word.num_pos))"
   ]
  },
  {
   "cell_type": "code",
   "execution_count": 73,
   "metadata": {},
   "outputs": [
    {
     "name": "stdout",
     "output_type": "stream",
     "text": [
      "[[(0, 2), (1, 4), (2, 3), (3, 1), (4, 1), (5, 1), (6, 1), (7, 2), (8, 1), (9, 1), (10, 1), (11, 1), (12, 3), (13, 1), (14, 1), (15, 2), (16, 3), (17, 1), (18, 2), (19, 3), (20, 1), (21, 1), (22, 2), (23, 1), (24, 1), (25, 1), (26, 1), (27, 1), (28, 5), (29, 1), (30, 4), (31, 2), (32, 1), (33, 1), (34, 2), (35, 9), (36, 1), (37, 1), (38, 1), (39, 1), (40, 1), (41, 2), (42, 4), (43, 3), (44, 1), (45, 1), (46, 1), (47, 2), (48, 1), (49, 3), (50, 1), (51, 1), (52, 1), (53, 1), (54, 11), (55, 17), (56, 1), (57, 1), (58, 61), (59, 4), (60, 3), (61, 1), (62, 1), (63, 5), (64, 1), (65, 3), (66, 1), (67, 1), (68, 11), (69, 1), (70, 2), (71, 2), (72, 8), (73, 5), (74, 1), (75, 2), (76, 1), (77, 1), (78, 2), (79, 1), (80, 10), (81, 2), (82, 3), (83, 1), (84, 4), (85, 1), (86, 1), (87, 2), (88, 4), (89, 16), (90, 1), (91, 1), (92, 2), (93, 3), (94, 16), (95, 1), (96, 1), (97, 3), (98, 2), (99, 1), (100, 2), (101, 5), (102, 1), (103, 1), (104, 1), (105, 1), (106, 4), (107, 1), (108, 3), (109, 1), (110, 1), (111, 2), (112, 1), (113, 1), (114, 2), (115, 1), (116, 1), (117, 14), (118, 2), (119, 2), (120, 1), (121, 7), (122, 1), (123, 1), (124, 1), (125, 3), (126, 1), (127, 2), (128, 2), (129, 1), (130, 1), (131, 1), (132, 5), (133, 1), (134, 2), (135, 1), (136, 2), (137, 1), (138, 2), (139, 1), (140, 1), (141, 4), (142, 1), (143, 2), (144, 1), (145, 3), (146, 1), (147, 1), (148, 1), (149, 1), (150, 1), (151, 6), (152, 1), (153, 1), (154, 1), (155, 1), (156, 1), (157, 2), (158, 1), (159, 4), (160, 1), (161, 2), (162, 1), (163, 1), (164, 1), (165, 1), (166, 1), (167, 1), (168, 1), (169, 1), (170, 1), (171, 1), (172, 1), (173, 3), (174, 7), (175, 1), (176, 3), (177, 2), (178, 3), (179, 1), (180, 2), (181, 1), (182, 1), (183, 5), (184, 1), (185, 1), (186, 1), (187, 1), (188, 1), (189, 1), (190, 1), (191, 1), (192, 5), (193, 1), (194, 2), (195, 4), (196, 1), (197, 1), (198, 1), (199, 8), (200, 1), (201, 1), (202, 2), (203, 1), (204, 3), (205, 1), (206, 1), (207, 2), (208, 1), (209, 1), (210, 1), (211, 1), (212, 1), (213, 1), (214, 1), (215, 1), (216, 1), (217, 1), (218, 3), (219, 1), (220, 1), (221, 1), (222, 15), (223, 2), (224, 4), (225, 2), (226, 6), (227, 1), (228, 1), (229, 2), (230, 1), (231, 5), (232, 4), (233, 1), (234, 4), (235, 4), (236, 1), (237, 2), (238, 7), (239, 2), (240, 2), (241, 6), (242, 2), (243, 1), (244, 3), (245, 1), (246, 1), (247, 1), (248, 3), (249, 2), (250, 1), (251, 5), (252, 1), (253, 1), (254, 2), (255, 3), (256, 1), (257, 1), (258, 1), (259, 1), (260, 1), (261, 1), (262, 1), (263, 5), (264, 2), (265, 1), (266, 6), (267, 4), (268, 15), (269, 1), (270, 18), (271, 2), (272, 2), (273, 1), (274, 1), (275, 1), (276, 7), (277, 1), (278, 1), (279, 3), (280, 1), (281, 1), (282, 3), (283, 4), (284, 1), (285, 2), (286, 3), (287, 2), (288, 1), (289, 1), (290, 2), (291, 1), (292, 1), (293, 5), (294, 1), (295, 1), (296, 1), (297, 4), (298, 6), (299, 1), (300, 1), (301, 2), (302, 2), (303, 3), (304, 1), (305, 9), (306, 1), (307, 2), (308, 2), (309, 1), (310, 1), (311, 2), (312, 1), (313, 1), (314, 3), (315, 1), (316, 1), (317, 2), (318, 1), (319, 2), (320, 1), (321, 2), (322, 1), (323, 2), (324, 1), (325, 6), (326, 2), (327, 15), (328, 2), (329, 2), (330, 1), (331, 2), (332, 2), (333, 1), (334, 2), (335, 2), (336, 1), (337, 3), (338, 3), (339, 1), (340, 2), (341, 4), (342, 2), (343, 1), (344, 4), (345, 1), (346, 1), (347, 1), (348, 2), (349, 1), (350, 1), (351, 1), (352, 8), (353, 1), (354, 1), (355, 4), (356, 2), (357, 1), (358, 1), (359, 5), (360, 3), (361, 1), (362, 5), (363, 1), (364, 1), (365, 3), (366, 6), (367, 1), (368, 1), (369, 1), (370, 1), (371, 1), (372, 2), (373, 1), (374, 1), (375, 1), (376, 39), (377, 2), (378, 1), (379, 7), (380, 1), (381, 1), (382, 3), (383, 1), (384, 1), (385, 2), (386, 6), (387, 1), (388, 1), (389, 4), (390, 4), (391, 2), (392, 1), (393, 1), (394, 1), (395, 1), (396, 1), (397, 2), (398, 2), (399, 1), (400, 1), (401, 2), (402, 1), (403, 8), (404, 2), (405, 1), (406, 1), (407, 2), (408, 1), (409, 2), (410, 2), (411, 1), (412, 1), (413, 1), (414, 3), (415, 7), (416, 1), (417, 1), (418, 1), (419, 1), (420, 1), (421, 1), (422, 2), (423, 4), (424, 1), (425, 1), (426, 2), (427, 1), (428, 1), (429, 1), (430, 1), (431, 1), (432, 1), (433, 1), (434, 1), (435, 5), (436, 1), (437, 4), (438, 2), (439, 1), (440, 1), (441, 1), (442, 1), (443, 3), (444, 2), (445, 1), (446, 2), (447, 2), (448, 12), (449, 1), (450, 1), (451, 3), (452, 10), (453, 1), (454, 1), (455, 1), (456, 1), (457, 1), (458, 1), (459, 3), (460, 6), (461, 1), (462, 1), (463, 1), (464, 1), (465, 1), (466, 1), (467, 2), (468, 2), (469, 3), (470, 1), (471, 2), (472, 3), (473, 1), (474, 1), (475, 1), (476, 1), (477, 1), (478, 8), (479, 1), (480, 1), (481, 1), (482, 1), (483, 2), (484, 4), (485, 1), (486, 1), (487, 1), (488, 1), (489, 4), (490, 2), (491, 1), (492, 1), (493, 3), (494, 4), (495, 1), (496, 1), (497, 7), (498, 9), (499, 2), (500, 1), (501, 2), (502, 11), (503, 1), (504, 1), (505, 1), (506, 1), (507, 1), (508, 1), (509, 1), (510, 1), (511, 1), (512, 4), (513, 1), (514, 1), (515, 1), (516, 1), (517, 1), (518, 1), (519, 1), (520, 1), (521, 2), (522, 1), (523, 4), (524, 3), (525, 2), (526, 1), (527, 4), (528, 1), (529, 1), (530, 9), (531, 2), (532, 1), (533, 4), (534, 1), (535, 1), (536, 4), (537, 2), (538, 1), (539, 1), (540, 12), (541, 2), (542, 6), (543, 1), (544, 2), (545, 2), (546, 2), (547, 2), (548, 1), (549, 3), (550, 1), (551, 1), (552, 15), (553, 5), (554, 1), (555, 1), (556, 5), (557, 1), (558, 1), (559, 1), (560, 7), (561, 2), (562, 1), (563, 2), (564, 2), (565, 2), (566, 9), (567, 2), (568, 1), (569, 7), (570, 4), (571, 1), (572, 1), (573, 4), (574, 1), (575, 1), (576, 10), (577, 12), (578, 2), (579, 1), (580, 1), (581, 8), (582, 2), (583, 1), (584, 1), (585, 2), (586, 5), (587, 27), (588, 10), (589, 2), (590, 1), (591, 1), (592, 1), (593, 1), (594, 2)]]\n"
     ]
    }
   ],
   "source": [
    "# Create Corpus\n",
    "texts = data_lemmatized\n",
    "\n",
    "# Term Document Frequency\n",
    "corpus = [id2word.doc2bow(text) for text in texts]\n",
    "\n",
    "# View\n",
    "print(corpus[:1])"
   ]
  },
  {
   "cell_type": "markdown",
   "metadata": {},
   "source": [
    "# Building LDA Model, Hyperameter (k) tuning"
   ]
  },
  {
   "cell_type": "code",
   "execution_count": 74,
   "metadata": {},
   "outputs": [],
   "source": [
    "# set training parameters\n",
    "k = 20\n",
    "passes = 20\n",
    "iterations = 100\n",
    "alpha = 50.0/k   \n",
    "eta = 0.01\n",
    "random_state = 12345\n",
    "minimum_probability = 0"
   ]
  },
  {
   "cell_type": "code",
   "execution_count": 75,
   "metadata": {},
   "outputs": [],
   "source": [
    "#start=3; limit=63; step=3\n",
    "#coherence_values = []\n",
    "#model_list = []\n",
    "#for i in range(start,limit,step):\n",
    "    #model = gensim.models.LdaModel(corpus = corpus,id2word = id2word,alpha = alpha,eta = eta,\n",
    "    #                               iterations = iterations,num_topics = i,passes = passes,random_state = 12345,minimum_probability = minimum_probability)\n",
    "    #model_list.append(model)\n",
    "    #coherencemodel = CoherenceModel(model=model, texts=texts, dictionary=id2word, coherence='c_v')\n",
    "    #coherence_values.append(coherencemodel.get_coherence())"
   ]
  },
  {
   "cell_type": "code",
   "execution_count": 76,
   "metadata": {},
   "outputs": [],
   "source": [
    "#list_num_topics = [i for i in range(start, limit, step)]\n",
    "#df_coherence1 = pd.DataFrame({'Number_of_Topics': list_num_topics, 'Coherence_Score': coherence_values})\n",
    "# save the result to disk\n",
    "#df_coherence1.to_pickle('./df_coherence1.pkl')\n",
    "# load the result from disk\n",
    "#df_coherence = pd.read_pickle('./df_coherence1.pkl') "
   ]
  },
  {
   "cell_type": "code",
   "execution_count": 77,
   "metadata": {},
   "outputs": [],
   "source": [
    "# plot the coherence score against number of topics\n",
    "#fig1 = px.line(df_coherence, x = 'Number_of_Topics', y=\"Coherence_Score\", title = 'Coherence score against number of topics')\n",
    "#fig1.update_layout(autosize=False, width=1000, height=400)\n",
    "#fig1.update_traces(mode = \"lines + markers\")\n",
    "#fig1.show()"
   ]
  },
  {
   "cell_type": "code",
   "execution_count": 78,
   "metadata": {},
   "outputs": [],
   "source": [
    "# num of topics = 15 to get the optimal coherence socre\n",
    "k = 15\n",
    "lda_model = gensim.models.LdaModel(\n",
    "    corpus = corpus,\n",
    "    id2word = id2word,\n",
    "    alpha = alpha,\n",
    "    eta = eta,\n",
    "    iterations = iterations,\n",
    "    num_topics = k,\n",
    "    passes = passes,\n",
    "    random_state = 12345,\n",
    "    minimum_probability = minimum_probability)"
   ]
  },
  {
   "cell_type": "markdown",
   "metadata": {},
   "source": [
    "# Classify the paragraphs based on the trained model"
   ]
  },
  {
   "cell_type": "markdown",
   "metadata": {},
   "source": [
    "### Extract paragraphs from documents"
   ]
  },
  {
   "cell_type": "code",
   "execution_count": 79,
   "metadata": {},
   "outputs": [],
   "source": [
    "# define the function for spliting texts into paragraphs by delimiter '.\\n\\n' or '. \\n\\n'\n",
    "def para_split(i):\n",
    "    j = parser.from_file(i)\n",
    "    m = j['content']\n",
    "    if m.count('.\\n\\n') > 0:\n",
    "        return m.split('.\\n\\n')\n",
    "    else:\n",
    "        return m.split('. \\n\\n')"
   ]
  },
  {
   "cell_type": "code",
   "execution_count": 80,
   "metadata": {},
   "outputs": [
    {
     "name": "stderr",
     "output_type": "stream",
     "text": [
      "2021-08-24 16:38:38,781 [MainThread  ] [WARNI]  Failed to see startup log message; retrying...\n",
      "2021-08-24 16:38:38,781 : WARNING : Failed to see startup log message; retrying...\n"
     ]
    }
   ],
   "source": [
    "list_paragraphs = []\n",
    "list_para_id = []\n",
    "for i in pdf_files:\n",
    "    para = para_split(i)\n",
    "    para = [w.replace('\\n', '') for w in para]\n",
    "    para = [x.strip() for x in para if x.strip()] # remove empty elements\n",
    "    para_id = [x for x in range(len(para))] \n",
    "    list_paragraphs.append(para)\n",
    "    list_para_id.append(para_id)"
   ]
  },
  {
   "cell_type": "code",
   "execution_count": 81,
   "metadata": {
    "scrolled": true
   },
   "outputs": [
    {
     "data": {
      "text/html": [
       "<div>\n",
       "<style scoped>\n",
       "    .dataframe tbody tr th:only-of-type {\n",
       "        vertical-align: middle;\n",
       "    }\n",
       "\n",
       "    .dataframe tbody tr th {\n",
       "        vertical-align: top;\n",
       "    }\n",
       "\n",
       "    .dataframe thead th {\n",
       "        text-align: right;\n",
       "    }\n",
       "</style>\n",
       "<table border=\"1\" class=\"dataframe\">\n",
       "  <thead>\n",
       "    <tr style=\"text-align: right;\">\n",
       "      <th></th>\n",
       "      <th>creationDate</th>\n",
       "      <th>document_id</th>\n",
       "      <th>file_name</th>\n",
       "      <th>para_id</th>\n",
       "      <th>paragraphs</th>\n",
       "    </tr>\n",
       "  </thead>\n",
       "  <tbody>\n",
       "    <tr>\n",
       "      <th>0</th>\n",
       "      <td>D:20210822083603+00'00'</td>\n",
       "      <td>0</td>\n",
       "      <td>Examination_of_Witnesses_Sept_2003_-_Q1-19.pdf</td>\n",
       "      <td>0</td>\n",
       "      <td>Examination of Witnesses (1-19) 16 SEPTEMBER 2...</td>\n",
       "    </tr>\n",
       "    <tr>\n",
       "      <th>1</th>\n",
       "      <td>D:20210822083603+00'00'</td>\n",
       "      <td>0</td>\n",
       "      <td>Examination_of_Witnesses_Sept_2003_-_Q1-19.pdf</td>\n",
       "      <td>1</td>\n",
       "      <td>Ms Cassani: Thank you very much. Thank you ver...</td>\n",
       "    </tr>\n",
       "    <tr>\n",
       "      <th>2</th>\n",
       "      <td>D:20210822083603+00'00'</td>\n",
       "      <td>0</td>\n",
       "      <td>Examination_of_Witnesses_Sept_2003_-_Q1-19.pdf</td>\n",
       "      <td>2</td>\n",
       "      <td>The first thing I should like to say is that I...</td>\n",
       "    </tr>\n",
       "    <tr>\n",
       "      <th>3</th>\n",
       "      <td>D:20210822083603+00'00'</td>\n",
       "      <td>0</td>\n",
       "      <td>Examination_of_Witnesses_Sept_2003_-_Q1-19.pdf</td>\n",
       "      <td>3</td>\n",
       "      <td>Really the backdrop is that I believe in the G...</td>\n",
       "    </tr>\n",
       "    <tr>\n",
       "      <th>4</th>\n",
       "      <td>D:20210822083603+00'00'</td>\n",
       "      <td>0</td>\n",
       "      <td>Examination_of_Witnesses_Sept_2003_-_Q1-19.pdf</td>\n",
       "      <td>4</td>\n",
       "      <td>Work had been done before I arrived, but it wa...</td>\n",
       "    </tr>\n",
       "    <tr>\n",
       "      <th>...</th>\n",
       "      <td>...</td>\n",
       "      <td>...</td>\n",
       "      <td>...</td>\n",
       "      <td>...</td>\n",
       "      <td>...</td>\n",
       "    </tr>\n",
       "    <tr>\n",
       "      <th>9413</th>\n",
       "      <td>D:20210822084546+00'00'</td>\n",
       "      <td>168</td>\n",
       "      <td>Written_evidence_submitted_by_Youth_Sport_Trus...</td>\n",
       "      <td>8</td>\n",
       "      <td>3.6  The UK School Games (UKSG) is in its fift...</td>\n",
       "    </tr>\n",
       "    <tr>\n",
       "      <th>9414</th>\n",
       "      <td>D:20210822084546+00'00'</td>\n",
       "      <td>168</td>\n",
       "      <td>Written_evidence_submitted_by_Youth_Sport_Trus...</td>\n",
       "      <td>9</td>\n",
       "      <td>3.7  National Talent Orientation Camp (NTOC) i...</td>\n",
       "    </tr>\n",
       "    <tr>\n",
       "      <th>9415</th>\n",
       "      <td>D:20210822084546+00'00'</td>\n",
       "      <td>168</td>\n",
       "      <td>Written_evidence_submitted_by_Youth_Sport_Trus...</td>\n",
       "      <td>10</td>\n",
       "      <td>4.   The use and management of the Olympic Par...</td>\n",
       "    </tr>\n",
       "    <tr>\n",
       "      <th>9416</th>\n",
       "      <td>D:20210822084546+00'00'</td>\n",
       "      <td>168</td>\n",
       "      <td>Written_evidence_submitted_by_Youth_Sport_Trus...</td>\n",
       "      <td>11</td>\n",
       "      <td>To reflect the diverse range of learning oppor...</td>\n",
       "    </tr>\n",
       "    <tr>\n",
       "      <th>9417</th>\n",
       "      <td>D:20210822084546+00'00'</td>\n",
       "      <td>168</td>\n",
       "      <td>Written_evidence_submitted_by_Youth_Sport_Trus...</td>\n",
       "      <td>12</td>\n",
       "      <td>7.3  When the impact of Olympics and Paralympi...</td>\n",
       "    </tr>\n",
       "  </tbody>\n",
       "</table>\n",
       "<p>9418 rows × 5 columns</p>\n",
       "</div>"
      ],
      "text/plain": [
       "                 creationDate  document_id  \\\n",
       "0     D:20210822083603+00'00'            0   \n",
       "1     D:20210822083603+00'00'            0   \n",
       "2     D:20210822083603+00'00'            0   \n",
       "3     D:20210822083603+00'00'            0   \n",
       "4     D:20210822083603+00'00'            0   \n",
       "...                       ...          ...   \n",
       "9413  D:20210822084546+00'00'          168   \n",
       "9414  D:20210822084546+00'00'          168   \n",
       "9415  D:20210822084546+00'00'          168   \n",
       "9416  D:20210822084546+00'00'          168   \n",
       "9417  D:20210822084546+00'00'          168   \n",
       "\n",
       "                                              file_name para_id  \\\n",
       "0        Examination_of_Witnesses_Sept_2003_-_Q1-19.pdf       0   \n",
       "1        Examination_of_Witnesses_Sept_2003_-_Q1-19.pdf       1   \n",
       "2        Examination_of_Witnesses_Sept_2003_-_Q1-19.pdf       2   \n",
       "3        Examination_of_Witnesses_Sept_2003_-_Q1-19.pdf       3   \n",
       "4        Examination_of_Witnesses_Sept_2003_-_Q1-19.pdf       4   \n",
       "...                                                 ...     ...   \n",
       "9413  Written_evidence_submitted_by_Youth_Sport_Trus...       8   \n",
       "9414  Written_evidence_submitted_by_Youth_Sport_Trus...       9   \n",
       "9415  Written_evidence_submitted_by_Youth_Sport_Trus...      10   \n",
       "9416  Written_evidence_submitted_by_Youth_Sport_Trus...      11   \n",
       "9417  Written_evidence_submitted_by_Youth_Sport_Trus...      12   \n",
       "\n",
       "                                             paragraphs  \n",
       "0     Examination of Witnesses (1-19) 16 SEPTEMBER 2...  \n",
       "1     Ms Cassani: Thank you very much. Thank you ver...  \n",
       "2     The first thing I should like to say is that I...  \n",
       "3     Really the backdrop is that I believe in the G...  \n",
       "4     Work had been done before I arrived, but it wa...  \n",
       "...                                                 ...  \n",
       "9413  3.6  The UK School Games (UKSG) is in its fift...  \n",
       "9414  3.7  National Talent Orientation Camp (NTOC) i...  \n",
       "9415  4.   The use and management of the Olympic Par...  \n",
       "9416  To reflect the diverse range of learning oppor...  \n",
       "9417  7.3  When the impact of Olympics and Paralympi...  \n",
       "\n",
       "[9418 rows x 5 columns]"
      ]
     },
     "execution_count": 81,
     "metadata": {},
     "output_type": "execute_result"
    }
   ],
   "source": [
    "df_para1 = df.copy()\n",
    "df_para1['paragraphs'] = list_paragraphs\n",
    "df_para1['para_id'] = list_para_id\n",
    "df_para2 = df_para1.apply(pd.Series.explode)\n",
    "df_para3 = df_para2.reset_index()\n",
    "df_para4 = df_para3[['creationDate', 'document_id', 'file_name', 'para_id', 'paragraphs']]\n",
    "df_para4"
   ]
  },
  {
   "cell_type": "code",
   "execution_count": 82,
   "metadata": {},
   "outputs": [
    {
     "data": {
      "text/html": [
       "<div>\n",
       "<style scoped>\n",
       "    .dataframe tbody tr th:only-of-type {\n",
       "        vertical-align: middle;\n",
       "    }\n",
       "\n",
       "    .dataframe tbody tr th {\n",
       "        vertical-align: top;\n",
       "    }\n",
       "\n",
       "    .dataframe thead th {\n",
       "        text-align: right;\n",
       "    }\n",
       "</style>\n",
       "<table border=\"1\" class=\"dataframe\">\n",
       "  <thead>\n",
       "    <tr style=\"text-align: right;\">\n",
       "      <th></th>\n",
       "      <th>index</th>\n",
       "      <th>creationDate</th>\n",
       "      <th>document_id</th>\n",
       "      <th>file_name</th>\n",
       "      <th>para_id</th>\n",
       "      <th>paragraphs</th>\n",
       "    </tr>\n",
       "  </thead>\n",
       "  <tbody>\n",
       "    <tr>\n",
       "      <th>0</th>\n",
       "      <td>0</td>\n",
       "      <td>D:20210822083603+00'00'</td>\n",
       "      <td>0</td>\n",
       "      <td>Examination_of_Witnesses_Sept_2003_-_Q1-19.pdf</td>\n",
       "      <td>0</td>\n",
       "      <td>Examination of Witnesses (1-19) 16 SEPTEMBER 2...</td>\n",
       "    </tr>\n",
       "    <tr>\n",
       "      <th>1</th>\n",
       "      <td>1</td>\n",
       "      <td>D:20210822083603+00'00'</td>\n",
       "      <td>0</td>\n",
       "      <td>Examination_of_Witnesses_Sept_2003_-_Q1-19.pdf</td>\n",
       "      <td>1</td>\n",
       "      <td>Ms Cassani: Thank you very much. Thank you ver...</td>\n",
       "    </tr>\n",
       "    <tr>\n",
       "      <th>2</th>\n",
       "      <td>2</td>\n",
       "      <td>D:20210822083603+00'00'</td>\n",
       "      <td>0</td>\n",
       "      <td>Examination_of_Witnesses_Sept_2003_-_Q1-19.pdf</td>\n",
       "      <td>2</td>\n",
       "      <td>The first thing I should like to say is that I...</td>\n",
       "    </tr>\n",
       "    <tr>\n",
       "      <th>3</th>\n",
       "      <td>3</td>\n",
       "      <td>D:20210822083603+00'00'</td>\n",
       "      <td>0</td>\n",
       "      <td>Examination_of_Witnesses_Sept_2003_-_Q1-19.pdf</td>\n",
       "      <td>3</td>\n",
       "      <td>Really the backdrop is that I believe in the G...</td>\n",
       "    </tr>\n",
       "    <tr>\n",
       "      <th>4</th>\n",
       "      <td>4</td>\n",
       "      <td>D:20210822083603+00'00'</td>\n",
       "      <td>0</td>\n",
       "      <td>Examination_of_Witnesses_Sept_2003_-_Q1-19.pdf</td>\n",
       "      <td>4</td>\n",
       "      <td>Work had been done before I arrived, but it wa...</td>\n",
       "    </tr>\n",
       "    <tr>\n",
       "      <th>...</th>\n",
       "      <td>...</td>\n",
       "      <td>...</td>\n",
       "      <td>...</td>\n",
       "      <td>...</td>\n",
       "      <td>...</td>\n",
       "      <td>...</td>\n",
       "    </tr>\n",
       "    <tr>\n",
       "      <th>9031</th>\n",
       "      <td>9413</td>\n",
       "      <td>D:20210822084546+00'00'</td>\n",
       "      <td>168</td>\n",
       "      <td>Written_evidence_submitted_by_Youth_Sport_Trus...</td>\n",
       "      <td>8</td>\n",
       "      <td>3.6  The UK School Games (UKSG) is in its fift...</td>\n",
       "    </tr>\n",
       "    <tr>\n",
       "      <th>9032</th>\n",
       "      <td>9414</td>\n",
       "      <td>D:20210822084546+00'00'</td>\n",
       "      <td>168</td>\n",
       "      <td>Written_evidence_submitted_by_Youth_Sport_Trus...</td>\n",
       "      <td>9</td>\n",
       "      <td>3.7  National Talent Orientation Camp (NTOC) i...</td>\n",
       "    </tr>\n",
       "    <tr>\n",
       "      <th>9033</th>\n",
       "      <td>9415</td>\n",
       "      <td>D:20210822084546+00'00'</td>\n",
       "      <td>168</td>\n",
       "      <td>Written_evidence_submitted_by_Youth_Sport_Trus...</td>\n",
       "      <td>10</td>\n",
       "      <td>4.   The use and management of the Olympic Par...</td>\n",
       "    </tr>\n",
       "    <tr>\n",
       "      <th>9034</th>\n",
       "      <td>9416</td>\n",
       "      <td>D:20210822084546+00'00'</td>\n",
       "      <td>168</td>\n",
       "      <td>Written_evidence_submitted_by_Youth_Sport_Trus...</td>\n",
       "      <td>11</td>\n",
       "      <td>To reflect the diverse range of learning oppor...</td>\n",
       "    </tr>\n",
       "    <tr>\n",
       "      <th>9035</th>\n",
       "      <td>9417</td>\n",
       "      <td>D:20210822084546+00'00'</td>\n",
       "      <td>168</td>\n",
       "      <td>Written_evidence_submitted_by_Youth_Sport_Trus...</td>\n",
       "      <td>12</td>\n",
       "      <td>7.3  When the impact of Olympics and Paralympi...</td>\n",
       "    </tr>\n",
       "  </tbody>\n",
       "</table>\n",
       "<p>9036 rows × 6 columns</p>\n",
       "</div>"
      ],
      "text/plain": [
       "      index             creationDate  document_id  \\\n",
       "0         0  D:20210822083603+00'00'            0   \n",
       "1         1  D:20210822083603+00'00'            0   \n",
       "2         2  D:20210822083603+00'00'            0   \n",
       "3         3  D:20210822083603+00'00'            0   \n",
       "4         4  D:20210822083603+00'00'            0   \n",
       "...     ...                      ...          ...   \n",
       "9031   9413  D:20210822084546+00'00'          168   \n",
       "9032   9414  D:20210822084546+00'00'          168   \n",
       "9033   9415  D:20210822084546+00'00'          168   \n",
       "9034   9416  D:20210822084546+00'00'          168   \n",
       "9035   9417  D:20210822084546+00'00'          168   \n",
       "\n",
       "                                              file_name para_id  \\\n",
       "0        Examination_of_Witnesses_Sept_2003_-_Q1-19.pdf       0   \n",
       "1        Examination_of_Witnesses_Sept_2003_-_Q1-19.pdf       1   \n",
       "2        Examination_of_Witnesses_Sept_2003_-_Q1-19.pdf       2   \n",
       "3        Examination_of_Witnesses_Sept_2003_-_Q1-19.pdf       3   \n",
       "4        Examination_of_Witnesses_Sept_2003_-_Q1-19.pdf       4   \n",
       "...                                                 ...     ...   \n",
       "9031  Written_evidence_submitted_by_Youth_Sport_Trus...       8   \n",
       "9032  Written_evidence_submitted_by_Youth_Sport_Trus...       9   \n",
       "9033  Written_evidence_submitted_by_Youth_Sport_Trus...      10   \n",
       "9034  Written_evidence_submitted_by_Youth_Sport_Trus...      11   \n",
       "9035  Written_evidence_submitted_by_Youth_Sport_Trus...      12   \n",
       "\n",
       "                                             paragraphs  \n",
       "0     Examination of Witnesses (1-19) 16 SEPTEMBER 2...  \n",
       "1     Ms Cassani: Thank you very much. Thank you ver...  \n",
       "2     The first thing I should like to say is that I...  \n",
       "3     Really the backdrop is that I believe in the G...  \n",
       "4     Work had been done before I arrived, but it wa...  \n",
       "...                                                 ...  \n",
       "9031  3.6  The UK School Games (UKSG) is in its fift...  \n",
       "9032  3.7  National Talent Orientation Camp (NTOC) i...  \n",
       "9033  4.   The use and management of the Olympic Par...  \n",
       "9034  To reflect the diverse range of learning oppor...  \n",
       "9035  7.3  When the impact of Olympics and Paralympi...  \n",
       "\n",
       "[9036 rows x 6 columns]"
      ]
     },
     "execution_count": 82,
     "metadata": {},
     "output_type": "execute_result"
    }
   ],
   "source": [
    "# set a filter to filter out the paragraphs with short words\n",
    "n_word_count = 10                                                        # set the threshold of word count\n",
    "para_word_count = df_para4['paragraphs'].str.split().str.len()           # word count of each paragraph\n",
    "df_para = df_para4[(para_word_count>=n_word_count)].reset_index()        # select only the paragraphs with word count above the threshold\n",
    "df_para"
   ]
  },
  {
   "cell_type": "markdown",
   "metadata": {},
   "source": [
    "### Process the paragraphs"
   ]
  },
  {
   "cell_type": "code",
   "execution_count": 83,
   "metadata": {},
   "outputs": [],
   "source": [
    "# tokenization\n",
    "data2 = df_para.paragraphs.values.tolist()\n",
    "data_words2 = list(sent_to_words(data2))"
   ]
  },
  {
   "cell_type": "code",
   "execution_count": 84,
   "metadata": {},
   "outputs": [],
   "source": [
    "# Form Trigrams\n",
    "data_words_trigrams2 = make_trigrams(data_words2)\n",
    "\n",
    "# Do lemmatization keeping only noun, adj, vb\n",
    "data_lemmatized2 = lemmatization(data_words_trigrams2, allowed_postags=['NOUN', 'ADJ', 'VERB'])\n",
    "\n",
    "# set the length of word threshold as same as before for removing the words less than the threshold\n",
    "data_lemmatized2_2 = []\n",
    "for i in data_lemmatized2:\n",
    "    new_element = [x for x in i if len(x) >= minimum_len]\n",
    "    data_lemmatized2_2.append(new_element)\n",
    "    \n",
    "# Remove Stop Words\n",
    "data_lemmatized2_1 = remove_stop_words(data_lemmatized2_2)"
   ]
  },
  {
   "cell_type": "markdown",
   "metadata": {},
   "source": [
    "### Classify topics of paragraphs"
   ]
  },
  {
   "cell_type": "code",
   "execution_count": 85,
   "metadata": {},
   "outputs": [],
   "source": [
    "# create the function for converting a list of tuples into a dictionary\n",
    "def Convert(tup, di):\n",
    "    di = dict(tup)\n",
    "    return di"
   ]
  },
  {
   "cell_type": "code",
   "execution_count": 86,
   "metadata": {},
   "outputs": [],
   "source": [
    "# belong function: classify topics of paragraphs, it might take a long time because there are 148,651 paragraphs in the 11,132,849-word corpus\n",
    "list_topic_para = []\n",
    "dictionary_topic_para = {}\n",
    "for d in data_lemmatized2_1:\n",
    "    bow = id2word.doc2bow(d)\n",
    "    belong = lda_model[bow]\n",
    "    doc_dic = Convert(belong, dictionary_topic_para)\n",
    "    list_topic_para.append(doc_dic)\n",
    "    df_topic_para = pd.DataFrame(list_topic_para)"
   ]
  },
  {
   "cell_type": "code",
   "execution_count": 87,
   "metadata": {},
   "outputs": [
    {
     "data": {
      "text/html": [
       "<div>\n",
       "<style scoped>\n",
       "    .dataframe tbody tr th:only-of-type {\n",
       "        vertical-align: middle;\n",
       "    }\n",
       "\n",
       "    .dataframe tbody tr th {\n",
       "        vertical-align: top;\n",
       "    }\n",
       "\n",
       "    .dataframe thead th {\n",
       "        text-align: right;\n",
       "    }\n",
       "</style>\n",
       "<table border=\"1\" class=\"dataframe\">\n",
       "  <thead>\n",
       "    <tr style=\"text-align: right;\">\n",
       "      <th></th>\n",
       "      <th>index</th>\n",
       "      <th>creationDate</th>\n",
       "      <th>document_id</th>\n",
       "      <th>file_name</th>\n",
       "      <th>para_id</th>\n",
       "      <th>paragraphs</th>\n",
       "      <th>0</th>\n",
       "      <th>1</th>\n",
       "      <th>2</th>\n",
       "      <th>3</th>\n",
       "      <th>...</th>\n",
       "      <th>5</th>\n",
       "      <th>6</th>\n",
       "      <th>7</th>\n",
       "      <th>8</th>\n",
       "      <th>9</th>\n",
       "      <th>10</th>\n",
       "      <th>11</th>\n",
       "      <th>12</th>\n",
       "      <th>13</th>\n",
       "      <th>14</th>\n",
       "    </tr>\n",
       "  </thead>\n",
       "  <tbody>\n",
       "    <tr>\n",
       "      <th>0</th>\n",
       "      <td>0</td>\n",
       "      <td>D:20210822083603+00'00'</td>\n",
       "      <td>0</td>\n",
       "      <td>Examination_of_Witnesses_Sept_2003_-_Q1-19.pdf</td>\n",
       "      <td>0</td>\n",
       "      <td>Examination of Witnesses (1-19) 16 SEPTEMBER 2...</td>\n",
       "      <td>0.264099</td>\n",
       "      <td>0.056441</td>\n",
       "      <td>0.053210</td>\n",
       "      <td>0.043741</td>\n",
       "      <td>...</td>\n",
       "      <td>0.039536</td>\n",
       "      <td>0.041172</td>\n",
       "      <td>0.041856</td>\n",
       "      <td>0.057480</td>\n",
       "      <td>0.049892</td>\n",
       "      <td>0.049552</td>\n",
       "      <td>0.046832</td>\n",
       "      <td>0.046121</td>\n",
       "      <td>0.085228</td>\n",
       "      <td>0.074961</td>\n",
       "    </tr>\n",
       "    <tr>\n",
       "      <th>1</th>\n",
       "      <td>1</td>\n",
       "      <td>D:20210822083603+00'00'</td>\n",
       "      <td>0</td>\n",
       "      <td>Examination_of_Witnesses_Sept_2003_-_Q1-19.pdf</td>\n",
       "      <td>1</td>\n",
       "      <td>Ms Cassani: Thank you very much. Thank you ver...</td>\n",
       "      <td>0.178765</td>\n",
       "      <td>0.060504</td>\n",
       "      <td>0.059209</td>\n",
       "      <td>0.055825</td>\n",
       "      <td>...</td>\n",
       "      <td>0.068108</td>\n",
       "      <td>0.050133</td>\n",
       "      <td>0.053222</td>\n",
       "      <td>0.060253</td>\n",
       "      <td>0.051254</td>\n",
       "      <td>0.047354</td>\n",
       "      <td>0.060308</td>\n",
       "      <td>0.072113</td>\n",
       "      <td>0.062526</td>\n",
       "      <td>0.071474</td>\n",
       "    </tr>\n",
       "    <tr>\n",
       "      <th>2</th>\n",
       "      <td>2</td>\n",
       "      <td>D:20210822083603+00'00'</td>\n",
       "      <td>0</td>\n",
       "      <td>Examination_of_Witnesses_Sept_2003_-_Q1-19.pdf</td>\n",
       "      <td>2</td>\n",
       "      <td>The first thing I should like to say is that I...</td>\n",
       "      <td>0.448698</td>\n",
       "      <td>0.042182</td>\n",
       "      <td>0.050906</td>\n",
       "      <td>0.032559</td>\n",
       "      <td>...</td>\n",
       "      <td>0.041565</td>\n",
       "      <td>0.042981</td>\n",
       "      <td>0.067326</td>\n",
       "      <td>0.042903</td>\n",
       "      <td>0.042512</td>\n",
       "      <td>0.033146</td>\n",
       "      <td>0.026889</td>\n",
       "      <td>0.021902</td>\n",
       "      <td>0.043790</td>\n",
       "      <td>0.040101</td>\n",
       "    </tr>\n",
       "    <tr>\n",
       "      <th>3</th>\n",
       "      <td>3</td>\n",
       "      <td>D:20210822083603+00'00'</td>\n",
       "      <td>0</td>\n",
       "      <td>Examination_of_Witnesses_Sept_2003_-_Q1-19.pdf</td>\n",
       "      <td>3</td>\n",
       "      <td>Really the backdrop is that I believe in the G...</td>\n",
       "      <td>0.086949</td>\n",
       "      <td>0.082949</td>\n",
       "      <td>0.088710</td>\n",
       "      <td>0.072257</td>\n",
       "      <td>...</td>\n",
       "      <td>0.064899</td>\n",
       "      <td>0.066332</td>\n",
       "      <td>0.061827</td>\n",
       "      <td>0.069837</td>\n",
       "      <td>0.055869</td>\n",
       "      <td>0.071979</td>\n",
       "      <td>0.046693</td>\n",
       "      <td>0.044440</td>\n",
       "      <td>0.089825</td>\n",
       "      <td>0.058302</td>\n",
       "    </tr>\n",
       "    <tr>\n",
       "      <th>4</th>\n",
       "      <td>4</td>\n",
       "      <td>D:20210822083603+00'00'</td>\n",
       "      <td>0</td>\n",
       "      <td>Examination_of_Witnesses_Sept_2003_-_Q1-19.pdf</td>\n",
       "      <td>4</td>\n",
       "      <td>Work had been done before I arrived, but it wa...</td>\n",
       "      <td>0.544812</td>\n",
       "      <td>0.027690</td>\n",
       "      <td>0.040986</td>\n",
       "      <td>0.020258</td>\n",
       "      <td>...</td>\n",
       "      <td>0.063154</td>\n",
       "      <td>0.020994</td>\n",
       "      <td>0.022601</td>\n",
       "      <td>0.031870</td>\n",
       "      <td>0.023925</td>\n",
       "      <td>0.074512</td>\n",
       "      <td>0.022566</td>\n",
       "      <td>0.026889</td>\n",
       "      <td>0.030235</td>\n",
       "      <td>0.034321</td>\n",
       "    </tr>\n",
       "    <tr>\n",
       "      <th>...</th>\n",
       "      <td>...</td>\n",
       "      <td>...</td>\n",
       "      <td>...</td>\n",
       "      <td>...</td>\n",
       "      <td>...</td>\n",
       "      <td>...</td>\n",
       "      <td>...</td>\n",
       "      <td>...</td>\n",
       "      <td>...</td>\n",
       "      <td>...</td>\n",
       "      <td>...</td>\n",
       "      <td>...</td>\n",
       "      <td>...</td>\n",
       "      <td>...</td>\n",
       "      <td>...</td>\n",
       "      <td>...</td>\n",
       "      <td>...</td>\n",
       "      <td>...</td>\n",
       "      <td>...</td>\n",
       "      <td>...</td>\n",
       "      <td>...</td>\n",
       "    </tr>\n",
       "    <tr>\n",
       "      <th>9031</th>\n",
       "      <td>9413</td>\n",
       "      <td>D:20210822084546+00'00'</td>\n",
       "      <td>168</td>\n",
       "      <td>Written_evidence_submitted_by_Youth_Sport_Trus...</td>\n",
       "      <td>8</td>\n",
       "      <td>3.6  The UK School Games (UKSG) is in its fift...</td>\n",
       "      <td>0.051836</td>\n",
       "      <td>0.044182</td>\n",
       "      <td>0.140922</td>\n",
       "      <td>0.035175</td>\n",
       "      <td>...</td>\n",
       "      <td>0.064867</td>\n",
       "      <td>0.158303</td>\n",
       "      <td>0.156996</td>\n",
       "      <td>0.050473</td>\n",
       "      <td>0.061442</td>\n",
       "      <td>0.071039</td>\n",
       "      <td>0.034026</td>\n",
       "      <td>0.026567</td>\n",
       "      <td>0.037492</td>\n",
       "      <td>0.041286</td>\n",
       "    </tr>\n",
       "    <tr>\n",
       "      <th>9032</th>\n",
       "      <td>9414</td>\n",
       "      <td>D:20210822084546+00'00'</td>\n",
       "      <td>168</td>\n",
       "      <td>Written_evidence_submitted_by_Youth_Sport_Trus...</td>\n",
       "      <td>9</td>\n",
       "      <td>3.7  National Talent Orientation Camp (NTOC) i...</td>\n",
       "      <td>0.044399</td>\n",
       "      <td>0.037435</td>\n",
       "      <td>0.190747</td>\n",
       "      <td>0.032430</td>\n",
       "      <td>...</td>\n",
       "      <td>0.063587</td>\n",
       "      <td>0.077983</td>\n",
       "      <td>0.195458</td>\n",
       "      <td>0.096571</td>\n",
       "      <td>0.039054</td>\n",
       "      <td>0.031579</td>\n",
       "      <td>0.052412</td>\n",
       "      <td>0.030616</td>\n",
       "      <td>0.029055</td>\n",
       "      <td>0.036747</td>\n",
       "    </tr>\n",
       "    <tr>\n",
       "      <th>9033</th>\n",
       "      <td>9415</td>\n",
       "      <td>D:20210822084546+00'00'</td>\n",
       "      <td>168</td>\n",
       "      <td>Written_evidence_submitted_by_Youth_Sport_Trus...</td>\n",
       "      <td>10</td>\n",
       "      <td>4.   The use and management of the Olympic Par...</td>\n",
       "      <td>0.029769</td>\n",
       "      <td>0.031935</td>\n",
       "      <td>0.149961</td>\n",
       "      <td>0.015824</td>\n",
       "      <td>...</td>\n",
       "      <td>0.029594</td>\n",
       "      <td>0.195677</td>\n",
       "      <td>0.314154</td>\n",
       "      <td>0.043026</td>\n",
       "      <td>0.047350</td>\n",
       "      <td>0.018870</td>\n",
       "      <td>0.036016</td>\n",
       "      <td>0.021760</td>\n",
       "      <td>0.018036</td>\n",
       "      <td>0.023226</td>\n",
       "    </tr>\n",
       "    <tr>\n",
       "      <th>9034</th>\n",
       "      <td>9416</td>\n",
       "      <td>D:20210822084546+00'00'</td>\n",
       "      <td>168</td>\n",
       "      <td>Written_evidence_submitted_by_Youth_Sport_Trus...</td>\n",
       "      <td>11</td>\n",
       "      <td>To reflect the diverse range of learning oppor...</td>\n",
       "      <td>0.039409</td>\n",
       "      <td>0.050738</td>\n",
       "      <td>0.093577</td>\n",
       "      <td>0.026326</td>\n",
       "      <td>...</td>\n",
       "      <td>0.063554</td>\n",
       "      <td>0.207879</td>\n",
       "      <td>0.249455</td>\n",
       "      <td>0.046287</td>\n",
       "      <td>0.069563</td>\n",
       "      <td>0.029143</td>\n",
       "      <td>0.030464</td>\n",
       "      <td>0.020033</td>\n",
       "      <td>0.023470</td>\n",
       "      <td>0.026987</td>\n",
       "    </tr>\n",
       "    <tr>\n",
       "      <th>9035</th>\n",
       "      <td>9417</td>\n",
       "      <td>D:20210822084546+00'00'</td>\n",
       "      <td>168</td>\n",
       "      <td>Written_evidence_submitted_by_Youth_Sport_Trus...</td>\n",
       "      <td>12</td>\n",
       "      <td>7.3  When the impact of Olympics and Paralympi...</td>\n",
       "      <td>0.034047</td>\n",
       "      <td>0.046362</td>\n",
       "      <td>0.099587</td>\n",
       "      <td>0.030438</td>\n",
       "      <td>...</td>\n",
       "      <td>0.041353</td>\n",
       "      <td>0.131856</td>\n",
       "      <td>0.245541</td>\n",
       "      <td>0.098783</td>\n",
       "      <td>0.050800</td>\n",
       "      <td>0.039312</td>\n",
       "      <td>0.050669</td>\n",
       "      <td>0.029406</td>\n",
       "      <td>0.030965</td>\n",
       "      <td>0.035083</td>\n",
       "    </tr>\n",
       "  </tbody>\n",
       "</table>\n",
       "<p>9036 rows × 21 columns</p>\n",
       "</div>"
      ],
      "text/plain": [
       "      index             creationDate  document_id  \\\n",
       "0         0  D:20210822083603+00'00'            0   \n",
       "1         1  D:20210822083603+00'00'            0   \n",
       "2         2  D:20210822083603+00'00'            0   \n",
       "3         3  D:20210822083603+00'00'            0   \n",
       "4         4  D:20210822083603+00'00'            0   \n",
       "...     ...                      ...          ...   \n",
       "9031   9413  D:20210822084546+00'00'          168   \n",
       "9032   9414  D:20210822084546+00'00'          168   \n",
       "9033   9415  D:20210822084546+00'00'          168   \n",
       "9034   9416  D:20210822084546+00'00'          168   \n",
       "9035   9417  D:20210822084546+00'00'          168   \n",
       "\n",
       "                                              file_name para_id  \\\n",
       "0        Examination_of_Witnesses_Sept_2003_-_Q1-19.pdf       0   \n",
       "1        Examination_of_Witnesses_Sept_2003_-_Q1-19.pdf       1   \n",
       "2        Examination_of_Witnesses_Sept_2003_-_Q1-19.pdf       2   \n",
       "3        Examination_of_Witnesses_Sept_2003_-_Q1-19.pdf       3   \n",
       "4        Examination_of_Witnesses_Sept_2003_-_Q1-19.pdf       4   \n",
       "...                                                 ...     ...   \n",
       "9031  Written_evidence_submitted_by_Youth_Sport_Trus...       8   \n",
       "9032  Written_evidence_submitted_by_Youth_Sport_Trus...       9   \n",
       "9033  Written_evidence_submitted_by_Youth_Sport_Trus...      10   \n",
       "9034  Written_evidence_submitted_by_Youth_Sport_Trus...      11   \n",
       "9035  Written_evidence_submitted_by_Youth_Sport_Trus...      12   \n",
       "\n",
       "                                             paragraphs         0         1  \\\n",
       "0     Examination of Witnesses (1-19) 16 SEPTEMBER 2...  0.264099  0.056441   \n",
       "1     Ms Cassani: Thank you very much. Thank you ver...  0.178765  0.060504   \n",
       "2     The first thing I should like to say is that I...  0.448698  0.042182   \n",
       "3     Really the backdrop is that I believe in the G...  0.086949  0.082949   \n",
       "4     Work had been done before I arrived, but it wa...  0.544812  0.027690   \n",
       "...                                                 ...       ...       ...   \n",
       "9031  3.6  The UK School Games (UKSG) is in its fift...  0.051836  0.044182   \n",
       "9032  3.7  National Talent Orientation Camp (NTOC) i...  0.044399  0.037435   \n",
       "9033  4.   The use and management of the Olympic Par...  0.029769  0.031935   \n",
       "9034  To reflect the diverse range of learning oppor...  0.039409  0.050738   \n",
       "9035  7.3  When the impact of Olympics and Paralympi...  0.034047  0.046362   \n",
       "\n",
       "             2         3  ...         5         6         7         8  \\\n",
       "0     0.053210  0.043741  ...  0.039536  0.041172  0.041856  0.057480   \n",
       "1     0.059209  0.055825  ...  0.068108  0.050133  0.053222  0.060253   \n",
       "2     0.050906  0.032559  ...  0.041565  0.042981  0.067326  0.042903   \n",
       "3     0.088710  0.072257  ...  0.064899  0.066332  0.061827  0.069837   \n",
       "4     0.040986  0.020258  ...  0.063154  0.020994  0.022601  0.031870   \n",
       "...        ...       ...  ...       ...       ...       ...       ...   \n",
       "9031  0.140922  0.035175  ...  0.064867  0.158303  0.156996  0.050473   \n",
       "9032  0.190747  0.032430  ...  0.063587  0.077983  0.195458  0.096571   \n",
       "9033  0.149961  0.015824  ...  0.029594  0.195677  0.314154  0.043026   \n",
       "9034  0.093577  0.026326  ...  0.063554  0.207879  0.249455  0.046287   \n",
       "9035  0.099587  0.030438  ...  0.041353  0.131856  0.245541  0.098783   \n",
       "\n",
       "             9        10        11        12        13        14  \n",
       "0     0.049892  0.049552  0.046832  0.046121  0.085228  0.074961  \n",
       "1     0.051254  0.047354  0.060308  0.072113  0.062526  0.071474  \n",
       "2     0.042512  0.033146  0.026889  0.021902  0.043790  0.040101  \n",
       "3     0.055869  0.071979  0.046693  0.044440  0.089825  0.058302  \n",
       "4     0.023925  0.074512  0.022566  0.026889  0.030235  0.034321  \n",
       "...        ...       ...       ...       ...       ...       ...  \n",
       "9031  0.061442  0.071039  0.034026  0.026567  0.037492  0.041286  \n",
       "9032  0.039054  0.031579  0.052412  0.030616  0.029055  0.036747  \n",
       "9033  0.047350  0.018870  0.036016  0.021760  0.018036  0.023226  \n",
       "9034  0.069563  0.029143  0.030464  0.020033  0.023470  0.026987  \n",
       "9035  0.050800  0.039312  0.050669  0.029406  0.030965  0.035083  \n",
       "\n",
       "[9036 rows x 21 columns]"
      ]
     },
     "execution_count": 87,
     "metadata": {},
     "output_type": "execute_result"
    }
   ],
   "source": [
    "# topic distribution across paragraphs\n",
    "df_topic_para1_1 = pd.merge(df_para, df_topic_para, how = 'left', left_index=True, right_index=True)\n",
    "df_topic_para1_1"
   ]
  },
  {
   "cell_type": "code",
   "execution_count": 88,
   "metadata": {},
   "outputs": [],
   "source": [
    "# save the result to disk\n",
    "df_topic_para1_1.to_pickle('./df_topic_para_Olympics.pkl')"
   ]
  },
  {
   "cell_type": "code",
   "execution_count": 89,
   "metadata": {},
   "outputs": [],
   "source": [
    "# load the result from disk\n",
    "df_topic_para1 = pd.read_pickle('./df_topic_para_Olympics.pkl') "
   ]
  },
  {
   "cell_type": "markdown",
   "metadata": {},
   "source": [
    "### Highest N ranked paragraphs overall"
   ]
  },
  {
   "cell_type": "code",
   "execution_count": 117,
   "metadata": {},
   "outputs": [],
   "source": [
    "df_topic_para1_n = df_topic_para1.copy()\n",
    "df_topic_para1_n['highest_p'] = df_topic_para1_n.iloc[:, 6:].max(axis = 1)         # get the highest probability among the topic distribution of each paragraph\n",
    "df_topic_para1_n['salient_topic'] = df_topic_para1.iloc[:, 6:].idxmax(axis = 1)    # get the corresponding topic id\n",
    "df_topic_para1_n = df_topic_para1_n[['file_name', 'para_id', 'paragraphs', 'salient_topic', 'highest_p']]"
   ]
  },
  {
   "cell_type": "code",
   "execution_count": 118,
   "metadata": {},
   "outputs": [
    {
     "data": {
      "text/html": [
       "<div>\n",
       "<style scoped>\n",
       "    .dataframe tbody tr th:only-of-type {\n",
       "        vertical-align: middle;\n",
       "    }\n",
       "\n",
       "    .dataframe tbody tr th {\n",
       "        vertical-align: top;\n",
       "    }\n",
       "\n",
       "    .dataframe thead th {\n",
       "        text-align: right;\n",
       "    }\n",
       "</style>\n",
       "<table border=\"1\" class=\"dataframe\">\n",
       "  <thead>\n",
       "    <tr style=\"text-align: right;\">\n",
       "      <th></th>\n",
       "      <th>file_name</th>\n",
       "      <th>para_id</th>\n",
       "      <th>paragraphs</th>\n",
       "      <th>salient_topic</th>\n",
       "      <th>highest_p</th>\n",
       "    </tr>\n",
       "  </thead>\n",
       "  <tbody>\n",
       "    <tr>\n",
       "      <th>4308</th>\n",
       "      <td>Preparations_for_Olympic_Games_March_2012_Repo...</td>\n",
       "      <td>9</td>\n",
       "      <td>cobber Pack: U PL: COE1 [O] Processed: [05-03-...</td>\n",
       "      <td>14</td>\n",
       "      <td>0.811896</td>\n",
       "    </tr>\n",
       "    <tr>\n",
       "      <th>3690</th>\n",
       "      <td>PAC_-_Preparations_for_the_Olympics_-_July_200...</td>\n",
       "      <td>1</td>\n",
       "      <td>DCMS/UK SportELITE SPORTLOCOGSTAGEOLYMPIC PARK...</td>\n",
       "      <td>11</td>\n",
       "      <td>0.784927</td>\n",
       "    </tr>\n",
       "    <tr>\n",
       "      <th>8070</th>\n",
       "      <td>Written_evidence_-_Appendix_6_-_TfL.pdf</td>\n",
       "      <td>5</td>\n",
       "      <td>Although part of this proposed new capacity wi...</td>\n",
       "      <td>4</td>\n",
       "      <td>0.783140</td>\n",
       "    </tr>\n",
       "    <tr>\n",
       "      <th>3689</th>\n",
       "      <td>PAC_-_Preparations_for_the_Olympics_-_July_200...</td>\n",
       "      <td>0</td>\n",
       "      <td>Microsoft Word - Preparations for the London 2...</td>\n",
       "      <td>11</td>\n",
       "      <td>0.763432</td>\n",
       "    </tr>\n",
       "    <tr>\n",
       "      <th>4302</th>\n",
       "      <td>Preparations_for_Olympic_Games_March_2012_Repo...</td>\n",
       "      <td>3</td>\n",
       "      <td>Jonathan Stephens: That was reduced and we hav...</td>\n",
       "      <td>14</td>\n",
       "      <td>0.759308</td>\n",
       "    </tr>\n",
       "    <tr>\n",
       "      <th>4303</th>\n",
       "      <td>Preparations_for_Olympic_Games_March_2012_Repo...</td>\n",
       "      <td>4</td>\n",
       "      <td>Q14 Matthew Hancock: If your risks materialise...</td>\n",
       "      <td>14</td>\n",
       "      <td>0.751763</td>\n",
       "    </tr>\n",
       "    <tr>\n",
       "      <th>1987</th>\n",
       "      <td>NAO_Preparations_for_the_Olympics_-_Progress_r...</td>\n",
       "      <td>193</td>\n",
       "      <td>PART FOuR41PREPARATIONS FOR THE LONDON 2012 OL...</td>\n",
       "      <td>11</td>\n",
       "      <td>0.746663</td>\n",
       "    </tr>\n",
       "    <tr>\n",
       "      <th>6181</th>\n",
       "      <td>The_next_lap_-_April_2008_-_vol_1.pdf</td>\n",
       "      <td>68</td>\n",
       "      <td>289 Ev 126 290 Q 1 291 Ev 29 57  medals, of wh...</td>\n",
       "      <td>8</td>\n",
       "      <td>0.741447</td>\n",
       "    </tr>\n",
       "    <tr>\n",
       "      <th>1911</th>\n",
       "      <td>NAO_Preparations_for_the_Olympics_-_Progress_r...</td>\n",
       "      <td>117</td>\n",
       "      <td>Whether the Olympic Delivery  Authority’s expe...</td>\n",
       "      <td>11</td>\n",
       "      <td>0.736445</td>\n",
       "    </tr>\n",
       "    <tr>\n",
       "      <th>4301</th>\n",
       "      <td>Preparations_for_Olympic_Games_March_2012_Repo...</td>\n",
       "      <td>2</td>\n",
       "      <td>Q1 Chair: Apologies for keeping you waiting. I...</td>\n",
       "      <td>14</td>\n",
       "      <td>0.733505</td>\n",
       "    </tr>\n",
       "  </tbody>\n",
       "</table>\n",
       "</div>"
      ],
      "text/plain": [
       "                                              file_name para_id  \\\n",
       "4308  Preparations_for_Olympic_Games_March_2012_Repo...       9   \n",
       "3690  PAC_-_Preparations_for_the_Olympics_-_July_200...       1   \n",
       "8070            Written_evidence_-_Appendix_6_-_TfL.pdf       5   \n",
       "3689  PAC_-_Preparations_for_the_Olympics_-_July_200...       0   \n",
       "4302  Preparations_for_Olympic_Games_March_2012_Repo...       3   \n",
       "4303  Preparations_for_Olympic_Games_March_2012_Repo...       4   \n",
       "1987  NAO_Preparations_for_the_Olympics_-_Progress_r...     193   \n",
       "6181              The_next_lap_-_April_2008_-_vol_1.pdf      68   \n",
       "1911  NAO_Preparations_for_the_Olympics_-_Progress_r...     117   \n",
       "4301  Preparations_for_Olympic_Games_March_2012_Repo...       2   \n",
       "\n",
       "                                             paragraphs  salient_topic  \\\n",
       "4308  cobber Pack: U PL: COE1 [O] Processed: [05-03-...             14   \n",
       "3690  DCMS/UK SportELITE SPORTLOCOGSTAGEOLYMPIC PARK...             11   \n",
       "8070  Although part of this proposed new capacity wi...              4   \n",
       "3689  Microsoft Word - Preparations for the London 2...             11   \n",
       "4302  Jonathan Stephens: That was reduced and we hav...             14   \n",
       "4303  Q14 Matthew Hancock: If your risks materialise...             14   \n",
       "1987  PART FOuR41PREPARATIONS FOR THE LONDON 2012 OL...             11   \n",
       "6181  289 Ev 126 290 Q 1 291 Ev 29 57  medals, of wh...              8   \n",
       "1911  Whether the Olympic Delivery  Authority’s expe...             11   \n",
       "4301  Q1 Chair: Apologies for keeping you waiting. I...             14   \n",
       "\n",
       "      highest_p  \n",
       "4308   0.811896  \n",
       "3690   0.784927  \n",
       "8070   0.783140  \n",
       "3689   0.763432  \n",
       "4302   0.759308  \n",
       "4303   0.751763  \n",
       "1987   0.746663  \n",
       "6181   0.741447  \n",
       "1911   0.736445  \n",
       "4301   0.733505  "
      ]
     },
     "execution_count": 118,
     "metadata": {},
     "output_type": "execute_result"
    }
   ],
   "source": [
    "# highest 10 ranked paragraphs overall\n",
    "df_topic_para1_n.nlargest(10,['highest_p'])"
   ]
  },
  {
   "cell_type": "markdown",
   "metadata": {},
   "source": [
    "### Highest N ranked paragraphs from each topic"
   ]
  },
  {
   "cell_type": "code",
   "execution_count": 119,
   "metadata": {},
   "outputs": [],
   "source": [
    "# define the function for extracting the highest N ranked paragraphs from each topic\n",
    "def top_n_filter(df, top_n):\n",
    "    list_topic_id = [x for x in range(0,k)]\n",
    "    list_n_para = []\n",
    "    list_n_p = []\n",
    "    list_n_file_name = []\n",
    "    list_n_para_id = []\n",
    "    for x in range(0, k): \n",
    "        n_para = [i for i in df.nlargest(top_n, [x])['paragraphs']]\n",
    "        n_p = [i for i in df.nlargest(top_n, [x])[x]]\n",
    "        n_file_name = [i for i in df.nlargest(top_n, [x])['file_name']]\n",
    "        n_para_id = [i for i in df.nlargest(top_n, [x])['para_id']]\n",
    "        list_n_para.append(n_para)\n",
    "        list_n_p.append(n_p)\n",
    "        list_n_file_name.append(n_file_name)\n",
    "        list_n_para_id.append(n_para_id)\n",
    "    pd_n_para = pd.DataFrame({'topic_id': list_topic_id, 'salient_paragraph': list_n_para, 'probability': list_n_p, \n",
    "                              'file_name': list_n_file_name, 'para_id': list_n_para_id})\n",
    "    return(pd_n_para.apply(pd.Series.explode))"
   ]
  },
  {
   "cell_type": "code",
   "execution_count": 120,
   "metadata": {},
   "outputs": [
    {
     "data": {
      "text/html": [
       "<div>\n",
       "<style scoped>\n",
       "    .dataframe tbody tr th:only-of-type {\n",
       "        vertical-align: middle;\n",
       "    }\n",
       "\n",
       "    .dataframe tbody tr th {\n",
       "        vertical-align: top;\n",
       "    }\n",
       "\n",
       "    .dataframe thead th {\n",
       "        text-align: right;\n",
       "    }\n",
       "</style>\n",
       "<table border=\"1\" class=\"dataframe\">\n",
       "  <thead>\n",
       "    <tr style=\"text-align: right;\">\n",
       "      <th></th>\n",
       "      <th>topic_id</th>\n",
       "      <th>salient_paragraph</th>\n",
       "      <th>probability</th>\n",
       "      <th>file_name</th>\n",
       "      <th>para_id</th>\n",
       "    </tr>\n",
       "  </thead>\n",
       "  <tbody>\n",
       "    <tr>\n",
       "      <th>0</th>\n",
       "      <td>0</td>\n",
       "      <td>Q195 Paul Farrelly: I just wanted to explore s...</td>\n",
       "      <td>0.612425</td>\n",
       "      <td>Qs_180-199.pdf</td>\n",
       "      <td>18</td>\n",
       "    </tr>\n",
       "    <tr>\n",
       "      <th>0</th>\n",
       "      <td>0</td>\n",
       "      <td>Q36  Alan Keen: Mischievously I was thinking t...</td>\n",
       "      <td>0.586679</td>\n",
       "      <td>Qs_20-39.pdf</td>\n",
       "      <td>16</td>\n",
       "    </tr>\n",
       "    <tr>\n",
       "      <th>1</th>\n",
       "      <td>1</td>\n",
       "      <td>282 Q 185 283 Paper from West Sussex County Co...</td>\n",
       "      <td>0.581509</td>\n",
       "      <td>Report_and_Minutes_-_Jan_2007.pdf</td>\n",
       "      <td>70</td>\n",
       "    </tr>\n",
       "    <tr>\n",
       "      <th>1</th>\n",
       "      <td>1</td>\n",
       "      <td>118. The Tourism Alliance calculated that any ...</td>\n",
       "      <td>0.491753</td>\n",
       "      <td>Report_and_Minutes_-_Jan_2007.pdf</td>\n",
       "      <td>62</td>\n",
       "    </tr>\n",
       "    <tr>\n",
       "      <th>2</th>\n",
       "      <td>2</td>\n",
       "      <td>Q79  Adam Price: We do fantastically well in t...</td>\n",
       "      <td>0.595137</td>\n",
       "      <td>Qs_65-79.pdf</td>\n",
       "      <td>27</td>\n",
       "    </tr>\n",
       "    <tr>\n",
       "      <th>2</th>\n",
       "      <td>2</td>\n",
       "      <td>MR CRAIG REEDIE CBE, MS SUE CAMPBELL CBE, MR D...</td>\n",
       "      <td>0.593952</td>\n",
       "      <td>Qs_80-87.pdf</td>\n",
       "      <td>0</td>\n",
       "    </tr>\n",
       "    <tr>\n",
       "      <th>3</th>\n",
       "      <td>3</td>\n",
       "      <td>24% of the respondents said they had been infl...</td>\n",
       "      <td>0.118456</td>\n",
       "      <td>Report_and_Minutes_-_Jan_2007_-_vol_2_-_eviden...</td>\n",
       "      <td>1243</td>\n",
       "    </tr>\n",
       "    <tr>\n",
       "      <th>3</th>\n",
       "      <td>3</td>\n",
       "      <td>11. ESCA urges the Government to support a bid...</td>\n",
       "      <td>0.109099</td>\n",
       "      <td>Written_evidence_-_Appendix_20_-_European_Spon...</td>\n",
       "      <td>10</td>\n",
       "    </tr>\n",
       "    <tr>\n",
       "      <th>4</th>\n",
       "      <td>4</td>\n",
       "      <td>Although part of this proposed new capacity wi...</td>\n",
       "      <td>0.78314</td>\n",
       "      <td>Written_evidence_-_Appendix_6_-_TfL.pdf</td>\n",
       "      <td>5</td>\n",
       "    </tr>\n",
       "    <tr>\n",
       "      <th>4</th>\n",
       "      <td>4</td>\n",
       "      <td>However, the distance of the venues and facili...</td>\n",
       "      <td>0.660676</td>\n",
       "      <td>Written_evidence_-_Appendix_6_-_TfL.pdf</td>\n",
       "      <td>2</td>\n",
       "    </tr>\n",
       "    <tr>\n",
       "      <th>5</th>\n",
       "      <td>5</td>\n",
       "      <td>4.5  Education  —    Our Education Team is dev...</td>\n",
       "      <td>0.650719</td>\n",
       "      <td>Memorandum_submitted_by_LOCOG_-_Nov_2007.pdf</td>\n",
       "      <td>60</td>\n",
       "    </tr>\n",
       "    <tr>\n",
       "      <th>5</th>\n",
       "      <td>5</td>\n",
       "      <td>5.  The Company was established and Baroness M...</td>\n",
       "      <td>0.514725</td>\n",
       "      <td>Written_evidence_submitted_by_Olympic_Park_Leg...</td>\n",
       "      <td>12</td>\n",
       "    </tr>\n",
       "    <tr>\n",
       "      <th>6</th>\n",
       "      <td>6</td>\n",
       "      <td>QUESTIONS    1.  What is DCSF's responsibility...</td>\n",
       "      <td>0.682483</td>\n",
       "      <td>Written_evidence_submitted_by_Vision_2020_UK_-...</td>\n",
       "      <td>16</td>\n",
       "    </tr>\n",
       "    <tr>\n",
       "      <th>6</th>\n",
       "      <td>6</td>\n",
       "      <td>4. Most clubs seem ill-prepared for enquiries ...</td>\n",
       "      <td>0.651374</td>\n",
       "      <td>Written_evidence_submitted_by_Vision_2020_UK_-...</td>\n",
       "      <td>7</td>\n",
       "    </tr>\n",
       "    <tr>\n",
       "      <th>7</th>\n",
       "      <td>7</td>\n",
       "      <td>RECOMMENDATION 2  — Clarify the term \"sports l...</td>\n",
       "      <td>0.57963</td>\n",
       "      <td>Written_evidence_submitted_by_Institute_for_Sp...</td>\n",
       "      <td>32</td>\n",
       "    </tr>\n",
       "    <tr>\n",
       "      <th>7</th>\n",
       "      <td>7</td>\n",
       "      <td>11.   Progress towards meeting targets to incr...</td>\n",
       "      <td>0.574416</td>\n",
       "      <td>Written_evidence_submitted_by_Business_in_Spor...</td>\n",
       "      <td>9</td>\n",
       "    </tr>\n",
       "    <tr>\n",
       "      <th>8</th>\n",
       "      <td>8</td>\n",
       "      <td>289 Ev 126 290 Q 1 291 Ev 29 57  medals, of wh...</td>\n",
       "      <td>0.741447</td>\n",
       "      <td>The_next_lap_-_April_2008_-_vol_1.pdf</td>\n",
       "      <td>68</td>\n",
       "    </tr>\n",
       "    <tr>\n",
       "      <th>8</th>\n",
       "      <td>8</td>\n",
       "      <td>16 The Great Britain team’s performance at the...</td>\n",
       "      <td>0.588979</td>\n",
       "      <td>NAO_Preparing_for_sporting_success_-_March_200...</td>\n",
       "      <td>89</td>\n",
       "    </tr>\n",
       "    <tr>\n",
       "      <th>9</th>\n",
       "      <td>9</td>\n",
       "      <td>3.6  The Games and physical transformation of ...</td>\n",
       "      <td>0.508822</td>\n",
       "      <td>Written_evidence_submitted_by_Host_Boroughs_Un...</td>\n",
       "      <td>17</td>\n",
       "    </tr>\n",
       "    <tr>\n",
       "      <th>9</th>\n",
       "      <td>9</td>\n",
       "      <td>3.2  To ensure Hackney gets the best from the ...</td>\n",
       "      <td>0.504721</td>\n",
       "      <td>Written_evidence_submitted_by_London_Borough_o...</td>\n",
       "      <td>8</td>\n",
       "    </tr>\n",
       "    <tr>\n",
       "      <th>10</th>\n",
       "      <td>10</td>\n",
       "      <td>Question: Was your work based upon an exempler...</td>\n",
       "      <td>0.598116</td>\n",
       "      <td>Written_evidence_-_Appendix_2_-_Arup.pdf</td>\n",
       "      <td>2</td>\n",
       "    </tr>\n",
       "    <tr>\n",
       "      <th>10</th>\n",
       "      <td>10</td>\n",
       "      <td>The three key areas of sporting legacy are: (a...</td>\n",
       "      <td>0.542729</td>\n",
       "      <td>Written_evidence_-_Appendix_1_-_DCMS.pdf</td>\n",
       "      <td>27</td>\n",
       "    </tr>\n",
       "    <tr>\n",
       "      <th>11</th>\n",
       "      <td>11</td>\n",
       "      <td>DCMS/UK SportELITE SPORTLOCOGSTAGEOLYMPIC PARK...</td>\n",
       "      <td>0.784927</td>\n",
       "      <td>PAC_-_Preparations_for_the_Olympics_-_July_200...</td>\n",
       "      <td>1</td>\n",
       "    </tr>\n",
       "    <tr>\n",
       "      <th>11</th>\n",
       "      <td>11</td>\n",
       "      <td>Microsoft Word - Preparations for the London 2...</td>\n",
       "      <td>0.763432</td>\n",
       "      <td>PAC_-_Preparations_for_the_Olympics_-_July_200...</td>\n",
       "      <td>0</td>\n",
       "    </tr>\n",
       "    <tr>\n",
       "      <th>12</th>\n",
       "      <td>12</td>\n",
       "      <td>3. The extensions would deliver numerous trans...</td>\n",
       "      <td>0.460398</td>\n",
       "      <td>Written_evidence_-_Appendix_22_-_East_London_L...</td>\n",
       "      <td>2</td>\n",
       "    </tr>\n",
       "    <tr>\n",
       "      <th>12</th>\n",
       "      <td>12</td>\n",
       "      <td>8. Despite this, the project has stalled in re...</td>\n",
       "      <td>0.376413</td>\n",
       "      <td>Written_evidence_-_Appendix_22_-_East_London_L...</td>\n",
       "      <td>6</td>\n",
       "    </tr>\n",
       "    <tr>\n",
       "      <th>13</th>\n",
       "      <td>13</td>\n",
       "      <td>(Mr Scott) What we are doing is, we are lookin...</td>\n",
       "      <td>0.35763</td>\n",
       "      <td>Jan_2003_-_Qs_200-220.pdf</td>\n",
       "      <td>8</td>\n",
       "    </tr>\n",
       "    <tr>\n",
       "      <th>13</th>\n",
       "      <td>13</td>\n",
       "      <td>41. Village venues were sought initially accor...</td>\n",
       "      <td>0.349362</td>\n",
       "      <td>Written_evidence_-_Appendix_3_-_BOA.pdf</td>\n",
       "      <td>28</td>\n",
       "    </tr>\n",
       "    <tr>\n",
       "      <th>14</th>\n",
       "      <td>14</td>\n",
       "      <td>cobber Pack: U PL: COE1 [O] Processed: [05-03-...</td>\n",
       "      <td>0.811896</td>\n",
       "      <td>Preparations_for_Olympic_Games_March_2012_Repo...</td>\n",
       "      <td>9</td>\n",
       "    </tr>\n",
       "    <tr>\n",
       "      <th>14</th>\n",
       "      <td>14</td>\n",
       "      <td>Jonathan Stephens: That was reduced and we hav...</td>\n",
       "      <td>0.759308</td>\n",
       "      <td>Preparations_for_Olympic_Games_March_2012_Repo...</td>\n",
       "      <td>3</td>\n",
       "    </tr>\n",
       "  </tbody>\n",
       "</table>\n",
       "</div>"
      ],
      "text/plain": [
       "    topic_id                                  salient_paragraph probability  \\\n",
       "0          0  Q195 Paul Farrelly: I just wanted to explore s...    0.612425   \n",
       "0          0  Q36  Alan Keen: Mischievously I was thinking t...    0.586679   \n",
       "1          1  282 Q 185 283 Paper from West Sussex County Co...    0.581509   \n",
       "1          1  118. The Tourism Alliance calculated that any ...    0.491753   \n",
       "2          2  Q79  Adam Price: We do fantastically well in t...    0.595137   \n",
       "2          2  MR CRAIG REEDIE CBE, MS SUE CAMPBELL CBE, MR D...    0.593952   \n",
       "3          3  24% of the respondents said they had been infl...    0.118456   \n",
       "3          3  11. ESCA urges the Government to support a bid...    0.109099   \n",
       "4          4  Although part of this proposed new capacity wi...     0.78314   \n",
       "4          4  However, the distance of the venues and facili...    0.660676   \n",
       "5          5  4.5  Education  —    Our Education Team is dev...    0.650719   \n",
       "5          5  5.  The Company was established and Baroness M...    0.514725   \n",
       "6          6  QUESTIONS    1.  What is DCSF's responsibility...    0.682483   \n",
       "6          6  4. Most clubs seem ill-prepared for enquiries ...    0.651374   \n",
       "7          7  RECOMMENDATION 2  — Clarify the term \"sports l...     0.57963   \n",
       "7          7  11.   Progress towards meeting targets to incr...    0.574416   \n",
       "8          8  289 Ev 126 290 Q 1 291 Ev 29 57  medals, of wh...    0.741447   \n",
       "8          8  16 The Great Britain team’s performance at the...    0.588979   \n",
       "9          9  3.6  The Games and physical transformation of ...    0.508822   \n",
       "9          9  3.2  To ensure Hackney gets the best from the ...    0.504721   \n",
       "10        10  Question: Was your work based upon an exempler...    0.598116   \n",
       "10        10  The three key areas of sporting legacy are: (a...    0.542729   \n",
       "11        11  DCMS/UK SportELITE SPORTLOCOGSTAGEOLYMPIC PARK...    0.784927   \n",
       "11        11  Microsoft Word - Preparations for the London 2...    0.763432   \n",
       "12        12  3. The extensions would deliver numerous trans...    0.460398   \n",
       "12        12  8. Despite this, the project has stalled in re...    0.376413   \n",
       "13        13  (Mr Scott) What we are doing is, we are lookin...     0.35763   \n",
       "13        13  41. Village venues were sought initially accor...    0.349362   \n",
       "14        14  cobber Pack: U PL: COE1 [O] Processed: [05-03-...    0.811896   \n",
       "14        14  Jonathan Stephens: That was reduced and we hav...    0.759308   \n",
       "\n",
       "                                            file_name para_id  \n",
       "0                                      Qs_180-199.pdf      18  \n",
       "0                                        Qs_20-39.pdf      16  \n",
       "1                   Report_and_Minutes_-_Jan_2007.pdf      70  \n",
       "1                   Report_and_Minutes_-_Jan_2007.pdf      62  \n",
       "2                                        Qs_65-79.pdf      27  \n",
       "2                                        Qs_80-87.pdf       0  \n",
       "3   Report_and_Minutes_-_Jan_2007_-_vol_2_-_eviden...    1243  \n",
       "3   Written_evidence_-_Appendix_20_-_European_Spon...      10  \n",
       "4             Written_evidence_-_Appendix_6_-_TfL.pdf       5  \n",
       "4             Written_evidence_-_Appendix_6_-_TfL.pdf       2  \n",
       "5        Memorandum_submitted_by_LOCOG_-_Nov_2007.pdf      60  \n",
       "5   Written_evidence_submitted_by_Olympic_Park_Leg...      12  \n",
       "6   Written_evidence_submitted_by_Vision_2020_UK_-...      16  \n",
       "6   Written_evidence_submitted_by_Vision_2020_UK_-...       7  \n",
       "7   Written_evidence_submitted_by_Institute_for_Sp...      32  \n",
       "7   Written_evidence_submitted_by_Business_in_Spor...       9  \n",
       "8               The_next_lap_-_April_2008_-_vol_1.pdf      68  \n",
       "8   NAO_Preparing_for_sporting_success_-_March_200...      89  \n",
       "9   Written_evidence_submitted_by_Host_Boroughs_Un...      17  \n",
       "9   Written_evidence_submitted_by_London_Borough_o...       8  \n",
       "10           Written_evidence_-_Appendix_2_-_Arup.pdf       2  \n",
       "10           Written_evidence_-_Appendix_1_-_DCMS.pdf      27  \n",
       "11  PAC_-_Preparations_for_the_Olympics_-_July_200...       1  \n",
       "11  PAC_-_Preparations_for_the_Olympics_-_July_200...       0  \n",
       "12  Written_evidence_-_Appendix_22_-_East_London_L...       2  \n",
       "12  Written_evidence_-_Appendix_22_-_East_London_L...       6  \n",
       "13                          Jan_2003_-_Qs_200-220.pdf       8  \n",
       "13            Written_evidence_-_Appendix_3_-_BOA.pdf      28  \n",
       "14  Preparations_for_Olympic_Games_March_2012_Repo...       9  \n",
       "14  Preparations_for_Olympic_Games_March_2012_Repo...       3  "
      ]
     },
     "execution_count": 120,
     "metadata": {},
     "output_type": "execute_result"
    }
   ],
   "source": [
    "# highest 2 ranked paragraphs from each topic\n",
    "top_n_filter(df_topic_para1, 2)"
   ]
  },
  {
   "cell_type": "markdown",
   "metadata": {},
   "source": [
    "### Highest N ranked paragraphs for topic K"
   ]
  },
  {
   "cell_type": "code",
   "execution_count": 121,
   "metadata": {},
   "outputs": [
    {
     "data": {
      "text/html": [
       "<div>\n",
       "<style scoped>\n",
       "    .dataframe tbody tr th:only-of-type {\n",
       "        vertical-align: middle;\n",
       "    }\n",
       "\n",
       "    .dataframe tbody tr th {\n",
       "        vertical-align: top;\n",
       "    }\n",
       "\n",
       "    .dataframe thead th {\n",
       "        text-align: right;\n",
       "    }\n",
       "</style>\n",
       "<table border=\"1\" class=\"dataframe\">\n",
       "  <thead>\n",
       "    <tr style=\"text-align: right;\">\n",
       "      <th></th>\n",
       "      <th>topic_id</th>\n",
       "      <th>salient_paragraph</th>\n",
       "      <th>probability</th>\n",
       "      <th>file_name</th>\n",
       "      <th>para_id</th>\n",
       "    </tr>\n",
       "  </thead>\n",
       "  <tbody>\n",
       "    <tr>\n",
       "      <th>7</th>\n",
       "      <td>7</td>\n",
       "      <td>RECOMMENDATION 2  — Clarify the term \"sports l...</td>\n",
       "      <td>0.57963</td>\n",
       "      <td>Written_evidence_submitted_by_Institute_for_Sp...</td>\n",
       "      <td>32</td>\n",
       "    </tr>\n",
       "    <tr>\n",
       "      <th>7</th>\n",
       "      <td>7</td>\n",
       "      <td>11.   Progress towards meeting targets to incr...</td>\n",
       "      <td>0.574416</td>\n",
       "      <td>Written_evidence_submitted_by_Business_in_Spor...</td>\n",
       "      <td>9</td>\n",
       "    </tr>\n",
       "  </tbody>\n",
       "</table>\n",
       "</div>"
      ],
      "text/plain": [
       "   topic_id                                  salient_paragraph probability  \\\n",
       "7         7  RECOMMENDATION 2  — Clarify the term \"sports l...     0.57963   \n",
       "7         7  11.   Progress towards meeting targets to incr...    0.574416   \n",
       "\n",
       "                                           file_name para_id  \n",
       "7  Written_evidence_submitted_by_Institute_for_Sp...      32  \n",
       "7  Written_evidence_submitted_by_Business_in_Spor...       9  "
      ]
     },
     "execution_count": 121,
     "metadata": {},
     "output_type": "execute_result"
    }
   ],
   "source": [
    "topic_id_chosen = 7                                    # choose the topic ID\n",
    "num_para = 2                                           # set N\n",
    "df_n_topic_k = top_n_filter(df_topic_para1, num_para)\n",
    "topic_id_filter = df_n_topic_k['topic_id'] == topic_id_chosen\n",
    "df_n_topic_k[topic_id_filter]"
   ]
  },
  {
   "cell_type": "markdown",
   "metadata": {},
   "source": [
    "### Highest N ranked paragraphs where the belong() function is greater than the threshold for M topics at a time"
   ]
  },
  {
   "cell_type": "code",
   "execution_count": 122,
   "metadata": {},
   "outputs": [
    {
     "data": {
      "text/html": [
       "<div>\n",
       "<style scoped>\n",
       "    .dataframe tbody tr th:only-of-type {\n",
       "        vertical-align: middle;\n",
       "    }\n",
       "\n",
       "    .dataframe tbody tr th {\n",
       "        vertical-align: top;\n",
       "    }\n",
       "\n",
       "    .dataframe thead th {\n",
       "        text-align: right;\n",
       "    }\n",
       "</style>\n",
       "<table border=\"1\" class=\"dataframe\">\n",
       "  <thead>\n",
       "    <tr style=\"text-align: right;\">\n",
       "      <th></th>\n",
       "      <th>index</th>\n",
       "      <th>creationDate</th>\n",
       "      <th>document_id</th>\n",
       "      <th>file_name</th>\n",
       "      <th>para_id</th>\n",
       "      <th>paragraphs</th>\n",
       "      <th>0</th>\n",
       "      <th>1</th>\n",
       "      <th>2</th>\n",
       "      <th>3</th>\n",
       "      <th>...</th>\n",
       "      <th>5</th>\n",
       "      <th>6</th>\n",
       "      <th>7</th>\n",
       "      <th>8</th>\n",
       "      <th>9</th>\n",
       "      <th>10</th>\n",
       "      <th>11</th>\n",
       "      <th>12</th>\n",
       "      <th>13</th>\n",
       "      <th>14</th>\n",
       "    </tr>\n",
       "  </thead>\n",
       "  <tbody>\n",
       "    <tr>\n",
       "      <th>2</th>\n",
       "      <td>2</td>\n",
       "      <td>D:20210822083603+00'00'</td>\n",
       "      <td>0</td>\n",
       "      <td>Examination_of_Witnesses_Sept_2003_-_Q1-19.pdf</td>\n",
       "      <td>2</td>\n",
       "      <td>The first thing I should like to say is that I...</td>\n",
       "      <td>0.448698</td>\n",
       "      <td>0.042182</td>\n",
       "      <td>0.050906</td>\n",
       "      <td>0.032559</td>\n",
       "      <td>...</td>\n",
       "      <td>0.041565</td>\n",
       "      <td>0.042981</td>\n",
       "      <td>0.067326</td>\n",
       "      <td>0.042903</td>\n",
       "      <td>0.042512</td>\n",
       "      <td>0.033146</td>\n",
       "      <td>0.026889</td>\n",
       "      <td>0.021902</td>\n",
       "      <td>0.043790</td>\n",
       "      <td>0.040101</td>\n",
       "    </tr>\n",
       "    <tr>\n",
       "      <th>4</th>\n",
       "      <td>4</td>\n",
       "      <td>D:20210822083603+00'00'</td>\n",
       "      <td>0</td>\n",
       "      <td>Examination_of_Witnesses_Sept_2003_-_Q1-19.pdf</td>\n",
       "      <td>4</td>\n",
       "      <td>Work had been done before I arrived, but it wa...</td>\n",
       "      <td>0.544812</td>\n",
       "      <td>0.027690</td>\n",
       "      <td>0.040986</td>\n",
       "      <td>0.020258</td>\n",
       "      <td>...</td>\n",
       "      <td>0.063154</td>\n",
       "      <td>0.020994</td>\n",
       "      <td>0.022601</td>\n",
       "      <td>0.031870</td>\n",
       "      <td>0.023925</td>\n",
       "      <td>0.074512</td>\n",
       "      <td>0.022566</td>\n",
       "      <td>0.026889</td>\n",
       "      <td>0.030235</td>\n",
       "      <td>0.034321</td>\n",
       "    </tr>\n",
       "    <tr>\n",
       "      <th>7</th>\n",
       "      <td>7</td>\n",
       "      <td>D:20210822083603+00'00'</td>\n",
       "      <td>0</td>\n",
       "      <td>Examination_of_Witnesses_Sept_2003_-_Q1-19.pdf</td>\n",
       "      <td>7</td>\n",
       "      <td>Q4 Michael Fabricant: On the subject of chief ...</td>\n",
       "      <td>0.347304</td>\n",
       "      <td>0.047192</td>\n",
       "      <td>0.064022</td>\n",
       "      <td>0.035998</td>\n",
       "      <td>...</td>\n",
       "      <td>0.037753</td>\n",
       "      <td>0.055128</td>\n",
       "      <td>0.051708</td>\n",
       "      <td>0.048856</td>\n",
       "      <td>0.036429</td>\n",
       "      <td>0.051404</td>\n",
       "      <td>0.035263</td>\n",
       "      <td>0.035098</td>\n",
       "      <td>0.049965</td>\n",
       "      <td>0.066178</td>\n",
       "    </tr>\n",
       "    <tr>\n",
       "      <th>10</th>\n",
       "      <td>10</td>\n",
       "      <td>D:20210822083603+00'00'</td>\n",
       "      <td>0</td>\n",
       "      <td>Examination_of_Witnesses_Sept_2003_-_Q1-19.pdf</td>\n",
       "      <td>10</td>\n",
       "      <td>Q5 Michael Fabricant: You have quite rightly p...</td>\n",
       "      <td>0.416513</td>\n",
       "      <td>0.055265</td>\n",
       "      <td>0.051724</td>\n",
       "      <td>0.033384</td>\n",
       "      <td>...</td>\n",
       "      <td>0.033659</td>\n",
       "      <td>0.033500</td>\n",
       "      <td>0.034667</td>\n",
       "      <td>0.045696</td>\n",
       "      <td>0.034636</td>\n",
       "      <td>0.051259</td>\n",
       "      <td>0.030681</td>\n",
       "      <td>0.026341</td>\n",
       "      <td>0.075497</td>\n",
       "      <td>0.045886</td>\n",
       "    </tr>\n",
       "    <tr>\n",
       "      <th>25</th>\n",
       "      <td>25</td>\n",
       "      <td>D:20210822083603+00'00'</td>\n",
       "      <td>0</td>\n",
       "      <td>Examination_of_Witnesses_Sept_2003_-_Q1-19.pdf</td>\n",
       "      <td>25</td>\n",
       "      <td>Q15 Derek Wyatt: When push comes to shove, bec...</td>\n",
       "      <td>0.418475</td>\n",
       "      <td>0.041771</td>\n",
       "      <td>0.048149</td>\n",
       "      <td>0.026838</td>\n",
       "      <td>...</td>\n",
       "      <td>0.034159</td>\n",
       "      <td>0.038141</td>\n",
       "      <td>0.041549</td>\n",
       "      <td>0.036144</td>\n",
       "      <td>0.032368</td>\n",
       "      <td>0.037540</td>\n",
       "      <td>0.030989</td>\n",
       "      <td>0.027088</td>\n",
       "      <td>0.116715</td>\n",
       "      <td>0.041385</td>\n",
       "    </tr>\n",
       "    <tr>\n",
       "      <th>...</th>\n",
       "      <td>...</td>\n",
       "      <td>...</td>\n",
       "      <td>...</td>\n",
       "      <td>...</td>\n",
       "      <td>...</td>\n",
       "      <td>...</td>\n",
       "      <td>...</td>\n",
       "      <td>...</td>\n",
       "      <td>...</td>\n",
       "      <td>...</td>\n",
       "      <td>...</td>\n",
       "      <td>...</td>\n",
       "      <td>...</td>\n",
       "      <td>...</td>\n",
       "      <td>...</td>\n",
       "      <td>...</td>\n",
       "      <td>...</td>\n",
       "      <td>...</td>\n",
       "      <td>...</td>\n",
       "      <td>...</td>\n",
       "      <td>...</td>\n",
       "    </tr>\n",
       "    <tr>\n",
       "      <th>8975</th>\n",
       "      <td>9357</td>\n",
       "      <td>D:20210822084535+00'00'</td>\n",
       "      <td>166</td>\n",
       "      <td>Written_evidence_submitted_by_VisitBritain_-_J...</td>\n",
       "      <td>0</td>\n",
       "      <td>Written evidence submitted by VisitBritain    ...</td>\n",
       "      <td>0.040789</td>\n",
       "      <td>0.413946</td>\n",
       "      <td>0.024507</td>\n",
       "      <td>0.026332</td>\n",
       "      <td>...</td>\n",
       "      <td>0.035273</td>\n",
       "      <td>0.022108</td>\n",
       "      <td>0.065532</td>\n",
       "      <td>0.033995</td>\n",
       "      <td>0.138878</td>\n",
       "      <td>0.060030</td>\n",
       "      <td>0.030546</td>\n",
       "      <td>0.026136</td>\n",
       "      <td>0.022509</td>\n",
       "      <td>0.037007</td>\n",
       "    </tr>\n",
       "    <tr>\n",
       "      <th>8979</th>\n",
       "      <td>9361</td>\n",
       "      <td>D:20210822084535+00'00'</td>\n",
       "      <td>166</td>\n",
       "      <td>Written_evidence_submitted_by_VisitBritain_-_J...</td>\n",
       "      <td>4</td>\n",
       "      <td>— Germany 2006 helped propel Germany to the nu...</td>\n",
       "      <td>0.037791</td>\n",
       "      <td>0.363466</td>\n",
       "      <td>0.045149</td>\n",
       "      <td>0.044737</td>\n",
       "      <td>...</td>\n",
       "      <td>0.038407</td>\n",
       "      <td>0.035220</td>\n",
       "      <td>0.071158</td>\n",
       "      <td>0.039809</td>\n",
       "      <td>0.066573</td>\n",
       "      <td>0.085637</td>\n",
       "      <td>0.035973</td>\n",
       "      <td>0.036451</td>\n",
       "      <td>0.030553</td>\n",
       "      <td>0.032698</td>\n",
       "    </tr>\n",
       "    <tr>\n",
       "      <th>8986</th>\n",
       "      <td>9368</td>\n",
       "      <td>D:20210822084535+00'00'</td>\n",
       "      <td>166</td>\n",
       "      <td>Written_evidence_submitted_by_VisitBritain_-_J...</td>\n",
       "      <td>11</td>\n",
       "      <td>(ii) Industry engagement: We are providing inf...</td>\n",
       "      <td>0.042116</td>\n",
       "      <td>0.390533</td>\n",
       "      <td>0.030286</td>\n",
       "      <td>0.022817</td>\n",
       "      <td>...</td>\n",
       "      <td>0.060635</td>\n",
       "      <td>0.024670</td>\n",
       "      <td>0.058087</td>\n",
       "      <td>0.026387</td>\n",
       "      <td>0.129058</td>\n",
       "      <td>0.031158</td>\n",
       "      <td>0.037205</td>\n",
       "      <td>0.025153</td>\n",
       "      <td>0.021997</td>\n",
       "      <td>0.040223</td>\n",
       "    </tr>\n",
       "    <tr>\n",
       "      <th>9012</th>\n",
       "      <td>9394</td>\n",
       "      <td>D:20210822084543+00'00'</td>\n",
       "      <td>167</td>\n",
       "      <td>Written_evidence_submitted_by_Womens_Sport_and...</td>\n",
       "      <td>5</td>\n",
       "      <td>— Of specific concern to us is the real risk t...</td>\n",
       "      <td>0.025756</td>\n",
       "      <td>0.040511</td>\n",
       "      <td>0.503758</td>\n",
       "      <td>0.016669</td>\n",
       "      <td>...</td>\n",
       "      <td>0.024758</td>\n",
       "      <td>0.030565</td>\n",
       "      <td>0.136145</td>\n",
       "      <td>0.029987</td>\n",
       "      <td>0.033208</td>\n",
       "      <td>0.019933</td>\n",
       "      <td>0.035771</td>\n",
       "      <td>0.019698</td>\n",
       "      <td>0.020927</td>\n",
       "      <td>0.036597</td>\n",
       "    </tr>\n",
       "    <tr>\n",
       "      <th>9022</th>\n",
       "      <td>9404</td>\n",
       "      <td>D:20210822084543+00'00'</td>\n",
       "      <td>167</td>\n",
       "      <td>Written_evidence_submitted_by_Womens_Sport_and...</td>\n",
       "      <td>15</td>\n",
       "      <td>— Women's sport doesn't get the coverage it de...</td>\n",
       "      <td>0.036621</td>\n",
       "      <td>0.034149</td>\n",
       "      <td>0.562967</td>\n",
       "      <td>0.017963</td>\n",
       "      <td>...</td>\n",
       "      <td>0.029274</td>\n",
       "      <td>0.038838</td>\n",
       "      <td>0.080408</td>\n",
       "      <td>0.033846</td>\n",
       "      <td>0.036773</td>\n",
       "      <td>0.019705</td>\n",
       "      <td>0.022918</td>\n",
       "      <td>0.017143</td>\n",
       "      <td>0.022270</td>\n",
       "      <td>0.028796</td>\n",
       "    </tr>\n",
       "  </tbody>\n",
       "</table>\n",
       "<p>681 rows × 21 columns</p>\n",
       "</div>"
      ],
      "text/plain": [
       "      index             creationDate  document_id  \\\n",
       "2         2  D:20210822083603+00'00'            0   \n",
       "4         4  D:20210822083603+00'00'            0   \n",
       "7         7  D:20210822083603+00'00'            0   \n",
       "10       10  D:20210822083603+00'00'            0   \n",
       "25       25  D:20210822083603+00'00'            0   \n",
       "...     ...                      ...          ...   \n",
       "8975   9357  D:20210822084535+00'00'          166   \n",
       "8979   9361  D:20210822084535+00'00'          166   \n",
       "8986   9368  D:20210822084535+00'00'          166   \n",
       "9012   9394  D:20210822084543+00'00'          167   \n",
       "9022   9404  D:20210822084543+00'00'          167   \n",
       "\n",
       "                                              file_name para_id  \\\n",
       "2        Examination_of_Witnesses_Sept_2003_-_Q1-19.pdf       2   \n",
       "4        Examination_of_Witnesses_Sept_2003_-_Q1-19.pdf       4   \n",
       "7        Examination_of_Witnesses_Sept_2003_-_Q1-19.pdf       7   \n",
       "10       Examination_of_Witnesses_Sept_2003_-_Q1-19.pdf      10   \n",
       "25       Examination_of_Witnesses_Sept_2003_-_Q1-19.pdf      25   \n",
       "...                                                 ...     ...   \n",
       "8975  Written_evidence_submitted_by_VisitBritain_-_J...       0   \n",
       "8979  Written_evidence_submitted_by_VisitBritain_-_J...       4   \n",
       "8986  Written_evidence_submitted_by_VisitBritain_-_J...      11   \n",
       "9012  Written_evidence_submitted_by_Womens_Sport_and...       5   \n",
       "9022  Written_evidence_submitted_by_Womens_Sport_and...      15   \n",
       "\n",
       "                                             paragraphs         0         1  \\\n",
       "2     The first thing I should like to say is that I...  0.448698  0.042182   \n",
       "4     Work had been done before I arrived, but it wa...  0.544812  0.027690   \n",
       "7     Q4 Michael Fabricant: On the subject of chief ...  0.347304  0.047192   \n",
       "10    Q5 Michael Fabricant: You have quite rightly p...  0.416513  0.055265   \n",
       "25    Q15 Derek Wyatt: When push comes to shove, bec...  0.418475  0.041771   \n",
       "...                                                 ...       ...       ...   \n",
       "8975  Written evidence submitted by VisitBritain    ...  0.040789  0.413946   \n",
       "8979  — Germany 2006 helped propel Germany to the nu...  0.037791  0.363466   \n",
       "8986  (ii) Industry engagement: We are providing inf...  0.042116  0.390533   \n",
       "9012  — Of specific concern to us is the real risk t...  0.025756  0.040511   \n",
       "9022  — Women's sport doesn't get the coverage it de...  0.036621  0.034149   \n",
       "\n",
       "             2         3  ...         5         6         7         8  \\\n",
       "2     0.050906  0.032559  ...  0.041565  0.042981  0.067326  0.042903   \n",
       "4     0.040986  0.020258  ...  0.063154  0.020994  0.022601  0.031870   \n",
       "7     0.064022  0.035998  ...  0.037753  0.055128  0.051708  0.048856   \n",
       "10    0.051724  0.033384  ...  0.033659  0.033500  0.034667  0.045696   \n",
       "25    0.048149  0.026838  ...  0.034159  0.038141  0.041549  0.036144   \n",
       "...        ...       ...  ...       ...       ...       ...       ...   \n",
       "8975  0.024507  0.026332  ...  0.035273  0.022108  0.065532  0.033995   \n",
       "8979  0.045149  0.044737  ...  0.038407  0.035220  0.071158  0.039809   \n",
       "8986  0.030286  0.022817  ...  0.060635  0.024670  0.058087  0.026387   \n",
       "9012  0.503758  0.016669  ...  0.024758  0.030565  0.136145  0.029987   \n",
       "9022  0.562967  0.017963  ...  0.029274  0.038838  0.080408  0.033846   \n",
       "\n",
       "             9        10        11        12        13        14  \n",
       "2     0.042512  0.033146  0.026889  0.021902  0.043790  0.040101  \n",
       "4     0.023925  0.074512  0.022566  0.026889  0.030235  0.034321  \n",
       "7     0.036429  0.051404  0.035263  0.035098  0.049965  0.066178  \n",
       "10    0.034636  0.051259  0.030681  0.026341  0.075497  0.045886  \n",
       "25    0.032368  0.037540  0.030989  0.027088  0.116715  0.041385  \n",
       "...        ...       ...       ...       ...       ...       ...  \n",
       "8975  0.138878  0.060030  0.030546  0.026136  0.022509  0.037007  \n",
       "8979  0.066573  0.085637  0.035973  0.036451  0.030553  0.032698  \n",
       "8986  0.129058  0.031158  0.037205  0.025153  0.021997  0.040223  \n",
       "9012  0.033208  0.019933  0.035771  0.019698  0.020927  0.036597  \n",
       "9022  0.036773  0.019705  0.022918  0.017143  0.022270  0.028796  \n",
       "\n",
       "[681 rows x 21 columns]"
      ]
     },
     "execution_count": 122,
     "metadata": {},
     "output_type": "execute_result"
    }
   ],
   "source": [
    "# selecting the paragraphs where the belong() function is greater than the threshold for M topics at a time\n",
    "threshold = 1/3                                                    # set threshold \n",
    "topic_filter = df_topic_para1.iloc[:, 5:].max(axis=1) > threshold  # set filter\n",
    "df_topic_para_M = df_topic_para1[topic_filter]                     # extract the qualified paragraphs\n",
    "df_topic_para_M"
   ]
  },
  {
   "cell_type": "code",
   "execution_count": 123,
   "metadata": {},
   "outputs": [
    {
     "data": {
      "text/html": [
       "<div>\n",
       "<style scoped>\n",
       "    .dataframe tbody tr th:only-of-type {\n",
       "        vertical-align: middle;\n",
       "    }\n",
       "\n",
       "    .dataframe tbody tr th {\n",
       "        vertical-align: top;\n",
       "    }\n",
       "\n",
       "    .dataframe thead th {\n",
       "        text-align: right;\n",
       "    }\n",
       "</style>\n",
       "<table border=\"1\" class=\"dataframe\">\n",
       "  <thead>\n",
       "    <tr style=\"text-align: right;\">\n",
       "      <th></th>\n",
       "      <th>topic_id</th>\n",
       "      <th>salient_paragraph</th>\n",
       "      <th>probability</th>\n",
       "      <th>file_name</th>\n",
       "      <th>para_id</th>\n",
       "    </tr>\n",
       "  </thead>\n",
       "  <tbody>\n",
       "    <tr>\n",
       "      <th>0</th>\n",
       "      <td>0</td>\n",
       "      <td>Q195 Paul Farrelly: I just wanted to explore s...</td>\n",
       "      <td>0.612425</td>\n",
       "      <td>Qs_180-199.pdf</td>\n",
       "      <td>18</td>\n",
       "    </tr>\n",
       "    <tr>\n",
       "      <th>0</th>\n",
       "      <td>0</td>\n",
       "      <td>Q36  Alan Keen: Mischievously I was thinking t...</td>\n",
       "      <td>0.586679</td>\n",
       "      <td>Qs_20-39.pdf</td>\n",
       "      <td>16</td>\n",
       "    </tr>\n",
       "    <tr>\n",
       "      <th>1</th>\n",
       "      <td>1</td>\n",
       "      <td>282 Q 185 283 Paper from West Sussex County Co...</td>\n",
       "      <td>0.581509</td>\n",
       "      <td>Report_and_Minutes_-_Jan_2007.pdf</td>\n",
       "      <td>70</td>\n",
       "    </tr>\n",
       "    <tr>\n",
       "      <th>1</th>\n",
       "      <td>1</td>\n",
       "      <td>118. The Tourism Alliance calculated that any ...</td>\n",
       "      <td>0.491753</td>\n",
       "      <td>Report_and_Minutes_-_Jan_2007.pdf</td>\n",
       "      <td>62</td>\n",
       "    </tr>\n",
       "    <tr>\n",
       "      <th>2</th>\n",
       "      <td>2</td>\n",
       "      <td>Q79  Adam Price: We do fantastically well in t...</td>\n",
       "      <td>0.595137</td>\n",
       "      <td>Qs_65-79.pdf</td>\n",
       "      <td>27</td>\n",
       "    </tr>\n",
       "    <tr>\n",
       "      <th>2</th>\n",
       "      <td>2</td>\n",
       "      <td>MR CRAIG REEDIE CBE, MS SUE CAMPBELL CBE, MR D...</td>\n",
       "      <td>0.593952</td>\n",
       "      <td>Qs_80-87.pdf</td>\n",
       "      <td>0</td>\n",
       "    </tr>\n",
       "    <tr>\n",
       "      <th>3</th>\n",
       "      <td>3</td>\n",
       "      <td>Q37 Alan Keen: Of course not. Have you given a...</td>\n",
       "      <td>0.07532</td>\n",
       "      <td>Examination_of_Witnesses_Sept_2003_-_Q20-39.pdf</td>\n",
       "      <td>21</td>\n",
       "    </tr>\n",
       "    <tr>\n",
       "      <th>3</th>\n",
       "      <td>3</td>\n",
       "      <td>2.4 With the additional funding awarded to UK ...</td>\n",
       "      <td>0.072699</td>\n",
       "      <td>NAO_Preparing_for_sporting_success_-_March_200...</td>\n",
       "      <td>47</td>\n",
       "    </tr>\n",
       "    <tr>\n",
       "      <th>4</th>\n",
       "      <td>4</td>\n",
       "      <td>Although part of this proposed new capacity wi...</td>\n",
       "      <td>0.78314</td>\n",
       "      <td>Written_evidence_-_Appendix_6_-_TfL.pdf</td>\n",
       "      <td>5</td>\n",
       "    </tr>\n",
       "    <tr>\n",
       "      <th>4</th>\n",
       "      <td>4</td>\n",
       "      <td>However, the distance of the venues and facili...</td>\n",
       "      <td>0.660676</td>\n",
       "      <td>Written_evidence_-_Appendix_6_-_TfL.pdf</td>\n",
       "      <td>2</td>\n",
       "    </tr>\n",
       "    <tr>\n",
       "      <th>5</th>\n",
       "      <td>5</td>\n",
       "      <td>4.5  Education  —    Our Education Team is dev...</td>\n",
       "      <td>0.650719</td>\n",
       "      <td>Memorandum_submitted_by_LOCOG_-_Nov_2007.pdf</td>\n",
       "      <td>60</td>\n",
       "    </tr>\n",
       "    <tr>\n",
       "      <th>5</th>\n",
       "      <td>5</td>\n",
       "      <td>5.  The Company was established and Baroness M...</td>\n",
       "      <td>0.514725</td>\n",
       "      <td>Written_evidence_submitted_by_Olympic_Park_Leg...</td>\n",
       "      <td>12</td>\n",
       "    </tr>\n",
       "    <tr>\n",
       "      <th>6</th>\n",
       "      <td>6</td>\n",
       "      <td>QUESTIONS    1.  What is DCSF's responsibility...</td>\n",
       "      <td>0.682483</td>\n",
       "      <td>Written_evidence_submitted_by_Vision_2020_UK_-...</td>\n",
       "      <td>16</td>\n",
       "    </tr>\n",
       "    <tr>\n",
       "      <th>6</th>\n",
       "      <td>6</td>\n",
       "      <td>4. Most clubs seem ill-prepared for enquiries ...</td>\n",
       "      <td>0.651374</td>\n",
       "      <td>Written_evidence_submitted_by_Vision_2020_UK_-...</td>\n",
       "      <td>7</td>\n",
       "    </tr>\n",
       "    <tr>\n",
       "      <th>7</th>\n",
       "      <td>7</td>\n",
       "      <td>RECOMMENDATION 2  — Clarify the term \"sports l...</td>\n",
       "      <td>0.57963</td>\n",
       "      <td>Written_evidence_submitted_by_Institute_for_Sp...</td>\n",
       "      <td>32</td>\n",
       "    </tr>\n",
       "    <tr>\n",
       "      <th>7</th>\n",
       "      <td>7</td>\n",
       "      <td>11.   Progress towards meeting targets to incr...</td>\n",
       "      <td>0.574416</td>\n",
       "      <td>Written_evidence_submitted_by_Business_in_Spor...</td>\n",
       "      <td>9</td>\n",
       "    </tr>\n",
       "    <tr>\n",
       "      <th>8</th>\n",
       "      <td>8</td>\n",
       "      <td>289 Ev 126 290 Q 1 291 Ev 29 57  medals, of wh...</td>\n",
       "      <td>0.741447</td>\n",
       "      <td>The_next_lap_-_April_2008_-_vol_1.pdf</td>\n",
       "      <td>68</td>\n",
       "    </tr>\n",
       "    <tr>\n",
       "      <th>8</th>\n",
       "      <td>8</td>\n",
       "      <td>16 The Great Britain team’s performance at the...</td>\n",
       "      <td>0.588979</td>\n",
       "      <td>NAO_Preparing_for_sporting_success_-_March_200...</td>\n",
       "      <td>89</td>\n",
       "    </tr>\n",
       "    <tr>\n",
       "      <th>9</th>\n",
       "      <td>9</td>\n",
       "      <td>3.6  The Games and physical transformation of ...</td>\n",
       "      <td>0.508822</td>\n",
       "      <td>Written_evidence_submitted_by_Host_Boroughs_Un...</td>\n",
       "      <td>17</td>\n",
       "    </tr>\n",
       "    <tr>\n",
       "      <th>9</th>\n",
       "      <td>9</td>\n",
       "      <td>3.2  To ensure Hackney gets the best from the ...</td>\n",
       "      <td>0.504721</td>\n",
       "      <td>Written_evidence_submitted_by_London_Borough_o...</td>\n",
       "      <td>8</td>\n",
       "    </tr>\n",
       "    <tr>\n",
       "      <th>10</th>\n",
       "      <td>10</td>\n",
       "      <td>Question: Was your work based upon an exempler...</td>\n",
       "      <td>0.598116</td>\n",
       "      <td>Written_evidence_-_Appendix_2_-_Arup.pdf</td>\n",
       "      <td>2</td>\n",
       "    </tr>\n",
       "    <tr>\n",
       "      <th>10</th>\n",
       "      <td>10</td>\n",
       "      <td>The three key areas of sporting legacy are: (a...</td>\n",
       "      <td>0.542729</td>\n",
       "      <td>Written_evidence_-_Appendix_1_-_DCMS.pdf</td>\n",
       "      <td>27</td>\n",
       "    </tr>\n",
       "    <tr>\n",
       "      <th>11</th>\n",
       "      <td>11</td>\n",
       "      <td>DCMS/UK SportELITE SPORTLOCOGSTAGEOLYMPIC PARK...</td>\n",
       "      <td>0.784927</td>\n",
       "      <td>PAC_-_Preparations_for_the_Olympics_-_July_200...</td>\n",
       "      <td>1</td>\n",
       "    </tr>\n",
       "    <tr>\n",
       "      <th>11</th>\n",
       "      <td>11</td>\n",
       "      <td>Microsoft Word - Preparations for the London 2...</td>\n",
       "      <td>0.763432</td>\n",
       "      <td>PAC_-_Preparations_for_the_Olympics_-_July_200...</td>\n",
       "      <td>0</td>\n",
       "    </tr>\n",
       "    <tr>\n",
       "      <th>12</th>\n",
       "      <td>12</td>\n",
       "      <td>3. The extensions would deliver numerous trans...</td>\n",
       "      <td>0.460398</td>\n",
       "      <td>Written_evidence_-_Appendix_22_-_East_London_L...</td>\n",
       "      <td>2</td>\n",
       "    </tr>\n",
       "    <tr>\n",
       "      <th>12</th>\n",
       "      <td>12</td>\n",
       "      <td>8. Despite this, the project has stalled in re...</td>\n",
       "      <td>0.376413</td>\n",
       "      <td>Written_evidence_-_Appendix_22_-_East_London_L...</td>\n",
       "      <td>6</td>\n",
       "    </tr>\n",
       "    <tr>\n",
       "      <th>13</th>\n",
       "      <td>13</td>\n",
       "      <td>(Mr Scott) What we are doing is, we are lookin...</td>\n",
       "      <td>0.35763</td>\n",
       "      <td>Jan_2003_-_Qs_200-220.pdf</td>\n",
       "      <td>8</td>\n",
       "    </tr>\n",
       "    <tr>\n",
       "      <th>13</th>\n",
       "      <td>13</td>\n",
       "      <td>41. Village venues were sought initially accor...</td>\n",
       "      <td>0.349362</td>\n",
       "      <td>Written_evidence_-_Appendix_3_-_BOA.pdf</td>\n",
       "      <td>28</td>\n",
       "    </tr>\n",
       "    <tr>\n",
       "      <th>14</th>\n",
       "      <td>14</td>\n",
       "      <td>cobber Pack: U PL: COE1 [O] Processed: [05-03-...</td>\n",
       "      <td>0.811896</td>\n",
       "      <td>Preparations_for_Olympic_Games_March_2012_Repo...</td>\n",
       "      <td>9</td>\n",
       "    </tr>\n",
       "    <tr>\n",
       "      <th>14</th>\n",
       "      <td>14</td>\n",
       "      <td>Jonathan Stephens: That was reduced and we hav...</td>\n",
       "      <td>0.759308</td>\n",
       "      <td>Preparations_for_Olympic_Games_March_2012_Repo...</td>\n",
       "      <td>3</td>\n",
       "    </tr>\n",
       "  </tbody>\n",
       "</table>\n",
       "</div>"
      ],
      "text/plain": [
       "    topic_id                                  salient_paragraph probability  \\\n",
       "0          0  Q195 Paul Farrelly: I just wanted to explore s...    0.612425   \n",
       "0          0  Q36  Alan Keen: Mischievously I was thinking t...    0.586679   \n",
       "1          1  282 Q 185 283 Paper from West Sussex County Co...    0.581509   \n",
       "1          1  118. The Tourism Alliance calculated that any ...    0.491753   \n",
       "2          2  Q79  Adam Price: We do fantastically well in t...    0.595137   \n",
       "2          2  MR CRAIG REEDIE CBE, MS SUE CAMPBELL CBE, MR D...    0.593952   \n",
       "3          3  Q37 Alan Keen: Of course not. Have you given a...     0.07532   \n",
       "3          3  2.4 With the additional funding awarded to UK ...    0.072699   \n",
       "4          4  Although part of this proposed new capacity wi...     0.78314   \n",
       "4          4  However, the distance of the venues and facili...    0.660676   \n",
       "5          5  4.5  Education  —    Our Education Team is dev...    0.650719   \n",
       "5          5  5.  The Company was established and Baroness M...    0.514725   \n",
       "6          6  QUESTIONS    1.  What is DCSF's responsibility...    0.682483   \n",
       "6          6  4. Most clubs seem ill-prepared for enquiries ...    0.651374   \n",
       "7          7  RECOMMENDATION 2  — Clarify the term \"sports l...     0.57963   \n",
       "7          7  11.   Progress towards meeting targets to incr...    0.574416   \n",
       "8          8  289 Ev 126 290 Q 1 291 Ev 29 57  medals, of wh...    0.741447   \n",
       "8          8  16 The Great Britain team’s performance at the...    0.588979   \n",
       "9          9  3.6  The Games and physical transformation of ...    0.508822   \n",
       "9          9  3.2  To ensure Hackney gets the best from the ...    0.504721   \n",
       "10        10  Question: Was your work based upon an exempler...    0.598116   \n",
       "10        10  The three key areas of sporting legacy are: (a...    0.542729   \n",
       "11        11  DCMS/UK SportELITE SPORTLOCOGSTAGEOLYMPIC PARK...    0.784927   \n",
       "11        11  Microsoft Word - Preparations for the London 2...    0.763432   \n",
       "12        12  3. The extensions would deliver numerous trans...    0.460398   \n",
       "12        12  8. Despite this, the project has stalled in re...    0.376413   \n",
       "13        13  (Mr Scott) What we are doing is, we are lookin...     0.35763   \n",
       "13        13  41. Village venues were sought initially accor...    0.349362   \n",
       "14        14  cobber Pack: U PL: COE1 [O] Processed: [05-03-...    0.811896   \n",
       "14        14  Jonathan Stephens: That was reduced and we hav...    0.759308   \n",
       "\n",
       "                                            file_name para_id  \n",
       "0                                      Qs_180-199.pdf      18  \n",
       "0                                        Qs_20-39.pdf      16  \n",
       "1                   Report_and_Minutes_-_Jan_2007.pdf      70  \n",
       "1                   Report_and_Minutes_-_Jan_2007.pdf      62  \n",
       "2                                        Qs_65-79.pdf      27  \n",
       "2                                        Qs_80-87.pdf       0  \n",
       "3     Examination_of_Witnesses_Sept_2003_-_Q20-39.pdf      21  \n",
       "3   NAO_Preparing_for_sporting_success_-_March_200...      47  \n",
       "4             Written_evidence_-_Appendix_6_-_TfL.pdf       5  \n",
       "4             Written_evidence_-_Appendix_6_-_TfL.pdf       2  \n",
       "5        Memorandum_submitted_by_LOCOG_-_Nov_2007.pdf      60  \n",
       "5   Written_evidence_submitted_by_Olympic_Park_Leg...      12  \n",
       "6   Written_evidence_submitted_by_Vision_2020_UK_-...      16  \n",
       "6   Written_evidence_submitted_by_Vision_2020_UK_-...       7  \n",
       "7   Written_evidence_submitted_by_Institute_for_Sp...      32  \n",
       "7   Written_evidence_submitted_by_Business_in_Spor...       9  \n",
       "8               The_next_lap_-_April_2008_-_vol_1.pdf      68  \n",
       "8   NAO_Preparing_for_sporting_success_-_March_200...      89  \n",
       "9   Written_evidence_submitted_by_Host_Boroughs_Un...      17  \n",
       "9   Written_evidence_submitted_by_London_Borough_o...       8  \n",
       "10           Written_evidence_-_Appendix_2_-_Arup.pdf       2  \n",
       "10           Written_evidence_-_Appendix_1_-_DCMS.pdf      27  \n",
       "11  PAC_-_Preparations_for_the_Olympics_-_July_200...       1  \n",
       "11  PAC_-_Preparations_for_the_Olympics_-_July_200...       0  \n",
       "12  Written_evidence_-_Appendix_22_-_East_London_L...       2  \n",
       "12  Written_evidence_-_Appendix_22_-_East_London_L...       6  \n",
       "13                          Jan_2003_-_Qs_200-220.pdf       8  \n",
       "13            Written_evidence_-_Appendix_3_-_BOA.pdf      28  \n",
       "14  Preparations_for_Olympic_Games_March_2012_Repo...       9  \n",
       "14  Preparations_for_Olympic_Games_March_2012_Repo...       3  "
      ]
     },
     "execution_count": 123,
     "metadata": {},
     "output_type": "execute_result"
    }
   ],
   "source": [
    "# Highest 2 ranked paragraphs where the belong() function is greater than the threshold for M topics at a time\n",
    "top_n_filter(df_topic_para_M, 2)"
   ]
  },
  {
   "cell_type": "markdown",
   "metadata": {},
   "source": [
    "# Overview of topics"
   ]
  },
  {
   "cell_type": "markdown",
   "metadata": {},
   "source": [
    "### The most frequent 10 words of each topic"
   ]
  },
  {
   "cell_type": "code",
   "execution_count": 124,
   "metadata": {},
   "outputs": [
    {
     "name": "stdout",
     "output_type": "stream",
     "text": [
      "[(0,\n",
      "  '0.018*\"people\" + 0.013*\"come\" + 0.010*\"work\" + 0.010*\"look\" + 0.009*\"year\" '\n",
      "  '+ 0.009*\"time\" + 0.008*\"good\" + 0.007*\"country\" + 0.007*\"way\" + '\n",
      "  '0.007*\"know\"'),\n",
      " (1,\n",
      "  '0.011*\"work\" + 0.009*\"legacy\" + 0.009*\"lottery\" + 0.008*\"tourism\" + '\n",
      "  '0.007*\"opportunity\" + 0.007*\"year\" + 0.007*\"community\" + 0.007*\"cost\" + '\n",
      "  '0.007*\"ensure\" + 0.006*\"funding\"'),\n",
      " (2,\n",
      "  '0.021*\"athlete\" + 0.019*\"people\" + 0.011*\"facility\" + 0.011*\"young\" + '\n",
      "  '0.010*\"legacy\" + 0.009*\"work\" + 0.009*\"woman\" + 0.009*\"coach\" + '\n",
      "  '0.009*\"year\" + 0.009*\"participation\"'),\n",
      " (3,\n",
      "  '0.030*\"support\" + 0.023*\"country\" + 0.023*\"event\" + 0.020*\"legacy\" + '\n",
      "  '0.020*\"people\" + 0.019*\"year\" + 0.016*\"work\" + 0.016*\"benefit\" + '\n",
      "  '0.016*\"government\" + 0.015*\"world\"'),\n",
      " (4,\n",
      "  '0.079*\"transport\" + 0.020*\"demand\" + 0.018*\"capacity\" + 0.017*\"strategy\" + '\n",
      "  '0.017*\"traffic\" + 0.016*\"service\" + 0.016*\"measure\" + 0.015*\"network\" + '\n",
      "  '0.014*\"provide\" + 0.014*\"additional\"'),\n",
      " (5,\n",
      "  '0.025*\"work\" + 0.020*\"venue\" + 0.015*\"company\" + 0.012*\"plan\" + '\n",
      "  '0.011*\"local\" + 0.011*\"legacy\" + 0.011*\"park\" + 0.011*\"programme\" + '\n",
      "  '0.010*\"year\" + 0.010*\"deliver\"'),\n",
      " (6,\n",
      "  '0.048*\"school\" + 0.047*\"people\" + 0.038*\"disability\" + 0.034*\"young\" + '\n",
      "  '0.029*\"child\" + 0.019*\"provision\" + 0.018*\"opportunity\" + 0.016*\"disabled\" '\n",
      "  '+ 0.015*\"paralympic\" + 0.014*\"level\"'),\n",
      " (7,\n",
      "  '0.021*\"legacy\" + 0.016*\"participation\" + 0.015*\"facility\" + '\n",
      "  '0.012*\"swimming\" + 0.011*\"event\" + 0.011*\"programme\" + 0.011*\"provide\" + '\n",
      "  '0.010*\"local\" + 0.010*\"increase\" + 0.010*\"opportunity\"'),\n",
      " (8,\n",
      "  '0.014*\"athlete\" + 0.011*\"funding\" + 0.011*\"performance\" + 0.009*\"programme\" '\n",
      "  '+ 0.009*\"work\" + 0.008*\"legacy\" + 0.008*\"year\" + 0.008*\"people\" + '\n",
      "  '0.008*\"support\" + 0.007*\"venue\"'),\n",
      " (9,\n",
      "  '0.025*\"legacy\" + 0.015*\"borough\" + 0.014*\"community\" + 0.014*\"area\" + '\n",
      "  '0.013*\"local\" + 0.013*\"work\" + 0.012*\"benefit\" + 0.011*\"opportunity\" + '\n",
      "  '0.010*\"park\" + 0.009*\"new\"'),\n",
      " (10,\n",
      "  '0.045*\"bid\" + 0.042*\"cost\" + 0.019*\"benefit\" + 0.018*\"government\" + '\n",
      "  '0.015*\"city\" + 0.012*\"arup\" + 0.012*\"public\" + 0.012*\"use\" + '\n",
      "  '0.010*\"infrastructure\" + 0.010*\"facility\"'),\n",
      " (11,\n",
      "  '0.025*\"cost\" + 0.017*\"delivery\" + 0.016*\"report\" + 0.015*\"programme\" + '\n",
      "  '0.013*\"budget\" + 0.013*\"funding\" + 0.011*\"government\" + 0.011*\"project\" + '\n",
      "  '0.011*\"authority\" + 0.010*\"contingency\"'),\n",
      " (12,\n",
      "  '0.058*\"project\" + 0.051*\"line\" + 0.032*\"benefit\" + 0.029*\"crossrail\" + '\n",
      "  '0.027*\"bid\" + 0.027*\"major\" + 0.021*\"extension\" + 0.020*\"government\" + '\n",
      "  '0.020*\"infrastructure\" + 0.020*\"committee\"'),\n",
      " (13,\n",
      "  '0.068*\"bid\" + 0.068*\"stadium\" + 0.026*\"athletic\" + 0.024*\"village\" + '\n",
      "  '0.021*\"boa\" + 0.021*\"decision\" + 0.019*\"issue\" + 0.017*\"committee\" + '\n",
      "  '0.016*\"option\" + 0.015*\"report\"'),\n",
      " (14,\n",
      "  '0.017*\"cost\" + 0.012*\"chair\" + 0.011*\"report\" + 0.010*\"time\" + '\n",
      "  '0.010*\"people\" + 0.010*\"security\" + 0.009*\"government\" + 0.008*\"programme\" '\n",
      "  '+ 0.008*\"risk\" + 0.008*\"budget\"')]\n"
     ]
    }
   ],
   "source": [
    "pprint(lda_model.print_topics())"
   ]
  },
  {
   "cell_type": "markdown",
   "metadata": {},
   "source": [
    "### Topic distribution across documents"
   ]
  },
  {
   "cell_type": "code",
   "execution_count": 125,
   "metadata": {},
   "outputs": [
    {
     "data": {
      "text/html": [
       "<div>\n",
       "<style scoped>\n",
       "    .dataframe tbody tr th:only-of-type {\n",
       "        vertical-align: middle;\n",
       "    }\n",
       "\n",
       "    .dataframe tbody tr th {\n",
       "        vertical-align: top;\n",
       "    }\n",
       "\n",
       "    .dataframe thead th {\n",
       "        text-align: right;\n",
       "    }\n",
       "</style>\n",
       "<table border=\"1\" class=\"dataframe\">\n",
       "  <thead>\n",
       "    <tr style=\"text-align: right;\">\n",
       "      <th></th>\n",
       "      <th>author</th>\n",
       "      <th>creationDate</th>\n",
       "      <th>file_name</th>\n",
       "      <th>Content</th>\n",
       "      <th>document_id</th>\n",
       "      <th>Word_count</th>\n",
       "      <th>0</th>\n",
       "      <th>1</th>\n",
       "      <th>2</th>\n",
       "      <th>3</th>\n",
       "      <th>...</th>\n",
       "      <th>5</th>\n",
       "      <th>6</th>\n",
       "      <th>7</th>\n",
       "      <th>8</th>\n",
       "      <th>9</th>\n",
       "      <th>10</th>\n",
       "      <th>11</th>\n",
       "      <th>12</th>\n",
       "      <th>13</th>\n",
       "      <th>14</th>\n",
       "    </tr>\n",
       "  </thead>\n",
       "  <tbody>\n",
       "    <tr>\n",
       "      <th>0</th>\n",
       "      <td>B Lewis</td>\n",
       "      <td>D:20210822083603+00'00'</td>\n",
       "      <td>Examination_of_Witnesses_Sept_2003_-_Q1-19.pdf</td>\n",
       "      <td>Examination of Witnesses (1-19) \\n16 SEPTEMBER...</td>\n",
       "      <td>0</td>\n",
       "      <td>6115</td>\n",
       "      <td>0.762270</td>\n",
       "      <td>0.014045</td>\n",
       "      <td>0.011273</td>\n",
       "      <td>0.003808</td>\n",
       "      <td>...</td>\n",
       "      <td>0.032934</td>\n",
       "      <td>0.007550</td>\n",
       "      <td>0.015072</td>\n",
       "      <td>0.009716</td>\n",
       "      <td>0.006242</td>\n",
       "      <td>0.026078</td>\n",
       "      <td>0.007708</td>\n",
       "      <td>0.008904</td>\n",
       "      <td>0.069848</td>\n",
       "      <td>0.006448</td>\n",
       "    </tr>\n",
       "    <tr>\n",
       "      <th>1</th>\n",
       "      <td>B Lewis</td>\n",
       "      <td>D:20210822083606+00'00'</td>\n",
       "      <td>Examination_of_Witnesses_Sept_2003_-_Q20-39.pdf</td>\n",
       "      <td>Examination of Witnesses (20-39) \\n16 SEPTEMBE...</td>\n",
       "      <td>1</td>\n",
       "      <td>4002</td>\n",
       "      <td>0.721928</td>\n",
       "      <td>0.040403</td>\n",
       "      <td>0.025434</td>\n",
       "      <td>0.010214</td>\n",
       "      <td>...</td>\n",
       "      <td>0.012686</td>\n",
       "      <td>0.017510</td>\n",
       "      <td>0.024745</td>\n",
       "      <td>0.025301</td>\n",
       "      <td>0.012830</td>\n",
       "      <td>0.017021</td>\n",
       "      <td>0.007002</td>\n",
       "      <td>0.008145</td>\n",
       "      <td>0.063700</td>\n",
       "      <td>0.007418</td>\n",
       "    </tr>\n",
       "    <tr>\n",
       "      <th>2</th>\n",
       "      <td>B Lewis</td>\n",
       "      <td>D:20210822083609+00'00'</td>\n",
       "      <td>Examination_of_Witnesses_Sept_2003_-_Q40-44.pdf</td>\n",
       "      <td>Examination of Witnesses (40-44) \\n16 SEPTEMBE...</td>\n",
       "      <td>2</td>\n",
       "      <td>1007</td>\n",
       "      <td>0.601631</td>\n",
       "      <td>0.026055</td>\n",
       "      <td>0.041408</td>\n",
       "      <td>0.020618</td>\n",
       "      <td>...</td>\n",
       "      <td>0.036289</td>\n",
       "      <td>0.014932</td>\n",
       "      <td>0.028744</td>\n",
       "      <td>0.028767</td>\n",
       "      <td>0.022419</td>\n",
       "      <td>0.022237</td>\n",
       "      <td>0.017032</td>\n",
       "      <td>0.031813</td>\n",
       "      <td>0.063847</td>\n",
       "      <td>0.028610</td>\n",
       "    </tr>\n",
       "    <tr>\n",
       "      <th>3</th>\n",
       "      <td>Bronwen Lewis</td>\n",
       "      <td>D:20210822084116+00'00'</td>\n",
       "      <td>Further_supplementary_memorandum_submitted_by_...</td>\n",
       "      <td>Further supplementary memorandum submitted by ...</td>\n",
       "      <td>3</td>\n",
       "      <td>431</td>\n",
       "      <td>0.026270</td>\n",
       "      <td>0.029447</td>\n",
       "      <td>0.021083</td>\n",
       "      <td>0.020948</td>\n",
       "      <td>...</td>\n",
       "      <td>0.024601</td>\n",
       "      <td>0.022109</td>\n",
       "      <td>0.020284</td>\n",
       "      <td>0.034565</td>\n",
       "      <td>0.024005</td>\n",
       "      <td>0.028920</td>\n",
       "      <td>0.558704</td>\n",
       "      <td>0.042472</td>\n",
       "      <td>0.040768</td>\n",
       "      <td>0.077290</td>\n",
       "    </tr>\n",
       "    <tr>\n",
       "      <th>4</th>\n",
       "      <td>Bronwen Lewis</td>\n",
       "      <td>D:20210822083921+00'00'</td>\n",
       "      <td>Further_Supplementary_Memorandum_submitted_by_...</td>\n",
       "      <td>Further supplementary memorandum submitted by ...</td>\n",
       "      <td>4</td>\n",
       "      <td>288</td>\n",
       "      <td>0.108709</td>\n",
       "      <td>0.045323</td>\n",
       "      <td>0.080110</td>\n",
       "      <td>0.035178</td>\n",
       "      <td>...</td>\n",
       "      <td>0.034570</td>\n",
       "      <td>0.041434</td>\n",
       "      <td>0.043759</td>\n",
       "      <td>0.172957</td>\n",
       "      <td>0.044690</td>\n",
       "      <td>0.044557</td>\n",
       "      <td>0.059830</td>\n",
       "      <td>0.094619</td>\n",
       "      <td>0.064567</td>\n",
       "      <td>0.078919</td>\n",
       "    </tr>\n",
       "    <tr>\n",
       "      <th>...</th>\n",
       "      <td>...</td>\n",
       "      <td>...</td>\n",
       "      <td>...</td>\n",
       "      <td>...</td>\n",
       "      <td>...</td>\n",
       "      <td>...</td>\n",
       "      <td>...</td>\n",
       "      <td>...</td>\n",
       "      <td>...</td>\n",
       "      <td>...</td>\n",
       "      <td>...</td>\n",
       "      <td>...</td>\n",
       "      <td>...</td>\n",
       "      <td>...</td>\n",
       "      <td>...</td>\n",
       "      <td>...</td>\n",
       "      <td>...</td>\n",
       "      <td>...</td>\n",
       "      <td>...</td>\n",
       "      <td>...</td>\n",
       "      <td>...</td>\n",
       "    </tr>\n",
       "    <tr>\n",
       "      <th>164</th>\n",
       "      <td>Bronwen Lewis</td>\n",
       "      <td>D:20210822084528+00'00'</td>\n",
       "      <td>Written_evidence_submitted_by_UK_Sport_-_Jan_2...</td>\n",
       "      <td>Written evidence submitted by UK Sport  \\n \\n ...</td>\n",
       "      <td>164</td>\n",
       "      <td>3089</td>\n",
       "      <td>0.014719</td>\n",
       "      <td>0.009452</td>\n",
       "      <td>0.118485</td>\n",
       "      <td>0.010908</td>\n",
       "      <td>...</td>\n",
       "      <td>0.009336</td>\n",
       "      <td>0.008633</td>\n",
       "      <td>0.397369</td>\n",
       "      <td>0.351860</td>\n",
       "      <td>0.013551</td>\n",
       "      <td>0.028016</td>\n",
       "      <td>0.008437</td>\n",
       "      <td>0.007704</td>\n",
       "      <td>0.006472</td>\n",
       "      <td>0.005597</td>\n",
       "    </tr>\n",
       "    <tr>\n",
       "      <th>165</th>\n",
       "      <td>Bronwen Lewis</td>\n",
       "      <td>D:20210822084531+00'00'</td>\n",
       "      <td>Written_evidence_submitted_by_Vision_2020_UK_-...</td>\n",
       "      <td>Written evidence submitted by Vision 2020 UK  ...</td>\n",
       "      <td>165</td>\n",
       "      <td>2284</td>\n",
       "      <td>0.004685</td>\n",
       "      <td>0.004967</td>\n",
       "      <td>0.005504</td>\n",
       "      <td>0.004435</td>\n",
       "      <td>...</td>\n",
       "      <td>0.004582</td>\n",
       "      <td>0.932329</td>\n",
       "      <td>0.005961</td>\n",
       "      <td>0.005188</td>\n",
       "      <td>0.004420</td>\n",
       "      <td>0.005068</td>\n",
       "      <td>0.004531</td>\n",
       "      <td>0.004355</td>\n",
       "      <td>0.004663</td>\n",
       "      <td>0.004458</td>\n",
       "    </tr>\n",
       "    <tr>\n",
       "      <th>166</th>\n",
       "      <td>Bronwen Lewis</td>\n",
       "      <td>D:20210822084535+00'00'</td>\n",
       "      <td>Written_evidence_submitted_by_VisitBritain_-_J...</td>\n",
       "      <td>Written evidence submitted by VisitBritain  \\n...</td>\n",
       "      <td>166</td>\n",
       "      <td>2372</td>\n",
       "      <td>0.021996</td>\n",
       "      <td>0.585849</td>\n",
       "      <td>0.009938</td>\n",
       "      <td>0.006729</td>\n",
       "      <td>...</td>\n",
       "      <td>0.010932</td>\n",
       "      <td>0.005936</td>\n",
       "      <td>0.070428</td>\n",
       "      <td>0.008040</td>\n",
       "      <td>0.184818</td>\n",
       "      <td>0.044575</td>\n",
       "      <td>0.008384</td>\n",
       "      <td>0.010812</td>\n",
       "      <td>0.005491</td>\n",
       "      <td>0.009665</td>\n",
       "    </tr>\n",
       "    <tr>\n",
       "      <th>167</th>\n",
       "      <td>Bronwen Lewis</td>\n",
       "      <td>D:20210822084543+00'00'</td>\n",
       "      <td>Written_evidence_submitted_by_Womens_Sport_and...</td>\n",
       "      <td>Written evidence submitted by the Women's Spor...</td>\n",
       "      <td>167</td>\n",
       "      <td>1966</td>\n",
       "      <td>0.011424</td>\n",
       "      <td>0.025606</td>\n",
       "      <td>0.616108</td>\n",
       "      <td>0.005895</td>\n",
       "      <td>...</td>\n",
       "      <td>0.013362</td>\n",
       "      <td>0.010853</td>\n",
       "      <td>0.212886</td>\n",
       "      <td>0.013126</td>\n",
       "      <td>0.022316</td>\n",
       "      <td>0.010588</td>\n",
       "      <td>0.015661</td>\n",
       "      <td>0.006185</td>\n",
       "      <td>0.008599</td>\n",
       "      <td>0.014753</td>\n",
       "    </tr>\n",
       "    <tr>\n",
       "      <th>168</th>\n",
       "      <td>Bronwen Lewis</td>\n",
       "      <td>D:20210822084546+00'00'</td>\n",
       "      <td>Written_evidence_submitted_by_Youth_Sport_Trus...</td>\n",
       "      <td>Written evidence submitted by Youth Sport Trus...</td>\n",
       "      <td>168</td>\n",
       "      <td>2682</td>\n",
       "      <td>0.013717</td>\n",
       "      <td>0.013576</td>\n",
       "      <td>0.211986</td>\n",
       "      <td>0.004384</td>\n",
       "      <td>...</td>\n",
       "      <td>0.033714</td>\n",
       "      <td>0.225911</td>\n",
       "      <td>0.352692</td>\n",
       "      <td>0.065196</td>\n",
       "      <td>0.033567</td>\n",
       "      <td>0.009932</td>\n",
       "      <td>0.009677</td>\n",
       "      <td>0.004942</td>\n",
       "      <td>0.006173</td>\n",
       "      <td>0.007446</td>\n",
       "    </tr>\n",
       "  </tbody>\n",
       "</table>\n",
       "<p>169 rows × 21 columns</p>\n",
       "</div>"
      ],
      "text/plain": [
       "            author             creationDate  \\\n",
       "0          B Lewis  D:20210822083603+00'00'   \n",
       "1          B Lewis  D:20210822083606+00'00'   \n",
       "2          B Lewis  D:20210822083609+00'00'   \n",
       "3    Bronwen Lewis  D:20210822084116+00'00'   \n",
       "4    Bronwen Lewis  D:20210822083921+00'00'   \n",
       "..             ...                      ...   \n",
       "164  Bronwen Lewis  D:20210822084528+00'00'   \n",
       "165  Bronwen Lewis  D:20210822084531+00'00'   \n",
       "166  Bronwen Lewis  D:20210822084535+00'00'   \n",
       "167  Bronwen Lewis  D:20210822084543+00'00'   \n",
       "168  Bronwen Lewis  D:20210822084546+00'00'   \n",
       "\n",
       "                                             file_name  \\\n",
       "0       Examination_of_Witnesses_Sept_2003_-_Q1-19.pdf   \n",
       "1      Examination_of_Witnesses_Sept_2003_-_Q20-39.pdf   \n",
       "2      Examination_of_Witnesses_Sept_2003_-_Q40-44.pdf   \n",
       "3    Further_supplementary_memorandum_submitted_by_...   \n",
       "4    Further_Supplementary_Memorandum_submitted_by_...   \n",
       "..                                                 ...   \n",
       "164  Written_evidence_submitted_by_UK_Sport_-_Jan_2...   \n",
       "165  Written_evidence_submitted_by_Vision_2020_UK_-...   \n",
       "166  Written_evidence_submitted_by_VisitBritain_-_J...   \n",
       "167  Written_evidence_submitted_by_Womens_Sport_and...   \n",
       "168  Written_evidence_submitted_by_Youth_Sport_Trus...   \n",
       "\n",
       "                                               Content  document_id  \\\n",
       "0    Examination of Witnesses (1-19) \\n16 SEPTEMBER...            0   \n",
       "1    Examination of Witnesses (20-39) \\n16 SEPTEMBE...            1   \n",
       "2    Examination of Witnesses (40-44) \\n16 SEPTEMBE...            2   \n",
       "3    Further supplementary memorandum submitted by ...            3   \n",
       "4    Further supplementary memorandum submitted by ...            4   \n",
       "..                                                 ...          ...   \n",
       "164  Written evidence submitted by UK Sport  \\n \\n ...          164   \n",
       "165  Written evidence submitted by Vision 2020 UK  ...          165   \n",
       "166  Written evidence submitted by VisitBritain  \\n...          166   \n",
       "167  Written evidence submitted by the Women's Spor...          167   \n",
       "168  Written evidence submitted by Youth Sport Trus...          168   \n",
       "\n",
       "     Word_count         0         1         2         3  ...         5  \\\n",
       "0          6115  0.762270  0.014045  0.011273  0.003808  ...  0.032934   \n",
       "1          4002  0.721928  0.040403  0.025434  0.010214  ...  0.012686   \n",
       "2          1007  0.601631  0.026055  0.041408  0.020618  ...  0.036289   \n",
       "3           431  0.026270  0.029447  0.021083  0.020948  ...  0.024601   \n",
       "4           288  0.108709  0.045323  0.080110  0.035178  ...  0.034570   \n",
       "..          ...       ...       ...       ...       ...  ...       ...   \n",
       "164        3089  0.014719  0.009452  0.118485  0.010908  ...  0.009336   \n",
       "165        2284  0.004685  0.004967  0.005504  0.004435  ...  0.004582   \n",
       "166        2372  0.021996  0.585849  0.009938  0.006729  ...  0.010932   \n",
       "167        1966  0.011424  0.025606  0.616108  0.005895  ...  0.013362   \n",
       "168        2682  0.013717  0.013576  0.211986  0.004384  ...  0.033714   \n",
       "\n",
       "            6         7         8         9        10        11        12  \\\n",
       "0    0.007550  0.015072  0.009716  0.006242  0.026078  0.007708  0.008904   \n",
       "1    0.017510  0.024745  0.025301  0.012830  0.017021  0.007002  0.008145   \n",
       "2    0.014932  0.028744  0.028767  0.022419  0.022237  0.017032  0.031813   \n",
       "3    0.022109  0.020284  0.034565  0.024005  0.028920  0.558704  0.042472   \n",
       "4    0.041434  0.043759  0.172957  0.044690  0.044557  0.059830  0.094619   \n",
       "..        ...       ...       ...       ...       ...       ...       ...   \n",
       "164  0.008633  0.397369  0.351860  0.013551  0.028016  0.008437  0.007704   \n",
       "165  0.932329  0.005961  0.005188  0.004420  0.005068  0.004531  0.004355   \n",
       "166  0.005936  0.070428  0.008040  0.184818  0.044575  0.008384  0.010812   \n",
       "167  0.010853  0.212886  0.013126  0.022316  0.010588  0.015661  0.006185   \n",
       "168  0.225911  0.352692  0.065196  0.033567  0.009932  0.009677  0.004942   \n",
       "\n",
       "           13        14  \n",
       "0    0.069848  0.006448  \n",
       "1    0.063700  0.007418  \n",
       "2    0.063847  0.028610  \n",
       "3    0.040768  0.077290  \n",
       "4    0.064567  0.078919  \n",
       "..        ...       ...  \n",
       "164  0.006472  0.005597  \n",
       "165  0.004663  0.004458  \n",
       "166  0.005491  0.009665  \n",
       "167  0.008599  0.014753  \n",
       "168  0.006173  0.007446  \n",
       "\n",
       "[169 rows x 21 columns]"
      ]
     },
     "execution_count": 125,
     "metadata": {},
     "output_type": "execute_result"
    }
   ],
   "source": [
    "# topic distribution over documents\n",
    "list_topic = []\n",
    "dictionary_topic = {}\n",
    "for d in texts:\n",
    "    bow = id2word.doc2bow(d)\n",
    "    belong = lda_model[bow]                        # generate a list of tuples of topic distribution of a document\n",
    "    belong_dic = Convert(belong, dictionary_topic) # convert the list of tuples into a dictionary\n",
    "    list_topic.append(belong_dic)           \n",
    "                      \n",
    "df_topic_distribution = pd.DataFrame(list_topic)   # convert the list of dictionaries into a dataframe\n",
    "df_topic = pd.merge(df, df_topic_distribution, how = 'left', left_index=True, right_index=True) # merge with info of documents\n",
    "df_topic.drop(['title','format','creator', 'producer', 'keywords', 'trapped', 'encryption','subject', 'modDate'], axis = 1)"
   ]
  },
  {
   "cell_type": "markdown",
   "metadata": {},
   "source": [
    "# Topic interpretation\n",
    "To interpret the topics, I combined the word frequncy demonstrated by pyLDAvis with prototypical documents or paragraphs suggested by PTBI proposed by Marchetti and Puranam (2020)"
   ]
  },
  {
   "cell_type": "markdown",
   "metadata": {},
   "source": [
    "### Selection of most salient topics for interpretation\n",
    "according to the PTBI proposed by Marchetti and Puranam (2020), not all topics are worth interpretation. To extract most salient topics for interpretation, for each topic, we need to compute the percentage of documents loading on the topic with the probability that the document belong to the topic > 1/k. Then graph the metric and select the sub-set of topics scoring the highest on it (e.g., based on scree plot)."
   ]
  },
  {
   "cell_type": "code",
   "execution_count": 126,
   "metadata": {},
   "outputs": [],
   "source": [
    "# percentage of documents above threshold(1/k)\n",
    "list_percent_above = []\n",
    "for i in df_topic_distribution:\n",
    "    num_above = df_topic_distribution[i][df_topic_distribution[i] > 1/k].count()\n",
    "    percent_above =  num_above/len(df_topic_distribution)\n",
    "    list_percent_above.append(percent_above)"
   ]
  },
  {
   "cell_type": "code",
   "execution_count": 127,
   "metadata": {
    "scrolled": true
   },
   "outputs": [
    {
     "data": {
      "text/html": [
       "<div>\n",
       "<style scoped>\n",
       "    .dataframe tbody tr th:only-of-type {\n",
       "        vertical-align: middle;\n",
       "    }\n",
       "\n",
       "    .dataframe tbody tr th {\n",
       "        vertical-align: top;\n",
       "    }\n",
       "\n",
       "    .dataframe thead th {\n",
       "        text-align: right;\n",
       "    }\n",
       "</style>\n",
       "<table border=\"1\" class=\"dataframe\">\n",
       "  <thead>\n",
       "    <tr style=\"text-align: right;\">\n",
       "      <th></th>\n",
       "      <th>topic_id</th>\n",
       "      <th>percentage_of_documents_above_threshold</th>\n",
       "    </tr>\n",
       "  </thead>\n",
       "  <tbody>\n",
       "    <tr>\n",
       "      <th>0</th>\n",
       "      <td>0</td>\n",
       "      <td>0.449704</td>\n",
       "    </tr>\n",
       "    <tr>\n",
       "      <th>9</th>\n",
       "      <td>9</td>\n",
       "      <td>0.278107</td>\n",
       "    </tr>\n",
       "    <tr>\n",
       "      <th>11</th>\n",
       "      <td>11</td>\n",
       "      <td>0.272189</td>\n",
       "    </tr>\n",
       "    <tr>\n",
       "      <th>1</th>\n",
       "      <td>1</td>\n",
       "      <td>0.260355</td>\n",
       "    </tr>\n",
       "    <tr>\n",
       "      <th>7</th>\n",
       "      <td>7</td>\n",
       "      <td>0.236686</td>\n",
       "    </tr>\n",
       "    <tr>\n",
       "      <th>8</th>\n",
       "      <td>8</td>\n",
       "      <td>0.236686</td>\n",
       "    </tr>\n",
       "    <tr>\n",
       "      <th>10</th>\n",
       "      <td>10</td>\n",
       "      <td>0.201183</td>\n",
       "    </tr>\n",
       "    <tr>\n",
       "      <th>2</th>\n",
       "      <td>2</td>\n",
       "      <td>0.189349</td>\n",
       "    </tr>\n",
       "    <tr>\n",
       "      <th>5</th>\n",
       "      <td>5</td>\n",
       "      <td>0.183432</td>\n",
       "    </tr>\n",
       "    <tr>\n",
       "      <th>13</th>\n",
       "      <td>13</td>\n",
       "      <td>0.177515</td>\n",
       "    </tr>\n",
       "    <tr>\n",
       "      <th>14</th>\n",
       "      <td>14</td>\n",
       "      <td>0.130178</td>\n",
       "    </tr>\n",
       "    <tr>\n",
       "      <th>6</th>\n",
       "      <td>6</td>\n",
       "      <td>0.065089</td>\n",
       "    </tr>\n",
       "    <tr>\n",
       "      <th>4</th>\n",
       "      <td>4</td>\n",
       "      <td>0.059172</td>\n",
       "    </tr>\n",
       "    <tr>\n",
       "      <th>12</th>\n",
       "      <td>12</td>\n",
       "      <td>0.059172</td>\n",
       "    </tr>\n",
       "    <tr>\n",
       "      <th>3</th>\n",
       "      <td>3</td>\n",
       "      <td>0.011834</td>\n",
       "    </tr>\n",
       "  </tbody>\n",
       "</table>\n",
       "</div>"
      ],
      "text/plain": [
       "    topic_id  percentage_of_documents_above_threshold\n",
       "0          0                                 0.449704\n",
       "9          9                                 0.278107\n",
       "11        11                                 0.272189\n",
       "1          1                                 0.260355\n",
       "7          7                                 0.236686\n",
       "8          8                                 0.236686\n",
       "10        10                                 0.201183\n",
       "2          2                                 0.189349\n",
       "5          5                                 0.183432\n",
       "13        13                                 0.177515\n",
       "14        14                                 0.130178\n",
       "6          6                                 0.065089\n",
       "4          4                                 0.059172\n",
       "12        12                                 0.059172\n",
       "3          3                                 0.011834"
      ]
     },
     "execution_count": 127,
     "metadata": {},
     "output_type": "execute_result"
    }
   ],
   "source": [
    "list_topic_id = [x for x in range(0,k)]\n",
    "df_salient_topic = pd.DataFrame({'topic_id': list_topic_id, 'percentage_of_documents_above_threshold': list_percent_above})\n",
    "df_salient_topic.sort_values(by = 'percentage_of_documents_above_threshold', ascending = False)"
   ]
  },
  {
   "cell_type": "markdown",
   "metadata": {},
   "source": [
    "### Word frequency of each topic\n",
    "check the words of each topic, if there're common words with high overall frequency such as \"think\" \"want\" or \"make\", return to the \"import the stop_words from gensim\" section, add these words to the list of stop words to remove them."
   ]
  },
  {
   "cell_type": "code",
   "execution_count": 128,
   "metadata": {},
   "outputs": [
    {
     "data": {
      "text/html": [
       "\n",
       "<link rel=\"stylesheet\" type=\"text/css\" href=\"https://cdn.jsdelivr.net/gh/bmabey/pyLDAvis@3.3.1/pyLDAvis/js/ldavis.v1.0.0.css\">\n",
       "\n",
       "\n",
       "<div id=\"ldavis_el9194828889146378727899750445\"></div>\n",
       "<script type=\"text/javascript\">\n",
       "\n",
       "var ldavis_el9194828889146378727899750445_data = {\"mdsDat\": {\"x\": [0.032627610985464274, 0.04807421883103214, 0.1456559435969233, 0.003857136509763256, -0.15757762854547455, 0.047655725650075025, 0.16430947647396715, 0.11274205953147705, 0.08488558188957082, 0.0659592310329858, -0.11627893737599343, -0.0367797511176102, -0.21938088604343023, -0.17962768425678743, 0.0038779028380368816], \"y\": [0.10226878152161134, 0.059503715274964425, -0.030026024592195406, -0.022652246867613687, -0.12111377993788928, 0.0627325147989548, -0.2248539969633981, -0.058171488158353546, 0.04139883057488731, 0.0035945191606291645, 0.04126080031381056, 0.12336229830716973, -0.0927485029931904, -0.024423783560453882, 0.1398683631210672], \"topics\": [1, 2, 3, 4, 5, 6, 7, 8, 9, 10, 11, 12, 13, 14, 15], \"cluster\": [1, 1, 1, 1, 1, 1, 1, 1, 1, 1, 1, 1, 1, 1, 1], \"Freq\": [16.967872826020884, 14.89668121405672, 2.7124302227937376, 0.2972080383461227, 0.9521258682359571, 3.61481106110359, 1.0827298175178162, 4.053002075050256, 19.002562839472414, 4.517501755515445, 2.6205485839950686, 15.949463503193876, 0.6755527200473199, 1.5467991077595806, 11.11071036689122]}, \"tinfo\": {\"Term\": [\"people\", \"project\", \"bid\", \"cost\", \"stadium\", \"government\", \"support\", \"legacy\", \"transport\", \"work\", \"committee\", \"year\", \"event\", \"country\", \"athlete\", \"school\", \"benefit\", \"provide\", \"time\", \"opportunity\", \"report\", \"use\", \"facility\", \"level\", \"funding\", \"young\", \"plan\", \"evidence\", \"major\", \"programme\", \"visa\", \"flat\", \"concordat\", \"bryant\", \"chunk\", \"west\", \"equation\", \"plane\", \"seb\", \"activate\", \"territory\", \"witnesses_questions_tuesday_january\", \"secret\", \"tooth\", \"democratic\", \"badge\", \"pure\", \"admit\", \"miss_kirkbride\", \"float\", \"refresh\", \"tech\", \"cup\", \"breakfast\", \"charismatic\", \"irrelevant\", \"beg\", \"torch\", \"rival\", \"camera\", \"gentleman\", \"cheap\", \"border\", \"nice\", \"extraordinary\", \"fifa\", \"hotspot\", \"shall\", \"hotel\", \"lucky\", \"pricing\", \"upfront\", \"moment\", \"ticket\", \"morning\", \"sander\", \"come\", \"interesting\", \"kind\", \"stadia\", \"look\", \"sure\", \"happen\", \"argument\", \"like\", \"sort\", \"make_sure\", \"try\", \"wonderful\", \"examination\", \"confident\", \"people\", \"talk\", \"know\", \"remember\", \"ask\", \"country\", \"question\", \"point\", \"different\", \"way\", \"good\", \"important\", \"big\", \"day\", \"chairman\", \"process\", \"course\", \"able\", \"year\", \"time\", \"end\", \"work\", \"term\", \"right\", \"issue\", \"place\", \"use\", \"committee\", \"government\", \"bid\", \"money\", \"legacy\", \"cost\", \"devolved_administration\", \"union\", \"diverse_communitie\", \"visitbritain\", \"license\", \"ccpr\", \"museum\", \"liaise\", \"inbound\", \"psa\", \"library\", \"tourism\", \"nldf\", \"enduring\", \"old\", \"heritage\", \"destination\", \"rda\", \"bombing\", \"lottery_distributor\", \"south_w\", \"contrary\", \"online\", \"dance\", \"exhibition\", \"equitable\", \"gallery\", \"creativity\", \"liaison\", \"convey\", \"bene\\ufb01ts\", \"forum\", \"distributor\", \"symbol\", \"visitor\", \"camelot\", \"cultural\", \"tourist\", \"region\", \"grant\", \"sector\", \"recreation\", \"art\", \"visit\", \"lottery\", \"regional\", \"objective\", \"ensure\", \"strategy\", \"industry\", \"promote\", \"generate\", \"nation\", \"opportunity\", \"community\", \"business\", \"evidence\", \"work\", \"legacy\", \"develop\", \"year\", \"event\", \"local\", \"national\", \"support\", \"committee\", \"increase\", \"deliver\", \"funding\", \"plan\", \"government\", \"cost\", \"people\", \"programme\", \"provide\", \"delivery\", \"country\", \"development\", \"pioneer\", \"significance\", \"dame_tanni_grey_thompson\", \"similarity\", \"testimony\", \"physically_active\", \"able_bodied\", \"league\", \"ethos\", \"cool\", \"literacy\", \"nurture\", \"girl\", \"technological\", \"paralympian\", \"olympian\", \"pinnacle\", \"role_model\", \"sea\", \"deliverer\", \"conceive\", \"unlimited\", \"remote\", \"rehabilitation\", \"pack\", \"sky\", \"scholarship\", \"taste\", \"compelling\", \"belong\", \"typical\", \"woman\", \"explicit\", \"qualified\", \"youngster\", \"field\", \"barrier\", \"age\", \"generation\", \"athlete\", \"grow\", \"young\", \"coach\", \"compete\", \"elite\", \"physical_activity\", \"coverage\", \"college\", \"athletic\", \"people\", \"paralympic\", \"facility\", \"participation\", \"country\", \"school\", \"club\", \"successful\", \"disabled\", \"talent\", \"level\", \"event\", \"community\", \"success\", \"legacy\", \"year\", \"work\", \"use\", \"governing_bodie\", \"programme\", \"good\", \"number\", \"right\", \"support\", \"develop\", \"increase\", \"performance\", \"linkage\", \"racing\", \"merit\", \"forward\", \"world\", \"country\", \"successful\", \"success\", \"prove\", \"support\", \"benefit\", \"event\", \"term\", \"win\", \"stage\", \"boxing\", \"body\", \"major\", \"home\", \"level\", \"strong\", \"bring\", \"good\", \"require\", \"sporting\", \"year\", \"lead\", \"huge\", \"hope\", \"opportunity\", \"area\", \"legacy\", \"time\", \"people\", \"government\", \"committee\", \"deliver\", \"work\", \"place\", \"use\", \"athlete\", \"funding\", \"provide\", \"project\", \"bid\", \"magnitude\", \"coincide\", \"traffic\", \"enhancement\", \"station\", \"rail\", \"reliable\", \"stratford_station\", \"bus\", \"crowd\", \"hall\", \"trip\", \"congestion\", \"demand\", \"peak\", \"flow\", \"journey\", \"ride\", \"transport\", \"travel\", \"disruption\", \"afternoon\", \"utilise\", \"cope\", \"upgrade\", \"normal\", \"location\", \"scenario\", \"accessibility\", \"network\", \"zone\", \"capacity\", \"crossrail\", \"measure\", \"strategy\", \"service\", \"additional\", \"priority\", \"information\", \"propose\", \"significant\", \"investment\", \"management\", \"public\", \"provide\", \"train\", \"route\", \"base\", \"infrastructure\", \"plan\", \"support\", \"work\", \"accreditation\", \"holding\", \"western\", \"revitalise\", \"newspaper\", \"diving_pool\", \"transitional\", \"emission\", \"advisor\", \"verify\", \"inadequate\", \"ambush_markete\", \"creative_programmer\", \"waterway\", \"licensing\", \"hero\", \"opt\", \"inspiring\", \"blend\", \"peace\", \"weekly\", \"studio\", \"accompany\", \"neighbourhood\", \"ndpb\", \"banking\", \"visionary\", \"spring\", \"nine_english\", \"merchandise\", \"company\", \"square\", \"launch\", \"carbon\", \"technology\", \"finalise\", \"transformation\", \"sustainability\", \"masterplan\", \"momentum\", \"appointment\", \"partner\", \"education\", \"stakeholder\", \"head\", \"venue\", \"organise\", \"director\", \"planning\", \"detailed\", \"park\", \"oda\", \"work\", \"phase\", \"local\", \"plan\", \"regional\", \"member\", \"deliver\", \"develop\", \"team\", \"year\", \"mayor\", \"business\", \"include\", \"programme\", \"legacy\", \"development\", \"land\", \"volunteer\", \"site\", \"community\", \"organisation\", \"ensure\", \"opportunity\", \"delivery\", \"support\", \"new\", \"use\", \"curriculum\", \"redress\", \"dcsf\", \"qualitative\", \"disability\", \"blind\", \"delegation\", \"concrete\", \"portal\", \"educate\", \"bath\", \"child\", \"disabled\", \"governmental\", \"parent\", \"recreational\", \"specialist\", \"medallist\", \"student\", \"interpretation\", \"inclusion\", \"encouragement\", \"cricket\", \"mainstream\", \"language\", \"endorse\", \"mental\", \"poor\", \"knowledgeable\", \"school\", \"young\", \"provision\", \"pathway\", \"paralympic\", \"people\", \"participate\", \"society\", \"sporting\", \"hour\", \"access\", \"activity\", \"opportunity\", \"club\", \"offer\", \"level\", \"solution\", \"physical\", \"support\", \"provide\", \"education\", \"regard\", \"international\", \"group\", \"event\", \"major\", \"legacy\", \"include\", \"athlete\", \"ngbs\", \"pupil\", \"current_economic_climate\", \"teaching\", \"unlock\", \"engender\", \"leaving_laste\", \"prestige\", \"beacon\", \"mini\", \"gym\", \"satisfaction\", \"improves_cultural_life\", \"coordinated\", \"snapshot\", \"fitness\", \"friendly\", \"ancillary\", \"planet\", \"customer\", \"unequivocal\", \"progressive\", \"mentor\", \"pair\", \"suitability\", \"swim\", \"everyday\", \"incremental\", \"depth\", \"catalytic\", \"swimming\", \"amateur_swimming_association\", \"soft\", \"encompass\", \"swimmer\", \"aquatic\", \"healthy\", \"active\", \"participation\", \"survey\", \"lasting\", \"club\", \"council\", \"participant\", \"facility\", \"training\", \"legacy\", \"aim\", \"sporting\", \"event\", \"activity\", \"significant\", \"increase\", \"local\", \"national\", \"initiative\", \"health\", \"provide\", \"life\", \"development\", \"opportunity\", \"ensure\", \"improve\", \"programme\", \"success\", \"achieve\", \"major\", \"community\", \"use\", \"people\", \"develop\", \"support\", \"performance\", \"government\", \"benefit\", \"deliver\", \"work\", \"sporting_giant\", \"sir_clive_woodward\", \"bronze\", \"physiotherapy\", \"politic\", \"sporting_giants_campaign\", \"volleyball\", \"relocatable\", \"possess\", \"independence\", \"medal_target\", \"fundraising\", \"silver_medal\", \"ngb\", \"mission\", \"podium\", \"alliance\", \"lodge\", \"cycling\", \"rower\", \"shooting\", \"medal_table\", \"medicine\", \"silver\", \"vulnerable\", \"squad\", \"shoot\", \"query\", \"functionality\", \"boxing\", \"eastway\", \"medal\", \"performance\", \"ipc\", \"cycle\", \"governing_bodie\", \"athlete\", \"tier\", \"british\", \"coach\", \"discipline\", \"elite\", \"world_class\", \"gold_medal\", \"gold\", \"talent\", \"science\", \"handball\", \"paralympic\", \"funding\", \"success\", \"swimming\", \"target\", \"win\", \"support\", \"level\", \"team\", \"evidence\", \"national\", \"year\", \"facility\", \"programme\", \"venue\", \"lottery\", \"provide\", \"community\", \"legacy\", \"work\", \"participation\", \"people\", \"use\", \"investment\", \"place\", \"deliver\", \"time\", \"opportunity\", \"fringe\", \"music\", \"neighbour\", \"blight\", \"convergence\", \"thames_gateway_development_corporation\", \"attainment\", \"characteristic\", \"anchor\", \"creative_industrie\", \"imbalance\", \"metropolitan\", \"five_host_boroughs\", \"neighbouring\", \"derelict\", \"open_space\", \"measurable\", \"carnival\", \"hackney\", \"artist\", \"green\", \"childhood\", \"thame\", \"entertainment\", \"workless\", \"deprivation\", \"resident\", \"brownfield\", \"parkland\", \"conservation\", \"worklessness\", \"host_borough\", \"transform\", \"borough\", \"londoner\", \"oplc\", \"employment\", \"social\", \"creation\", \"job\", \"regeneration\", \"creative\", \"economic\", \"create\", \"area\", \"legacy\", \"benefit\", \"community\", \"local\", \"skill\", \"park\", \"mayor\", \"opportunity\", \"new\", \"work\", \"development\", \"secure\", \"ensure\", \"welcome\", \"host\", \"use\", \"support\", \"business\", \"people\", \"include\", \"commitment\", \"plan\", \"venue\", \"greek\", \"wholehearte\", \"sydney\", \"tune\", \"south_wale\", \"arup\", \"athen\", \"publicly_funde\", \"indirect\", \"poll\", \"southern\", \"victory\", \"data\", \"situate\", \"whitehall\", \"airport\", \"backing\", \"appraisal\", \"discount\", \"methodology\", \"bidding\", \"probability\", \"appendix\", \"custom\", \"renewal\", \"supplementary\", \"redevelopment\", \"deliverability\", \"favour\", \"designation\", \"immigration\", \"subsidy\", \"bid\", \"city\", \"deficit\", \"benefit\", \"factor\", \"cost\", \"revenue\", \"interview\", \"regeneration\", \"assessment\", \"effect\", \"infrastructure\", \"public\", \"economic\", \"host\", \"government\", \"figure\", \"stage\", \"estimate\", \"new\", \"facility\", \"use\", \"undertake\", \"likely\", \"impact\", \"price\", \"support\", \"require\", \"experience\", \"include\", \"increase\", \"area\", \"report\", \"project\", \"source_national_audit\", \"self_finance\", \"completion_date\", \"joint_venture_agreement\", \"ultimate_guarantor\", \"governance_arrangement\", \"command\", \"certify\", \"financially_expose\", \"attributable\", \"stationery_office_limite\", \"controller\", \"notional\", \"applicable\", \"corporation_tax\", \"reconcile\", \"risk_assessment\", \"reimburse\", \"beneficiary\", \"documentation\", \"candidate_file\", \"auditor_general\", \"anticipated_final_cost\", \"national_audit_office\", \"commerce\", \"expected\", \"cost_overrun\", \"readiness\", \"ministerial_funders_group\", \"highway\", \"inflation\", \"forecast\", \"comptroller\", \"authority\", \"supplier\", \"paragraph\", \"delay\", \"delivery\", \"preparation\", \"construction\", \"clm\", \"gross\", \"executive\", \"uncertainty\", \"report\", \"contingency\", \"department\", \"contractor\", \"note\", \"cost\", \"risk\", \"procurement\", \"financial\", \"budget\", \"estimate\", \"main\", \"national_lottery_distribution\", \"arrangement\", \"recommend\", \"progress\", \"figure\", \"programme\", \"project\", \"funding\", \"include\", \"package\", \"management\", \"government\", \"fund\", \"plan\", \"venue\", \"security\", \"work\", \"provide\", \"infrastructure\", \"deliver\", \"legacy\", \"use\", \"time\", \"extension\", \"appendix_memorandum_submitte\", \"crossrail\", \"appendix\", \"line\", \"viability\", \"clarify\", \"facilitate\", \"connection\", \"consideration\", \"scheme\", \"select\", \"propose\", \"rail\", \"ready\", \"recent\", \"submit\", \"considerable\", \"phase\", \"boost\", \"attach\", \"inquiry\", \"helpful\", \"complete\", \"major\", \"benefit\", \"mean\", \"project\", \"stakeholder\", \"write\", \"group\", \"infrastructure\", \"hope\", \"transport\", \"bid\", \"evidence\", \"case\", \"committee\", \"site\", \"government\", \"possible\", \"successful\", \"construction\", \"support\", \"place\", \"provide\", \"centrepiece\", \"witnesses_questions_wednesday_january\", \"wembley\", \"picketts_lock\", \"mount\", \"feasibility\", \"boa\", \"deprive\", \"federation\", \"option\", \"manchester\", \"supplementary_memorandum_submitte\", \"stadium\", \"letter\", \"charter\", \"athletic\", \"location\", \"capability\", \"suitable\", \"obligation\", \"locate\", \"wish\", \"remove\", \"context\", \"piece\", \"bid\", \"east\", \"village\", \"copy\", \"dome\", \"confirm\", \"minute\", \"decision\", \"write\", \"proposal\", \"ioc\", \"issue\", \"football\", \"state\", \"committee\", \"requirement\", \"stage\", \"report\", \"event\", \"facility\", \"main\", \"use\", \"time\", \"project\", \"chairman\", \"term\", \"provide\", \"follow\", \"government\", \"new\", \"point\", \"jonathan_stephen\", \"dame_helen_ghosh\", \"finely_balance\", \"security_guard\", \"military\", \"frank\", \"orn\", \"maker\", \"wage\", \"david_higgin\", \"wouldn\", \"hearing\", \"apology\", \"soldier\", \"guard\", \"haven\", \"nao\", \"left\", \"description\", \"renegotiate\", \"open_book\", \"deploy\", \"defence\", \"screening\", \"crisis\", \"finely_balanced\", \"pfi\", \"react\", \"recoup\", \"development_corporation\", \"materialise\", \"conservative\", \"couldn\", \"chair\", \"dif\\ufb01cult\", \"rent\", \"security\", \"\\ufb01gure\", \"labour\", \"contract\", \"risk\", \"pay\", \"\\ufb01nal\", \"know\", \"report\", \"cost\", \"money\", \"number\", \"volunteer\", \"time\", \"budget\", \"estimate\", \"spend\", \"department\", \"answer\", \"question\", \"government\", \"people\", \"management\", \"come\", \"programme\", \"committee\", \"venue\", \"clear\", \"funding\", \"project\", \"work\", \"contingency\", \"legacy\", \"use\", \"deliver\"], \"Freq\": [2758.0, 1690.0, 1561.0, 3045.0, 989.0, 2237.0, 1504.0, 2704.0, 753.0, 3102.0, 1378.0, 1875.0, 1306.0, 1018.0, 1382.0, 689.0, 909.0, 1553.0, 1870.0, 1392.0, 1598.0, 1875.0, 1355.0, 1034.0, 2125.0, 608.0, 1541.0, 763.0, 713.0, 2491.0, 21.168826660222948, 11.560995676834873, 9.633873329394495, 9.646488445069892, 9.642585470279379, 9.625947572799914, 8.663484764049615, 8.656335742858337, 8.685067716115329, 7.705448382209447, 8.648520948464228, 7.709640823609887, 7.687299629840948, 6.756407175272757, 6.740533550050891, 6.734767535995931, 6.698053923007163, 5.795847609482726, 5.7926839806584, 5.785177146574296, 5.745837830211316, 5.72562421602534, 5.616701549042478, 4.829140496564373, 4.767989067069487, 4.7670161376305655, 4.805514794713883, 18.794361005653734, 5.694757828557094, 5.6707871789964415, 13.026235452588923, 25.364034074936576, 29.296024676800194, 17.595280953283954, 31.20005562950757, 12.542851944376357, 14.17428093348076, 52.35420472445939, 48.98317307412091, 13.315728596955047, 18.670934051328743, 11.599013095679187, 231.24869938290686, 265.2681533605109, 89.34845559155136, 102.225326273418, 735.5663041735569, 71.8951564022887, 135.41886125439603, 35.569975441086065, 558.1645952550937, 178.30264479519963, 262.82536393711194, 53.88330887510247, 188.45736504472256, 134.28035691459695, 181.64671745526692, 225.4940517168298, 43.60290865614063, 64.90341206907148, 86.73521536304479, 981.860139961466, 208.62684522157312, 367.5856200721643, 67.49166168025435, 258.13834631954126, 408.04484415340306, 322.62587206124374, 309.8549139956537, 175.97785482718953, 388.43737948120383, 416.4711013817306, 306.204804370389, 198.7678440607515, 205.2151917569749, 280.83687696954894, 283.0461890579722, 210.53130394160405, 207.69755448224652, 477.5934555637978, 471.12684868912726, 245.10136200683704, 575.636233762243, 275.57967445633557, 233.6416233583024, 261.58984325484806, 278.0610594277248, 318.55802995489796, 261.64912601656107, 282.62279589651916, 257.2874431381828, 237.17803049918777, 234.27019045287165, 232.1608151033778, 15.10014455702528, 13.857014786093949, 11.799528688892881, 59.865702251712996, 10.511702618494494, 12.299878616404985, 46.72491396858004, 10.988325020299246, 16.462259271221683, 7.202761785746279, 29.055514356261973, 378.8315689656353, 24.194977447295916, 5.0283580444302665, 204.45987724297825, 66.3528354523334, 56.81251777276026, 10.53485975741226, 4.810545471740733, 21.233512293587285, 20.532386922065406, 6.2945944806958805, 10.699827194117933, 15.102208679516304, 12.054572765125622, 6.70419290510314, 9.658548695745047, 13.86471359590486, 8.038348077746196, 8.036583267134857, 141.40293996705103, 45.54167763425214, 60.16610407842992, 18.66228629780375, 150.9166753632719, 72.41539757531993, 212.92857368237563, 50.595962511373614, 200.53462218929525, 160.11484568000324, 187.06733829567034, 65.56483763143041, 72.29661593823728, 138.67913409320494, 426.3284110956157, 149.31510832163184, 150.07965251543436, 320.4085104422384, 212.69194787560707, 121.71696044973004, 108.75837121411189, 93.99719594897952, 184.29696401126068, 345.74192909500096, 329.26802913298684, 241.874472121946, 220.18827602361043, 533.5247583205695, 449.80977819520086, 236.1370135268412, 341.9345690375494, 265.5790468202596, 250.71720675785636, 207.09562895025786, 273.07223501722325, 260.23823858706874, 234.739215753932, 264.1397068174079, 311.25670522988827, 263.29616687694477, 302.6903314646229, 320.48246871349, 292.02567976968595, 273.8467638035405, 231.2543896601121, 217.38258293739815, 209.73185503862982, 206.63258782499375, 4.890329940479941, 4.86353517983455, 11.301996620684042, 3.42649460799822, 3.317453582769099, 9.163160315752032, 3.0606968956322227, 6.541579751979897, 3.5800257843962378, 2.90911484976489, 4.067684515454132, 7.940126409738894, 12.966912968358134, 3.440082993858281, 9.926783487291729, 18.48375649579849, 5.983633296832395, 10.807632129946256, 4.164654402039244, 2.6131313322828125, 3.009420263735343, 3.9411918052861923, 2.9273719456708203, 3.86524563855468, 3.8401830384890507, 3.251439703980553, 4.172064542839431, 2.247054181129311, 5.720552089870153, 2.201540363675372, 4.783103596392485, 78.56275852885342, 9.523299585476126, 6.963719984694065, 16.934177672178116, 22.181121891899856, 16.79307213864487, 30.540480520034386, 23.756089284659048, 186.5058561652748, 30.017151054995175, 97.6572823516195, 78.2400059580661, 39.57083157506856, 69.25058921491035, 24.800241234925384, 15.9874884182077, 13.081159472895598, 55.442934139423045, 171.00065287281203, 56.18779712240995, 98.05945209420629, 75.51973337299175, 74.20463634040922, 59.99580691054601, 43.97730412887959, 41.670722287956686, 23.612035633356623, 27.216122459845984, 62.3859232108679, 67.74332056001357, 67.21657921678876, 48.30229058415532, 89.03225995713059, 75.64357282858211, 80.27373214715236, 65.31750601885639, 35.90842816158039, 67.5241829661685, 51.1613540138552, 49.61344719563862, 41.09819308703186, 48.554181385947324, 43.869345639744466, 44.875514480782385, 40.72451941686203, 6.490944722832272, 8.791608504741856, 11.5257881206147, 0.1670889270683105, 14.629043288281727, 21.829020405288784, 8.508090372505869, 12.746134668166006, 1.2793261421546882, 29.334184888672652, 15.43133947128621, 21.796078482205978, 12.823180333232026, 6.714927445510544, 9.338397015199462, 0.1480401243876193, 6.261225151539636, 7.925256479183975, 3.5594980080782785, 11.200998390058997, 3.1799393783698813, 5.75640455734575, 10.641642805458655, 6.427794318951689, 5.017198836288808, 18.174797918117694, 5.998087727229655, 2.2574587182307946, 2.9256614168328468, 12.226490388861347, 9.480299851818513, 19.08837066617705, 13.728057444779047, 18.87614377343491, 15.192810238601087, 10.480553141970983, 10.276784822156362, 15.806107253263388, 8.539177250502908, 10.639329858087384, 9.116692987359292, 10.83301170826657, 9.297517518246268, 9.46441569025322, 8.990342603563278, 6.02583862471414, 7.564173484992268, 52.59795908834818, 20.509560594709846, 41.10843297884727, 24.638667921077566, 6.58058874565276, 5.224054950093905, 18.813309415493965, 10.64402682764571, 6.894867111787854, 8.795603565552685, 7.068014283108027, 63.43433877490445, 19.82585861872992, 23.099085600712378, 16.123963057594274, 11.604395670608021, 243.66552406447548, 39.06347339071145, 10.3839595539746, 7.032982889482606, 9.855527375706062, 9.154223795650486, 13.22789494867011, 23.16822001199565, 29.589894759404913, 9.781664455412228, 5.964512750486247, 46.008407110958764, 9.909755072094818, 56.891907292192485, 24.498576998244967, 48.34089469860581, 53.54419221605312, 51.026933265927426, 42.25983286392649, 29.872715907198753, 35.870882286509406, 23.70083204784757, 30.742042543008555, 40.566576166447376, 38.45099647671626, 37.45943030293083, 43.09773621115435, 22.372577262856076, 16.701877819316238, 25.936733883198272, 27.295498018999588, 28.32202772689181, 25.636584013222826, 25.089321540445663, 22.876596313303246, 4.433018244919597, 5.384393991297664, 3.27355152627518, 18.494001566385204, 4.389440872482418, 4.259462469640263, 3.5577368261752143, 4.110260579256557, 2.924976741853455, 2.808808272376524, 3.2975741194017676, 3.7133408357813353, 8.394890945419379, 7.158456618149255, 3.090221787315411, 3.3577571919893434, 3.296469927704125, 2.3849536858442746, 2.3748105733725864, 6.060397415507672, 5.042242224545005, 5.890342301341123, 14.311012337198232, 2.715718368653281, 4.8075451315095235, 2.2341840693642574, 14.65658768062931, 2.212491310441771, 6.4251671256939815, 182.37485946890095, 6.54863514850812, 55.57073744805086, 9.492777478927977, 27.587533750102434, 32.17340940058223, 27.96133501521684, 35.2098152895889, 17.218030118831265, 11.965318610271531, 21.339429912750294, 100.56069413594365, 62.43692826199335, 65.09103372745089, 33.997225747350086, 230.46257714438786, 55.15069100387516, 46.92768258761309, 93.73879432500185, 51.325450291994734, 129.28628191921288, 106.40249105870191, 294.5029603093212, 31.31337459776096, 130.30735398517206, 145.35888393658692, 52.53024779701009, 64.23804272894347, 115.45404819842437, 88.27333937031476, 80.62095584531119, 123.44073560956693, 71.62742649739135, 78.75296634907785, 99.62674598108508, 127.06457285210934, 129.91506067814888, 87.17462649166974, 59.12504658637783, 59.117514923243796, 68.10222444148192, 75.5567017322854, 61.00785273868924, 66.22748166360294, 69.00484548221314, 64.72501901800017, 64.88660991867556, 62.62717675718455, 61.61647032076428, 16.310296008284293, 4.852003643938158, 6.952074657403681, 4.844357457434566, 135.72803620521364, 5.686966963849972, 4.417562908146108, 5.373052998597392, 3.516402281169993, 7.872305599226097, 4.986676762537526, 103.07128365363214, 54.712669261123466, 2.5010535262935383, 9.251307731264035, 9.614927655333394, 26.543034547986192, 4.056325336796677, 11.129617991821213, 2.7205868779209212, 28.184125853803092, 4.619254268585769, 7.041866040397388, 15.332749863206425, 7.0697884949332135, 11.392936104959839, 2.416997604112302, 24.531378209895035, 1.2848224421991632, 168.5676076476695, 119.09028901722064, 66.99525238282612, 20.304038613835363, 52.148525460659066, 164.52927843256472, 29.45405941243747, 11.742117428189047, 42.2032290234231, 21.198333763279855, 32.26669031837742, 41.63645893781714, 62.623006305716956, 33.571533307426094, 27.084221022233127, 48.48959946162689, 14.651321459307177, 19.47995637391194, 43.96743099198691, 42.400368300529884, 21.630015747757184, 18.16470229003413, 22.558181024189565, 22.867238339307374, 26.501033882976873, 23.34430488194066, 24.56107470448178, 22.17571079579387, 20.679837926241344, 8.541197797943198, 16.681885830268907, 7.485501736753339, 6.808572288388261, 5.202230997961297, 5.106197971538506, 8.075396345293203, 6.13580178842412, 7.916969873796446, 3.5788505800596138, 7.141517100450963, 8.174735557075454, 7.590526803733767, 9.496592023845428, 4.232622902318614, 17.270286182848704, 2.9185091014250126, 4.313238203427982, 2.4352085286236465, 20.66908314512269, 6.109863579245834, 3.7837518690619247, 5.031710272247903, 2.774121913721702, 3.657403500642092, 54.46851070066676, 8.04226842176927, 5.028275020049732, 7.561293164765915, 3.1025822293304706, 157.7722009611372, 11.022742089918786, 20.84440047088065, 8.516323237801783, 17.34804588015161, 13.244436422821195, 15.286846929440285, 62.25832131289898, 206.09781234963327, 33.16481512866609, 24.62414435364763, 97.01052641784143, 43.26328116114667, 30.121074893643836, 196.74160970657488, 82.27341049419739, 273.0937532348267, 59.838766747998896, 85.94217840681341, 148.8530800943508, 90.59324944469274, 61.428427686032556, 132.08708878054242, 134.8133491764974, 106.21977109992848, 45.498343899170486, 52.77688081401213, 145.48618107935803, 40.908926860935004, 115.73161605839147, 125.44092098800114, 102.12868419897292, 55.111865869357366, 147.46176415721496, 71.83334756193057, 71.69364807412667, 70.98968680560174, 87.1711036766921, 97.7299634149317, 110.58690123868539, 76.16886247124343, 86.16655803289106, 73.87683823506886, 93.58458854319868, 71.37483454439274, 76.45226251885126, 76.5872357019424, 17.633362508859307, 15.658195885718053, 18.514420099472062, 10.734604384028627, 9.78572970108844, 6.857434462060223, 39.374623075875675, 12.45860346157691, 4.7577565542976785, 7.536397819922431, 9.427459217979834, 23.238684586011587, 7.464434853910205, 10.92174681689596, 64.97844035066478, 59.61172392989981, 24.985576018211223, 8.102446452961953, 115.02382549809498, 7.960721327906578, 68.12838944935653, 61.1387273708755, 45.208566133607924, 18.77639357126345, 8.589511869935674, 20.39434869206354, 81.68914245304742, 6.744166743648386, 5.057329246296469, 10.900520375866863, 19.076243615368, 362.0793559750257, 661.2068438144414, 33.117718056860284, 104.72129697360401, 254.97260036546493, 843.436945855677, 78.45434522184567, 295.1437894950079, 284.45373164123845, 74.24180617635852, 278.87712451197075, 116.5082355799719, 51.02552587733165, 55.85598380259845, 109.57595296960447, 51.686142573496646, 44.609586440478715, 233.2112083579409, 710.6118265516485, 270.8565914820621, 175.1168201670446, 279.7175085963727, 224.9474699490598, 475.00869040993337, 349.23220472562605, 291.7374445834309, 271.77918705298157, 287.74798307838387, 480.39384534276826, 387.90603827370643, 566.3287370544859, 426.1783236042535, 317.37976337326495, 381.27220814098854, 345.3000002215291, 521.6274731361399, 540.9915776204953, 276.6783058333131, 478.85038447619235, 374.0540223352633, 227.2477922944746, 282.7504583301387, 299.9032668930527, 310.17172073026467, 283.7572824937995, 11.721231326238176, 39.75964082776048, 11.258848008647249, 8.146790104105571, 29.11899738890938, 7.798413105556791, 5.962370443083769, 5.137246519291755, 5.759983923063552, 9.202786714244587, 4.19275753932345, 4.942113732455197, 19.92670979195494, 4.865805247160828, 8.13145031231569, 18.74054330858009, 5.070172393418066, 3.8091664106155148, 55.95164822015539, 12.80817811134947, 21.114797816737436, 2.9445121670630896, 7.952015679603727, 4.527634938811862, 5.177538947720972, 19.22233470816932, 72.64822635461996, 5.065178869033635, 24.73779906190299, 3.796180164529246, 9.798830191514105, 26.184149444808252, 32.847513863723954, 220.9442839809608, 47.211878486889276, 41.16103022441368, 81.54404511639007, 74.55321715962025, 31.62065249003861, 119.40498039491322, 125.94553742411489, 33.74811394738778, 100.10644338288203, 117.96676316721731, 202.8567907343788, 371.74678514851615, 170.13696175584923, 204.70310088448474, 192.43693959620146, 95.6166197378164, 146.10462356850942, 108.38334770060156, 157.66852141343102, 132.36680132649775, 187.62763314675726, 112.09181986112466, 71.8121263533934, 95.81968658967635, 58.48418499210689, 80.72248169579457, 108.28248219013413, 91.63740547564336, 75.84819220965561, 103.3092110576529, 82.2384648345762, 60.08435973124473, 76.78247920908441, 70.03247759165733, 18.49169096373048, 8.01813843068468, 14.810989880926396, 5.035005352427829, 9.089482684848752, 104.34241881549765, 12.506446723760149, 9.186937224699122, 7.428231286481543, 5.362217593216004, 5.254694823936161, 3.9856831458993685, 4.541704829202097, 2.858170599714619, 4.52621727059627, 14.77244757208572, 10.841088358057458, 10.121300110426272, 8.343602180299548, 12.682222740104805, 72.79068100563323, 13.156728473408835, 11.871898414288538, 4.45222579340815, 6.237126315015824, 3.976353057914081, 9.6242209586905, 3.885339621769468, 8.587883286045628, 2.5775549035993857, 6.449361849437045, 21.0063928253192, 381.49031847826024, 131.2495203064014, 8.45544302735483, 161.14838556707795, 41.18490289698292, 360.7731141714752, 76.17533074204796, 25.02030665271076, 81.56425206736219, 45.30524618994056, 31.141863661936405, 89.46260792460556, 103.84955094449123, 61.58731123723208, 81.47600889692029, 152.77808809909777, 64.41462941215545, 69.20310297318201, 64.6229104754884, 79.76415656138195, 89.20523002389488, 99.81554337705916, 36.60343876934509, 41.78444462493533, 56.3577013008675, 35.70118553317046, 70.33029959880248, 49.53738562421325, 43.98320406611655, 58.48633035062483, 52.76130133567823, 51.16360163069534, 51.8095061916454, 44.27198725260595, 19.553031651730688, 19.525181435369497, 16.589501979892184, 13.684590180939825, 12.694178198797657, 10.733207188083648, 9.774501582850728, 7.8211355677138545, 7.82096928874079, 10.644407414145848, 5.864925426324073, 5.864618566037419, 6.769953911611393, 5.747171948294748, 6.721136672560346, 7.532618875042402, 15.708909701323648, 19.739206659735306, 13.464811704106001, 8.977001174562812, 33.07251890543419, 14.307651097653872, 20.42339777345579, 47.62160858360401, 13.17668803446179, 15.519593532355149, 6.893782618665665, 13.587233842210855, 18.54418840123789, 20.77220419850619, 57.21092905322094, 146.48895759660135, 52.29080075184649, 557.940375051545, 72.3944425484732, 231.28365153806806, 87.36382500546769, 873.0995182749657, 331.59096436478336, 374.92033823533507, 24.6367890439893, 31.218079053694712, 145.6935394545443, 84.29033656036898, 847.742785114793, 520.5516228423642, 519.9629348126365, 142.51311246698705, 158.99966659977426, 1307.5215837661378, 471.21390641959374, 166.84108064406678, 183.1040228138775, 664.8515872934213, 341.98338808826696, 250.02644807961465, 54.7004974899656, 184.6344423889423, 90.4771478460044, 297.3540875318578, 256.40207972055344, 792.9742402225415, 591.218614302454, 650.5161388863522, 476.78399806389695, 213.16008998522798, 283.56333276149763, 593.8126146543171, 330.3158525482151, 430.56211982903756, 440.6264116503307, 291.9033539576739, 467.6249894370453, 321.8785309435099, 242.90283919926102, 296.2683039772742, 328.2353942232708, 283.57378112751417, 280.03219621046196, 45.38224703732621, 17.31215739465182, 64.03022070886354, 11.089055334201975, 112.97389870722, 12.395981959281201, 16.27556788116849, 14.255789789252292, 10.47674653486543, 23.060668479267054, 42.0293264031869, 27.27394570679683, 27.555402891097852, 6.756262167262821, 11.297578978545248, 21.211562758881445, 15.085982353089339, 10.427793628897021, 13.63379715322468, 10.403324346848693, 5.863591287975489, 11.829822229985483, 7.096835010297908, 26.147676469246065, 58.6060059794736, 70.24856126789162, 33.10563759873686, 128.28891153241963, 20.874670142579955, 10.717846716474755, 33.07900064521511, 43.20411419287586, 21.05303385504745, 41.09683429255976, 59.92427804952835, 35.90611343065334, 25.913039349699996, 42.91842820524672, 34.438013875240635, 43.348372934316274, 21.754923009768575, 20.68377778071737, 21.515479314346646, 23.28130998082165, 22.335338559586127, 19.378915360751073, 21.56685492191769, 7.336726084434026, 19.64957860652754, 16.179786636320983, 9.5780746630138, 9.697622448591881, 107.7036063725138, 10.34859458608252, 24.468905739848605, 78.4007639798026, 68.03667206762056, 11.461155765971395, 341.09200513509654, 23.93261193902087, 10.315599143939037, 132.52066363624618, 36.788451995006525, 15.500602891495397, 18.863753695900265, 12.411509879251154, 19.32505423048705, 29.116893244252626, 11.476979129353774, 26.064025554284914, 15.10863922813079, 341.7936561325397, 20.80297771528818, 120.46860868854847, 7.4804897614380925, 9.46695107097082, 21.97500434262296, 30.383367477569458, 107.23805327969811, 29.108439730817985, 28.705908002864092, 38.76174925604492, 94.23385687764484, 40.95421393892186, 45.25858629429855, 83.60192651039206, 41.78437522883371, 59.24006420536679, 74.33597976989431, 63.28433855915065, 58.91930450442692, 38.576337248145876, 55.52899057229456, 54.038066644038516, 44.576835299069465, 37.68815304984536, 36.79452707819069, 39.89857089360708, 33.787002026459675, 40.742087984156235, 34.473409021735314, 33.216539987506955, 282.3185825037944, 93.07241157695864, 13.833319687608842, 29.436094811215888, 67.06252403324532, 4.919603212572291, 22.12462485206159, 60.01828549509133, 13.872259652763546, 75.88003418505838, 12.707830542500401, 49.35690023077682, 6.388096071134976, 21.390452924593024, 76.8353506594917, 25.237728642476107, 30.340865886167713, 8.37584339811469, 12.460601410315745, 11.710980492101495, 7.534085061335205, 22.354435828979096, 24.59307472354756, 11.495985635407, 16.785602759281453, 4.608655286166288, 5.3273166206835505, 6.741504765678316, 11.77891877415039, 24.731832375415795, 40.456563017680104, 36.18067073642728, 12.298596033773496, 448.61633333964437, 21.51826960353183, 27.432717372475683, 352.20145558577406, 128.5238175017837, 36.064744862716495, 240.17173920628719, 301.659762766918, 150.70594406393042, 54.43635063663642, 257.72955983643857, 394.0803745690964, 603.3007226452289, 258.97482999499744, 255.11594147158348, 162.26763134745923, 364.48071905727505, 295.69122720841233, 179.54239774051433, 153.1825338507912, 212.81365422220424, 114.85774832894246, 182.37733756123237, 338.2985727921288, 353.4265412814733, 163.9641708325888, 235.38214139375415, 305.31830617525384, 221.36155521318304, 221.34725086512978, 154.41560571960852, 213.56349522351206, 196.0487392737189, 231.20116073637772, 163.18125629155358, 194.98817885333187, 181.2383138323836, 156.6522396466642], \"Total\": [2758.0, 1690.0, 1561.0, 3045.0, 989.0, 2237.0, 1504.0, 2704.0, 753.0, 3102.0, 1378.0, 1875.0, 1306.0, 1018.0, 1382.0, 689.0, 909.0, 1553.0, 1870.0, 1392.0, 1598.0, 1875.0, 1355.0, 1034.0, 2125.0, 608.0, 1541.0, 763.0, 713.0, 2491.0, 21.392238596821638, 11.742199518294646, 9.806116628074085, 9.819324979999827, 9.816742403607588, 9.800474406844414, 8.82913930121358, 8.822246920986426, 8.853758722863805, 7.875432493035477, 8.841592503618603, 7.884228080245185, 7.874557008843537, 6.922293603981358, 6.906800945570986, 6.9054529174132115, 6.884463653563877, 5.95775139815056, 5.9552999441368915, 5.94824729245747, 5.908702329434514, 5.890525450680173, 5.796603717678969, 4.990752638007599, 4.9322715105693735, 4.932100563117714, 4.973679795187529, 19.487467395697088, 5.9147793189816875, 5.891794989646628, 13.678278003729908, 27.274786508258835, 32.082291720952696, 19.495082914951933, 36.093809302745726, 13.697579176929667, 15.61741081240612, 64.27245274932619, 60.000347275012516, 14.682356356218595, 21.456003426163935, 12.717536980322441, 346.8246181627517, 409.85705382953034, 124.60900725250418, 147.26265661118907, 1438.4069926658203, 103.39991973976568, 216.40238690838405, 45.820940320916606, 1159.0895335923378, 310.00240094269526, 500.9194053875245, 76.103698132787, 341.9218087696886, 228.52266447670544, 329.4773152429773, 435.1573037170724, 60.189533456105984, 97.52108793563097, 139.27517568008884, 2758.996622129957, 416.04063224937545, 837.4772807179829, 103.84907969534098, 564.1887056180587, 1018.6522763886347, 757.3858714338852, 730.3095637940124, 350.65861792489073, 980.9193790341366, 1083.0569990941783, 758.7059365957382, 426.8120679310907, 448.008986043372, 747.644522434679, 773.6266960514093, 504.52672519724257, 497.8208323941112, 1875.3967728445755, 1870.1347342791794, 663.4426728316275, 3102.395350349816, 848.0243696214058, 620.6110585918082, 878.6358213693061, 1212.8596842757975, 1875.7037457943661, 1378.3343677695432, 2237.709174801103, 1561.8717523048515, 1030.865174010218, 2704.7603819274245, 3045.7832944150996, 15.297006666728338, 14.255063367930594, 12.250557588901788, 62.69959423033173, 11.231136724869081, 13.232512632869076, 50.55379347912778, 12.229674877140408, 18.43845175692153, 8.181025650114366, 33.29316457587778, 442.0821959783743, 29.282221055249565, 6.144116555115405, 249.91164197170937, 82.62242510529624, 70.87950451710276, 13.164289987861816, 6.1526194190587224, 27.222266274973396, 26.39863632439308, 8.148647822960793, 14.143145855694343, 20.193317335547242, 16.122467251512244, 9.11457673886366, 13.214087095125883, 19.101050543450253, 11.121490878628032, 11.119903977125015, 199.63848995082685, 63.69247310043071, 87.14589431154894, 26.1027214198808, 239.6742484297752, 111.05261211781207, 356.57411977191845, 77.83911364586658, 376.0697757388715, 296.83072582453985, 356.71061933295834, 112.03068289336376, 126.07468145364578, 272.078841298512, 1040.9571714803237, 337.1910495418262, 356.8590912285296, 1019.1670177373029, 605.4947627340631, 291.77666368701, 251.28958574879647, 210.98803898586328, 557.4997965851275, 1392.9206607759736, 1310.6866493320533, 843.3968308679118, 763.3246120538852, 3102.395350349816, 2704.7603819274245, 974.4595991267526, 1875.3967728445755, 1306.6810563595222, 1205.3059701396053, 853.6588369509719, 1504.4870521187504, 1378.3343677695432, 1148.2899090994422, 1478.940729843394, 2125.5512849125444, 1541.134774103454, 2237.709174801103, 3045.7832944150996, 2758.996622129957, 2491.26139813707, 1553.973454521001, 1431.8547758492425, 1018.6522763886347, 1122.82567909468, 6.018387057754058, 6.001779786969793, 15.870144392492833, 5.052870633011939, 5.0053996735424935, 13.85498250755944, 5.031409387000718, 10.9629074979844, 6.006193153133344, 4.950856398041677, 6.986010036448225, 13.899973663703493, 22.867482694888686, 6.071893086618078, 17.97714871290702, 33.64885854032812, 10.933085923778576, 19.930917971882756, 7.971960116261665, 5.036463032717174, 5.9904027541324005, 7.93278377578187, 5.937005270564018, 8.000728651785494, 8.075194199820421, 6.915118632518925, 8.972183624309984, 5.035707535260422, 12.9585782144116, 5.0321831797849885, 10.960815700727768, 187.10038177326453, 23.02899288648385, 16.85259427711517, 50.2209240371131, 75.02353222719896, 54.65183025808757, 119.09271475770923, 86.38800940226847, 1382.4897214720504, 121.14174069862197, 608.9608669077197, 460.6804173106667, 208.6676774995223, 478.6144918585587, 106.62195722510933, 60.02289705931386, 45.14759672052844, 448.34356661055347, 2758.996622129957, 484.6772580245803, 1355.6737808265168, 925.6496886659359, 1018.6522763886347, 689.2966504583505, 423.68347721452255, 403.53590610194976, 132.52779333430252, 179.92146667940204, 1034.7814266694782, 1306.6810563595222, 1310.6866493320533, 634.3037791825044, 2704.7603819274245, 1875.3967728445755, 3102.395350349816, 1875.7037457943661, 373.8951788995512, 2491.26139813707, 1083.0569990941783, 1028.1224513770335, 620.6110585918082, 1504.4870521187504, 974.4595991267526, 1148.2899090994422, 889.664032786063, 8.170784675247456, 14.28110778818464, 28.09200908831425, 5.154317896212078, 573.6848187334352, 1018.6522763886347, 403.53590610194976, 634.3037791825044, 63.8865703881937, 1504.4870521187504, 909.5663082147049, 1306.6810563595222, 848.0243696214058, 529.3743892914022, 785.4241215827345, 12.931152838035304, 552.777488420529, 713.1597077822828, 326.04632797790066, 1034.7814266694782, 299.35198096377155, 543.1714600399188, 1083.0569990941783, 660.2470386845971, 517.3765509208699, 1875.3967728445755, 631.2762836370414, 239.75297317521077, 322.02446410156807, 1392.9206607759736, 1142.2091796192562, 2704.7603819274245, 1870.1347342791794, 2758.996622129957, 2237.709174801103, 1378.3343677695432, 1478.940729843394, 3102.395350349816, 1212.8596842757975, 1875.7037457943661, 1382.4897214720504, 2125.5512849125444, 1553.973454521001, 1690.9559652134947, 1561.8717523048515, 7.180588549918671, 9.433132342801828, 70.8867847786996, 29.612330776230934, 80.85829697844994, 49.09344335808376, 14.197529997642828, 11.877799289489502, 43.337474959865496, 26.846045610815988, 18.120188590844617, 23.602769720225997, 19.220607845105192, 175.6229844595257, 55.04933858241277, 64.6441453907714, 48.32380112868831, 35.61954354930855, 753.4419608316803, 121.87792620914368, 34.80690898301164, 23.961871870682856, 34.61137988406083, 33.2098385807003, 49.131637767566964, 87.23336498275845, 124.53293496261354, 41.19786108761047, 25.128280019598346, 195.4334352113332, 42.15082754296121, 262.9869836964326, 111.96226483187432, 257.3498297086523, 605.4947627340631, 592.9997923039501, 437.79201341459253, 241.8804503142662, 365.4859020500133, 171.85274294639729, 340.21583230976836, 692.7194694402975, 722.4100763007266, 931.2507167943527, 1553.973454521001, 238.75039062693003, 100.37605544465279, 574.9412959476891, 737.4820525661046, 1541.134774103454, 1504.4870521187504, 3102.395350349816, 31.64069988657589, 6.3787863291843765, 8.439150498332696, 5.391775160420002, 31.09510781140524, 7.388060673834379, 7.43769180742751, 6.300695699043942, 7.356906666999671, 5.35302535748813, 5.318676757261202, 6.357187221385025, 7.321265671088203, 16.5905645143316, 14.607618657287079, 6.528403067761453, 7.299073150347938, 7.2746093033030075, 5.2727472784733544, 5.258649334416759, 13.5102844961262, 11.436764990219343, 13.4212618552062, 33.15312410675118, 6.348979530321955, 11.3597199273267, 5.280527973566269, 34.804434678735674, 5.259339963504861, 15.465360660780023, 534.3231683597938, 16.33254152313525, 180.7269870948181, 25.424119477808244, 87.81036133773783, 109.90704241943297, 95.06035403537302, 127.46023936825702, 53.57447832162008, 34.69384686419047, 71.96770018046344, 512.9033922797727, 280.8838806970059, 301.4571581058895, 132.84382070700866, 1656.6452386472497, 261.11373491616007, 211.1485937517048, 549.1586041432765, 246.6550862490827, 908.3308141361058, 720.0479131773901, 3102.395350349816, 131.29587219546147, 1205.3059701396053, 1541.134774103454, 337.1910495418262, 492.31191282418786, 1478.940729843394, 974.4595991267526, 835.6342678914522, 1875.3967728445755, 678.6579997683069, 843.3968308679118, 1416.7903287622244, 2491.26139813707, 2704.7603819274245, 1122.82567909468, 482.1633195936492, 541.0952562964344, 899.5983729706578, 1310.6866493320533, 663.6708283155846, 1019.1670177373029, 1392.9206607759736, 1431.8547758492425, 1504.4870521187504, 1076.5370139874344, 1875.7037457943661, 22.29553425049954, 6.788407706331364, 10.018871560596393, 7.731441181538533, 234.55093595248005, 9.84117365045711, 8.644234743768639, 10.693215995461445, 7.52848892976742, 17.009562787809646, 11.652462745209606, 246.28391465749831, 132.52779333430252, 6.3822091425905585, 25.12240554856109, 26.371489061929488, 74.04885917831108, 11.498217051875425, 32.21651150867195, 8.31848360749051, 88.18374887405155, 14.55784233144858, 22.8862141344806, 52.71028655391831, 25.854039937571198, 43.556288451488484, 9.451728920802168, 96.29785590016354, 5.22429892494128, 689.2966504583505, 608.9608669077197, 447.40419395143647, 116.2659647607045, 484.6772580245803, 2758.996622129957, 225.84462144590688, 59.579231307825424, 517.3765509208699, 166.2844221980477, 347.7694699076499, 618.825286579072, 1392.9206607759736, 423.68347721452255, 287.87668417851705, 1034.7814266694782, 93.34386889312749, 188.3627657024397, 1504.4870521187504, 1553.973454521001, 280.8838806970059, 176.77650317176827, 378.10634525988445, 510.51696404108264, 1306.6810563595222, 713.1597077822828, 2704.7603819274245, 1416.7903287622244, 1382.4897214720504, 12.085008005383333, 24.068055263034925, 11.066451490113433, 10.081660196596268, 8.081107178842565, 8.075887546870316, 13.04974941275997, 10.143876454806378, 13.095979793563593, 5.987287905916821, 12.043242464681196, 13.995362972013345, 13.055681963272097, 17.080526056317296, 8.04168269449956, 33.80626813868367, 6.023727814296958, 9.01199182151715, 5.093513159893987, 43.612917627132575, 12.906968817210487, 8.064987193961487, 11.023488608387563, 6.08025819851895, 8.020833839588754, 119.73668730977177, 17.906444061740693, 11.261918600468816, 16.965811792226678, 7.052682685668692, 363.0928736784914, 25.863066766917214, 52.570930129124875, 20.020457611702344, 44.99765216366514, 33.69511545915363, 39.80142809085467, 203.94326969922886, 925.6496886659359, 103.22406989910971, 72.0466499661676, 423.68347721452255, 155.66291074822828, 100.9118921025937, 1355.6737808265168, 455.51639385151645, 2704.7603819274245, 300.1616985040794, 517.3765509208699, 1306.6810563595222, 618.825286579072, 340.21583230976836, 1148.2899090994422, 1205.3059701396053, 853.6588369509719, 217.51225112183894, 279.32485611799024, 1553.973454521001, 189.01904013066428, 1122.82567909468, 1392.9206607759736, 1019.1670177373029, 331.86405136428203, 2491.26139813707, 634.3037791825044, 680.0324838229932, 713.1597077822828, 1310.6866493320533, 1875.7037457943661, 2758.996622129957, 974.4595991267526, 1504.4870521187504, 889.664032786063, 2237.709174801103, 909.5663082147049, 1478.940729843394, 3102.395350349816, 17.81583266965795, 15.846852773210022, 18.78486713383066, 10.915930252002223, 9.959099608018294, 7.023183952722985, 40.3568809977447, 12.896718209807547, 5.006121242284802, 7.961922669824566, 9.959927946648724, 24.66555505639608, 7.950031499756111, 11.893385155130279, 70.76729566226305, 64.93828178503672, 27.604303962454583, 8.95601018290465, 127.70527802896382, 8.95635592439398, 77.53091593566234, 69.82388811636459, 52.17188685951737, 21.68569099910145, 9.92390086583133, 23.671419727992017, 96.22171246889256, 7.990738624728369, 5.997938509330053, 12.931152838035304, 22.70683799436153, 452.5548843877332, 889.664032786063, 40.81436938212496, 142.58784697780004, 373.8951788995512, 1382.4897214720504, 107.5087806800946, 480.09591322345113, 460.6804173106667, 104.53568460302463, 478.6144918585587, 180.50087499857693, 70.18416354170364, 78.18672322218228, 179.92146667940204, 73.42636986748468, 62.11217156351616, 484.6772580245803, 2125.5512849125444, 634.3037791825044, 363.0928736784914, 690.4819009448837, 529.3743892914022, 1504.4870521187504, 1034.7814266694782, 835.6342678914522, 763.3246120538852, 853.6588369509719, 1875.3967728445755, 1355.6737808265168, 2491.26139813707, 1656.6452386472497, 1040.9571714803237, 1553.973454521001, 1310.6866493320533, 2704.7603819274245, 3102.395350349816, 925.6496886659359, 2758.996622129957, 1875.7037457943661, 692.7194694402975, 1212.8596842757975, 1478.940729843394, 1870.1347342791794, 1392.9206607759736, 11.926783396519133, 43.38443321012671, 12.944183471297945, 9.991040811058689, 36.84343976016874, 10.001821965943968, 8.06160566303046, 7.012411611858602, 7.998345573796164, 12.994610303198085, 6.005481992558696, 7.11487451735155, 28.785977352431807, 7.081549797385794, 11.972257369736163, 27.65089994596697, 8.002535149970162, 6.044306002518519, 90.6665715418642, 20.7796715724825, 34.780157320685944, 5.041241967093981, 13.894835901844914, 7.940598402834402, 9.084710958934538, 33.76951128034382, 132.31671658284688, 9.256200730953175, 46.369524489435, 7.229296820245057, 19.039277226415066, 54.2994445789156, 71.21862959541426, 587.3491842593575, 111.38598368520442, 100.16021419681721, 237.49360239028476, 217.5478191943404, 77.90887345005856, 468.84211045513734, 538.1819759643948, 94.62636072077454, 412.11339087754885, 518.7779943099955, 1142.2091796192562, 2704.7603819274245, 909.5663082147049, 1310.6866493320533, 1205.3059701396053, 450.19331455728883, 908.3308141361058, 678.6579997683069, 1392.9206607759736, 1076.5370139874344, 3102.395350349816, 1122.82567909468, 448.86612684694256, 1019.1670177373029, 339.11117715676284, 723.9413450535698, 1875.7037457943661, 1504.4870521187504, 843.3968308679118, 2758.996622129957, 1416.7903287622244, 387.9117406729527, 1541.134774103454, 1656.6452386472497, 19.38577627307719, 8.68281362667529, 18.103823075345435, 6.445868613090053, 11.759626772148176, 140.77852702407316, 17.82701672936876, 13.659085172338962, 11.606402148380697, 8.475343007623264, 9.437999922745384, 7.170886590447772, 8.367120210742794, 5.281195803769945, 8.485331215870051, 28.07675185847777, 20.84973831259144, 19.7172722422379, 17.571348047795883, 26.96416958679557, 154.86025724050782, 28.736518151130216, 27.46015000846649, 10.352322029610594, 14.611982531957414, 9.377163634295053, 22.76918131611923, 9.24356274211626, 20.44954811424438, 6.2637652374495305, 16.410805930851573, 60.927317572142556, 1561.8717523048515, 557.7796461600332, 22.488265149168093, 909.5663082147049, 168.7444409115118, 3045.7832944150996, 405.3281932191309, 91.62655454398272, 538.1819759643948, 238.25982030112834, 137.38568007558146, 737.4820525661046, 931.2507167943527, 412.11339087754885, 723.9413450535698, 2237.709174801103, 548.9545759935389, 785.4241215827345, 706.5895607451216, 1076.5370139874344, 1355.6737808265168, 1875.7037457943661, 234.66237490878586, 333.51548210012, 652.7216202404568, 255.62955059624787, 1504.4870521187504, 660.2470386845971, 478.3890906078628, 1416.7903287622244, 1148.2899090994422, 1142.2091796192562, 1598.9407285197638, 1690.9559652134947, 19.72014530683507, 19.721468821359498, 16.773193873882438, 13.851369920603105, 12.87086497877451, 10.898323758729283, 9.938132875042117, 7.983117505053677, 7.983980088321577, 10.881387768424988, 6.025979603769669, 6.026049128793558, 6.958632121677889, 5.92497669844253, 6.988634021798344, 7.959676678339312, 16.753987228122426, 21.66283499644654, 14.787148219866358, 9.883995413151888, 36.44018355928328, 15.823518079673605, 22.618133391630305, 53.03502070948711, 14.846851926140399, 17.822043637438156, 7.9575301095784665, 15.75803955195568, 21.676808314379272, 24.62459116095843, 68.49345209120352, 177.80217171744616, 62.89813668446611, 726.4892275766115, 91.46340331819894, 317.5068815619667, 114.8466242018454, 1431.8547758492425, 499.93680858287144, 605.1185706072007, 29.45692857499497, 38.349607800091775, 213.1496110404822, 116.35509678555528, 1598.9407285197638, 942.9369319727483, 948.9238715705463, 216.19480784188252, 255.23084950741162, 3045.7832944150996, 939.1463192614636, 276.95542870577907, 309.84437021914357, 1447.982218548376, 706.5895607451216, 490.17139553669153, 75.71786367689029, 344.41643731006866, 142.76129378583752, 656.1463862315348, 548.9545759935389, 2491.26139813707, 1690.9559652134947, 2125.5512849125444, 1416.7903287622244, 466.8105300963057, 722.4100763007266, 2237.709174801103, 968.5974672421187, 1541.134774103454, 1656.6452386472497, 800.6941419361972, 3102.395350349816, 1553.973454521001, 737.4820525661046, 1478.940729843394, 2704.7603819274245, 1875.7037457943661, 1870.1347342791794, 54.08230828469114, 29.051013186279505, 111.96226483187432, 27.46015000846649, 281.5521973184098, 34.19780489934051, 61.812708931095585, 56.85950656969238, 45.85499344301678, 110.96637990719253, 215.91944678783736, 150.59885341505574, 171.85274294639729, 49.09344335808376, 86.60384317563502, 185.20952348693137, 135.1121633199017, 95.55645124712085, 131.29587219546147, 107.89888586319022, 66.65786794708184, 137.48713040928288, 84.6270077177191, 315.6126154683963, 713.1597077822828, 909.5663082147049, 429.8218323884358, 1690.9559652134947, 301.4571581058895, 157.0750913476006, 510.51696404108264, 737.4820525661046, 322.02446410156807, 753.4419608316803, 1561.8717523048515, 763.3246120538852, 455.7775627850914, 1378.3343677695432, 899.5983729706578, 2237.709174801103, 455.5490457060055, 403.53590610194976, 605.1185706072007, 1504.4870521187504, 1212.8596842757975, 1553.973454521001, 24.16074700590655, 9.138652823873784, 24.80206959971947, 21.375186481403052, 13.446340394168129, 19.65559401734732, 236.9637466221171, 23.48075341203178, 57.38598614414672, 185.96100648123243, 185.87407516496594, 32.54232175529285, 989.5332194787239, 71.06796438364573, 32.34625477687697, 448.34356661055347, 124.53293496261354, 53.963996212702014, 67.74841892257304, 50.63130078943543, 80.06648007464277, 121.74401741184133, 50.0254556406541, 113.6428887003632, 68.91759486291592, 1561.8717523048515, 98.67075380461502, 591.0727106297527, 36.7871678598748, 46.79709587464946, 110.98227331889582, 156.2321909201716, 648.7855512189345, 157.0750913476006, 158.579640277065, 242.31699886655744, 878.6358213693061, 275.510181251198, 404.9814669730062, 1378.3343677695432, 377.80002115586353, 785.4241215827345, 1598.9407285197638, 1306.6810563595222, 1355.6737808265168, 490.17139553669153, 1875.7037457943661, 1870.1347342791794, 1690.9559652134947, 747.644522434679, 848.0243696214058, 1553.973454521001, 488.44903705882484, 2237.709174801103, 1076.5370139874344, 730.3095637940124, 282.8092433336543, 93.39005032994375, 14.036917818883632, 29.905208853312335, 68.55874003366219, 5.0920036323237525, 22.950787834273907, 64.61290249727126, 15.03268752342393, 83.39429168462011, 13.996472634020101, 54.56462422832655, 7.0789945929083835, 23.897117954034723, 86.28301564007566, 29.862963123728424, 35.92645933954124, 10.029844897420293, 14.932083299927248, 14.043599602169042, 9.038015286840857, 26.85569579128095, 29.77639114365825, 14.117869457045163, 22.04059037269635, 6.067722847700407, 7.0376641549010355, 9.095900511374559, 15.932117279048859, 33.72926738465884, 56.45021326556312, 52.37772700309865, 16.8996329336906, 763.7225706153345, 30.665914378740524, 40.534597153164334, 800.6941419361972, 272.65806860184864, 59.4976097114609, 671.1050988594218, 939.1463192614636, 401.3733282513749, 104.82375764985548, 837.4772807179829, 1598.9407285197638, 3045.7832944150996, 1030.865174010218, 1028.1224513770335, 541.0952562964344, 1870.1347342791794, 1447.982218548376, 706.5895607451216, 553.5420712192224, 948.9238715705463, 350.01114224261556, 757.3858714338852, 2237.709174801103, 2758.996622129957, 722.4100763007266, 1438.4069926658203, 2491.26139813707, 1378.3343677695432, 1656.6452386472497, 778.2137827719583, 2125.5512849125444, 1690.9559652134947, 3102.395350349816, 942.9369319727483, 2704.7603819274245, 1875.7037457943661, 1478.940729843394], \"Category\": [\"Default\", \"Default\", \"Default\", \"Default\", \"Default\", \"Default\", \"Default\", \"Default\", \"Default\", \"Default\", \"Default\", \"Default\", \"Default\", \"Default\", \"Default\", \"Default\", \"Default\", \"Default\", \"Default\", \"Default\", \"Default\", \"Default\", \"Default\", \"Default\", \"Default\", \"Default\", \"Default\", \"Default\", \"Default\", \"Default\", \"Topic1\", \"Topic1\", \"Topic1\", \"Topic1\", \"Topic1\", \"Topic1\", \"Topic1\", \"Topic1\", \"Topic1\", \"Topic1\", \"Topic1\", \"Topic1\", \"Topic1\", \"Topic1\", \"Topic1\", \"Topic1\", \"Topic1\", \"Topic1\", \"Topic1\", \"Topic1\", \"Topic1\", \"Topic1\", \"Topic1\", \"Topic1\", \"Topic1\", \"Topic1\", \"Topic1\", \"Topic1\", \"Topic1\", \"Topic1\", \"Topic1\", \"Topic1\", \"Topic1\", \"Topic1\", \"Topic1\", \"Topic1\", \"Topic1\", \"Topic1\", \"Topic1\", \"Topic1\", \"Topic1\", \"Topic1\", \"Topic1\", \"Topic1\", \"Topic1\", \"Topic1\", \"Topic1\", \"Topic1\", \"Topic1\", \"Topic1\", \"Topic1\", \"Topic1\", \"Topic1\", \"Topic1\", \"Topic1\", \"Topic1\", \"Topic1\", \"Topic1\", \"Topic1\", \"Topic1\", \"Topic1\", \"Topic1\", \"Topic1\", \"Topic1\", \"Topic1\", \"Topic1\", \"Topic1\", \"Topic1\", \"Topic1\", \"Topic1\", \"Topic1\", \"Topic1\", \"Topic1\", \"Topic1\", \"Topic1\", \"Topic1\", \"Topic1\", \"Topic1\", \"Topic1\", \"Topic1\", \"Topic1\", \"Topic1\", \"Topic1\", \"Topic1\", \"Topic1\", \"Topic1\", \"Topic1\", \"Topic1\", \"Topic1\", \"Topic1\", \"Topic1\", \"Topic1\", \"Topic1\", \"Topic1\", \"Topic2\", \"Topic2\", \"Topic2\", \"Topic2\", \"Topic2\", \"Topic2\", \"Topic2\", \"Topic2\", \"Topic2\", \"Topic2\", \"Topic2\", \"Topic2\", \"Topic2\", \"Topic2\", \"Topic2\", \"Topic2\", \"Topic2\", \"Topic2\", \"Topic2\", \"Topic2\", \"Topic2\", \"Topic2\", \"Topic2\", \"Topic2\", \"Topic2\", \"Topic2\", \"Topic2\", \"Topic2\", \"Topic2\", \"Topic2\", \"Topic2\", \"Topic2\", \"Topic2\", \"Topic2\", \"Topic2\", \"Topic2\", \"Topic2\", \"Topic2\", \"Topic2\", \"Topic2\", \"Topic2\", \"Topic2\", \"Topic2\", \"Topic2\", \"Topic2\", \"Topic2\", \"Topic2\", \"Topic2\", \"Topic2\", \"Topic2\", \"Topic2\", \"Topic2\", \"Topic2\", \"Topic2\", \"Topic2\", \"Topic2\", \"Topic2\", \"Topic2\", \"Topic2\", \"Topic2\", \"Topic2\", \"Topic2\", \"Topic2\", \"Topic2\", \"Topic2\", \"Topic2\", \"Topic2\", \"Topic2\", \"Topic2\", \"Topic2\", \"Topic2\", \"Topic2\", \"Topic2\", \"Topic2\", \"Topic2\", \"Topic2\", \"Topic2\", \"Topic2\", \"Topic3\", \"Topic3\", \"Topic3\", \"Topic3\", \"Topic3\", \"Topic3\", \"Topic3\", \"Topic3\", \"Topic3\", \"Topic3\", \"Topic3\", \"Topic3\", \"Topic3\", \"Topic3\", \"Topic3\", \"Topic3\", \"Topic3\", \"Topic3\", \"Topic3\", \"Topic3\", \"Topic3\", \"Topic3\", \"Topic3\", \"Topic3\", \"Topic3\", \"Topic3\", \"Topic3\", \"Topic3\", \"Topic3\", \"Topic3\", \"Topic3\", \"Topic3\", \"Topic3\", \"Topic3\", \"Topic3\", \"Topic3\", \"Topic3\", \"Topic3\", \"Topic3\", \"Topic3\", \"Topic3\", \"Topic3\", \"Topic3\", \"Topic3\", \"Topic3\", \"Topic3\", \"Topic3\", \"Topic3\", \"Topic3\", \"Topic3\", \"Topic3\", \"Topic3\", \"Topic3\", \"Topic3\", \"Topic3\", \"Topic3\", \"Topic3\", \"Topic3\", \"Topic3\", \"Topic3\", \"Topic3\", \"Topic3\", \"Topic3\", \"Topic3\", \"Topic3\", \"Topic3\", \"Topic3\", \"Topic3\", \"Topic3\", \"Topic3\", \"Topic3\", \"Topic3\", \"Topic3\", \"Topic3\", \"Topic3\", \"Topic3\", \"Topic4\", \"Topic4\", \"Topic4\", \"Topic4\", \"Topic4\", \"Topic4\", \"Topic4\", \"Topic4\", \"Topic4\", \"Topic4\", \"Topic4\", \"Topic4\", \"Topic4\", \"Topic4\", \"Topic4\", \"Topic4\", \"Topic4\", \"Topic4\", \"Topic4\", \"Topic4\", \"Topic4\", \"Topic4\", \"Topic4\", \"Topic4\", \"Topic4\", \"Topic4\", \"Topic4\", \"Topic4\", \"Topic4\", \"Topic4\", \"Topic4\", \"Topic4\", \"Topic4\", \"Topic4\", \"Topic4\", \"Topic4\", \"Topic4\", \"Topic4\", \"Topic4\", \"Topic4\", \"Topic4\", \"Topic4\", \"Topic4\", \"Topic4\", \"Topic4\", \"Topic5\", \"Topic5\", \"Topic5\", \"Topic5\", \"Topic5\", \"Topic5\", \"Topic5\", \"Topic5\", \"Topic5\", \"Topic5\", \"Topic5\", \"Topic5\", \"Topic5\", \"Topic5\", \"Topic5\", \"Topic5\", \"Topic5\", \"Topic5\", \"Topic5\", \"Topic5\", \"Topic5\", \"Topic5\", \"Topic5\", \"Topic5\", \"Topic5\", \"Topic5\", \"Topic5\", \"Topic5\", \"Topic5\", \"Topic5\", \"Topic5\", \"Topic5\", \"Topic5\", \"Topic5\", \"Topic5\", \"Topic5\", \"Topic5\", \"Topic5\", \"Topic5\", \"Topic5\", \"Topic5\", \"Topic5\", \"Topic5\", \"Topic5\", \"Topic5\", \"Topic5\", \"Topic5\", \"Topic5\", \"Topic5\", \"Topic5\", \"Topic5\", \"Topic5\", \"Topic6\", \"Topic6\", \"Topic6\", \"Topic6\", \"Topic6\", \"Topic6\", \"Topic6\", \"Topic6\", \"Topic6\", \"Topic6\", \"Topic6\", \"Topic6\", \"Topic6\", \"Topic6\", \"Topic6\", \"Topic6\", \"Topic6\", \"Topic6\", \"Topic6\", \"Topic6\", \"Topic6\", \"Topic6\", \"Topic6\", \"Topic6\", \"Topic6\", \"Topic6\", \"Topic6\", \"Topic6\", \"Topic6\", \"Topic6\", \"Topic6\", \"Topic6\", \"Topic6\", \"Topic6\", \"Topic6\", \"Topic6\", \"Topic6\", \"Topic6\", \"Topic6\", \"Topic6\", \"Topic6\", \"Topic6\", \"Topic6\", \"Topic6\", \"Topic6\", \"Topic6\", \"Topic6\", \"Topic6\", \"Topic6\", \"Topic6\", \"Topic6\", \"Topic6\", \"Topic6\", \"Topic6\", \"Topic6\", \"Topic6\", \"Topic6\", \"Topic6\", \"Topic6\", \"Topic6\", \"Topic6\", \"Topic6\", \"Topic6\", \"Topic6\", \"Topic6\", \"Topic6\", \"Topic6\", \"Topic6\", \"Topic6\", \"Topic6\", \"Topic6\", \"Topic6\", \"Topic6\", \"Topic6\", \"Topic6\", \"Topic6\", \"Topic6\", \"Topic6\", \"Topic6\", \"Topic7\", \"Topic7\", \"Topic7\", \"Topic7\", \"Topic7\", \"Topic7\", \"Topic7\", \"Topic7\", \"Topic7\", \"Topic7\", \"Topic7\", \"Topic7\", \"Topic7\", \"Topic7\", \"Topic7\", \"Topic7\", \"Topic7\", \"Topic7\", \"Topic7\", \"Topic7\", \"Topic7\", \"Topic7\", \"Topic7\", \"Topic7\", \"Topic7\", \"Topic7\", \"Topic7\", \"Topic7\", \"Topic7\", \"Topic7\", \"Topic7\", \"Topic7\", \"Topic7\", \"Topic7\", \"Topic7\", \"Topic7\", \"Topic7\", \"Topic7\", \"Topic7\", \"Topic7\", \"Topic7\", \"Topic7\", \"Topic7\", \"Topic7\", \"Topic7\", \"Topic7\", \"Topic7\", \"Topic7\", \"Topic7\", \"Topic7\", \"Topic7\", \"Topic7\", \"Topic7\", \"Topic7\", \"Topic7\", \"Topic7\", \"Topic7\", \"Topic7\", \"Topic8\", \"Topic8\", \"Topic8\", \"Topic8\", \"Topic8\", \"Topic8\", \"Topic8\", \"Topic8\", \"Topic8\", \"Topic8\", \"Topic8\", \"Topic8\", \"Topic8\", \"Topic8\", \"Topic8\", \"Topic8\", \"Topic8\", \"Topic8\", \"Topic8\", \"Topic8\", \"Topic8\", \"Topic8\", \"Topic8\", \"Topic8\", \"Topic8\", \"Topic8\", \"Topic8\", \"Topic8\", \"Topic8\", \"Topic8\", \"Topic8\", \"Topic8\", \"Topic8\", \"Topic8\", \"Topic8\", \"Topic8\", \"Topic8\", \"Topic8\", \"Topic8\", \"Topic8\", \"Topic8\", \"Topic8\", \"Topic8\", \"Topic8\", \"Topic8\", \"Topic8\", \"Topic8\", \"Topic8\", \"Topic8\", \"Topic8\", \"Topic8\", \"Topic8\", \"Topic8\", \"Topic8\", \"Topic8\", \"Topic8\", \"Topic8\", \"Topic8\", \"Topic8\", \"Topic8\", \"Topic8\", \"Topic8\", \"Topic8\", \"Topic8\", \"Topic8\", \"Topic8\", \"Topic8\", \"Topic8\", \"Topic8\", \"Topic8\", \"Topic8\", \"Topic8\", \"Topic8\", \"Topic8\", \"Topic8\", \"Topic8\", \"Topic8\", \"Topic9\", \"Topic9\", \"Topic9\", \"Topic9\", \"Topic9\", \"Topic9\", \"Topic9\", \"Topic9\", \"Topic9\", \"Topic9\", \"Topic9\", \"Topic9\", \"Topic9\", \"Topic9\", \"Topic9\", \"Topic9\", \"Topic9\", \"Topic9\", \"Topic9\", \"Topic9\", \"Topic9\", \"Topic9\", \"Topic9\", \"Topic9\", \"Topic9\", \"Topic9\", \"Topic9\", \"Topic9\", \"Topic9\", \"Topic9\", \"Topic9\", \"Topic9\", \"Topic9\", \"Topic9\", \"Topic9\", \"Topic9\", \"Topic9\", \"Topic9\", \"Topic9\", \"Topic9\", \"Topic9\", \"Topic9\", \"Topic9\", \"Topic9\", \"Topic9\", \"Topic9\", \"Topic9\", \"Topic9\", \"Topic9\", \"Topic9\", \"Topic9\", \"Topic9\", \"Topic9\", \"Topic9\", \"Topic9\", \"Topic9\", \"Topic9\", \"Topic9\", \"Topic9\", \"Topic9\", \"Topic9\", \"Topic9\", \"Topic9\", \"Topic9\", \"Topic9\", \"Topic9\", \"Topic9\", \"Topic9\", \"Topic9\", \"Topic9\", \"Topic9\", \"Topic9\", \"Topic9\", \"Topic9\", \"Topic9\", \"Topic9\", \"Topic10\", \"Topic10\", \"Topic10\", \"Topic10\", \"Topic10\", \"Topic10\", \"Topic10\", \"Topic10\", \"Topic10\", \"Topic10\", \"Topic10\", \"Topic10\", \"Topic10\", \"Topic10\", \"Topic10\", \"Topic10\", \"Topic10\", \"Topic10\", \"Topic10\", \"Topic10\", \"Topic10\", \"Topic10\", \"Topic10\", \"Topic10\", \"Topic10\", \"Topic10\", \"Topic10\", \"Topic10\", \"Topic10\", \"Topic10\", \"Topic10\", \"Topic10\", \"Topic10\", \"Topic10\", \"Topic10\", \"Topic10\", \"Topic10\", \"Topic10\", \"Topic10\", \"Topic10\", \"Topic10\", \"Topic10\", \"Topic10\", \"Topic10\", \"Topic10\", \"Topic10\", \"Topic10\", \"Topic10\", \"Topic10\", \"Topic10\", \"Topic10\", \"Topic10\", \"Topic10\", \"Topic10\", \"Topic10\", \"Topic10\", \"Topic10\", \"Topic10\", \"Topic10\", \"Topic10\", \"Topic10\", \"Topic10\", \"Topic10\", \"Topic10\", \"Topic10\", \"Topic10\", \"Topic10\", \"Topic10\", \"Topic11\", \"Topic11\", \"Topic11\", \"Topic11\", \"Topic11\", \"Topic11\", \"Topic11\", \"Topic11\", \"Topic11\", \"Topic11\", \"Topic11\", \"Topic11\", \"Topic11\", \"Topic11\", \"Topic11\", \"Topic11\", \"Topic11\", \"Topic11\", \"Topic11\", \"Topic11\", \"Topic11\", \"Topic11\", \"Topic11\", \"Topic11\", \"Topic11\", \"Topic11\", \"Topic11\", \"Topic11\", \"Topic11\", \"Topic11\", \"Topic11\", \"Topic11\", \"Topic11\", \"Topic11\", \"Topic11\", \"Topic11\", \"Topic11\", \"Topic11\", \"Topic11\", \"Topic11\", \"Topic11\", \"Topic11\", \"Topic11\", \"Topic11\", \"Topic11\", \"Topic11\", \"Topic11\", \"Topic11\", \"Topic11\", \"Topic11\", \"Topic11\", \"Topic11\", \"Topic11\", \"Topic11\", \"Topic11\", \"Topic11\", \"Topic11\", \"Topic11\", \"Topic11\", \"Topic11\", \"Topic11\", \"Topic11\", \"Topic11\", \"Topic11\", \"Topic11\", \"Topic11\", \"Topic12\", \"Topic12\", \"Topic12\", \"Topic12\", \"Topic12\", \"Topic12\", \"Topic12\", \"Topic12\", \"Topic12\", \"Topic12\", \"Topic12\", \"Topic12\", \"Topic12\", \"Topic12\", \"Topic12\", \"Topic12\", \"Topic12\", \"Topic12\", \"Topic12\", \"Topic12\", \"Topic12\", \"Topic12\", \"Topic12\", \"Topic12\", \"Topic12\", \"Topic12\", \"Topic12\", \"Topic12\", \"Topic12\", \"Topic12\", \"Topic12\", \"Topic12\", \"Topic12\", \"Topic12\", \"Topic12\", \"Topic12\", \"Topic12\", \"Topic12\", \"Topic12\", \"Topic12\", \"Topic12\", \"Topic12\", \"Topic12\", \"Topic12\", \"Topic12\", \"Topic12\", \"Topic12\", \"Topic12\", \"Topic12\", \"Topic12\", \"Topic12\", \"Topic12\", \"Topic12\", \"Topic12\", \"Topic12\", \"Topic12\", \"Topic12\", \"Topic12\", \"Topic12\", \"Topic12\", \"Topic12\", \"Topic12\", \"Topic12\", \"Topic12\", \"Topic12\", \"Topic12\", \"Topic12\", \"Topic12\", \"Topic12\", \"Topic12\", \"Topic12\", \"Topic12\", \"Topic12\", \"Topic12\", \"Topic12\", \"Topic12\", \"Topic12\", \"Topic12\", \"Topic12\", \"Topic13\", \"Topic13\", \"Topic13\", \"Topic13\", \"Topic13\", \"Topic13\", \"Topic13\", \"Topic13\", \"Topic13\", \"Topic13\", \"Topic13\", \"Topic13\", \"Topic13\", \"Topic13\", \"Topic13\", \"Topic13\", \"Topic13\", \"Topic13\", \"Topic13\", \"Topic13\", \"Topic13\", \"Topic13\", \"Topic13\", \"Topic13\", \"Topic13\", \"Topic13\", \"Topic13\", \"Topic13\", \"Topic13\", \"Topic13\", \"Topic13\", \"Topic13\", \"Topic13\", \"Topic13\", \"Topic13\", \"Topic13\", \"Topic13\", \"Topic13\", \"Topic13\", \"Topic13\", \"Topic13\", \"Topic13\", \"Topic13\", \"Topic13\", \"Topic13\", \"Topic13\", \"Topic14\", \"Topic14\", \"Topic14\", \"Topic14\", \"Topic14\", \"Topic14\", \"Topic14\", \"Topic14\", \"Topic14\", \"Topic14\", \"Topic14\", \"Topic14\", \"Topic14\", \"Topic14\", \"Topic14\", \"Topic14\", \"Topic14\", \"Topic14\", \"Topic14\", \"Topic14\", \"Topic14\", \"Topic14\", \"Topic14\", \"Topic14\", \"Topic14\", \"Topic14\", \"Topic14\", \"Topic14\", \"Topic14\", \"Topic14\", \"Topic14\", \"Topic14\", \"Topic14\", \"Topic14\", \"Topic14\", \"Topic14\", \"Topic14\", \"Topic14\", \"Topic14\", \"Topic14\", \"Topic14\", \"Topic14\", \"Topic14\", \"Topic14\", \"Topic14\", \"Topic14\", \"Topic14\", \"Topic14\", \"Topic14\", \"Topic14\", \"Topic14\", \"Topic14\", \"Topic14\", \"Topic14\", \"Topic14\", \"Topic14\", \"Topic15\", \"Topic15\", \"Topic15\", \"Topic15\", \"Topic15\", \"Topic15\", \"Topic15\", \"Topic15\", \"Topic15\", \"Topic15\", \"Topic15\", \"Topic15\", \"Topic15\", \"Topic15\", \"Topic15\", \"Topic15\", \"Topic15\", \"Topic15\", \"Topic15\", \"Topic15\", \"Topic15\", \"Topic15\", \"Topic15\", \"Topic15\", \"Topic15\", \"Topic15\", \"Topic15\", \"Topic15\", \"Topic15\", \"Topic15\", \"Topic15\", \"Topic15\", \"Topic15\", \"Topic15\", \"Topic15\", \"Topic15\", \"Topic15\", \"Topic15\", \"Topic15\", \"Topic15\", \"Topic15\", \"Topic15\", \"Topic15\", \"Topic15\", \"Topic15\", \"Topic15\", \"Topic15\", \"Topic15\", \"Topic15\", \"Topic15\", \"Topic15\", \"Topic15\", \"Topic15\", \"Topic15\", \"Topic15\", \"Topic15\", \"Topic15\", \"Topic15\", \"Topic15\", \"Topic15\", \"Topic15\", \"Topic15\", \"Topic15\", \"Topic15\", \"Topic15\", \"Topic15\", \"Topic15\", \"Topic15\", \"Topic15\", \"Topic15\", \"Topic15\"], \"logprob\": [30.0, 29.0, 28.0, 27.0, 26.0, 25.0, 24.0, 23.0, 22.0, 21.0, 20.0, 19.0, 18.0, 17.0, 16.0, 15.0, 14.0, 13.0, 12.0, 11.0, 10.0, 9.0, 8.0, 7.0, 6.0, 5.0, 4.0, 3.0, 2.0, 1.0, -7.8672, -8.4721, -8.6544, -8.6531, -8.6535, -8.6553, -8.7606, -8.7614, -8.7581, -8.8778, -8.7623, -8.8773, -8.8802, -9.0092, -9.0116, -9.0124, -9.0179, -9.1626, -9.1631, -9.1644, -9.1712, -9.1748, -9.194, -9.3451, -9.3578, -9.358, -9.35, -7.9862, -9.1802, -9.1844, -8.3528, -7.6864, -7.5423, -8.0521, -7.4793, -8.3906, -8.2683, -6.9617, -7.0282, -8.3308, -7.9928, -8.4688, -5.4762, -5.339, -6.4272, -6.2925, -4.3191, -6.6445, -6.0114, -7.3482, -4.5951, -5.7362, -5.3482, -6.9329, -5.6809, -6.0198, -5.7177, -5.5014, -7.1446, -6.7468, -6.4569, -4.0303, -5.5792, -5.0128, -6.7077, -5.3662, -4.9083, -5.1432, -5.1836, -5.7494, -4.9576, -4.8879, -5.1955, -5.6276, -5.5957, -5.2819, -5.2741, -5.5701, -5.5836, -4.751, -4.7646, -5.4181, -4.5642, -5.3008, -5.4659, -5.3529, -5.2919, -5.1559, -5.3527, -5.2756, -5.3695, -5.4509, -5.4632, -5.4723, -8.0748, -8.1607, -8.3215, -6.6974, -8.4371, -8.28, -6.9453, -8.3927, -7.9885, -8.8151, -7.4203, -4.8524, -7.6034, -9.1744, -5.4692, -6.5946, -6.7498, -8.4349, -9.2187, -7.734, -7.7675, -8.9498, -8.4193, -8.0747, -8.3001, -8.8868, -8.5217, -8.1602, -8.7053, -8.7055, -5.8379, -6.9709, -6.6924, -7.863, -5.7728, -6.5071, -5.4286, -6.8657, -5.4886, -5.7136, -5.5581, -6.6065, -6.5088, -5.8574, -4.7343, -5.7835, -5.7784, -5.0199, -5.4297, -5.9878, -6.1004, -6.2463, -5.573, -4.9438, -4.9927, -5.3011, -5.3951, -4.51, -4.6807, -5.3251, -4.9549, -5.2076, -5.2652, -5.4564, -5.1798, -5.2279, -5.3311, -5.2131, -5.0489, -5.2163, -5.0768, -5.0197, -5.1127, -5.177, -5.346, -5.4079, -5.4437, -5.4586, -7.499, -7.5045, -6.6613, -7.8547, -7.887, -6.8711, -7.9676, -7.2081, -7.8109, -8.0184, -7.6832, -7.0143, -6.5238, -7.8508, -6.791, -6.1694, -7.2972, -6.706, -7.6596, -8.1257, -7.9845, -7.7148, -8.0121, -7.7342, -7.7407, -7.9071, -7.6578, -8.2766, -7.3422, -8.2971, -7.5212, -4.7223, -6.8325, -7.1455, -6.2569, -5.987, -6.2653, -5.6672, -5.9184, -3.8578, -5.6845, -4.5048, -4.7265, -5.4082, -4.8485, -5.8754, -6.3144, -6.5151, -5.0709, -3.9446, -5.0575, -4.5007, -4.7619, -4.7794, -4.992, -5.3026, -5.3564, -5.9245, -5.7824, -4.9529, -4.8705, -4.8783, -5.2088, -4.5972, -4.7602, -4.7008, -4.907, -5.5053, -4.8738, -5.1513, -5.182, -5.3703, -5.2036, -5.305, -5.2824, -5.3794, -5.0047, -4.7013, -4.4305, -8.6643, -4.1921, -3.7918, -4.7341, -4.3299, -6.6287, -3.4963, -4.1387, -3.7933, -4.3238, -4.9707, -4.6409, -8.7854, -5.0407, -4.805, -5.6055, -4.4591, -5.7182, -5.1248, -4.5103, -5.0144, -5.2622, -3.975, -5.0836, -6.0608, -5.8016, -4.3715, -4.6259, -3.926, -4.2556, -3.9372, -4.1543, -4.5256, -4.5452, -4.1147, -4.7304, -4.5105, -4.665, -4.4925, -4.6453, -4.6275, -4.6789, -6.2433, -6.0159, -4.0767, -5.0185, -4.3231, -4.835, -6.1552, -6.3861, -5.1048, -5.6743, -6.1086, -5.8651, -6.0838, -3.8893, -5.0524, -4.8996, -5.259, -5.588, -2.5435, -4.3742, -5.6991, -6.0887, -5.7513, -5.8251, -5.457, -4.8966, -4.6519, -5.7588, -6.2535, -4.2105, -5.7458, -3.9982, -4.8407, -4.1611, -4.0588, -4.107, -4.2955, -4.6424, -4.4594, -4.8738, -4.6137, -4.3364, -4.39, -4.4161, -4.2759, -4.9315, -5.2238, -4.7837, -4.7326, -4.6957, -4.7953, -4.8169, -6.2433, -7.8844, -7.6899, -8.1876, -6.456, -7.8942, -7.9243, -8.1043, -7.96, -8.3002, -8.3407, -8.1803, -8.0615, -7.2458, -7.4051, -8.2452, -8.1622, -8.1806, -8.5043, -8.5085, -7.5717, -7.7556, -7.6001, -6.7124, -8.3744, -7.8033, -8.5696, -6.6886, -8.5793, -7.5132, -4.1674, -7.4942, -5.3558, -7.1229, -6.0561, -5.9023, -6.0426, -5.8121, -6.5275, -6.8914, -6.3129, -4.7627, -5.2393, -5.1977, -5.8472, -3.9334, -5.3634, -5.5248, -4.8329, -5.4353, -4.5114, -4.7062, -3.6882, -5.9294, -4.5035, -4.3942, -5.4121, -5.2108, -4.6246, -4.893, -4.9837, -4.5577, -5.102, -5.0071, -4.772, -4.5287, -4.5066, -4.9055, -5.2938, -5.2939, -5.1524, -5.0486, -5.2624, -5.1803, -5.1393, -5.2033, -5.2008, -5.2362, -5.2525, -5.3761, -6.5885, -6.2288, -6.5901, -3.2572, -6.4297, -6.6823, -6.4865, -6.9104, -6.1045, -6.5611, -3.5325, -4.1658, -7.2512, -5.9431, -5.9046, -4.8891, -6.7676, -5.7583, -7.167, -4.8291, -6.6377, -6.216, -5.4379, -6.2121, -5.7349, -7.2854, -4.9679, -7.9173, -3.0406, -3.388, -3.9633, -5.1571, -4.2138, -3.0648, -4.7851, -5.7047, -4.4254, -5.114, -4.6939, -4.4389, -4.0308, -4.6542, -4.8689, -4.2865, -5.4834, -5.1985, -4.3844, -4.4207, -5.0938, -5.2684, -5.0518, -5.0382, -4.8907, -5.0175, -4.9667, -5.0689, -5.1387, -7.343, -6.6735, -7.4749, -7.5697, -7.8388, -7.8574, -7.399, -7.6737, -7.4189, -8.2128, -7.5219, -7.3868, -7.461, -7.2369, -8.045, -6.6389, -8.4168, -8.0262, -8.5978, -6.4592, -7.678, -8.1571, -7.8721, -8.4675, -8.1911, -5.4902, -7.4031, -7.8728, -7.4648, -8.3556, -4.4267, -7.0879, -6.4508, -7.3459, -6.6344, -6.9043, -6.7609, -5.3566, -4.1595, -5.9864, -6.2841, -4.913, -5.7206, -6.0826, -4.206, -5.0778, -3.878, -5.3962, -5.0342, -4.4849, -4.9815, -5.37, -4.6044, -4.584, -4.8223, -5.6702, -5.5218, -4.5078, -5.7765, -4.7366, -4.656, -4.8616, -5.4785, -4.4943, -5.2135, -5.2155, -5.2253, -5.02, -4.9057, -4.7821, -5.1549, -5.0316, -5.1855, -4.949, -5.2199, -5.1512, -5.1494, -8.1632, -8.282, -8.1144, -8.6595, -8.7521, -9.1076, -7.3599, -8.5106, -9.4732, -9.0132, -8.7893, -7.8872, -9.0228, -8.6422, -6.8589, -6.9451, -7.8147, -8.9408, -6.2878, -8.9585, -6.8116, -6.9198, -7.2217, -8.1004, -8.8824, -8.0177, -6.6301, -9.1243, -9.4121, -8.6442, -8.0845, -5.1411, -4.5389, -7.5329, -6.3817, -5.4918, -4.2955, -6.6705, -5.3455, -5.3824, -6.7256, -5.4022, -6.275, -7.1006, -7.0102, -6.3364, -7.0878, -7.235, -5.581, -4.4668, -5.4314, -5.8675, -5.3992, -5.6171, -4.8696, -5.1772, -5.3571, -5.428, -5.3709, -4.8584, -5.0722, -4.6938, -4.9781, -5.2729, -5.0895, -5.1886, -4.776, -4.7396, -5.4101, -4.8616, -5.1086, -5.6069, -5.3884, -5.3295, -5.2958, -5.3849, -7.135, -5.9135, -7.1752, -7.4987, -6.225, -7.5424, -7.8109, -7.9598, -7.8454, -7.3769, -8.163, -7.9986, -6.6043, -8.0141, -7.5006, -6.6657, -7.973, -8.259, -5.5719, -7.0463, -6.5464, -8.5164, -7.5229, -8.0862, -7.952, -6.6403, -5.3107, -7.974, -6.388, -8.2624, -7.3141, -6.3312, -6.1045, -4.1985, -5.7417, -5.8789, -5.1952, -5.2848, -6.1426, -4.8138, -4.7605, -6.0774, -4.9901, -4.826, -4.2839, -3.6781, -4.4598, -4.2748, -4.3366, -5.036, -4.612, -4.9107, -4.5359, -4.7108, -4.3619, -4.877, -5.3223, -5.0339, -5.5276, -5.2053, -4.9116, -5.0785, -5.2676, -4.9586, -5.1867, -5.5006, -5.2554, -5.3474, -6.1345, -6.9701, -6.3564, -7.4354, -6.8447, -4.4041, -6.5255, -6.834, -7.0465, -7.3724, -7.3927, -7.6691, -7.5385, -8.0016, -7.5419, -6.359, -6.6684, -6.7371, -6.9303, -6.5116, -4.7642, -6.4749, -6.5776, -7.5584, -7.2213, -7.6714, -6.7875, -7.6946, -6.9014, -8.1049, -7.1878, -6.007, -3.1077, -4.1747, -6.917, -3.9695, -5.3337, -3.1635, -4.7187, -5.8321, -4.6504, -5.2384, -5.6132, -4.558, -4.4088, -4.9313, -4.6515, -4.0228, -4.8864, -4.8147, -4.8832, -4.6727, -4.5608, -4.4485, -5.4516, -5.3193, -5.0201, -5.4766, -4.7986, -5.1491, -5.268, -4.983, -5.086, -5.1168, -5.1042, -5.2614, -7.8847, -7.8861, -8.0491, -8.2416, -8.3167, -8.4845, -8.5781, -8.801, -8.801, -8.4928, -9.0888, -9.0889, -8.9453, -9.1091, -8.9526, -8.8386, -8.1036, -7.8752, -8.2577, -8.6632, -7.3591, -8.197, -7.8411, -6.9945, -8.2794, -8.1157, -8.9272, -8.2487, -7.9377, -7.8242, -6.8111, -5.8709, -6.901, -4.5336, -6.5757, -5.4142, -6.3877, -4.0858, -5.0539, -4.9311, -7.6536, -7.4168, -5.8763, -6.4236, -4.1153, -4.6029, -4.6041, -5.8984, -5.7889, -3.6819, -4.7025, -5.7408, -5.6478, -4.3583, -5.0231, -5.3363, -6.856, -5.6394, -6.3527, -5.1629, -5.3111, -4.182, -4.4756, -4.3801, -4.6908, -5.4958, -5.2104, -4.4713, -5.0578, -4.7927, -4.7696, -5.1814, -4.7102, -5.0837, -5.3652, -5.1666, -5.0641, -5.2104, -5.2229, -3.8811, -4.8448, -3.5368, -5.2902, -2.969, -5.1788, -4.9065, -5.039, -5.347, -4.558, -3.9578, -4.3902, -4.38, -5.7857, -5.2716, -4.6416, -4.9824, -5.3517, -5.0836, -5.3541, -5.9274, -5.2256, -5.7365, -4.4324, -3.6253, -3.4441, -4.1965, -2.8419, -4.6576, -5.3243, -4.1973, -3.9302, -4.6491, -3.9802, -3.6031, -4.1153, -4.4414, -3.9369, -4.157, -3.9269, -4.6163, -4.6668, -4.6274, -4.5485, -4.59, -4.732, -5.4534, -6.5317, -5.5465, -5.7408, -6.2651, -6.2527, -3.8452, -6.1877, -5.3272, -4.1628, -4.3045, -6.0856, -2.6924, -5.3493, -6.1909, -3.6379, -4.9194, -5.7837, -5.5873, -6.006, -5.5632, -5.1533, -6.0842, -5.264, -5.8093, -2.6904, -5.4895, -3.7332, -6.5123, -6.2768, -5.4347, -5.1107, -3.8495, -5.1536, -5.1675, -4.8672, -3.9788, -4.8121, -4.7122, -4.0985, -4.7921, -4.443, -4.216, -4.377, -4.4484, -4.872, -4.5077, -4.5349, -4.7274, -4.8952, -4.9192, -4.8382, -5.0045, -4.8173, -4.9844, -5.0215, -4.8533, -5.9629, -7.8692, -7.1141, -6.2907, -8.9031, -7.3996, -6.4017, -7.8664, -6.1672, -7.9541, -6.5972, -8.6419, -7.4334, -6.1546, -7.268, -7.0838, -8.371, -7.9737, -8.0358, -8.4769, -7.3893, -7.2938, -8.0543, -7.6758, -8.9684, -8.8235, -8.588, -8.03, -7.2882, -6.7961, -6.9078, -7.9868, -4.3901, -7.4274, -7.1846, -4.6321, -5.6402, -6.911, -5.015, -4.787, -5.481, -6.4993, -4.9444, -4.5198, -4.0939, -4.9396, -4.9546, -5.4071, -4.5978, -4.807, -5.3059, -5.4647, -5.1359, -5.7526, -5.2902, -4.6724, -4.6286, -5.3967, -5.0351, -4.775, -5.0965, -5.0966, -5.4567, -5.1324, -5.2179, -5.053, -5.4015, -5.2234, -5.2965, -5.4423], \"loglift\": [30.0, 29.0, 28.0, 27.0, 26.0, 25.0, 24.0, 23.0, 22.0, 21.0, 20.0, 19.0, 18.0, 17.0, 16.0, 15.0, 14.0, 13.0, 12.0, 11.0, 10.0, 9.0, 8.0, 7.0, 6.0, 5.0, 4.0, 3.0, 2.0, 1.0, 1.7633, 1.7583, 1.7561, 1.7561, 1.7559, 1.7559, 1.7549, 1.7549, 1.7546, 1.752, 1.7518, 1.7515, 1.7498, 1.7496, 1.7495, 1.7488, 1.7464, 1.7463, 1.7462, 1.7461, 1.7459, 1.7455, 1.7423, 1.7409, 1.74, 1.7398, 1.7395, 1.7376, 1.7359, 1.7356, 1.725, 1.7012, 1.683, 1.6713, 1.6281, 1.6858, 1.6769, 1.5687, 1.571, 1.6761, 1.6348, 1.6818, 1.3685, 1.3388, 1.4412, 1.4088, 1.1032, 1.4105, 1.3051, 1.5206, 1.0431, 1.2208, 1.1289, 1.4286, 1.1781, 1.2421, 1.1784, 1.1164, 1.4515, 1.3667, 1.3003, 0.7407, 1.0836, 0.9504, 1.3429, 0.992, 0.859, 0.9205, 0.9165, 1.0844, 0.8475, 0.8181, 0.8665, 1.0096, 0.9931, 0.7947, 0.7684, 0.8999, 0.8997, 0.406, 0.3952, 0.7781, 0.0894, 0.6498, 0.7969, 0.5623, 0.301, 0.0009, 0.1122, -0.2952, -0.0296, 0.3045, -0.6724, -0.8002, 1.8911, 1.8757, 1.8665, 1.8578, 1.8378, 1.8309, 1.8253, 1.797, 1.7907, 1.7767, 1.7679, 1.7496, 1.7132, 1.7036, 1.7033, 1.6847, 1.6828, 1.6812, 1.658, 1.6556, 1.6527, 1.6459, 1.625, 1.6135, 1.6133, 1.5969, 1.5906, 1.5836, 1.5794, 1.5793, 1.5591, 1.5686, 1.5336, 1.5685, 1.4415, 1.4764, 1.3884, 1.4733, 1.2752, 1.2868, 1.2586, 1.3683, 1.3479, 1.2301, 1.0113, 1.0894, 1.0379, 0.7469, 0.8578, 1.0297, 1.0666, 1.0955, 0.7971, 0.5106, 0.5226, 0.655, 0.6608, 0.1436, 0.1101, 0.4866, 0.2021, 0.3107, 0.3339, 0.4877, 0.1976, 0.237, 0.3165, 0.1814, -0.0171, 0.137, -0.0965, -0.3477, -0.3417, -0.3039, -0.001, 0.019, 0.3236, 0.2114, 3.3998, 3.397, 3.2679, 3.2189, 3.196, 3.1939, 3.1103, 3.091, 3.0899, 3.0756, 3.0665, 3.0474, 3.04, 3.0392, 3.0135, 3.0082, 3.0046, 2.9953, 2.958, 2.9512, 2.9189, 2.9078, 2.9002, 2.8798, 2.864, 2.8527, 2.8416, 2.8004, 2.7896, 2.7806, 2.7781, 2.7396, 2.7243, 2.7235, 2.5202, 2.3888, 2.4273, 2.2465, 2.3163, 1.6041, 2.2121, 1.777, 1.8344, 1.9447, 1.6742, 2.1489, 2.2844, 2.3686, 1.5171, 0.8264, 1.4525, 0.9808, 1.1012, 0.9879, 1.1659, 1.342, 1.3369, 1.8823, 1.7186, 0.7987, 0.6478, 0.6369, 1.0323, 0.1936, 0.3968, -0.0472, 0.2498, 1.2643, -0.0007, 0.5548, 0.5761, 0.8926, 0.1738, 0.5067, 0.3652, 0.5233, 5.5883, 5.3334, 4.9276, 2.3894, 2.1494, 1.9755, 1.9592, 1.9112, 1.9077, 1.881, 1.7419, 1.725, 1.6268, 1.4511, 1.3864, 1.3486, 1.3379, 1.3188, 1.3011, 1.2926, 1.2737, 1.2714, 1.1957, 1.1865, 1.1826, 1.182, 1.1622, 1.1531, 1.1174, 1.0829, 1.027, 0.8648, 0.9042, 0.8338, 0.8261, 0.9394, 0.8493, 0.539, 0.8624, 0.6463, 0.797, 0.5393, 0.6997, 0.633, 0.661, 4.4789, 4.4334, 4.3558, 4.2869, 3.9777, 3.9648, 3.8853, 3.8328, 3.8198, 3.7291, 3.688, 3.6671, 3.6538, 3.6359, 3.633, 3.6251, 3.5566, 3.5327, 3.5254, 3.5164, 3.4447, 3.4284, 3.3981, 3.3656, 3.3421, 3.3284, 3.2171, 3.2164, 3.2161, 3.2078, 3.2065, 3.1233, 3.1347, 2.9821, 2.2287, 2.2014, 2.3163, 2.5627, 2.3329, 2.6731, 2.2503, 1.8165, 1.721, 1.441, 1.0691, 2.2866, 2.8608, 1.5556, 1.3577, 0.6576, 0.582, -0.1633, 2.9958, 2.9562, 2.8708, 2.8211, 2.8005, 2.7995, 2.7627, 2.7486, 2.738, 2.7158, 2.6817, 2.6637, 2.6413, 2.6389, 2.6069, 2.5722, 2.5437, 2.5286, 2.5268, 2.5252, 2.5185, 2.5011, 2.4966, 2.48, 2.4709, 2.4602, 2.46, 2.4553, 2.4542, 2.4418, 2.2452, 2.4062, 2.1408, 2.335, 2.1623, 2.0916, 2.0964, 2.0337, 2.185, 2.2556, 2.1045, 1.6908, 1.8163, 1.7873, 1.9572, 1.3477, 1.7652, 1.8162, 1.5523, 1.7503, 1.3706, 1.408, 0.9655, 1.8867, 1.0955, 0.9591, 1.4609, 1.2836, 0.7699, 0.9187, 0.9817, 0.5993, 1.0715, 0.949, 0.6654, 0.3443, 0.2842, 0.7644, 1.2215, 1.1061, 0.7392, 0.4667, 0.9333, 0.5865, 0.3151, 0.2236, 0.1766, 0.4758, -0.0957, 4.2131, 4.1899, 4.1603, 4.0582, 3.9787, 3.9773, 3.8544, 3.8375, 3.7644, 3.7553, 3.6769, 3.6546, 3.641, 3.5889, 3.5267, 3.5167, 3.4997, 3.4838, 3.4628, 3.4081, 3.385, 3.3778, 3.347, 3.2909, 3.229, 3.1846, 3.162, 3.1582, 3.123, 3.1173, 2.8938, 2.6268, 2.7806, 2.2963, 1.7062, 2.4887, 2.9016, 2.0194, 2.4659, 2.1482, 1.8268, 1.4237, 1.9904, 2.1621, 1.4651, 2.6739, 2.2567, 0.9929, 0.9243, 1.9618, 2.2503, 1.7066, 1.42, 0.6276, 1.1063, -0.1759, 0.3685, 0.3232, 2.8586, 2.8392, 2.8148, 2.8132, 2.7653, 2.7473, 2.7258, 2.703, 2.7024, 2.6911, 2.6831, 2.668, 2.6634, 2.6187, 2.5639, 2.5341, 2.4811, 2.4688, 2.4678, 2.459, 2.4578, 2.4489, 2.4214, 2.421, 2.4204, 2.418, 2.4053, 2.3994, 2.3976, 2.3845, 2.3722, 2.3529, 2.2806, 2.3509, 2.2526, 2.2719, 2.2488, 2.0192, 1.7036, 2.0703, 2.1321, 1.7315, 1.9253, 1.9967, 1.2755, 1.4943, 0.9128, 1.593, 1.4106, 1.0334, 1.2843, 1.494, 1.0431, 1.0151, 1.1217, 1.6411, 1.5394, 0.8372, 1.6752, 0.9334, 0.7984, 0.9052, 1.4104, 0.3787, 1.0275, 0.956, 0.8985, 0.4953, 0.2512, -0.0111, 0.6568, 0.3458, 0.7173, 0.0314, 0.6607, 0.2433, -0.4958, 1.6503, 1.6486, 1.6461, 1.6438, 1.643, 1.6367, 1.636, 1.626, 1.6097, 1.6057, 1.6057, 1.601, 1.5976, 1.5754, 1.5753, 1.575, 1.5609, 1.5604, 1.556, 1.5428, 1.5313, 1.5278, 1.5173, 1.5165, 1.5162, 1.5116, 1.4969, 1.491, 1.49, 1.4898, 1.4864, 1.4376, 1.3638, 1.4516, 1.3519, 1.2778, 1.1664, 1.3455, 1.1741, 1.1785, 1.3184, 1.1205, 1.2228, 1.3418, 1.3243, 1.1647, 1.3095, 1.3296, 0.9291, 0.5649, 0.8097, 0.9314, 0.757, 0.8048, 0.5077, 0.5744, 0.6083, 0.6279, 0.5731, 0.2986, 0.4093, 0.1792, 0.3029, 0.4728, 0.2555, 0.3267, 0.0148, -0.0859, 0.453, -0.0906, 0.0483, 0.546, 0.2044, 0.065, -0.136, 0.0696, 3.0798, 3.01, 2.9577, 2.8931, 2.8619, 2.8484, 2.7956, 2.786, 2.7689, 2.7522, 2.7379, 2.7328, 2.7294, 2.722, 2.7104, 2.7082, 2.6408, 2.6355, 2.6145, 2.6133, 2.5981, 2.5595, 2.5391, 2.5354, 2.5349, 2.5337, 2.4976, 2.4943, 2.4689, 2.4531, 2.433, 2.3679, 2.3233, 2.1195, 2.2389, 2.2079, 2.0282, 2.0263, 2.1955, 1.7295, 1.6449, 2.0662, 1.6821, 1.6161, 1.369, 1.1127, 1.4208, 1.2405, 1.2625, 1.5479, 1.2699, 1.2628, 0.9185, 1.0013, 0.2917, 0.7929, 1.2645, 0.7329, 1.3396, 0.9035, 0.2452, 0.2988, 0.6885, -0.1877, 0.2507, 1.2322, 0.0979, -0.0664, 3.5946, 3.5621, 3.441, 3.3948, 3.3842, 3.3423, 3.2873, 3.2452, 3.1955, 3.184, 3.0562, 3.0545, 3.0308, 3.0278, 3.0133, 2.9996, 2.9878, 2.9749, 2.897, 2.8875, 2.8869, 2.8606, 2.8032, 2.798, 2.7905, 2.7839, 2.7807, 2.7751, 2.7742, 2.7538, 2.7078, 2.5769, 2.2322, 2.1949, 2.6636, 1.9111, 2.2315, 1.5085, 1.9701, 2.3438, 1.755, 1.9818, 2.1575, 1.5324, 1.4482, 1.7409, 1.4574, 0.9576, 1.4991, 1.2126, 1.2499, 1.0394, 0.9207, 0.7084, 1.7838, 1.5646, 1.1924, 1.6732, 0.5788, 1.0519, 1.2552, 0.4544, 0.5615, 0.5361, 0.2123, -0.0009, 1.8272, 1.8257, 1.8247, 1.8236, 1.8219, 1.8205, 1.8191, 1.8152, 1.8151, 1.8137, 1.8087, 1.8086, 1.8083, 1.8053, 1.7967, 1.7806, 1.7713, 1.7428, 1.7421, 1.7395, 1.7388, 1.735, 1.7337, 1.7281, 1.7164, 1.6974, 1.6922, 1.6875, 1.6797, 1.6656, 1.6558, 1.642, 1.651, 1.5718, 1.6019, 1.5189, 1.5622, 1.3411, 1.4252, 1.357, 1.6571, 1.63, 1.4553, 1.5134, 1.2012, 1.2416, 1.2342, 1.419, 1.3625, 0.9901, 1.1461, 1.3289, 1.3097, 1.0574, 1.1101, 1.1626, 1.5106, 1.2123, 1.3797, 1.0443, 1.0745, 0.691, 0.7849, 0.6517, 0.7467, 1.0519, 0.9006, 0.5091, 0.7599, 0.5606, 0.5114, 0.8267, -0.0565, 0.2613, 0.7252, 0.2279, -0.2733, -0.0535, -0.0631, 4.822, 4.4797, 4.4386, 4.0906, 4.0842, 3.9826, 3.663, 3.614, 3.5211, 3.4263, 3.3609, 3.2887, 3.167, 3.0141, 2.9606, 2.8305, 2.8051, 2.7822, 2.7325, 2.6583, 2.5666, 2.5445, 2.5188, 2.5066, 2.4985, 2.4365, 2.4337, 2.4186, 2.3273, 2.3126, 2.2609, 2.1601, 2.2698, 2.0887, 1.7368, 1.9406, 2.1301, 1.5281, 1.7346, 1.0535, 1.9557, 2.0265, 1.6607, 0.8288, 1.0028, 0.613, 4.0554, 3.9494, 3.9361, 3.8905, 3.8298, 3.4625, 3.3805, 3.3497, 3.3166, 3.3053, 3.164, 3.1254, 3.1039, 3.0806, 3.0261, 2.9502, 2.9496, 2.9215, 2.8904, 2.763, 2.7475, 2.7384, 2.6968, 2.6965, 2.6513, 2.6495, 2.6123, 2.5784, 2.5761, 2.571, 2.5495, 2.5315, 2.3689, 2.4833, 2.4598, 2.3362, 1.9364, 2.2628, 1.9775, 1.3664, 1.9671, 1.5844, 1.1005, 1.1414, 1.0331, 1.6269, 0.6491, 0.6249, 0.5331, 1.1814, 1.0314, 0.5068, 1.4978, 0.163, 0.7277, 1.0786, 2.1955, 2.1939, 2.1826, 2.1814, 2.1752, 2.1628, 2.1606, 2.1235, 2.1169, 2.1028, 2.1007, 2.097, 2.0946, 2.0864, 2.0813, 2.029, 2.0283, 2.017, 2.0163, 2.0156, 2.0153, 2.0138, 2.006, 1.9918, 1.9249, 1.9222, 1.9188, 1.8977, 1.8952, 1.887, 1.8641, 1.8273, 1.8795, 1.6652, 1.843, 1.8068, 1.376, 1.4452, 1.6966, 1.1697, 1.0616, 1.2177, 1.542, 1.0188, 0.7967, 0.5782, 0.8158, 0.8035, 0.9929, 0.562, 0.6087, 0.8272, 0.9126, 0.7023, 1.083, 0.7735, 0.308, 0.1423, 0.7143, 0.3872, 0.0981, 0.3684, 0.1844, 0.5799, -0.1006, 0.0426, -0.3994, 0.4431, -0.4326, -0.1397, -0.0478]}, \"token.table\": {\"Topic\": [1, 2, 3, 4, 6, 7, 8, 9, 10, 11, 12, 15, 1, 3, 9, 1, 2, 3, 6, 7, 8, 9, 10, 11, 12, 13, 14, 15, 1, 2, 3, 5, 6, 9, 10, 12, 6, 9, 15, 1, 2, 6, 9, 12, 1, 2, 3, 4, 5, 6, 7, 8, 9, 10, 11, 12, 13, 14, 15, 1, 1, 2, 3, 6, 7, 8, 9, 10, 12, 15, 1, 2, 3, 4, 6, 7, 8, 9, 10, 12, 15, 1, 2, 4, 5, 6, 8, 9, 10, 11, 12, 14, 15, 1, 6, 9, 12, 1, 5, 9, 15, 1, 2, 3, 8, 9, 10, 11, 15, 1, 2, 3, 6, 8, 9, 10, 11, 12, 15, 1, 2, 11, 3, 9, 12, 8, 9, 1, 2, 6, 2, 9, 10, 8, 9, 12, 1, 2, 3, 7, 9, 14, 15, 1, 12, 9, 15, 2, 11, 12, 13, 14, 5, 11, 13, 14, 12, 1, 2, 6, 8, 9, 10, 12, 15, 2, 11, 12, 1, 8, 9, 12, 15, 1, 2, 3, 4, 5, 6, 7, 8, 9, 10, 11, 12, 13, 14, 15, 1, 2, 9, 15, 1, 2, 3, 5, 6, 7, 8, 9, 10, 11, 12, 15, 1, 2, 3, 6, 9, 10, 11, 12, 1, 2, 10, 1, 2, 5, 11, 12, 14, 1, 2, 3, 4, 7, 9, 11, 12, 14, 15, 1, 2, 5, 6, 8, 9, 10, 11, 12, 14, 15, 1, 11, 1, 2, 3, 4, 5, 6, 7, 8, 9, 10, 11, 12, 13, 14, 15, 1, 2, 3, 7, 9, 10, 11, 12, 14, 15, 1, 2, 6, 8, 9, 12, 13, 15, 2, 10, 12, 12, 15, 1, 2, 3, 4, 6, 8, 9, 10, 12, 13, 14, 15, 1, 2, 8, 11, 1, 2, 6, 9, 12, 1, 2, 3, 7, 8, 9, 10, 15, 1, 2, 3, 4, 5, 6, 7, 8, 9, 10, 11, 12, 13, 14, 15, 1, 3, 7, 9, 15, 2, 8, 9, 10, 1, 1, 3, 9, 10, 12, 1, 2, 3, 4, 5, 6, 7, 8, 10, 11, 12, 13, 14, 15, 1, 2, 9, 15, 1, 2, 3, 4, 5, 6, 7, 8, 9, 10, 11, 12, 13, 14, 15, 1, 2, 3, 8, 9, 11, 12, 13, 14, 15, 1, 2, 3, 6, 8, 9, 10, 12, 15, 6, 15, 2, 10, 15, 7, 9, 15, 1, 2, 3, 6, 8, 9, 11, 14, 1, 2, 3, 4, 5, 6, 7, 8, 9, 10, 11, 12, 14, 15, 2, 9, 1, 2, 3, 6, 8, 9, 10, 11, 13, 1, 2, 12, 1, 2, 3, 5, 6, 8, 9, 10, 12, 15, 1, 9, 1, 1, 2, 3, 4, 6, 8, 9, 10, 11, 12, 13, 14, 15, 1, 2, 3, 4, 6, 7, 8, 9, 11, 12, 13, 15, 9, 1, 10, 11, 1, 1, 2, 4, 6, 8, 9, 10, 11, 12, 13, 15, 1, 2, 5, 10, 15, 1, 2, 3, 4, 5, 6, 8, 9, 10, 11, 12, 13, 15, 2, 9, 12, 1, 2, 12, 1, 2, 6, 9, 10, 12, 14, 15, 1, 2, 3, 5, 6, 8, 9, 10, 11, 12, 14, 15, 1, 2, 6, 9, 10, 12, 1, 2, 10, 1, 2, 3, 4, 5, 6, 7, 8, 9, 10, 11, 12, 13, 14, 15, 1, 2, 8, 2, 12, 1, 2, 14, 12, 1, 2, 4, 6, 9, 10, 12, 15, 1, 2, 3, 4, 6, 7, 9, 12, 14, 15, 9, 10, 1, 1, 2, 6, 9, 11, 14, 1, 2, 1, 2, 3, 6, 7, 8, 9, 10, 12, 15, 2, 10, 1, 1, 2, 3, 4, 5, 6, 8, 9, 10, 11, 12, 13, 14, 15, 1, 2, 8, 9, 10, 12, 13, 15, 1, 2, 3, 4, 5, 6, 7, 8, 9, 10, 11, 12, 13, 14, 15, 1, 2, 12, 1, 2, 3, 7, 8, 9, 10, 12, 14, 15, 1, 2, 3, 5, 6, 7, 8, 9, 12, 1, 2, 5, 1, 3, 7, 9, 10, 15, 1, 2, 3, 4, 5, 6, 7, 8, 9, 10, 11, 12, 13, 14, 15, 12, 2, 12, 1, 2, 3, 6, 7, 8, 9, 10, 11, 12, 14, 15, 1, 2, 3, 4, 5, 6, 7, 8, 9, 10, 11, 12, 13, 14, 15, 1, 2, 3, 4, 5, 6, 7, 8, 9, 10, 11, 12, 14, 15, 1, 2, 3, 6, 8, 9, 10, 12, 15, 3, 8, 9, 10, 15, 1, 2, 3, 4, 6, 7, 8, 9, 10, 11, 12, 15, 1, 2, 6, 9, 10, 12, 13, 15, 12, 12, 15, 1, 3, 9, 1, 1, 7, 12, 15, 1, 3, 6, 7, 10, 11, 12, 15, 1, 5, 6, 11, 12, 14, 15, 1, 5, 9, 15, 1, 2, 8, 9, 10, 12, 13, 6, 9, 10, 1, 9, 15, 1, 2, 3, 8, 9, 10, 11, 12, 13, 1, 2, 6, 8, 9, 10, 11, 12, 13, 14, 15, 1, 2, 3, 6, 8, 9, 10, 11, 12, 13, 15, 1, 2, 6, 8, 9, 10, 12, 14, 15, 1, 2, 5, 9, 11, 12, 15, 1, 2, 3, 4, 6, 7, 9, 10, 11, 12, 14, 15, 1, 2, 6, 9, 10, 12, 13, 15, 1, 2, 15, 12, 1, 6, 10, 1, 2, 15, 1, 3, 6, 8, 9, 10, 12, 1, 2, 5, 12, 15, 1, 2, 9, 14, 15, 12, 1, 2, 3, 4, 5, 6, 7, 8, 9, 10, 11, 12, 13, 14, 15, 9, 12, 1, 15, 1, 2, 3, 6, 8, 9, 10, 15, 1, 2, 3, 4, 5, 6, 7, 8, 9, 10, 11, 12, 13, 14, 15, 1, 2, 3, 4, 6, 8, 9, 10, 11, 12, 15, 1, 2, 3, 9, 11, 12, 1, 2, 3, 4, 5, 6, 7, 8, 9, 10, 11, 12, 14, 15, 1, 2, 6, 7, 8, 9, 10, 12, 15, 1, 2, 6, 9, 10, 12, 2, 10, 6, 9, 10, 1, 2, 1, 2, 3, 7, 9, 15, 1, 2, 6, 9, 15, 1, 5, 11, 13, 14, 15, 1, 2, 3, 5, 9, 15, 1, 2, 6, 8, 9, 10, 11, 12, 1, 8, 10, 12, 2, 3, 7, 8, 9, 1, 11, 15, 1, 2, 3, 8, 9, 12, 15, 1, 2, 3, 8, 9, 10, 12, 15, 1, 3, 9, 12, 15, 15, 3, 9, 1, 2, 3, 15, 1, 3, 11, 15, 1, 2, 15, 1, 2, 3, 4, 5, 6, 7, 8, 9, 10, 12, 14, 15, 7, 9, 1, 2, 3, 4, 5, 6, 8, 9, 10, 11, 12, 13, 14, 15, 1, 15, 8, 10, 11, 12, 15, 1, 2, 9, 12, 15, 7, 12, 1, 2, 3, 4, 5, 6, 7, 8, 9, 10, 11, 12, 13, 14, 15, 1, 11, 1, 3, 11, 1, 2, 3, 4, 5, 6, 8, 9, 10, 11, 12, 13, 14, 15, 1, 2, 5, 8, 9, 12, 15, 1, 1, 2, 3, 6, 7, 8, 9, 11, 12, 15, 9, 12, 15, 2, 9, 10, 15, 1, 2, 9, 14, 3, 8, 9, 15, 2, 9, 10, 15, 1, 12, 15, 2, 9, 11, 1, 2, 5, 10, 11, 15, 1, 2, 5, 6, 8, 9, 10, 11, 12, 15, 1, 2, 3, 4, 5, 6, 7, 8, 9, 10, 11, 12, 13, 14, 15, 1, 2, 3, 4, 5, 6, 7, 8, 9, 10, 11, 12, 13, 14, 15, 1, 2, 12, 15, 2, 1, 3, 6, 7, 8, 10, 11, 12, 15, 1, 15, 1, 2, 3, 6, 9, 12, 14, 15, 1, 2, 3, 7, 8, 9, 15, 1, 2, 3, 6, 7, 8, 9, 10, 15, 1, 2, 3, 8, 9, 3, 8, 9, 11, 12, 15, 1, 2, 5, 11, 12, 15, 2, 9, 10, 12, 2, 1, 6, 8, 9, 10, 12, 1, 2, 3, 11, 12, 14, 15, 1, 2, 3, 8, 9, 10, 11, 14, 3, 9, 12, 1, 2, 6, 7, 8, 9, 10, 11, 12, 13, 15, 7, 9, 10, 1, 2, 3, 6, 7, 8, 9, 10, 12, 15, 1, 2, 3, 8, 10, 11, 12, 15, 1, 2, 3, 4, 6, 8, 9, 10, 11, 12, 15, 1, 6, 1, 2, 3, 6, 8, 9, 10, 11, 12, 15, 2, 8, 9, 10, 12, 15, 1, 2, 7, 9, 1, 2, 3, 4, 6, 8, 9, 10, 11, 12, 13, 14, 15, 1, 2, 6, 7, 9, 12, 15, 1, 2, 8, 9, 10, 1, 5, 8, 9, 10, 11, 12, 1, 2, 3, 4, 5, 6, 7, 8, 9, 10, 11, 12, 13, 14, 15, 1, 10, 1, 2, 12, 1, 2, 5, 6, 7, 9, 10, 11, 12, 15, 1, 3, 1, 2, 3, 4, 5, 6, 7, 8, 9, 10, 11, 12, 13, 14, 15, 1, 8, 9, 1, 2, 3, 4, 5, 7, 8, 9, 10, 11, 12, 13, 14, 15, 1, 3, 6, 8, 12, 15, 1, 2, 6, 9, 12, 15, 1, 2, 2, 12, 1, 2, 3, 4, 5, 6, 7, 8, 9, 10, 11, 12, 13, 14, 15, 1, 2, 3, 11, 12, 15, 2, 5, 10, 13, 1, 2, 10, 11, 15, 1, 2, 6, 9, 10, 12, 13, 15, 1, 2, 3, 4, 5, 6, 7, 8, 9, 10, 11, 12, 13, 14, 15, 1, 2, 8, 9, 10, 11, 12, 14, 15, 1, 3, 9, 11, 12, 6, 8, 9, 11, 12, 14, 1, 2, 3, 6, 9, 12, 14, 1, 3, 6, 7, 8, 9, 10, 12, 13, 1, 3, 1, 2, 5, 6, 8, 9, 10, 11, 12, 14, 15, 1, 6, 9, 11, 12, 15, 1, 2, 3, 6, 7, 8, 9, 10, 11, 12, 13, 14, 15, 12, 15, 1, 15, 3, 8, 9, 10, 12, 2, 6, 8, 9, 10, 1, 1, 1, 5, 8, 10, 11, 12, 1, 2, 3, 4, 5, 6, 7, 8, 9, 10, 11, 12, 13, 14, 15, 1, 2, 3, 4, 6, 7, 8, 9, 10, 11, 12, 14, 15, 1, 2, 5, 9, 10, 12, 15, 2, 3, 6, 7, 8, 9, 10, 12, 15, 1, 2, 15, 1, 8, 10, 9, 12, 1, 2, 3, 4, 6, 8, 9, 10, 11, 12, 14, 15, 1, 2, 3, 4, 5, 6, 7, 8, 9, 10, 11, 12, 13, 14, 15, 9, 12, 2, 8, 10, 1, 2, 3, 8, 9, 10, 11, 12, 15, 1, 2, 3, 6, 8, 9, 12, 15, 1, 2, 3, 9, 2, 3, 9, 11, 12, 15, 1, 3, 8, 9, 11, 12, 1, 2, 3, 4, 5, 6, 7, 8, 9, 10, 11, 12, 13, 14, 15, 12, 1, 2, 3, 4, 6, 7, 8, 9, 12, 15, 1, 2, 3, 4, 5, 6, 7, 8, 9, 10, 11, 12, 13, 14, 15, 7, 12, 1, 2, 6, 7, 9, 10, 12, 14, 15, 11, 2, 9, 10, 11, 15, 1, 2, 9, 12, 15, 1, 2, 3, 4, 6, 7, 8, 9, 10, 11, 12, 13, 14, 15, 1, 2, 3, 8, 9, 10, 11, 15, 1, 12, 15, 8, 9, 1, 3, 6, 9, 10, 15, 1, 3, 5, 8, 9, 1, 3, 6, 9, 12, 1, 2, 3, 4, 8, 9, 10, 11, 12, 13, 15, 1, 2, 15, 1, 2, 6, 7, 9, 12, 15, 1, 2, 3, 6, 7, 8, 9, 10, 11, 12, 15, 2, 3, 8, 9, 10, 15, 1, 15, 1, 2, 6, 9, 13, 15, 2, 3, 6, 9, 10, 12, 2, 6, 7, 9, 12, 15, 6, 9, 1, 2, 3, 4, 6, 7, 8, 9, 10, 11, 12, 15, 1, 2, 3, 4, 9, 10, 12, 13, 14, 15, 1, 2, 3, 4, 5, 6, 7, 8, 9, 10, 11, 12, 13, 14, 15, 1, 2, 9, 10, 12, 15, 1, 6, 10, 11, 1, 9, 1, 2, 3, 7, 8, 9, 12, 15, 1, 2, 3, 4, 7, 8, 9, 10, 11, 12, 15, 9, 10, 1, 11, 12, 15, 1, 2, 3, 4, 5, 6, 7, 8, 9, 10, 11, 12, 13, 14, 15, 1, 2, 3, 4, 5, 6, 8, 9, 10, 11, 12, 13, 14, 15, 1, 2, 3, 4, 5, 8, 9, 10, 11, 12, 13, 15, 8, 10, 2, 6, 2, 11, 1, 2, 3, 4, 5, 6, 7, 8, 9, 10, 11, 12, 13, 14, 15, 2, 3, 6, 7, 8, 9, 10, 12, 1, 2, 3, 4, 5, 6, 7, 8, 9, 10, 11, 12, 13, 14, 15, 8, 9, 11, 9, 2, 9, 11, 15, 1, 2, 3, 4, 6, 8, 9, 10, 11, 12, 13, 15, 1, 12, 15, 1, 2, 3, 4, 5, 6, 7, 8, 9, 10, 11, 12, 13, 14, 15, 1, 2, 3, 4, 5, 6, 7, 8, 9, 10, 11, 12, 13, 14, 15, 1, 2, 3, 6, 8, 9, 10, 12, 15, 1, 2, 5, 6, 8, 9, 10, 12, 13, 14, 15, 6, 9, 1, 2, 9, 15, 1, 2, 3, 4, 5, 6, 7, 8, 9, 10, 11, 12, 13, 14, 15, 1, 7, 15, 1, 2, 6, 9, 11, 12, 15, 1, 2, 3, 4, 5, 6, 7, 8, 9, 10, 11, 12, 13, 14, 15, 1, 2, 3, 6, 9, 11, 14, 15, 2, 6, 9, 1, 1, 2, 3, 4, 5, 6, 7, 8, 9, 10, 11, 12, 13, 14, 15, 1, 2, 3, 4, 5, 6, 8, 9, 10, 11, 12, 13, 15, 12, 15, 1, 2, 5, 9, 15, 1, 2, 3, 6, 9, 12, 15, 1, 2, 3, 4, 7, 8, 9, 10, 11, 12, 14, 15, 1, 2, 7, 9, 1, 2, 9, 12, 15, 1, 2, 6, 8, 9, 10, 11, 12, 14, 15, 1, 2, 7, 9, 15, 2, 6, 8, 9, 10, 1, 2, 3, 6, 8, 9, 10, 12, 15, 1, 2, 3, 4, 5, 6, 7, 8, 9, 10, 11, 12, 13, 14, 15, 3, 8, 9, 8, 10, 12, 1, 15, 1, 2, 3, 4, 5, 6, 7, 8, 9, 10, 11, 12, 13, 14, 15, 1, 2, 3, 9, 11, 12, 14, 15, 1, 2, 3, 4, 5, 6, 7, 8, 9, 10, 11, 12, 13, 14, 15, 2, 9, 1, 2, 12, 1, 2, 9, 2, 15, 1, 2, 6, 8, 1, 2, 3, 6, 7, 8, 9, 10, 12, 15, 1, 2, 3, 4, 8, 9, 10, 14, 15, 1, 2, 3, 7, 9, 10, 11, 12, 14, 15, 1, 2, 3, 5, 6, 9, 10, 11, 12, 13, 15, 2, 4, 3, 9, 15, 1, 2, 3, 4, 5, 6, 7, 8, 9, 10, 11, 12, 13, 14, 15, 1, 2, 6, 8, 9, 10, 11, 12, 14, 15, 1, 2, 3, 5, 6, 8, 9, 10, 12, 14, 15, 1, 9, 1, 2, 3, 6, 9, 10, 11, 12, 1, 2, 3, 4, 5, 6, 7, 8, 9, 10, 11, 12, 14, 15, 1, 2, 3, 4, 6, 8, 9, 11, 12, 14, 15, 2, 9, 12, 1, 2, 5, 15, 1, 2, 5, 6, 7, 8, 9, 10, 11, 12, 14, 15, 2, 3, 7, 9, 12, 1, 2, 3, 4, 5, 6, 7, 8, 9, 10, 11, 12, 13, 14, 15, 1, 2, 3, 4, 6, 9, 12, 15, 1, 2, 3, 15, 1, 2, 3, 4, 5, 6, 8, 9, 10, 11, 12, 13, 14, 15, 1, 2, 5, 8, 9, 11, 14, 15, 1, 2, 6, 9, 10, 12, 12, 15, 1, 2, 3, 5, 6, 7, 8, 9, 10, 11, 12, 13, 14, 15, 1, 2, 3, 4, 5, 6, 7, 8, 9, 10, 11, 12, 13, 14, 15, 2, 10, 12, 1, 2, 3, 5, 6, 8, 9, 10, 11, 12, 15, 1, 3, 8, 9, 11, 12, 3, 9, 12, 9, 1, 7, 9, 3, 8, 9, 12, 1, 2, 3, 4, 6, 7, 8, 9, 10, 11, 12, 13, 14, 15, 2, 7, 9, 3, 8, 9, 15, 1, 2, 6, 12, 1, 2, 4, 12, 2, 11, 12, 15, 2, 6, 10, 1, 15, 3, 8, 9, 12, 1, 2, 3, 8, 9, 10, 11, 12, 13, 14, 15, 1, 1, 8, 9, 12, 1, 2, 3, 7, 9, 11, 15, 1, 2, 3, 6, 9, 10, 15, 1, 2, 3, 4, 6, 9, 10, 11, 12, 14, 15, 1, 2, 5, 9, 15, 2, 9, 14, 15, 1, 2, 8, 1, 2, 10, 2, 15, 1, 2, 3, 4, 6, 7, 8, 9, 10, 11, 12, 14, 15, 1, 2, 3, 4, 5, 6, 7, 8, 9, 10, 11, 12, 13, 14, 15, 12, 15, 2, 9, 12, 2, 6, 8, 2, 10, 2, 6, 10, 11, 15, 2, 10, 1, 2, 3, 5, 6, 8, 9, 10, 11, 12, 15, 1, 2, 3, 4, 5, 6, 7, 8, 9, 10, 11, 12, 13, 14, 15, 1, 6, 15, 3, 9, 3, 8, 9, 1, 3, 2, 6, 10, 2, 9, 1, 2, 5, 9, 11, 12, 15, 1, 2, 8, 9, 10, 12, 14, 15, 12, 1, 2, 3, 4, 5, 6, 7, 8, 9, 10, 11, 12, 13, 14, 15, 3, 9, 1, 2, 3, 5, 6, 8, 9, 10, 11, 12, 14, 15, 1, 2, 3, 6, 9, 12, 14, 15, 1, 2, 3, 6, 8, 9, 10, 12, 15, 1, 2, 3, 4, 5, 6, 7, 8, 9, 10, 11, 12, 13, 14, 15, 1, 2, 3, 9, 10, 12, 15, 3, 6, 9, 1, 2, 10, 12, 15, 1, 2, 10, 15, 1, 6, 8, 10, 15, 1, 2, 3, 4, 5, 6, 7, 8, 9, 10, 11, 12, 13, 14, 15, 3, 6, 9, 1, 2, 5, 6, 8, 9, 10, 11, 12, 14, 15, 1, 2, 3, 4, 5, 6, 7, 8, 9, 10, 11, 12, 13, 14, 15, 1, 2, 3, 6, 7, 8, 9, 10, 11, 12, 14, 15, 1, 15, 1, 2, 3, 1, 2, 6, 8, 9, 12, 15, 8, 9, 2, 3, 6, 9, 12, 15, 3, 6, 9, 1, 2, 3, 4, 6, 7, 8, 9, 11, 12, 15, 2, 3, 7, 8, 9, 1, 2, 3, 4, 5, 6, 8, 9, 10, 11, 12, 15, 2, 6, 9, 10, 11, 1, 2, 3, 5, 7, 8, 9, 10, 15, 1, 2, 3, 6, 7, 8, 9, 10, 15, 1, 2, 3, 4, 6, 7, 8, 9, 10, 11, 12, 15, 1, 2, 3, 4, 6, 7, 8, 9, 10, 12, 15, 3, 7, 8, 9, 10, 15, 1, 2, 3, 6, 8, 9, 11, 12, 15, 2, 6, 9, 1, 2, 5, 12, 15, 1, 2, 3, 4, 5, 6, 7, 8, 9, 10, 11, 12, 13, 14, 15, 1, 2, 3, 4, 6, 8, 9, 10, 11, 12, 15, 12, 15, 1, 2, 6, 9, 12, 13, 15, 1, 2, 3, 6, 7, 8, 9, 10, 11, 12, 15, 2, 3, 6, 7, 8, 9, 10, 12, 1, 3, 9, 9, 1, 2, 14, 15, 1, 2, 3, 8, 9, 12, 14, 15, 3, 9, 3, 9, 1, 2, 3, 4, 5, 6, 7, 8, 9, 10, 11, 12, 13, 14, 15, 1, 2, 3, 4, 5, 6, 7, 8, 9, 10, 11, 12, 13, 14, 15, 1, 2, 8, 12, 1, 2, 3, 4, 5, 6, 8, 9, 10, 11, 12, 14, 15, 3, 8, 9, 1, 2, 3, 4, 5, 6, 8, 9, 10, 11, 12, 13, 14, 15, 9, 2, 3, 9, 11, 1, 2, 3, 7, 8, 9, 10, 11, 12, 15, 7, 9, 9, 1, 2, 3, 4, 5, 6, 7, 8, 9, 10, 11, 12, 13, 14, 15, 1, 2, 3, 4, 6, 9, 10, 11, 12, 13, 14, 15, 1, 8, 9, 11, 1, 2, 9, 11, 12, 13, 15, 1, 12, 15, 1, 2, 3, 5, 6, 8, 9, 10, 11, 12, 13, 15, 9, 11, 12, 15, 1, 2, 3, 4, 5, 6, 7, 8, 9, 10, 11, 12, 13, 14, 15, 1, 2, 6, 9, 10, 12, 15, 1, 2, 3, 4, 5, 6, 7, 8, 9, 10, 11, 12, 13, 14, 15, 1, 2, 3, 4, 6, 8, 9, 10, 12, 13, 15, 8, 9, 1, 2, 3, 4, 5, 6, 7, 8, 9, 10, 11, 12, 13, 14, 15, 1, 2, 3, 4, 6, 7, 8, 9, 10, 11, 12, 15, 1, 2, 3, 5, 6, 9, 10, 11, 12, 14, 15, 1, 2, 5, 6, 7, 8, 9, 10, 11, 12, 13, 14, 15, 1, 2, 3, 4, 9, 10, 11, 12, 15, 1, 2, 3, 4, 5, 6, 7, 8, 9, 10, 11, 12, 13, 14, 15, 1, 2, 3, 4, 5, 6, 7, 8, 9, 10, 11, 12, 14, 15, 2, 12, 1, 2, 3, 4, 5, 6, 7, 8, 9, 10, 11, 12, 13, 14, 15, 1, 11, 12, 2, 3, 8, 9, 10, 1, 1, 3, 8, 15, 7, 9, 9, 15, 1, 2, 3, 4, 5, 7, 8, 9, 10, 11, 12, 13, 14, 15, 2, 4, 1, 5, 9, 11, 12, 13, 15, 1, 2, 2, 15, 1, 10, 12, 1, 2, 6, 8, 9, 12, 13, 15, 1, 2, 3, 6, 7, 8, 9, 10, 11, 12, 13, 14, 15, 2, 3, 8, 9, 10, 12, 14, 15, 12, 1, 12, 15, 2, 6, 7, 8, 9, 10, 2, 6, 7, 8, 9, 1, 2, 10, 11, 15, 2, 7, 10, 1, 1, 2, 3, 5, 6, 7, 8, 9, 10, 11, 12, 14, 15, 1, 2, 4, 5, 6, 7, 8, 9, 10, 11, 12, 13, 14, 15, 1, 2, 3, 6, 7, 8, 9, 10, 11, 12, 15, 1, 2, 3, 4, 5, 6, 8, 9, 10, 11, 12, 15, 3, 9, 9, 12, 2, 5, 12, 15, 9, 1, 2, 3, 6, 9, 15, 1, 3, 9, 1, 2, 9, 10, 12, 14, 15, 1, 6, 15, 1, 2, 3, 6, 11, 12, 1, 9, 12, 15, 1, 2, 4, 5, 6, 8, 9, 10, 11, 12, 13, 14, 15, 1, 2, 3, 4, 5, 6, 8, 9, 10, 11, 12, 13, 14, 15, 1, 2, 3, 5, 6, 8, 9, 11, 12, 14, 15, 1, 2, 8, 9, 10, 11, 12, 1, 2, 6, 9, 10, 11, 12, 15, 2, 6, 1, 3, 5, 9, 15, 1, 2, 3, 4, 6, 7, 8, 9, 10, 11, 12, 14, 15, 1, 2, 3, 5, 6, 9, 11, 12, 13, 14, 15, 9, 12, 1, 2, 3, 7, 9, 1, 2, 3, 5, 9, 10, 12, 13, 15, 1, 9, 1, 2, 3, 9, 1, 8, 9, 12, 1, 5, 8, 9, 12, 15, 1, 2, 3, 8, 9, 10, 11, 12, 13, 15, 3, 9, 1, 2, 3, 4, 6, 7, 8, 9, 10, 12, 15, 3, 8, 9, 11, 12, 15, 1, 6, 15, 1, 2, 3, 8, 1, 1, 1, 2, 3, 4, 6, 8, 9, 10, 12, 14, 15, 1, 2, 5, 6, 8, 9, 10, 11, 12, 15, 1, 2, 6, 9, 11, 12, 14, 15, 15, 1, 2, 6, 8, 9, 10, 11, 12, 13, 14, 12, 1, 2, 3, 4, 5, 6, 7, 8, 9, 10, 11, 12, 13, 14, 15, 1, 2, 12, 15, 1, 3, 9, 12, 15, 1, 3, 9, 3, 12, 1, 2, 3, 4, 5, 6, 7, 8, 9, 10, 11, 12, 13, 14, 15, 1, 9, 12, 9, 3, 9, 9, 1, 2, 3, 4, 5, 6, 7, 8, 9, 10, 11, 12, 13, 14, 15, 9, 11, 15, 1, 2, 3, 4, 6, 7, 8, 9, 10, 11, 12, 13, 15, 1, 3, 1, 8, 9, 1, 2, 3, 6, 7, 8, 9, 10, 11, 12, 15, 2, 3, 7, 8, 9, 10, 1, 2, 8, 9, 10, 1, 9, 15, 1, 2, 3, 6, 7, 8, 9, 10, 12, 14, 15, 1, 2, 3, 9, 15, 12, 1, 2, 6, 11, 2, 11, 1, 2, 11, 1, 2, 3, 6, 7, 8, 9, 12, 15, 1, 2, 3, 4, 6, 8, 9, 10, 11, 12, 15, 1, 2, 3, 4, 5, 6, 7, 8, 9, 10, 11, 12, 13, 14, 15, 9, 9, 1, 2, 6, 9, 15, 3, 9, 12, 1, 6, 9, 15, 1, 2, 3, 8, 9, 1, 2, 3, 4, 5, 6, 9, 10, 11, 12, 13, 14, 15, 1, 2, 3, 4, 5, 6, 7, 8, 9, 10, 11, 12, 13, 14, 15, 1, 2, 6, 8, 9, 10, 11, 12, 13, 14, 15, 1, 2, 3, 5, 6, 8, 9, 10, 11, 12, 13, 14, 15, 1, 2, 5, 10, 11, 12, 15, 12, 1, 2, 3, 4, 5, 6, 7, 8, 9, 10, 11, 12, 13, 15, 1, 5, 9, 1, 2, 3, 4, 6, 8, 9, 10, 11, 12, 13, 14, 15, 1, 2, 7, 9, 15, 1, 6, 9, 11, 12, 1, 2, 3, 5, 6, 8, 9, 10, 11, 12, 13, 14, 15, 1, 2, 9, 11, 12, 15, 1, 2, 3, 4, 7, 8, 9, 10, 11, 12, 13, 14, 15, 1, 2, 3, 4, 5, 6, 8, 9, 10, 11, 12, 13, 14, 15, 8, 9, 12, 1, 2, 3, 6, 8, 9, 11, 12, 14, 15, 1, 6, 11, 9, 11, 12, 14, 1, 2, 6, 9, 12, 15, 1, 2, 3, 4, 5, 6, 7, 8, 9, 10, 11, 12, 13, 14, 15, 1, 2, 3, 9, 11, 12, 15, 1, 2, 3, 6, 8, 9, 10, 11, 12, 15, 1, 2, 6, 8, 9, 10, 11, 12, 15, 1, 3, 8, 9, 1, 7, 8, 9, 1, 3, 7, 8, 9, 12, 15, 1, 2, 11, 1, 2, 10, 1, 2, 3, 6, 7, 8, 9, 10, 12, 1, 2, 3, 4, 8, 9, 15, 1, 2, 3, 4, 6, 7, 8, 9, 10, 12, 15, 3, 9, 8, 9, 10, 1, 2, 3, 4, 6, 7, 8, 9, 10, 11, 12, 14, 15, 1, 2, 3, 10, 1, 2, 3, 6, 8, 9, 1, 2, 3, 4, 5, 6, 7, 8, 9, 10, 11, 12, 13, 14, 15, 1, 1, 3, 9, 1, 2, 9, 10, 2, 10, 1, 2, 5, 6, 8, 9, 11, 12, 15, 1, 3, 6, 9, 10, 12, 1, 2, 3, 4, 5, 6, 7, 8, 9, 10, 11, 12, 13, 14, 15, 1, 1, 15, 1, 2, 4, 8, 9, 10, 11, 12, 15, 1, 2, 10, 11, 15, 1, 5, 11, 12, 15, 1, 2, 3, 5, 6, 8, 9, 10, 11, 12, 15, 1, 2, 3, 4, 5, 6, 8, 9, 10, 11, 12, 14, 15, 1, 2, 3, 6, 8, 9, 10, 12, 1, 2, 6, 9, 10, 11, 12, 15, 2, 6, 15, 1, 2, 4, 5, 6, 7, 9, 10, 11, 12, 13, 14, 15, 1, 2, 3, 5, 7, 9, 10, 14, 15, 1, 2, 5, 15, 1, 2, 3, 5, 7, 8, 9, 10, 11, 12, 15, 1, 11, 1, 2, 3, 9, 15, 12, 1, 3, 9, 11, 12, 15, 1, 2, 5, 6, 7, 8, 9, 10, 11, 12, 15, 1, 8, 2, 1, 3, 8, 9, 1, 12, 1, 2, 5, 10, 11, 12, 1, 2, 3, 4, 5, 6, 7, 8, 9, 10, 11, 12, 13, 14, 15, 1, 2, 5, 8, 9, 10, 12, 15, 1, 2, 3, 4, 5, 6, 7, 8, 9, 10, 11, 12, 13, 14, 15, 2, 6, 15, 1, 2, 9, 10, 12, 13, 15, 11, 12, 1, 2, 3, 6, 8, 9, 10, 11, 12, 14, 15, 1, 2, 6, 12, 1, 2, 3, 6, 8, 9, 10, 11, 12, 15, 2, 15, 1, 2, 5, 6, 9, 10, 11, 15, 1, 9, 1, 2, 3, 4, 6, 7, 8, 9, 10, 12, 14, 15, 9, 12, 2, 15, 2, 6, 9, 10, 12, 1, 2, 3, 4, 5, 6, 7, 8, 9, 10, 11, 12, 13, 14, 15, 1, 2, 6, 8, 9, 15, 1, 2, 3, 4, 5, 8, 9, 10, 12, 15, 1, 9, 14, 1, 6, 9, 12, 2, 11, 11, 1, 2, 3, 4, 5, 6, 7, 8, 9, 10, 11, 12, 13, 14, 15, 1, 2, 3, 7, 8, 9, 10, 12, 14, 15, 1, 1, 14, 1, 2, 3, 7, 8, 9, 1, 2, 7, 9, 15, 1, 2, 3, 4, 5, 6, 7, 8, 9, 10, 11, 12, 13, 14, 15, 2, 6, 9, 10, 12, 2, 6, 9, 10, 15, 1, 2, 3, 4, 5, 6, 7, 8, 9, 10, 11, 12, 14, 15, 1, 2, 3, 6, 8, 9, 12, 15, 1, 15, 1, 2, 3, 5, 9, 10, 12, 13, 14, 15, 1, 2, 3, 4, 5, 6, 7, 8, 9, 10, 11, 12, 13, 14, 15, 1, 2, 3, 4, 6, 7, 8, 9, 10, 11, 12, 15, 1, 2, 3, 8, 9, 10, 1, 2, 3, 5, 9, 10, 11, 15, 1, 2, 9, 15, 1, 2, 9, 15], \"Freq\": [0.41782100399392696, 0.12253404444052667, 0.0401750965378776, 0.00401750965378776, 0.006026264480681639, 0.00401750965378776, 0.006026264480681639, 0.20891050199696348, 0.018078793442044917, 0.006026264480681639, 0.050218870672346996, 0.11249027030605727, 0.19875146764714205, 0.5962544029414262, 0.19875146764714205, 0.14952433867702242, 0.12939606231665401, 0.040256552720736805, 0.020128276360368402, 0.09201497764739841, 0.048882956875180406, 0.21566010386109002, 0.11501872205924801, 0.0028754680514812003, 0.08338857349295481, 0.048882956875180406, 0.005750936102962401, 0.043132020772218005, 0.19897899880534364, 0.3979579976106873, 0.03979579976106873, 0.23877479856641237, 0.03979579976106873, 0.03979579976106873, 0.03979579976106873, 0.03979579976106873, 0.4470518543435287, 0.3725432119529406, 0.14901728478117623, 0.03160486346966892, 0.06320972693933784, 0.7269118598023853, 0.09481459040900676, 0.06320972693933784, 0.0499976115976982, 0.22057769822513915, 0.026469323787016694, 0.0029410359763351883, 0.023528287810681506, 0.026469323787016694, 0.029410359763351886, 0.10587729514806678, 0.31027929550336236, 0.04705657562136301, 0.013234661893508347, 0.13234661893508348, 0.0014705179881675942, 0.0014705179881675942, 0.011764143905340753, 1.0158172274442936, 0.03922659478686513, 0.1765196765408931, 0.09316316261880468, 0.024516621741790704, 0.03922659478686513, 0.30400610959820473, 0.23045624437283263, 0.05883989218029769, 0.014709973045074423, 0.019613297393432566, 0.050094914788261315, 0.22300316905742135, 0.00646385997267888, 0.00323192998633944, 0.035551229849733836, 0.06787052971312824, 0.1470528143784445, 0.20684351912572416, 0.04686298480192188, 0.16806035928965088, 0.045247019808752155, 0.025126086504421705, 0.2032928817175938, 0.002284189682220155, 0.09593596665324651, 0.011420948411100775, 0.015989327775541087, 0.17588260553095195, 0.013705138093320931, 0.04111541427996279, 0.21471383012869458, 0.00456837936444031, 0.19644031267093334, 1.007091367031957, 0.5437067752867523, 0.13592669382168807, 0.27185338764337613, 0.33386373331659164, 0.2921307666520177, 0.20866483332286978, 0.16693186665829582, 0.0167936385031523, 0.2686982160504368, 0.26030139679886066, 0.09236501176733765, 0.22671411979255607, 0.11755546952206611, 0.00839681925157615, 0.0167936385031523, 0.026652301209213986, 0.12659843074376642, 0.023320763558062237, 0.06663075302303496, 0.1998922590691049, 0.2198814849760154, 0.08995151658109721, 0.029983838860365736, 0.16324534490643566, 0.05330460241842797, 0.1424666222133598, 0.2849332444267196, 0.5342498333000992, 0.036226234914675956, 0.9056558728668989, 0.036226234914675956, 0.42531692390287873, 0.5799776235039256, 0.15730227302982158, 0.31460454605964316, 0.47190681908946475, 0.12502585575649008, 0.12502585575649008, 0.7501551345389404, 0.4438530437244237, 0.33288978279331777, 0.11096326093110592, 0.3999872664138128, 0.07714040137980675, 0.011428207611823223, 0.011428207611823223, 0.16856606227439253, 0.002857051902955806, 0.32856096883991764, 0.08842462662016518, 0.8842462662016518, 0.14126299813843382, 0.8475779888306029, 0.036416407036803544, 0.4369968844416426, 0.036416407036803544, 0.400580477404839, 0.07283281407360709, 0.06884441472576865, 0.3097998662659589, 0.5851775251690335, 0.03442220736288432, 1.0126622103977543, 0.013895122360342743, 0.0972658565223992, 0.2917975695671976, 0.04168536708102823, 0.3195878142878831, 0.027790244720685486, 0.11116097888274194, 0.0972658565223992, 0.1521508636257234, 0.507169545419078, 0.35501868179335455, 0.14838946036736902, 0.38581259695515946, 0.2374231365877904, 0.0593557841469476, 0.14838946036736902, 0.18035225392661264, 0.1251959820946874, 0.014007942052552437, 0.007879467404560745, 0.002626489134853582, 0.04202382615765731, 0.0017509927565690546, 0.05077878994050258, 0.16371782273920663, 0.17772576479175906, 0.04465031529251089, 0.13832842776895532, 0.0070039710262762185, 0.007879467404560745, 0.035019855131381096, 0.709558159785874, 0.05255986368784252, 0.07883979553176378, 0.14453962514156693, 0.08420039480837001, 0.07549000913853864, 0.0029034618899437935, 0.005806923779887587, 0.05226231401898828, 0.005806923779887587, 0.01742077133966276, 0.06097269968881966, 0.01742077133966276, 0.0029034618899437935, 0.5371404496396018, 0.1393661707173021, 0.04759084005463886, 0.5710900806556662, 0.015863613351546284, 0.02379542002731943, 0.055522646730412, 0.2617496203005137, 0.007931806675773142, 0.007931806675773142, 0.19249582391364664, 0.19249582391364664, 0.6256114277193516, 0.028413424153216203, 0.007103356038304051, 0.11365369661286481, 0.7387490279836213, 0.014206712076608102, 0.09234362849795266, 0.4572938051238824, 0.07976054740532833, 0.03190421896213133, 0.0035449132180145923, 0.007089826436029185, 0.16661092124668583, 0.005317369827021888, 0.01417965287205837, 0.01772456609007296, 0.2162397062988901, 0.0503651853041508, 0.0461680865288049, 0.0293796914274213, 0.0251825926520754, 0.0083941975506918, 0.1594897534631442, 0.0125912963260377, 0.1888694448905655, 0.3231766057016343, 0.0125912963260377, 0.1427013583617606, 0.280473175961228, 0.7292302574991928, 0.06799327223923986, 0.01084999025094253, 0.13526321179508355, 0.006509994150565517, 0.0007233326833961687, 0.02097664781848889, 0.015189986351319542, 0.03761329953660077, 0.6097694521029702, 0.0014466653667923374, 0.01084999025094253, 0.04990995515433563, 0.0007233326833961687, 0.018083317084904217, 0.013743320984527204, 0.13159550932343234, 0.0289956206983834, 0.12267377987777592, 0.0022304323614141075, 0.269882315731107, 0.006691297084242323, 0.0289956206983834, 0.011152161807070538, 0.29664750406807633, 0.09590859154080662, 0.10501385981257516, 0.21002771962515032, 0.10501385981257516, 0.030003959946450047, 0.3000395994645005, 0.030003959946450047, 0.09001187983935015, 0.13501781975902521, 0.24808953496345723, 0.7442686048903717, 1.0109004691404524, 0.8847589979363667, 0.06319707128116905, 0.030282623836538586, 0.04680041865646872, 0.02340020932823436, 0.0013764829016608448, 0.0027529658033216896, 0.01789427772159098, 0.04542393575480788, 0.015141311918269293, 0.7680774591267514, 0.015141311918269293, 0.0013764829016608448, 0.03303558963986027, 0.14388669800178064, 0.2877733960035613, 0.04796223266726021, 0.5275845593398624, 1.0136916555246323, 0.0880303393391259, 0.4401516966956295, 0.26409101801737767, 0.26409101801737767, 0.07319059546789955, 0.036595297733949775, 0.31106003073857313, 0.05489294660092467, 0.07319059546789955, 0.21957178640369868, 0.1829764886697489, 0.036595297733949775, 0.10609778846978156, 0.0939226324158722, 0.026089620115520056, 0.0017393080077013371, 0.04522200820023477, 0.020871696092416046, 0.01739308007701337, 0.06783301230035214, 0.23132796502427783, 0.05565785624644279, 0.05217924023104011, 0.1930631888548484, 0.0017393080077013371, 0.038264776169429415, 0.048700624215637436, 0.2574563047827222, 0.0858187682609074, 0.429093841304537, 0.1716375365218148, 0.1716375365218148, 0.15271862293060037, 0.6108744917224015, 0.15271862293060037, 0.07635931146530019, 1.0052918977289085, 0.19872090587185803, 0.39744181174371607, 0.39744181174371607, 0.06762629177250769, 0.8791417930426, 0.14182583373520175, 0.03847987737001598, 0.020889076286580103, 0.01649137601572113, 0.01649137601572113, 0.03628102723458649, 0.004397700270858969, 0.0780591798077467, 0.18690226151150616, 0.1770074359020735, 0.18140513617293247, 0.07695975474003196, 0.012093675744862163, 0.009894825609432679, 0.00500905411700074, 0.7062766304971043, 0.16028973174402367, 0.1252263529250185, 0.16454616047748194, 0.10820350630620407, 0.010244118940232338, 0.00576231690388069, 0.0032012871688226058, 0.0038415446025871266, 0.0064025743376452116, 0.0064025743376452116, 0.027531069651874407, 0.007042831771409732, 0.24393808226428254, 0.11908788268020093, 0.03841544602587127, 0.21896804234746622, 0.035214158857048664, 0.34870147423386083, 0.05811691237231014, 0.00645743470803446, 0.00645743470803446, 0.05811691237231014, 0.4713927336865156, 0.01291486941606892, 0.01291486941606892, 0.00645743470803446, 0.00645743470803446, 0.46624736026004016, 0.09840396548201853, 0.04451607962281791, 0.009371806236382717, 0.021086564031861113, 0.12417643263207101, 0.0046859031181913586, 0.009371806236382717, 0.22023744655499386, 0.37930890565630715, 0.5689633584844608, 0.10008967222845687, 0.800717377827655, 0.10008967222845687, 0.6096833785390331, 0.10161389642317217, 0.30484168926951655, 0.025320328892200202, 0.0168802192614668, 0.021100274076833504, 0.021100274076833504, 0.0042200548153667, 0.43044559116740344, 0.021100274076833504, 0.45576592005960365, 0.054271385192837855, 0.20623126373278386, 0.016281415557851356, 0.010854277038567572, 0.0036180923461891904, 0.0379899696349865, 0.027135692596418928, 0.04341710815427029, 0.1501508323668514, 0.027135692596418928, 0.0018090461730945952, 0.3093468955991758, 0.012663323211662168, 0.09768849334710815, 0.8126619996211208, 0.16253239992422416, 0.06487555403376093, 0.15755491693913368, 0.11121523548644731, 0.01853587258107455, 0.0370717451621491, 0.2502342798445064, 0.1482869806485964, 0.10194729919591003, 0.09267936290537275, 0.9039254505955485, 0.03116984312398443, 0.06233968624796886, 0.08853336548951128, 0.16685134265330973, 0.00681025888380856, 0.00340512944190428, 0.02724103553523424, 0.00681025888380856, 0.23835906093329962, 0.37626680333042295, 0.0051076941628564205, 0.0766154124428463, 0.07733262552265488, 0.8506588807492036, 1.0018528992845641, 0.22828887215629295, 0.17858081128355174, 0.00736415716633203, 0.011046235749498047, 0.012887275041081054, 0.012887275041081054, 0.16569353624247068, 0.05523117874749023, 0.053390139455907225, 0.08836988599598437, 0.0239335107905791, 0.009205196457915038, 0.15280626120138963, 0.118726276208626, 0.04790709390874383, 0.05832167954107944, 0.004165834252934246, 0.012497502758802737, 0.002082917126467123, 0.10622877344982326, 0.6144605523078013, 0.010414585632335615, 0.01458041988526986, 0.002082917126467123, 0.006248751379401368, 1.011452456098659, 0.10803568646215207, 0.5401784323107603, 0.3241070593864562, 1.0183999430070982, 0.1180953728640605, 0.10635489719921237, 0.0013812324311586023, 0.020027870251799734, 0.0020718486467379035, 0.07803963236046103, 0.0006906162155793012, 0.008978010802530915, 0.45925978336023526, 0.0006906162155793012, 0.20442239981147314, 0.09229887075110789, 0.3461207653166546, 0.43841963606776246, 0.023074717687776972, 0.06922415306333092, 0.20749425844997932, 0.28693491739939997, 0.008299770337999174, 0.0047427259074280985, 0.0023713629537140493, 0.09366883667170495, 0.003557044430571074, 0.11382542177827437, 0.09011179224113387, 0.015413859199141322, 0.07706929599570661, 0.011856814768570248, 0.08418338485684876, 0.6483413458444144, 0.23412326377714962, 0.11706163188857481, 1.0183653726145454, 0.08232669835812993, 0.9055936819394292, 0.05559262120202028, 0.11118524240404055, 0.018530873734006758, 0.07412349493602703, 0.05559262120202028, 0.14824698987205406, 0.2964939797441081, 0.25943223227609463, 0.05323457383031656, 0.1787160692874913, 0.041827165152391585, 0.21674076488057456, 0.02661728691515828, 0.06844445206754987, 0.16350619105025802, 0.01901234779654163, 0.034222226033774936, 0.06464198250824153, 0.06464198250824153, 0.06464198250824153, 0.2753291025913419, 0.03933272894162027, 0.35399456047458244, 0.07866545788324054, 0.03933272894162027, 0.1573309157664811, 0.16544496582127438, 0.16544496582127438, 0.6617798632850975, 0.23256958800751937, 0.08776210868208278, 0.00877621086820828, 0.00438810543410414, 0.015358369019364488, 0.00219405271705207, 0.00219405271705207, 0.030716738038728975, 0.16016584834480108, 0.0065821581511562085, 0.07459779237977036, 0.14700153204248867, 0.057045370643353806, 0.013164316302312417, 0.15577774291069693, 0.4253700518947363, 0.14179001729824545, 0.4253700518947363, 0.9068572487278372, 0.07557143739398643, 0.04138944875154444, 0.04138944875154444, 0.9105678725339778, 1.0021147747024437, 0.1898595191224647, 0.07463443165503786, 0.0013093759939480326, 0.04059065581238901, 0.024878143885012617, 0.011784383945532292, 0.06677817569134965, 0.5879098212826666, 0.37584706577523375, 0.11904052972952243, 0.016050408502856956, 0.004012602125714239, 0.04948875955047562, 0.0013375340419047464, 0.29559502326094894, 0.03210081700571391, 0.05082629359238036, 0.0548388957180946, 0.2852085859617574, 0.7130214649043936, 1.0137317033917315, 0.2782393220507784, 0.0927464406835928, 0.061830960455728536, 0.21640836159504986, 0.030915480227864268, 0.30915480227864267, 0.91659745869798, 0.0733277966958384, 0.09338815339193224, 0.09338815339193224, 0.04060354495301401, 0.020301772476507007, 0.41821651301604434, 0.04466389944831542, 0.21519878825097427, 0.032482835962411215, 0.004060354495301402, 0.032482835962411215, 0.3967276343914311, 0.5950914515871467, 1.0186678623985352, 0.3729071174108825, 0.12729041027006086, 0.0017928226798600122, 0.007171290719440049, 0.021513872158320145, 0.03944209895692027, 0.005378468039580036, 0.026892340197900183, 0.044820566996500305, 0.2348597710616616, 0.044820566996500305, 0.005378468039580036, 0.04661338967636031, 0.023306694838180157, 0.14560112565253466, 0.01617790285028163, 0.01617790285028163, 0.06471161140112652, 0.01617790285028163, 0.2588464456045061, 0.2588464456045061, 0.2103127370536612, 0.22615893459647662, 0.07452964890111162, 0.01156494551913801, 0.00256998789314178, 0.00128499394657089, 0.00128499394657089, 0.00899495762599623, 0.03083985471770136, 0.14777430385565235, 0.032124848664272246, 0.02055990314513424, 0.19917406171848795, 0.014134933412279789, 0.02955486077113047, 0.19788906777191706, 0.135791482462821, 0.03394787061570525, 0.8486967653926313, 0.10149085888999142, 0.11801262661626909, 0.10385111142231679, 0.08024858609906298, 0.22894449563556202, 0.278509798814395, 0.009441010129301527, 0.004720505064650764, 0.007080757596976145, 0.06844732343743606, 0.015194915470608002, 0.034731235361389716, 0.1693147723867749, 0.010853511050434287, 0.0043414044201737145, 0.03907263978156343, 0.1020230038740823, 0.6164794276646675, 0.0043414044201737145, 0.10600932581668626, 0.10600932581668626, 0.8480746065334901, 0.11074786618102574, 0.28794445207066693, 0.13289743941723087, 0.15504701265343604, 0.19934615912584633, 0.08859829294482059, 0.5116771565716325, 0.12513843503110578, 0.025027687006221155, 0.005561708223604701, 0.0006952135279505876, 0.008342562335407052, 0.0034760676397529383, 0.0013904270559011753, 0.11749108622364932, 0.008342562335407052, 0.0013904270559011753, 0.018770765254665867, 0.0013904270559011753, 0.0076473488074564645, 0.1633751790683881, 1.0062252261803877, 0.06735434588926764, 0.8756064965604794, 0.15209645342944836, 0.09022670966153716, 0.043824401835603766, 0.0154674359419778, 0.005155811980659266, 0.005155811980659266, 0.18560923130373358, 0.154674359419778, 0.018045341932307432, 0.20365457323604103, 0.002577905990329633, 0.12116158154549277, 0.19008450063098642, 0.1886334739086125, 0.007255133611869711, 0.007255133611869711, 0.002176540083560913, 0.035550154698161585, 0.0014510267223739421, 0.004353080167121826, 0.16106396618350757, 0.038452208142909464, 0.01305924050136548, 0.09866981712142807, 0.031197074531039756, 0.06094312233970557, 0.16033845282232062, 0.05722191496970019, 0.25101346700041816, 0.05111824403959883, 0.0038147943313133455, 0.0007629588662626691, 0.057984873835962854, 0.0030518354650506765, 0.06637742136485221, 0.2632208088606209, 0.15640656758384716, 0.0030518354650506765, 0.048829367440810824, 0.0022888765987880075, 0.03585906671434545, 0.239555399390448, 0.06176037640534988, 0.001871526557737875, 0.3406178335082932, 0.005614579673213625, 0.01871526557737875, 0.059888849847612, 0.11416312002201037, 0.15907975740771937, 0.46301375820128404, 0.23150687910064202, 0.07716895970021401, 0.15433791940042801, 0.07716895970021401, 0.17731543496996416, 0.023961545266211373, 0.19169236212969099, 0.004792309053242274, 0.019169236212969096, 0.028753854319453646, 0.009584618106484548, 0.4840232143774697, 0.023961545266211373, 0.004792309053242274, 0.019169236212969096, 0.009584618106484548, 0.17109582238928994, 0.06336882310714442, 0.1045585581267883, 0.1647589400785755, 0.022179088087500548, 0.32001255669107936, 0.08237947003928775, 0.06970570541785887, 1.0135219402949085, 0.8267335527101932, 0.15898722167503715, 0.1669336839347176, 0.5008010518041528, 0.1669336839347176, 1.0197716771357628, 0.37406894256112777, 0.4675861782014097, 0.09351723564028194, 0.09351723564028194, 0.6246626477056942, 0.028720121733595134, 0.02154009130019635, 0.014360060866797567, 0.014360060866797567, 0.028720121733595134, 0.1292405478011781, 0.14360060866797567, 0.09010447976016907, 0.07208358380813526, 0.018020895952033815, 0.018020895952033815, 0.5766686704650821, 0.19822985547237196, 0.02703134392805072, 0.052027490912815465, 0.3641924363897082, 0.052027490912815465, 0.46824741821533916, 0.021807875760415995, 0.3489260121666559, 0.021807875760415995, 0.10903937880207996, 0.21807875760415993, 0.04361575152083199, 0.21807875760415993, 0.2766520796876347, 0.13832603984381736, 0.5533041593752694, 0.17182876224215615, 0.11455250816143744, 0.6873150489686246, 0.28255549099636035, 0.14651025459070535, 0.031395054555151146, 0.07325512729535268, 0.16744029096080612, 0.031395054555151146, 0.11511520003555421, 0.031395054555151146, 0.10465018185050383, 0.15319955480405922, 0.1712230318398309, 0.009011738517885837, 0.09011738517885838, 0.15319955480405922, 0.018023477035771673, 0.009011738517885837, 0.08110564666097253, 0.20726998591137427, 0.0720939081430867, 0.04505869258942919, 0.12559521999752626, 0.06775531605129706, 0.0016525686841779772, 0.02809366763102561, 0.0016525686841779772, 0.04957706052533931, 0.014873118157601794, 0.008262843420889886, 0.6197132565667415, 0.036356511051915494, 0.047924491841161335, 0.18478938928919433, 0.10559393673668248, 0.02639848418417062, 0.04399747364028437, 0.21118787347336496, 0.017598989456113746, 0.05279696836834124, 0.2287868629294787, 0.12319292619279623, 0.04560220152798378, 0.02121032629208548, 0.004242065258417096, 0.1908929366287693, 0.011665679460647014, 0.5525289999088268, 0.17286415928049664, 0.19669050380386158, 0.049172625950965394, 0.005960318297086715, 0.0014900795742716787, 0.03278175063397693, 0.0029801591485433573, 0.05513294424805211, 0.007450397871358393, 0.0029801591485433573, 0.28758535783443395, 0.0029801591485433573, 0.35761909782520285, 0.06938186975780883, 0.03237820588697746, 0.06938186975780883, 0.12026190758020197, 0.013876373951561766, 0.6614404916911109, 0.004625457983853922, 0.027752747903123532, 0.12271974709500358, 0.7363184825700214, 0.12271974709500358, 0.9956772458642777, 0.08142562202466462, 0.1357093700411077, 0.7871143462384246, 0.17985766820597027, 0.7194306728238811, 0.08992883410298513, 0.40397051322092575, 0.6059557698313887, 0.05854620617086593, 0.5269158555377934, 0.1756386185125978, 0.05854620617086593, 0.1756386185125978, 0.36133870301235754, 0.15055779292181565, 0.2710040272592682, 0.12044623433745252, 0.06022311716872626, 0.19028374314281404, 0.16310035126526917, 0.2174671350203589, 0.19028374314281404, 0.2174671350203589, 1.00162635189741, 0.07617088202742683, 0.1050632855550715, 0.0013132910694383937, 0.0016416138367979921, 0.003939873208315181, 0.003939873208315181, 0.0003283227673595984, 0.0032832276735959842, 0.05056170617337816, 0.0003283227673595984, 0.11852451901681503, 0.42944617970635474, 0.0019699366041575905, 0.005909809812472772, 0.19797862871783783, 0.12566713367459353, 0.8796699357221547, 0.23669153144892988, 0.7100745943467897, 0.05139310296554411, 0.08351379231900918, 0.03212068935346507, 0.019272413612079042, 0.2762379284397996, 0.2312689633449485, 0.2248448254742555, 0.07708965444831617, 0.40052921831820504, 0.20615474472260553, 0.07264500528320385, 0.02159716373284439, 0.0009816892605838358, 0.020615474472260552, 0.003926757042335343, 0.0382858811627696, 0.1757223776445066, 0.006871824824086851, 0.029450677817515074, 0.003926757042335343, 0.0029450677817515073, 0.004908446302919179, 0.012761960387589866, 0.4182137228062804, 0.1070310001494746, 0.017838500024912433, 0.001982055558323604, 0.027748777816530453, 0.017838500024912433, 0.18829527804074236, 0.007928222233294415, 0.001982055558323604, 0.051533444516413694, 0.1605465002242119, 0.4831489551619371, 0.18326339678556236, 0.2665649407789998, 0.03332061759737497, 0.016660308798687486, 0.016660308798687486, 0.16577418653693077, 0.17733982745811197, 0.07132145234728417, 0.005782820460590608, 0.005782820460590608, 0.07132145234728417, 0.0250588886625593, 0.042407350044331125, 0.12143922967240277, 0.22745760478323057, 0.015420854561574954, 0.028914102302953038, 0.007710427280787477, 0.032769315943346776, 0.01283550840509873, 0.28238118491217207, 0.01283550840509873, 0.03850652521529619, 0.06417754202549365, 0.08984855883569111, 0.41073626896315935, 0.06417754202549365, 0.02567101681019746, 0.22192547446654154, 0.16908607578403165, 0.1373824365745257, 0.06340727841901186, 0.35930791104106724, 0.04227151894600791, 0.3078199273906325, 0.6925948366289232, 0.5463536196748146, 0.2731768098374073, 0.13658840491870364, 0.26176570700267054, 0.7329439796074776, 0.21847213220237025, 0.3058609850833183, 0.04369442644047405, 0.3058609850833183, 0.04369442644047405, 0.0873888528809481, 0.045370835494442534, 0.09074167098888507, 0.045370835494442534, 0.045370835494442534, 0.7713042034055231, 0.16076845200505102, 0.21435793600673472, 0.02679474200084184, 0.5716211626846259, 0.00893158066694728, 0.00893158066694728, 0.037249433845747124, 0.1489977353829885, 0.07449886769149425, 0.40974377230321835, 0.07449886769149425, 0.26074603692022985, 0.05048038823320561, 0.5973512607595998, 0.08132951437572015, 0.058893786272073215, 0.028044660129558672, 0.1626590287514403, 0.008413398038867603, 0.008413398038867603, 1.0350888713852728, 0.6325424194244806, 0.09036320277492581, 0.18072640554985162, 0.1345560938927841, 0.044852031297594706, 0.7176325007615153, 0.044852031297594706, 0.044852031297594706, 0.09659668595506542, 0.38638674382026167, 0.38638674382026167, 0.18343189209205807, 0.04585797302301452, 0.02292898651150726, 0.48150871674165246, 0.13757391906904357, 0.09171594604602903, 0.02292898651150726, 0.056105763356154366, 0.042079322517115776, 0.014026440839038591, 0.056105763356154366, 0.7363881440495261, 0.014026440839038591, 0.07013220419519296, 0.014026440839038591, 0.007830529915711064, 0.05481370940997744, 0.9005109403067724, 0.007830529915711064, 0.023491589747133192, 0.995823427350497, 0.6931253886513729, 0.2520455958732265, 0.04952133338882627, 0.7428200008323941, 0.1485640001664788, 0.04952133338882627, 0.11951543360355578, 0.23903086720711156, 0.5975771680177789, 0.11951543360355578, 0.0479649136553275, 0.03597368524149563, 0.9113333594512225, 0.45758010751184763, 0.09374811958779318, 0.03124937319593106, 0.002232098085423647, 0.03571356936677835, 0.02232098085423647, 0.011160490427118235, 0.01562468659796553, 0.1607110621505026, 0.008928392341694588, 0.013392588512541883, 0.017856784683389176, 0.12946168895457152, 0.6986814790131226, 0.19962327971803503, 0.23736656852278182, 0.0893977985345542, 0.015413413540440379, 0.004624024062132114, 0.001541341354044038, 0.003082682708088076, 0.004624024062132114, 0.13101401509374322, 0.0077067067702201895, 0.02003743760257249, 0.21270510685807723, 0.0077067067702201895, 0.16492352488271206, 0.10018718801286246, 0.16791826705516985, 0.8395913352758493, 0.08893527298498549, 0.13340290947747824, 0.35574109193994197, 0.3112734554474492, 0.08893527298498549, 0.05224359045551806, 0.06095085553143774, 0.05224359045551806, 0.7575320616050119, 0.06095085553143774, 0.46273616098677517, 0.46273616098677517, 0.0750537176778909, 0.1785061393420108, 0.02163710779903161, 0.006761596187197378, 0.0060854365684776405, 0.07775835615276985, 0.004733117331038165, 0.051388131022700075, 0.20284788561592135, 0.04665501369166191, 0.010818553899515805, 0.2001432471410424, 0.005409276949757903, 0.0060854365684776405, 0.10615706013899884, 0.5409169753582782, 0.43273358028662257, 0.19855203810768357, 0.5956561143230508, 0.19855203810768357, 0.011174317584344609, 0.15155168223767376, 0.004190369094129229, 0.001396789698043076, 0.0034919742451076903, 0.045395665186399974, 0.020951845470646144, 0.04190369094129229, 0.025142214564775372, 0.004888763943150767, 0.6096987031958028, 0.001396789698043076, 0.001396789698043076, 0.07752182824139073, 0.1423503881165482, 0.11957432601790051, 0.3587229780537015, 0.079716217345267, 0.0967982639192528, 0.0967982639192528, 0.0967982639192528, 1.0134938092415677, 0.021076506344917183, 0.08430602537966873, 0.005269126586229296, 0.0073767772207210145, 0.0021076506344917187, 0.008430602537966875, 0.07166012157271844, 0.02634563293114648, 0.5479891649678468, 0.22446479257336802, 0.11170814650700611, 0.03723604883566871, 0.8191930743847116, 0.23690008225427148, 0.08883753084535181, 0.5626376953538947, 0.05922502056356787, 0.08517614255832094, 0.25552842767496287, 0.17035228511664188, 0.4258807127916047, 0.05894206609424818, 0.47153652875398544, 0.41259446265973726, 0.05894206609424818, 0.16705287384279435, 0.08352643692139718, 0.6682114953711774, 0.08352643692139718, 0.13393978320558556, 0.06696989160279278, 0.8036386992335133, 0.15964838433299558, 0.31929676866599116, 0.47894515299898677, 0.01410845076884964, 0.8041816938244295, 0.02821690153769928, 0.08465070461309784, 0.01410845076884964, 0.05643380307539856, 0.060813665868833404, 0.12568157612892236, 0.05270517708632228, 0.20676646395403359, 0.01216273317376668, 0.12568157612892236, 0.00810848878251112, 0.00810848878251112, 0.26352588543161143, 0.12973582052017793, 0.07183468669478904, 0.24218551514243164, 0.04515323163672454, 0.005131049049627789, 0.0030786294297766733, 0.09030646327344909, 0.015393147148883367, 0.0779919455543424, 0.19395365407593043, 0.058493959165756795, 0.0030786294297766733, 0.17445566768734483, 0.0010262098099255578, 0.005131049049627789, 0.013340727529032252, 0.03295257731354401, 0.1843563109163138, 0.021374644743920437, 0.007124881581306813, 0.0026718305929900547, 0.0774830871967116, 0.010687322371960219, 0.10331078292894878, 0.23423048198546148, 0.09974834213829538, 0.019593424348593735, 0.12379481747520588, 0.008015491778970164, 0.015140373360276977, 0.058780273045781206, 0.02964784229066393, 0.02964784229066393, 0.20753489603464753, 0.7411960572665983, 0.980584000961813, 0.5019126609279522, 0.08840507095890066, 0.005703552965090365, 0.005703552965090365, 0.04562842372072292, 0.0028517764825451825, 0.01140710593018073, 0.13973704764471395, 0.1967725772956176, 0.29348546039896817, 0.7174089031974777, 0.09945602585776372, 0.12313603201437413, 0.014208003693966246, 0.22259205787213787, 0.345728089886512, 0.15628804063362872, 0.014208003693966246, 0.028416007387932492, 0.008526932505633657, 0.008526932505633657, 0.02558079751690097, 0.5798314103830886, 0.021317331264084142, 0.33681383397252945, 0.012790398758450484, 0.015091174082669455, 0.06791028337201255, 0.18109408899203347, 0.015091174082669455, 0.41500728727341, 0.007545587041334728, 0.14336615378535983, 0.06036469633067782, 0.09809263153735147, 0.03826444543975622, 0.028698334079817162, 0.01913222271987811, 0.1913222271987811, 0.7078922406354899, 0.056910829907864585, 0.056910829907864585, 0.17073248972359376, 0.4552866392629167, 0.056910829907864585, 0.11382165981572917, 0.25856935484827653, 0.11491971326590068, 0.2872992831647517, 0.11491971326590068, 0.14364964158237584, 0.02872992831647517, 0.6885005940210834, 0.08032506930245972, 0.03442502970105417, 0.19507516830597363, 0.979547250230571, 0.13535351753967165, 0.5414140701586866, 0.13535351753967165, 0.13535351753967165, 0.10117366087294773, 0.9105629478565296, 0.3632704056152575, 0.042737694778265584, 0.10684423694566396, 0.06410654216739838, 0.21368847389132792, 0.1923196265021951, 0.021368847389132792, 0.3243108901687878, 0.1114818684955208, 0.010134715317774618, 0.08107772254219694, 0.13175129913107003, 0.12161658381329542, 0.010134715317774618, 0.21282902167326698, 0.08807919449183686, 0.8367523476724502, 0.04403959724591843, 0.08978111563230859, 0.24507818050981534, 0.02669168302582147, 0.002426516638711043, 0.0679424658839092, 0.019412133109688343, 0.2426516638711043, 0.15044403160008465, 0.07522201580004233, 0.0339712329419546, 0.048530332774220857, 0.4703236702670225, 0.4115332114836447, 0.11758091756675562, 0.04628247077668125, 0.24565311412238514, 0.0605232310156601, 0.22073178370417215, 0.07832418131438366, 0.05696304095591539, 0.185129883106725, 0.06764361113514952, 0.021361140358468273, 0.01780095029872356, 0.10190290569073887, 0.014557557955819839, 0.0363938948895496, 0.09462412671282895, 0.13829680058028845, 0.22564214831520749, 0.31298749605012655, 0.06550901080118927, 0.01044682115784662, 0.025072370778831888, 0.14416613197828335, 0.002089364231569324, 0.006268092694707972, 0.0522341057892331, 0.5829326206078413, 0.002089364231569324, 0.0522341057892331, 0.10237884734689687, 0.018804278084123917, 0.31742526468997334, 0.6348505293799467, 0.1136872729549556, 0.21474262669269392, 0.01263191921721729, 0.05473831660794159, 0.01263191921721729, 0.13052983191124531, 0.34527245860393924, 0.02105319869536215, 0.04631703712979673, 0.05473831660794159, 0.14984672469456653, 0.44954017408369956, 0.14984672469456653, 0.04994890823152218, 0.09989781646304435, 0.09989781646304435, 0.34345749089470146, 0.20607449453682086, 0.34345749089470146, 0.0686914981789403, 0.36928586301860866, 0.06782801565647914, 0.018087470841727772, 0.004521867710431943, 0.02411662778897036, 0.0075364461840532375, 0.14017789902339023, 0.015072892368106475, 0.028638495499402304, 0.1718309729964138, 0.004521867710431943, 0.01205831389448518, 0.13414874207614763, 0.022958797352849888, 0.2525467708813488, 0.06887639205854967, 0.2525467708813488, 0.1836703788227991, 0.1836703788227991, 0.022958797352849888, 0.16275732906912882, 0.813786645345644, 0.6191269963804377, 0.12382539927608754, 0.2476507985521751, 0.033769715986107875, 0.7091640357082654, 0.06753943197221575, 0.033769715986107875, 0.10130914795832363, 0.033769715986107875, 0.033769715986107875, 0.025511029642348252, 0.31398190329044, 0.0353229641201745, 0.006868354134478376, 0.010793127925608876, 0.06475876755365326, 0.0117743213733915, 0.10008173167382775, 0.23254284712448214, 0.094194570987132, 0.00588716068669575, 0.03826654446352238, 0.0039247737911305, 0.002943580343347875, 0.052984446180261754, 0.37780527962844057, 0.629675466047401, 1.0193519088279572, 0.768000555654185, 0.21942873018691, 0.03255072149062853, 0.0863301743881887, 0.0028304975209242195, 0.0028304975209242195, 0.004245746281386329, 0.039626965292939076, 0.0014152487604621098, 0.09199116943003714, 0.48401507607804156, 0.25474477688317976, 0.33298962404441307, 0.6659792480888261, 0.15459013430774143, 0.20356918676167932, 0.052040243232309, 0.016836549281041148, 0.014540656197262808, 0.03290780086748951, 0.020663037754005045, 0.11402935649432412, 0.16913079050500424, 0.030611907783711177, 0.021428335448597822, 0.046683159370159544, 0.007652976945927794, 0.0482137547593451, 0.06811149481875736, 0.11169163420185946, 0.44676653680743783, 0.44676653680743783, 0.1585170949413305, 0.2882128998933282, 0.007860351815272587, 0.006550293179393823, 0.0013100586358787646, 0.0039301759076362935, 0.020960938174060233, 0.356335948959024, 0.007860351815272587, 0.01179052772290888, 0.015720703630545174, 0.04716211089163552, 0.015720703630545174, 0.05633252134278688, 0.6665225068336338, 0.010254192412825136, 0.010254192412825136, 0.02050838482565027, 0.20508384825650272, 0.08203353930260109, 0.023457701731627277, 0.0422238631169291, 0.11259696831181093, 0.046915403463254554, 0.6849648905635165, 0.08913926658018366, 0.24810098464456865, 0.7443029539337059, 0.11222057586026041, 0.8977646068820833, 0.16304719637500445, 0.2550225379198788, 0.04598767077243715, 0.002090348671474416, 0.014632440700320912, 0.029264881400641825, 0.014632440700320912, 0.07316220350160456, 0.12124022294551613, 0.029264881400641825, 0.0919753415448743, 0.07734290084455339, 0.006271046014423248, 0.002090348671474416, 0.07525255217307898, 0.04342352290129539, 0.04342352290129539, 0.43423522901295386, 0.13027056870388617, 0.17369409160518157, 0.17369409160518157, 0.09245167520734927, 0.018490335041469855, 0.018490335041469855, 0.8320650768661435, 0.85887304772904, 0.027705582184807745, 0.05541116436961549, 0.027705582184807745, 0.027705582184807745, 0.03517441709678946, 0.08793604274197364, 0.08793604274197364, 0.22863371112913147, 0.08793604274197364, 0.21104650258073673, 0.24622091967752618, 0.01758720854839473, 0.08187810487293365, 0.12097305584829836, 0.07228877727520268, 0.005901124675526749, 0.015490452273257717, 0.0405702321442464, 0.012539889935494342, 0.1453151951348462, 0.28620454676304735, 0.031718545130956274, 0.06565001201523508, 0.06491237143079424, 0.0029505623377633745, 0.043520794482009774, 0.010326968182171811, 0.11852242297266455, 0.07703957493223196, 0.04148284804043259, 0.20741424020216295, 0.02370448459453291, 0.24297096709396232, 0.14222690756719747, 0.029630605743166137, 0.11259630182403133, 0.19560334427212853, 0.04890083606803213, 0.19560334427212853, 0.4401075246122892, 0.1467025082040964, 0.050876101689800675, 0.050876101689800675, 0.15262830506940203, 0.15262830506940203, 0.050876101689800675, 0.5087610168980068, 0.15683271482680594, 0.0871292860148922, 0.052277571608935314, 0.06970342881191376, 0.1742585720297844, 0.01742585720297844, 0.4182205728714825, 0.2132664182159018, 0.293241325046865, 0.1066332091079509, 0.026658302276987726, 0.06664575569246932, 0.06664575569246932, 0.09330405796945704, 0.05331660455397545, 0.05331660455397545, 0.9490728129460588, 0.07300560099585068, 0.21495403292054685, 0.005464933040352886, 0.0018216443467842954, 0.005464933040352886, 0.0036432886935685907, 0.0018216443467842954, 0.0036432886935685907, 0.1165852381941949, 0.4663409527767796, 0.0072865773871371815, 0.17123456859772376, 0.0363943921330809, 0.2911551370646472, 0.045492990166351124, 0.009098598033270225, 0.5095214898631326, 0.1091831763992427, 0.058093680989811575, 0.006454853443312397, 0.006454853443312397, 0.03872912065987438, 0.009682280164968596, 0.035501693938218185, 0.012909706886624794, 0.054866254268155376, 0.08068566804140496, 0.5906190900630843, 0.006454853443312397, 0.006454853443312397, 0.08714052148471736, 1.0020065069678539, 0.9973699483490623, 0.16480647272460505, 0.8240323636230253, 0.05916062641979254, 0.5028653245682366, 0.325383445308859, 0.08874093962968882, 0.02958031320989627, 0.06947827324094807, 0.03473913662047404, 0.13895654648189615, 0.06947827324094807, 0.6947827324094807, 1.0219550418389411, 1.008700496969612, 0.12375443981261264, 0.35579401446126135, 0.06187721990630632, 0.06187721990630632, 0.06187721990630632, 0.34032470948468474, 0.07165537721345715, 0.10850671406609225, 0.022520261409943673, 0.008189185967252245, 0.045040522819887345, 0.05322970878713959, 0.01637837193450449, 0.06960808072164408, 0.21291883514855836, 0.03480404036082204, 0.026614854393569795, 0.1781147947877363, 0.012283778950878368, 0.06960808072164408, 0.07165537721345715, 0.31214817401462563, 0.11977778770328658, 0.08348148839926034, 0.0036296299304026235, 0.007259259860805247, 0.014518519721610494, 0.0036296299304026235, 0.12703704756409182, 0.014518519721610494, 0.03992592923442886, 0.02903703944322099, 0.14881482714650757, 0.10162963805127347, 0.044993826131174475, 0.08998765226234895, 0.005624228266396809, 0.016872684799190428, 0.005624228266396809, 0.8211373268939341, 0.011248456532793619, 0.7222203466250541, 0.015700442317935957, 0.031400884635871915, 0.031400884635871915, 0.015700442317935957, 0.0785022115896798, 0.015700442317935957, 0.06280176927174383, 0.031400884635871915, 0.3880241848237194, 0.5820362772355792, 0.9819317425974092, 0.4980304709119956, 0.4980304709119956, 1.0061388390353627, 0.8336197498894468, 0.16672394997788934, 0.032005039294874575, 0.2095813863503077, 0.013421468091399016, 0.001032420622415309, 0.015486309336229635, 0.004129682489661236, 0.26120241747107315, 0.021680833070721488, 0.017551150581060253, 0.34069880539705194, 0.004129682489661236, 0.07846396730356348, 0.02681657243680444, 0.14631498294466985, 0.015525384042360466, 0.005175128014120155, 0.0004704661831018323, 0.004704661831018323, 0.0037637294648146585, 0.017877714957869627, 0.3345014561854028, 0.025875640070600777, 0.0014113985493054968, 0.3062734851992928, 0.0028227970986109937, 0.008468391295832982, 0.10067976318379211, 0.9324744546559807, 0.04054236759373829, 0.7567681314654401, 0.15135362629308802, 0.07567681314654401, 0.09953170853162463, 0.4455228858082246, 0.014218815504517805, 0.03317723617720821, 0.11375052403614244, 0.07583368269076163, 0.009479210336345203, 0.13270894470883285, 0.08057328785893422, 0.12733248602567235, 0.1852108887646143, 0.27781633314692145, 0.04630272219115358, 0.11575680547788395, 0.1967865693124027, 0.02315136109557679, 0.03472704164336518, 0.9504120326005255, 0.21865108926561447, 0.5684928320905976, 0.21865108926561447, 0.15347874300729733, 0.02557979050121622, 0.7162341340340542, 0.02557979050121622, 0.02557979050121622, 0.05115958100243244, 0.07124114255531427, 0.02849645702212571, 0.07124114255531427, 0.7266596540642056, 0.05699291404425142, 0.02849645702212571, 0.38409797485074587, 0.09233124395450622, 0.04708893441679817, 0.010156436834995685, 0.005539874637270373, 0.018466248790901245, 0.009233124395450622, 0.015696311472266057, 0.1985121745021884, 0.018466248790901245, 0.026776060746806805, 0.04985887173543336, 0.004616562197725311, 0.0064631870768154355, 0.1126441176244976, 1.0093295302581993, 0.02407091748679085, 0.016047278324527233, 0.0962836699471634, 0.0026745463874212057, 0.008023639162263617, 0.010698185549684823, 0.05081638136100291, 0.6820093287924074, 0.021396371099369645, 0.08826003078489979, 0.1264686238886044, 0.1354063358241948, 0.00580951275813377, 0.006703283951692812, 0.006703283951692812, 0.02681313580677125, 0.0008937711935590416, 0.04200724609727496, 0.11038074240454164, 0.016981652677621792, 0.06837349630726669, 0.26545004448703535, 0.019216080661519395, 0.018322309467960353, 0.15104733171147805, 0.47005667363358933, 0.6267422315114524, 0.05053385210824393, 0.5390277558212686, 0.020213540843297573, 0.0235824643171805, 0.20887325538074158, 0.013475693895531715, 0.08422308684707322, 0.003368923473882929, 0.05727169905600979, 0.9285158224485575, 0.14376013178716088, 0.11500810542972871, 0.6037925535060757, 0.028752026357432178, 0.08625607907229653, 0.026075885970275995, 0.05215177194055199, 0.07822765791082799, 0.8083524650785558, 0.026075885970275995, 0.07835195070379894, 0.21155026690025713, 0.025464383978734653, 0.003917597535189946, 0.07051675563341904, 0.045052371654684384, 0.050928767957469305, 0.14495110880202802, 0.025464383978734653, 0.003917597535189946, 0.20763266936506716, 0.06464035933063413, 0.03525837781670952, 0.03134078028151957, 0.0908027236241053, 0.2889177569857896, 0.24764379170210538, 0.08254793056736845, 0.14033148196452638, 0.09905751668084214, 0.016509586113473692, 0.033019172226947384, 0.023179532903009302, 0.08112836516053255, 0.8924120167658581, 0.5812388167496138, 0.4151705833925812, 0.07720596335516927, 0.011029423336452753, 0.03308827000935825, 0.14338250337388578, 0.6176477068413542, 0.12132365670098028, 0.0551870635885798, 0.275935317942899, 0.3863094451200586, 0.0551870635885798, 0.16556119076573939, 0.1287992320767463, 0.016099904009593286, 0.04829971202877986, 0.7244956804316979, 0.08049952004796643, 0.5250345607923419, 0.08384582339649567, 0.029944936927319882, 0.001996329128487992, 0.003992658256975984, 0.13175772248020748, 0.001996329128487992, 0.001996329128487992, 0.001996329128487992, 0.003992658256975984, 0.21161088761972718, 0.10045888572980452, 0.06697259048653635, 0.8371573810817043, 0.1430250944220064, 0.022582909645579956, 0.25593964264990615, 0.015055273097053304, 0.32368837158664604, 0.09033163858231982, 0.15055273097053304, 0.010740182745257598, 0.22912389856549542, 0.014320243660343464, 0.03222054823577279, 0.05370091372628799, 0.18974322849955091, 0.2112235939900661, 0.07518127921680319, 0.025060426405601063, 0.1396223756883488, 0.01790030457542933, 0.1004989064932345, 0.05024945324661725, 0.3768708993496293, 0.3266214461030121, 0.1004989064932345, 0.025124726623308623, 0.09163446226766667, 0.8980177302231334, 0.43721267001920694, 0.07089935189500654, 0.02363311729833551, 0.14179870379001308, 0.08271591054417429, 0.23633117298335513, 0.7988146065173931, 0.012103251613899895, 0.02420650322779979, 0.06051625806949948, 0.03630975484169969, 0.06051625806949948, 0.1531768166916957, 0.4595304500750871, 0.1531768166916957, 0.1531768166916957, 0.852806036970672, 0.12182943385295315, 0.6270785371347374, 0.3135392685673687, 0.16255358656758842, 0.10427965930750956, 0.06440802486640296, 0.012268195212648183, 0.04293868324426864, 0.015335244015810228, 0.05213982965375478, 0.1686876841739125, 0.067475073669565, 0.0337375368347825, 0.05520687845691682, 0.21776046502450525, 0.409906745340834, 0.1428462900430179, 0.08073920741561881, 0.009316062394109863, 0.16768912309397754, 0.009316062394109863, 0.0031053541313699543, 0.06521243675876905, 0.012421416525479817, 0.09316062394109863, 0.07044769627880024, 0.24311361853076158, 0.04282114871848641, 0.008287964268094144, 0.0013813273780156907, 0.04282114871848641, 0.0027626547560313814, 0.012431946402141217, 0.12846344615545924, 0.11188751761927096, 0.11188751761927096, 0.14642070206966323, 0.0013813273780156907, 0.04143982134047072, 0.03315185707237658, 0.18416394638193015, 0.22099673565831618, 0.07366557855277206, 0.4788262605930184, 0.018416394638193015, 0.03683278927638603, 0.8166619398952434, 0.01666657020194374, 0.03333314040388748, 0.1166659914136062, 0.8964354058534924, 0.0640311004181066, 0.2525792822010546, 0.0420965470335091, 0.060137924333584426, 0.1262896411005273, 0.04811033946686755, 0.22251032003426238, 0.04811033946686755, 0.1924413578674702, 0.45046365252402487, 0.10427399363982057, 0.06256439618389234, 0.008341919491185646, 0.004170959745592823, 0.01668383898237129, 0.0917611144030421, 0.04170959745592823, 0.020854798727964113, 0.01251287923677847, 0.18769318855167702, 0.33302905619868156, 0.6660581123973631, 0.06093545949014272, 0.3656127569408563, 0.3046772974507136, 0.2437418379605709, 0.06894210120299432, 0.1991660701419836, 0.009192280160399243, 0.0030640933867997476, 0.026044793787797855, 0.0045961400801996215, 0.016852513627398612, 0.06587800781619457, 0.16699308958058626, 0.07200619458979407, 0.08579461483039294, 0.16239694950038663, 0.0030640933867997476, 0.0015320466933998738, 0.11490350200499054, 0.40331831509451627, 0.14234764062159397, 0.021088539351347253, 0.00790820225675522, 0.00395410112837761, 0.018452471932428847, 0.0382229775743169, 0.1581640451351044, 0.028996741608102474, 0.017134438222969645, 0.06194758434458256, 0.0013180337094592033, 0.005272134837836813, 0.09094432595268503, 0.033146102914067874, 0.18983677123511603, 0.024106256664776636, 0.006026564166194159, 0.00903984624929124, 0.16573051457033938, 0.2802352337280284, 0.12053128332388319, 0.051225795412650356, 0.06930548791123284, 0.012053128332388318, 0.033146102914067874, 0.612760024524601, 0.3829750153278756, 0.37603338034588124, 0.5640500705188218, 0.8677518162008276, 0.10846897702510346, 0.005646565929758415, 0.13904668602030096, 0.010587311118297029, 0.0021174622236594057, 0.01129313185951683, 0.07058207412198018, 0.015528056306835642, 0.04305506521440792, 0.17574936456373066, 0.057877300780023754, 0.04093760299074851, 0.3366764935618455, 0.0021174622236594057, 0.007058207412198019, 0.08258102672271682, 0.09071966322758632, 0.06803974742068973, 0.02267991580689658, 0.3175188212965521, 0.02267991580689658, 0.35153869500689694, 0.01133995790344829, 0.1020596211310346, 0.032221828047777255, 0.20465215111426094, 0.0391887097878372, 0.0026125806525224803, 0.0130629032626124, 0.0052251613050449605, 0.008708602175074933, 0.11495354871098912, 0.1698177424139612, 0.050509892615434614, 0.046155591527897145, 0.21161903285432088, 0.006096021522552454, 0.0008708602175074933, 0.09492376370831677, 0.4439740844683301, 0.2663844506809981, 0.2663844506809981, 1.00478242903812, 0.08615934440454642, 0.17231868880909285, 0.603115410831825, 0.08615934440454642, 0.17479122338141445, 0.418128024559462, 0.0034272788898316556, 0.0034272788898316556, 0.0034272788898316556, 0.03427278889831656, 0.04798190445764318, 0.09596380891528636, 0.020563673338989934, 0.16108210782208782, 0.0308455100084849, 0.010281836669494967, 0.1459993575252178, 0.8321963378937415, 0.01459993575252178, 0.057457756598026995, 0.18605368803170647, 0.00547216729505019, 0.002736083647525095, 0.09849901131090343, 0.013680418237625475, 0.030096920122776046, 0.01641650188515057, 0.13406809872872966, 0.01094433459010038, 0.03556908741782624, 0.2188866918020076, 0.024624752827725856, 0.01641650188515057, 0.14774851696635513, 0.05966246886537763, 0.14915617216344407, 0.0054238608059434205, 0.0027119304029717102, 0.03661106044011809, 0.04067895604457565, 0.0054238608059434205, 0.012203686813372696, 0.05830650366389177, 0.06779826007429275, 0.12068090293224111, 0.3294995439610628, 0.05830650366389177, 0.008135791208915132, 0.04474685164903322, 0.04597442189313063, 0.289638857926723, 0.01838976875725225, 0.04597442189313063, 0.20688489851908784, 0.2390669938442793, 0.0873514015969482, 0.01838976875725225, 0.04137697970381757, 0.0800074884627696, 0.3636704021034982, 0.014546816084139928, 0.007273408042069964, 0.07273408042069963, 0.1381947527993293, 0.09455430454690952, 0.07273408042069963, 0.08728089650483957, 0.05818726433655971, 0.007273408042069964, 0.41239328119489, 0.5498577082598534, 0.6963254921397211, 0.05802712434497676, 0.08704068651746513, 0.1450678108624419, 0.06347420587058396, 0.1560407560985189, 0.03967137866911497, 0.005289517155881996, 0.005289517155881996, 0.04231613724705597, 0.06082944729264295, 0.1243036531632269, 0.2909234435735098, 0.05025041298087896, 0.06082944729264295, 0.029092344357350978, 0.01322379288970499, 0.04231613724705597, 0.018513310045586987, 0.48085687112470077, 0.3606426533435256, 0.12021421778117519, 0.04365546669202664, 0.01091386667300666, 0.02182773334601332, 0.12005253340307326, 0.2728466668251665, 0.4474685335932731, 0.08731093338405328, 0.12126120847717792, 0.14147140989004092, 0.04763833190174847, 0.007217929076022495, 0.05918701842338446, 0.010105100706431494, 0.001443585815204499, 0.07939721983624745, 0.3276939800514213, 0.08372797728186095, 0.04475116027133947, 0.03464605956490798, 0.004330757445613498, 0.004330757445613498, 0.03464605956490798, 0.49521907485361066, 0.12380476871340267, 0.016507302495120356, 0.04952190748536107, 0.02888777936646062, 0.1114242918420624, 0.16094619932742346, 0.008253651247560178, 0.09800469933885192, 0.09800469933885192, 0.8085387695455284, 1.013766839506485, 0.29818952702347973, 0.15706165927190915, 0.007966895760169306, 0.0034143838972154165, 0.018210047451815557, 0.013657535588861666, 0.014795663554600139, 0.0022762559314769447, 0.1308847160599243, 0.03983447880084653, 0.009105023725907779, 0.06032078218413903, 0.007966895760169306, 0.10698402877941639, 0.12974658809418582, 0.3519308447780493, 0.12370902422501127, 0.0021329142107760564, 0.0021329142107760564, 0.004265828421552113, 0.014930399475432395, 0.0021329142107760564, 0.05118994105862536, 0.2538167910823507, 0.004265828421552113, 0.010664571053880283, 0.0021329142107760564, 0.1812977079159648, 1.010730352322467, 0.9971385541571582, 0.248324836203251, 0.020693736350270917, 0.3310997816043347, 0.1241624181016255, 0.2690185725535219, 0.6238378509990904, 0.18021982362195946, 0.004621021118511781, 0.009242042237023561, 0.06007327454065315, 0.013863063355535343, 0.10628348572577095, 0.4394149053028729, 0.08477841922963038, 0.02268718261074616, 0.0011940622426708503, 0.004776248970683401, 0.005970311213354252, 0.10985372632571823, 0.0011940622426708503, 0.008358435698695953, 0.0023881244853417006, 0.010746560184037654, 0.3080680586090794, 0.38282648614378045, 0.19141324307189023, 0.19141324307189023, 0.19141324307189023, 0.20168877469523727, 0.15126658102142795, 0.016807397891269775, 0.016807397891269775, 0.6050663240857118, 0.11406923290297595, 0.08295944211125524, 0.12236517711410148, 0.002073986052781381, 0.1762888144864174, 0.04770167921397176, 0.03940573500284624, 0.24887832633376572, 0.01659188842225105, 0.14517902369469668, 0.3094293974681445, 0.3094293974681445, 0.2707507227846264, 0.038678674683518065, 0.07735734936703613, 0.11103916703631218, 0.08327937527723413, 0.34699739698847554, 0.1249190629158512, 0.31923760522939754, 0.11619736674402914, 0.23239473348805828, 0.005533207940191864, 0.3098596446507444, 0.03319924764115118, 0.27666039700959316, 0.005533207940191864, 0.022132831760767455, 0.005533207940191864, 0.0697000681642877, 0.14256832124513394, 0.031681849165585314, 0.009504554749675596, 0.009504554749675596, 0.047522773748377975, 0.028513664249026786, 0.052275051123215774, 0.3057298444478983, 0.07603643799740477, 0.012672739666234127, 0.13781604387029614, 0.014256832124513393, 0.006336369833117064, 0.05385914358149504, 0.6385167439647734, 0.09121667770925335, 0.27365003312776004, 0.6130385915439607, 0.22988947182898525, 0.15325964788599017, 0.09970243909327083, 0.7976195127461666, 0.08651413321621139, 0.16637333310809882, 0.03290494810360177, 0.00702465184234195, 0.0022183111081079845, 0.04806340734233966, 0.009242962950449934, 0.10093315541891329, 0.19299306640539463, 0.13753528870269502, 0.011830992576575916, 0.12126767390990315, 0.0018485925900899869, 0.009242962950449934, 0.07209511101350949, 0.12663933852692555, 0.01407103761410284, 0.01407103761410284, 0.04221311284230852, 0.01407103761410284, 0.01407103761410284, 0.33770490273846815, 0.4221311284230852, 0.0869748892668781, 0.14785731175369277, 0.0599160348282938, 0.010630264243729546, 0.004831938292604338, 0.004831938292604338, 0.04638660760900165, 0.0328571803897095, 0.3372692928237828, 0.036722731023792976, 0.020294140828938222, 0.16815145258263098, 0.0019327753170417354, 0.0019327753170417354, 0.037689118682313845, 0.8994515480179359, 0.08176832254708509, 0.17983200470391644, 0.7193280188156658, 0.08991600235195822, 0.06007239099911455, 0.871049669487161, 0.06007239099911455, 0.9794200061372883, 0.08903818237611712, 0.1369148556600833, 0.2738297113201666, 0.4792019948102915, 0.06845742783004165, 0.22219983749238392, 0.1163903910674392, 0.021161889284988945, 0.037033306248730656, 0.037033306248730656, 0.2169093651711367, 0.1322618080311809, 0.10051897410369749, 0.07406661249746131, 0.04232377856997789, 0.5498333103596585, 0.08773935803611572, 0.04971896955379891, 0.002924645267870524, 0.017547871607223143, 0.1345336823220441, 0.002924645267870524, 0.04679432428592838, 0.10821187491120939, 0.09594756980545129, 0.13492627003891586, 0.0029983615564203527, 0.005996723112840705, 0.18290005494164152, 0.035980338677044234, 0.1259311853696548, 0.12892954692607517, 0.02098853089494247, 0.26385581696499105, 0.11010391783567518, 0.1065521785506534, 0.00710347857004356, 0.02841391428017424, 0.01420695714008712, 0.11720739640571874, 0.02841391428017424, 0.01065521785506534, 0.0887934821255445, 0.40134653920746116, 0.07813826427047917, 0.12238726630863206, 0.7343235978517924, 0.5725728962785244, 0.2862864481392622, 0.1431432240696311, 0.10204877686431227, 0.20824587799140146, 0.029038269839438448, 0.003318659410221537, 0.0008296648525553843, 0.10785643083219995, 0.0008296648525553843, 0.11200475509497687, 0.16095498139574455, 0.15929565169063378, 0.004977989115332306, 0.046461231743101516, 0.004148324262776921, 0.0016593297051107686, 0.058906204531432284, 0.09991696890561344, 0.11240659001881513, 0.04995848445280672, 0.09991696890561344, 0.1873443166980252, 0.02497924222640336, 0.09991696890561344, 0.07493772667921009, 0.23730280115083194, 0.01248962111320168, 0.0642400341917719, 0.03212001709588595, 0.02409001282191446, 0.24090012821914464, 0.016060008547942976, 0.008030004273971488, 0.1927201025753157, 0.02409001282191446, 0.08833004701368637, 0.297110158136945, 0.02409001282191446, 0.11165686277454363, 0.8932549021963491, 0.17955580530242812, 0.03591116106048562, 0.008977790265121405, 0.03591116106048562, 0.1616002247721853, 0.42195614246070606, 0.1256890637116997, 0.026933370795364217, 0.48141233600013994, 0.1138824880860546, 0.030196114265241752, 0.00258823836559215, 0.00258823836559215, 0.0008627461218640501, 0.0017254922437281001, 0.0034509844874562002, 0.19066689293195505, 0.0034509844874562002, 0.017254922437281002, 0.03537259099642605, 0.0043137306093202505, 0.11129424972046245, 0.017291777695716888, 0.409238738798633, 0.010567197480715875, 0.0009606543164287159, 0.0009606543164287159, 0.006724580215001012, 0.3045274183079029, 0.0009606543164287159, 0.15370469062859454, 0.02305570359428918, 0.07108841941572498, 0.7714273230552522, 0.07346926886240497, 0.14693853772480994, 0.8854164607232105, 0.06810895851717003, 0.8355861024884872, 0.13926435041474786, 0.07956400629477506, 0.11220564990288791, 0.00816041090202821, 0.046922362686662215, 0.01428071907854937, 0.010200513627535265, 0.06732338994173274, 0.018360924529563474, 0.02244112998057758, 0.5100256813767632, 0.07956400629477506, 0.03060154088260579, 0.17074466083188025, 0.15177303185056024, 0.28457443471980043, 0.15177303185056024, 0.2086879187945203, 0.10797020521454778, 0.13040557253185642, 0.02103315685997684, 0.011217683658654314, 0.012619894115986104, 0.02103315685997684, 0.032250840518631155, 0.09955694247055705, 0.1710696757944783, 0.05889283920793515, 0.04487073463461726, 0.08273041698257558, 0.08273041698257558, 0.032250840518631155, 0.09394810064122988, 0.5523900784057979, 0.08498308898550737, 0.039456434171842705, 0.003035110320910977, 0.003035110320910977, 0.21852794310559037, 0.009105330962732932, 0.09105330962732931, 0.01547678499727252, 0.03095356999454504, 0.03095356999454504, 0.9286070998363511, 0.023532340643769203, 0.05537021327945695, 0.004152765995959271, 0.0013842553319864238, 0.0526017026154841, 0.07474978792726689, 0.04014340462760629, 0.08305531991918542, 0.030453617303701323, 0.005537021327945695, 0.39312851428414436, 0.0013842553319864238, 0.005537021327945695, 0.2270178744457735, 0.2313394160096661, 0.08069979628244166, 0.005379986418829444, 0.06455983702595333, 0.10221974195775943, 0.12911967405190666, 0.3658390764804022, 0.010759972837658888, 0.24265285276242862, 0.09332802029324178, 0.317315268997022, 0.09332802029324178, 0.13065922841053848, 0.11199362435189013, 0.28343559881217734, 0.7085889970304433, 0.11787969791457835, 0.16208458463254521, 0.0014734962239322292, 0.0014734962239322292, 0.10609172812312051, 0.0029469924478644585, 0.004420488671796688, 0.1709255619761386, 0.15913759218468077, 0.0029469924478644585, 0.20481597512657987, 0.005893984895728917, 0.010314473567525606, 0.0500988716136958, 0.21404217530964867, 0.10934763303862487, 0.058163634595013225, 0.004653090767601058, 0.002326545383800529, 0.002326545383800529, 0.013959272302803175, 0.023265453838005292, 0.1535519953308349, 0.01861236307040423, 0.011632726919002646, 0.09073526996822064, 0.07677599766541746, 0.0069796361514015874, 0.2070625391582471, 0.1249604008304454, 0.624802004152227, 0.2499208016608908, 0.034971851390727435, 0.09714403164090954, 0.05440065771890934, 0.1865165407505463, 0.0038857612656363815, 0.15931621189109163, 0.19428806328181908, 0.0427433739220002, 0.007771522531272763, 0.13988740556290974, 0.06994370278145487, 0.026516120837442602, 0.0662903020936065, 0.028725797573896154, 0.7999029785961852, 0.024306444100989054, 0.05082256493843165, 0.10025222296893853, 0.8736265144436072, 0.014321746138419791, 0.9036209948715827, 0.2609100164369121, 0.3478800219158828, 0.3478800219158828, 0.057502233110296834, 0.057502233110296834, 0.8625334966544524, 0.01916741103676561, 0.14827997880699145, 0.2518728407132458, 0.018281093277574288, 0.00609369775919143, 0.12999888552941716, 0.00609369775919143, 0.04062465172794286, 0.18484216536214004, 0.034530953968751436, 0.016249860691177145, 0.052812047246325725, 0.02031232586397143, 0.03046848879595715, 0.0609369775919143, 0.4232029963530228, 0.2116014981765114, 0.3174022472647671, 0.09071538380682129, 0.4535769190341064, 0.36286153522728515, 0.09071538380682129, 0.1939818970797083, 0.2586425294396111, 0.3879637941594166, 0.12932126471980554, 0.2847784925189936, 0.0355973115648742, 0.4271677387784904, 0.24918118095411942, 0.2225175146108789, 0.4821212816569043, 0.07417250487029296, 0.2225175146108789, 0.14055061653740047, 0.14055061653740047, 0.7027530826870023, 0.01458603234990903, 0.977264167443905, 0.3340410602308833, 0.6680821204617666, 0.13839675825384107, 0.8765128022743267, 0.1728196976626662, 0.038404377258370266, 0.03200364771530856, 0.006400729543061711, 0.13441532040429593, 0.019202188629185133, 0.05120583634449369, 0.012801459086123422, 0.04480510680143198, 0.19202188629185132, 0.2944335589808387, 1.0075059285480854, 0.02826164234881888, 0.02826164234881888, 0.9185033763366135, 0.01413082117440944, 0.6660426852732825, 0.09803225670689007, 0.020183111674947955, 0.005766603335699416, 0.13263187672108656, 0.008649905003549124, 0.06919924002839299, 0.02882355490627815, 0.1729413294376689, 0.02882355490627815, 0.3458826588753378, 0.20176488434394704, 0.1729413294376689, 0.02882355490627815, 0.22990397384173428, 0.17073037719892503, 0.010670648574932814, 0.0029101768840725855, 0.0019401179227150572, 0.23960456345530956, 0.0009700589613575286, 0.016491002343077987, 0.07275442210181464, 0.0038802358454301145, 0.2512452709915999, 0.7142340827710224, 0.08827612258967692, 0.03210040821442797, 0.1043263266968909, 0.04815061232164196, 0.07436967759894836, 0.07436967759894836, 0.7436967759894837, 0.07436967759894836, 0.019780909229153525, 0.9297027337702156, 0.05934272768746057, 0.02304974217726053, 0.06914922653178159, 0.9219896870904212, 0.13917319134471232, 0.835039148068274, 0.18834087589477178, 0.3300449634727429, 0.0556054014546469, 0.005381167882707765, 0.06098656933735467, 0.001793722627569255, 0.03408072992381585, 0.27623328464566527, 0.005381167882707765, 0.019730948903261804, 0.016143503648123295, 0.001793722627569255, 0.00358744525513851, 0.04451427005163475, 0.242485628965484, 0.018742850548056737, 0.004685712637014184, 0.002342856318507092, 0.025771419503578013, 0.008199997114774822, 0.12417138488087588, 0.33737130986502123, 0.037485701096113475, 0.007028568955521276, 0.10777139065132624, 0.003514284477760638, 0.008199997114774822, 0.02694284766283156, 0.9050623410318303, 0.09427732719081565, 0.09244846143402824, 0.18489692286805648, 0.7263807684102219, 0.3150112534539201, 0.47251688018088017, 0.15750562672696006, 0.07725477641887345, 0.849802540607608, 0.12065227961987011, 0.4222829786695454, 0.1809784194298052, 0.06032613980993506, 0.1809784194298052, 0.2824240536638343, 0.7060601341595857, 0.14838811981501868, 0.16373861496829648, 0.015350495153277794, 0.23537425901692616, 0.06651881233087044, 0.06651881233087044, 0.173972278403815, 0.04093465374207412, 0.005116831717759265, 0.02046732687103706, 0.061401980613111175, 0.09196153844567721, 0.16070046617274908, 0.026009324004838002, 0.0037156177149768573, 0.01764918414614007, 0.0585209790108855, 0.004644522143721071, 0.05108974358093179, 0.18949650346381972, 0.12261538459423629, 0.07431235429953714, 0.09289044287442143, 0.004644522143721071, 0.03158275057730329, 0.06966783215581607, 0.321593996735787, 0.5788691941244165, 0.0643187993471574, 0.0840803511327172, 0.9248838624598892, 0.08274715246812782, 0.7447243722131505, 0.16549430493625564, 0.9233097432068235, 0.10258997146742482, 0.1901379273709458, 0.3802758547418916, 0.1901379273709458, 0.8196099590504732, 0.1707520748021819, 0.1604890514399746, 0.0802445257199873, 0.2636605845085297, 0.1604890514399746, 0.011463503674283901, 0.0802445257199873, 0.2407335771599619, 0.0156720866921843, 0.11754065019138227, 0.023508130038276454, 0.09403252015310581, 0.04309823840350683, 0.622965446014326, 0.00783604334609215, 0.07836043346092152, 1.0059448290409319, 0.18966612365951488, 0.11574496777170394, 0.04863233939987561, 0.006808527515982585, 0.006808527515982585, 0.030152050427922877, 0.0029179403639925366, 0.0320973440039179, 0.19939259153949, 0.033069990791915416, 0.02237087612394278, 0.057386160491853216, 0.0009726467879975122, 0.004863233939987561, 0.2480249309393656, 0.5755406588208232, 0.4316554941156174, 0.11208905975267512, 0.4203339740725317, 0.005604452987633756, 0.005604452987633756, 0.09247347429595698, 0.011208905975267512, 0.13450687170321016, 0.04483562390107005, 0.005604452987633756, 0.12329796572794263, 0.022417811950535025, 0.022417811950535025, 0.21725691081385817, 0.15800502604644232, 0.01975062825580529, 0.07900251302322116, 0.059251884767415865, 0.09875314127902644, 0.23700753906966346, 0.09875314127902644, 0.07916139878591322, 0.2597049398765925, 0.001388796469928302, 0.14721242581240002, 0.001388796469928302, 0.2430393822374529, 0.033331115278279255, 0.14304603640261512, 0.08888297407541133, 0.12505354541903715, 0.0034737095949732544, 0.09379015906427787, 0.006947419189946509, 0.013894838379893018, 0.06600048230449183, 0.09379015906427787, 0.14242209339390344, 0.027789676759786035, 0.13200096460898367, 0.006947419189946509, 0.09379015906427787, 0.0034737095949732544, 0.07989532068438486, 0.1146324166341174, 0.09203252725058586, 0.8162885025704137, 0.01600565691314537, 0.05601979919600879, 0.008002828456572684, 0.008002828456572684, 0.004001414228286342, 0.5349364222393167, 0.05943738024881296, 0.38634297161728426, 0.14141125463927504, 0.7777619005160127, 0.07070562731963752, 0.11064376063359586, 0.8851500850687669, 0.1084955645516907, 0.0361651881838969, 0.687138575494041, 0.18082594091948448, 0.399360168313928, 0.0399360168313928, 0.0399360168313928, 0.4093441725217762, 0.099840042078482, 0.14214736386327803, 0.24839892877118283, 0.02225539535233141, 0.008614991749289579, 0.009332907728397044, 0.04953620255841507, 0.045228706683770284, 0.0897394973884331, 0.20388813806652, 0.11343072469897944, 0.005025411853752254, 0.027280807206083665, 0.0035895798955373243, 0.007897075770182114, 0.024409143289653806, 0.13700369614083555, 0.4110110884225066, 0.4110110884225066, 0.1290593143913863, 0.1667016144222073, 0.005377471432974429, 0.016132414298923287, 0.016132414298923287, 0.05915218576271872, 0.005377471432974429, 0.037642300030821, 0.08603954292759086, 0.41944277177200545, 0.05377471432974429, 0.1371161668066089, 0.20642763574181783, 0.015067710638088892, 0.0030135421276177785, 0.004520313191426668, 0.09191303489234223, 0.009040626382853335, 0.048216674041884455, 0.1657448170189778, 0.03314896340379556, 0.027121879148560006, 0.17478544340183114, 0.0015067710638088892, 0.0030135421276177785, 0.07835209531806224, 0.2872311562778628, 0.20680643252006117, 0.03446773875334353, 0.21063618127043268, 0.0038297487503715032, 0.01148924625111451, 0.07276522625705856, 0.0038297487503715032, 0.042127236254086535, 0.05361648250520105, 0.026808241252600524, 0.049786733754829546, 0.043571489014709766, 0.9585727583236148, 0.1238360310916409, 0.37150809327492273, 0.4953441243665636, 0.04927052522841541, 0.14352718218712315, 0.0064265902471846185, 0.0064265902471846185, 0.07283468946809235, 0.4562879075501079, 0.26134800338550784, 0.4934000994778067, 0.4934000994778067, 0.009448614106382765, 0.0031495380354609214, 0.009448614106382765, 0.012598152141843686, 0.7275432861914729, 0.2362153526595691, 0.5562617387049993, 0.11125234774099987, 0.3337570432229996, 0.061896859205386026, 0.041264572803590686, 0.11554080385005391, 0.0020632286401795342, 0.016505829121436274, 0.10728788928933577, 0.03507488688305208, 0.4807322731618315, 0.0020632286401795342, 0.0969717460884381, 0.03713811552323162, 0.039805105369667755, 0.11941531610900326, 0.3582459483270098, 0.039805105369667755, 0.39805105369667754, 0.17064267510005945, 0.06495430858647425, 0.015412886783231177, 0.0011009204845165127, 0.011009204845165127, 0.14201874250263014, 0.01651380726774769, 0.1299086171729485, 0.16073439073941084, 0.004403681938066051, 0.1915601643058732, 0.08917455924583753, 0.06469766582755299, 0.2372247747010276, 0.1509612202642903, 0.5391472152296082, 0.021565888609184326, 0.009909634822656322, 0.0891867134039069, 0.11891561787187586, 0.019819269645312644, 0.029728904467968966, 0.29728904467968964, 0.3171083143250023, 0.06936744375859426, 0.049548174113281614, 0.10183992805650605, 0.17268509540016244, 0.07084516734365638, 0.008855645917957048, 0.1284068658103772, 0.061989521425699336, 0.278952846415647, 0.03542258367182819, 0.14169033468731276, 0.01512451219011057, 0.2149841375594288, 0.08210449474631452, 0.0010803222992936121, 0.011883545292229732, 0.017285156788697794, 0.2225463936544841, 0.29924927690433056, 0.045373536570331705, 0.018365479087991406, 0.01944580138728502, 0.05293579266538699, 0.031194958428491935, 0.245660297624374, 0.031194958428491935, 0.001949684901780746, 0.19691817507985535, 0.005849054705342238, 0.05069180744629939, 0.23201250331190876, 0.07018865646410685, 0.10333329979437954, 0.035094328232053426, 0.08600969355547629, 0.17201938711095258, 0.11181260162211917, 0.6192697935994294, 0.00860096935554763, 0.00860096935554763, 0.24167026848194098, 0.15945254827674457, 0.004982892133648268, 0.002491446066824134, 0.007474338200472401, 0.09716639660614122, 0.022423014601417202, 0.08470916627202055, 0.3762083560904442, 0.19016289857078114, 0.3803257971415623, 0.3803257971415623, 0.10899313514943641, 0.054496567574718206, 0.3633104504981214, 0.16348970272415464, 0.30881388292340317, 0.35592649593093445, 0.10583557720145913, 0.061979053772087365, 0.006886561530231929, 0.004349407282251745, 0.016310277308444043, 0.05980435013096149, 0.04023201736082864, 0.17361384068321548, 0.037332412505994145, 0.004711857889106057, 0.0021747036411258725, 0.0021747036411258725, 0.0010873518205629362, 0.12794506421957216, 0.01798431701222602, 0.011240198132641262, 0.046084812343829176, 0.004496079253056505, 0.0011240198132641262, 0.08317746618154534, 0.7429770965675875, 0.0022480396265282523, 0.004496079253056505, 0.08430148599480947, 0.0022480396265282523, 0.2841852006545664, 0.710463001636416, 0.14471132779951004, 0.2741898842517032, 0.2361079558834111, 0.1294785564521932, 0.0685474710629258, 0.10662939943121792, 0.03808192836829211, 0.010617809695783713, 0.2176650987635661, 0.09025138241416156, 0.021235619391567425, 0.10086919210994527, 0.04247123878313485, 0.13803152604518826, 0.2176650987635661, 0.015926714543675568, 0.12741371634940454, 0.010617809695783713, 0.2719890044671825, 0.23447327971308835, 0.009378931188523534, 0.0844103806967118, 0.07503144950818827, 0.20633648614751773, 0.09378931188523534, 0.018757862377047067, 0.21652860249828285, 0.6495858074948485, 0.1443524016655219, 1.0077015651490038, 0.09356643516256806, 0.14034965274385208, 0.7485314813005445, 0.04678321758128403, 0.4643226459607484, 0.014510082686273388, 0.05804033074509355, 0.029020165372546775, 0.05804033074509355, 0.04353024805882016, 0.2176512402941008, 0.10157057880391371, 0.5487929063971304, 0.4573274219976087, 0.8307873774183444, 0.16615747548366888, 0.2292103559910104, 0.1360421177644486, 0.010718469884471709, 0.007420479150788106, 0.006595981467367206, 0.044522874904728636, 0.003297990733683603, 0.05689034015604215, 0.2333328444081149, 0.03133091196999423, 0.01154296756789261, 0.08739675444261547, 0.018138949035259814, 0.010718469884471709, 0.11213168494524249, 0.09862862259300138, 0.17065347198657477, 0.007786470204710635, 0.004542107619414537, 0.01816843047765815, 0.09408651497358685, 0.0025954900682368786, 0.0363368609553163, 0.1323699934800808, 0.04996318381355991, 0.013626322858243611, 0.27966405485252366, 0.011679705307065953, 0.003244362585296098, 0.07721582953004713, 1.0201482774859467, 0.19632814692105624, 0.3926562938421125, 0.19632814692105624, 0.0764806372569228, 0.15660320962131813, 0.0036419351074725146, 0.0018209675537362573, 0.016388707983626315, 0.1711709500512082, 0.03459838352098889, 0.15660320962131813, 0.06919676704197777, 0.010925805322417544, 0.1930225606960433, 0.0018209675537362573, 0.10925805322417544, 0.046197711388958694, 0.0307984742593058, 0.9239542277791739, 0.42447753030855434, 0.1369282355834046, 0.0178006706258426, 0.004107847067502139, 0.0054771294233361845, 0.0013692823558340461, 0.0027385647116680923, 0.1246046943808982, 0.0054771294233361845, 0.0054771294233361845, 0.015062105914174508, 0.006846411779170231, 0.045186317742523525, 0.20539235337510692, 1.0041068363196988, 0.11798932492767976, 0.11798932492767976, 0.11798932492767976, 0.5899466246383989, 0.18692004958720407, 0.1453822607900476, 0.010384447199289114, 0.2596111799822279, 0.04153778879715646, 0.06230668319573469, 0.09346002479360203, 0.11422891919218026, 0.010384447199289114, 0.08307557759431292, 0.531315120114492, 0.531315120114492, 0.9987772484946832, 0.2700038583318198, 0.1756122655816714, 0.02414668651747982, 0.004390306639541785, 0.02414668651747982, 0.0021951533197708925, 0.015366073238396248, 0.010975766598854462, 0.1470752724246498, 0.046098219715188744, 0.028536993157021604, 0.08122067283152302, 0.04829337303495964, 0.006585459959312678, 0.11414797262808642, 0.03600455035712029, 0.0640080895237694, 0.004000505595235587, 0.0020002527976177935, 0.04000505595235587, 0.1280161790475388, 0.022002780773795732, 0.004000505595235587, 0.6640839288091075, 0.0020002527976177935, 0.0020002527976177935, 0.0320040447618847, 0.19716328455995327, 0.5914898536798598, 0.09858164227997664, 0.09858164227997664, 0.37945534768476713, 0.05476675121223443, 0.08997394842009941, 0.14082878883145997, 0.23080273725155936, 0.003911910800873887, 0.10170968082272108, 0.885533042786103, 0.046607002251900155, 0.09321400450380031, 0.09922257035993484, 0.28939916354980993, 0.01653709505998914, 0.12402821294991855, 0.09922257035993484, 0.03720846388497556, 0.09095402282994026, 0.10335684412493212, 0.012402821294991855, 0.08681974906494298, 0.004134273764997285, 0.04134273764997285, 0.1739946354566741, 0.4523860521873526, 0.2783914167306785, 0.06959785418266963, 0.365809506632116, 0.10470166090883885, 0.0038778392929199575, 0.005170452390559944, 0.001292613097639986, 0.04394884531975952, 0.002585226195279972, 0.009048291683479901, 0.16933231579083813, 0.029730101245719672, 0.020681809562239774, 0.13830960144747848, 0.01551135717167983, 0.010340904781119887, 0.07755678585839915, 0.09748861080705946, 0.08304585365045807, 0.12998481440941262, 0.043328271469804204, 0.0036106892891503506, 0.6029851112881085, 0.036106892891503505, 0.04014030806834585, 0.10998444410726764, 0.02729540948647518, 0.003211224645467668, 0.0004014030806834585, 0.05097819124679923, 0.006823852371618795, 0.0590062528604684, 0.22719414366683752, 0.02448558792169097, 0.006823852371618795, 0.3183126429819826, 0.001605612322733834, 0.001605612322733834, 0.12242793960845484, 0.03962530396505965, 0.1051594605226583, 0.013716451372520649, 0.0015240501525022943, 0.07620250762511471, 0.054865805490082596, 0.1844100684527776, 0.041149354117561945, 0.4526428952931814, 0.0015240501525022943, 0.028956952897543593, 0.49597102931482984, 0.49597102931482984, 0.08752445542324575, 0.10171761035674506, 0.0017741443666874138, 0.005322433100062241, 0.0065051960111871835, 0.03607426878931075, 0.002365525822249885, 0.01005348474456201, 0.13069530167930615, 0.02306387676693638, 0.026020784044748734, 0.3495064402374205, 0.07569682631199633, 0.026612165500311206, 0.11591076529024437, 0.051733142705705074, 0.4337625042247579, 0.04775367018988161, 0.003979472515823468, 0.055712615221528546, 0.003979472515823468, 0.06367156025317548, 0.1353020655379979, 0.08754839534811629, 0.051733142705705074, 0.051733142705705074, 0.01591789006329387, 0.08828371646914869, 0.17656743293829738, 0.006305979747796335, 0.03783587848677801, 0.044141858234574345, 0.15134351394711204, 0.15134351394711204, 0.031529898738981675, 0.07567175697355602, 0.18287341268609372, 0.044141858234574345, 0.005818935344616005, 0.11055977154770409, 0.13965444827078413, 0.029094676723080026, 0.01163787068923201, 0.02327574137846402, 0.19784380171694416, 0.04073254741231203, 0.01163787068923201, 0.19202486637232816, 0.16293018964924813, 0.02327574137846402, 0.05818935344616005, 0.09391645166648054, 0.10956919361089396, 0.0626109677776537, 0.015652741944413424, 0.17218016138854764, 0.07826370972206712, 0.2191383872217879, 0.1408746774997208, 0.09391645166648054, 0.024453442167526068, 0.148651187913119, 0.0205923723516009, 0.005791604723887753, 0.027671000347463708, 0.03732367488727663, 0.027027488711476182, 0.09330918721819158, 0.2451779333112482, 0.04311527961116438, 0.008365651267837865, 0.20721074678798407, 0.012226721083763034, 0.025740465439501124, 0.07207330323060315, 0.011175576956130915, 0.08046415408414259, 0.008940461564904733, 0.004470230782452366, 0.008940461564904733, 0.002235115391226183, 0.14975273121215427, 0.07375880791046405, 0.17880923129809465, 0.020116038521035648, 0.002235115391226183, 0.34867800103128455, 0.02905650008594038, 0.08046415408414259, 0.8556384369607916, 0.12223406242297023, 0.14496633137068707, 0.17825489635210412, 0.00751677273773933, 0.004295298707279617, 0.03973151304233646, 0.018255019505938372, 0.0010738246768199043, 0.024697967566857798, 0.11382541574290986, 0.0504697598105355, 0.11167776638927004, 0.16107370152298564, 0.0021476493536398086, 0.004295298707279617, 0.13852338330976766, 0.07321134522428353, 0.6589021070185518, 0.29284538089713413, 0.12464654776688872, 0.04154884925562957, 0.7063304373457027, 0.08309769851125914, 0.08309769851125914, 1.016782185548516, 0.23735218057386953, 0.41536631600427165, 0.11867609028693477, 0.23735218057386953, 0.6467099577681862, 0.3880259746609117, 0.876014136958203, 0.1251448767083147, 0.4264668938020925, 0.09110283489889902, 0.047531913860295136, 0.003960992821691262, 0.0013203309405637538, 0.01056264752451003, 0.0026406618811275076, 0.10430614430453655, 0.0013203309405637538, 0.05017257574142265, 0.007921985643382524, 0.0013203309405637538, 0.01056264752451003, 0.2403002311826032, 0.3501128955932053, 0.6302032120677695, 0.18332386942905388, 0.5092329706362608, 0.02036931882545043, 0.0611079564763513, 0.04073863765090086, 0.14258523177815302, 0.0611079564763513, 0.151926157950342, 0.835593868726881, 0.21987927391015, 0.769577458685525, 0.1269193412927934, 0.0634596706463967, 0.8884353890495538, 0.33485811872329024, 0.15010881184147493, 0.0808278217607942, 0.03464049504034037, 0.04618732672045382, 0.03464049504034037, 0.127015148481248, 0.1847493068818153, 0.05939219427221395, 0.16197871165149258, 0.016197871165149258, 0.016197871165149258, 0.005399290388383086, 0.005399290388383086, 0.26456522903077123, 0.04319432310706469, 0.0755900654373632, 0.10798580776766172, 0.1133850981560448, 0.021597161553532345, 0.10798580776766172, 0.1541033946708494, 0.014009399515531764, 0.03502349878882941, 0.056037598062127054, 0.06304229781989294, 0.6304229781989293, 0.04202819854659529, 0.007004699757765882, 1.005065949697482, 0.12553259337539846, 0.12553259337539846, 0.7531955602523908, 0.5891243210828412, 0.008926126077012746, 0.05355675646207648, 0.10711351292415296, 0.1785225215402549, 0.07140900861610197, 0.22751843803396538, 0.03791973967232756, 0.3791973967232756, 0.03791973967232756, 0.3033579173786205, 0.04391901430782051, 0.3513521144625641, 0.08783802861564102, 0.43919014307820514, 0.08783802861564102, 0.14730995002956687, 0.7365497501478344, 0.14730995002956687, 1.0154513910966003, 0.118794068347392, 0.16404895152735086, 0.039598022782464, 0.016970581192484572, 0.005656860397494858, 0.10182348715490744, 0.02262744158997943, 0.19233325351482516, 0.056568603974948575, 0.039598022782464, 0.033941162384969144, 0.11313720794989715, 0.09616662675741258, 0.06317565715402067, 0.24527019836266847, 0.001858107563353549, 0.013006752943474843, 0.03716215126707098, 0.001858107563353549, 0.009290537816767745, 0.05945944202731357, 0.2341215529825472, 0.15236482019499104, 0.07989862522420262, 0.027871613450303236, 0.046452689083838726, 0.029729721013656785, 0.1914538328918888, 0.5344752834898562, 0.0026590810123873444, 0.0478634582229722, 0.03722713417342282, 0.010636324049549378, 0.1382722126441419, 0.007977243037162034, 0.01861356708671141, 0.005318162024774689, 0.005318162024774689, 0.014828388851940107, 0.4418859877878152, 0.02075974439271615, 0.0029656777703880215, 0.011862711081552086, 0.15718092183056515, 0.06524491094853647, 0.17794066622328128, 0.07710762203008856, 0.0029656777703880215, 0.02075974439271615, 0.005931355540776043, 0.49995446341094624, 0.49995446341094624, 0.09232401947058497, 0.9232401947058497, 0.07043478690772458, 0.493043508354072, 0.14086957381544915, 0.3521739345386229, 0.9304692717000189, 0.6451670077053735, 0.12518165821149038, 0.028888074971882397, 0.019258716647921597, 0.019258716647921597, 0.15406973318337278, 0.3368701742469565, 0.5053052613704347, 0.16843508712347824, 0.15991858340014106, 0.019989822925017633, 0.21988805217519397, 0.11993893755010579, 0.039979645850035266, 0.21988805217519397, 0.19989822925017633, 0.07120681508504055, 0.07120681508504055, 0.8544817810204866, 0.06843698299070171, 0.13687396598140342, 0.06843698299070171, 0.13687396598140342, 0.4106218979442102, 0.06843698299070171, 0.19736226734340395, 0.09868113367170198, 0.04934056683585099, 0.6660976522839883, 0.030019874498060043, 0.05065853821547632, 0.001250828104085835, 0.0062541405204291755, 0.005628726468386257, 0.0006254140520429175, 0.04190274148687548, 0.0031270702602145877, 0.03252153070623171, 0.530351116132394, 0.00500331241634334, 0.0462806398511759, 0.2464131365049095, 0.033320861300385925, 0.14691470664261067, 0.00908750762737798, 0.00908750762737798, 0.03180627669582293, 0.022718769068444947, 0.05149587655514189, 0.18477932175668557, 0.02726252288213394, 0.07572923022814983, 0.2998877517034733, 0.003029169209125993, 0.012116676836503972, 0.09087507627377979, 0.03440973867663384, 0.0926416041293988, 0.00529380595025136, 0.00264690297512568, 0.052938059502513596, 0.04764425355226224, 0.1694017904080435, 0.013234514875628399, 0.26998410346281937, 0.11116992495527855, 0.198517723134426, 0.08313386459459654, 0.21161347351351847, 0.007557624054054231, 0.12847960891892193, 0.5517065559459589, 0.007557624054054231, 0.015115248108108463, 0.135692510217925, 0.17269955845917725, 0.029605638593001818, 0.09128405232842227, 0.004934273098833636, 0.18750237775567818, 0.2935892493806014, 0.08388264268017182, 0.3709353488405118, 0.5564030232607677, 0.16844685254582584, 0.11229790169721723, 0.3368937050916517, 0.3368937050916517, 0.05614895084860862, 0.3770477447355765, 0.09345627860967282, 0.06606392108614802, 0.004833945445327904, 0.01772446663286898, 0.0016113151484426346, 0.012890521187541077, 0.17724466632868982, 0.004833945445327904, 0.01772446663286898, 0.024169727226639518, 0.012890521187541077, 0.18852387236778825, 0.03620309136358784, 0.017036748876982512, 0.001064796804811407, 0.023425529705850955, 0.002129593609622814, 0.0756005731416099, 0.019166342486605325, 0.5015192950661727, 0.001064796804811407, 0.002129593609622814, 0.3215686350530449, 0.059687284369027614, 0.9549965499044418, 1.01440809139655, 0.1003466073575472, 0.5519063404665097, 0.0501733036787736, 0.3010398220726416, 0.2291383128985594, 0.1892881715248969, 0.029887606030246882, 0.16936310083806566, 0.1494380301512344, 0.04981267671707813, 0.029887606030246882, 0.019925070686831255, 0.1494380301512344, 0.11165255249362632, 0.8932204199490106, 0.6926399560297624, 0.12223058047584043, 0.013581175608426714, 0.16976469510533393, 0.0714522375732383, 0.5716179005859064, 0.2143567127197149, 0.1429044751464766, 0.26700415287598644, 0.2427310480690786, 0.09709241922763144, 0.14563862884144715, 0.07281931442072358, 0.16991173364835502, 0.07873306574698764, 0.1435720610680363, 0.07873306574698764, 0.07410170893834132, 0.2176737700063776, 0.09725849298157298, 0.004631356808646333, 0.009262713617292665, 0.19451698596314596, 0.09725849298157298, 0.4458223513350825, 0.5572779391688532, 0.12041259731177979, 0.09865128454459068, 0.08704525106875648, 0.0014507541844792746, 0.0014507541844792746, 0.24517745717699743, 0.02756432950510622, 0.2582342448373109, 0.029015083689585493, 0.0014507541844792746, 0.1305678766031347, 0.027238170749956384, 0.1634290244997383, 0.708192439498866, 0.06809542687489095, 0.013619085374978192, 0.013619085374978192, 0.0708322174987229, 0.0708322174987229, 0.7791543924859519, 0.25087932840008625, 0.12543966420004313, 0.5017586568001725, 0.12543966420004313, 1.0165174229063352, 1.0159301648353787, 0.0280339285068098, 0.5242344630773432, 0.01121357140272392, 0.00280339285068098, 0.06167464271498156, 0.12054589257928214, 0.06728142841634352, 0.14577642823541095, 0.0280339285068098, 0.00280339285068098, 0.00560678570136196, 0.055695893507519384, 0.15149283034045272, 0.00445567148060155, 0.04455671480601551, 0.022278357403007754, 0.1715433520031597, 0.16040417330165582, 0.002227835740300775, 0.25842894587488996, 0.1269866371971442, 0.1286383833793647, 0.04246315567862525, 0.013738079778378756, 0.0024978326869779556, 0.006244581717444889, 0.3646835722987815, 0.0012489163434889778, 0.4396185529081202, 0.9697307295945511, 0.13280313592348075, 0.09960235194261056, 0.03320078398087019, 0.039840940777044226, 0.3120873694201797, 0.013280313592348074, 0.019920470388522113, 0.11288266553495863, 0.179284233496699, 0.053121254369392294, 1.014123247165994, 0.06745364925776813, 0.12310290989542684, 0.00505902369433261, 0.00505902369433261, 0.08600340280365436, 0.062394625563435516, 0.0016863412314442033, 0.050590236943326095, 0.26138289087385147, 0.06408096679487972, 0.01517707108299783, 0.13153461605264785, 0.023608777240218846, 0.0016863412314442033, 0.1028668151180964, 0.8090557894656533, 0.06223506072812718, 0.046676295546095384, 0.07779382591015897, 0.05196332378325158, 0.07274865329655221, 0.8521985100453259, 0.010392664756650316, 0.010392664756650316, 0.10318464451830621, 0.012898080564788276, 0.8770694784056028, 0.8330862140019342, 0.16661724280038684, 0.08230069661927387, 0.0029393105935454954, 0.005878621187090991, 0.0029393105935454954, 0.09111862839991036, 0.0617255224644554, 0.017635863561272974, 0.17929794620627523, 0.011757242374181982, 0.14696552967727478, 0.08230069661927387, 0.2527807110449126, 0.005878621187090991, 0.017635863561272974, 0.03821103771609144, 0.0461133565004424, 0.8761537735084055, 0.0461133565004424, 0.8804996559088784, 0.593721909363776, 0.19790730312125865, 1.0096642045573163, 0.08003571611878452, 0.15562500356430323, 0.0011116071683164516, 0.0022232143366329032, 0.005558035841582258, 0.07558928744551871, 0.0022232143366329032, 0.0011116071683164516, 0.20120089746527772, 0.06558482293067064, 0.02779017920791129, 0.2612276845543661, 0.037794643722759355, 0.036683036554442904, 0.045575893900974516, 0.18935105554809328, 0.5680531666442798, 0.18935105554809328, 0.08218691571727374, 0.32874766286909496, 0.015548875946511248, 0.0022212679923587497, 0.033319019885381246, 0.011106339961793749, 0.06885930776312124, 0.12216973957973123, 0.21324172726643997, 0.0022212679923587497, 0.046646627839533744, 0.0022212679923587497, 0.07330184374783874, 0.5784427155290821, 0.43383203664681164, 0.24870416752055916, 0.4974083350411183, 0.24870416752055916, 0.03217683369993583, 0.20225438325673953, 0.009193381057124524, 0.06435366739987167, 0.004596690528562262, 0.12870733479974333, 0.11032057268549429, 0.3447517896421696, 0.02298345264281131, 0.0597569768713094, 0.01838676211424905, 0.36925619074092375, 0.0671374892256225, 0.2014124676768675, 0.134274978451245, 0.08392186153202812, 0.15105935075765062, 0.1141315168908517, 0.09510959740904308, 0.3994603091179809, 0.3423945506725551, 0.03804383896361723, 0.08369210060589442, 0.04184605030294721, 0.8787670563618915, 0.24640075746521142, 0.14998306976143302, 0.021426152823061862, 0.010713076411530931, 0.16069614617296396, 0.032139229234592795, 0.18212229899602583, 0.07499153488071651, 0.07499153488071651, 0.042852305646123724, 0.010713076411530931, 0.5863750989725545, 0.030631535020954337, 0.01750373429768819, 0.12690207365823938, 0.23192447944436853, 1.0141913098920183, 0.11364223375538213, 0.7954956362876748, 0.03788074458512737, 0.03788074458512737, 0.17007342484175222, 0.765330411787885, 0.21190930455297435, 0.21190930455297435, 0.5297732613824359, 0.04051379093870903, 0.06752298489784837, 0.027009193959139352, 0.027009193959139352, 0.3646241184483812, 0.013504596979569676, 0.35111952146881154, 0.10803677583655741, 0.013504596979569676, 0.24207735412929657, 0.13187796157790035, 0.009032737094376738, 0.0018065474188753475, 0.005419642256626042, 0.003613094837750695, 0.213172595427291, 0.0018065474188753475, 0.03251785353975625, 0.08129463384939063, 0.27640175508792814, 0.06764898783623664, 0.16622322725475291, 0.044455049149526936, 0.009664141119462379, 0.0019328282238924757, 0.046387877373419414, 0.08117878540348397, 0.16622322725475291, 0.2551333255538068, 0.038656564477849514, 0.0792459571795915, 0.015462625791139805, 0.0019328282238924757, 0.005798484671677427, 0.017395454015032282, 1.0103372844680847, 0.996698939842805, 0.11492788309657172, 0.05746394154828586, 0.4309795616121439, 0.2873197077414293, 0.08619591232242878, 0.08449007380976614, 0.8449007380976614, 0.04224503690488307, 0.36736474794819435, 0.4285922059395601, 0.18368237397409717, 0.061227457991365725, 0.7856669843060055, 0.06547224869216713, 0.02182408289738904, 0.04364816579477808, 0.1091204144869452, 0.2263693583910209, 0.04446540968395053, 0.019200972363524093, 0.0010105774928170575, 0.003031732478451173, 0.014148084899438806, 0.1141952566883275, 0.002021154985634115, 0.028296169798877613, 0.10914236922424222, 0.002021154985634115, 0.34460692505061663, 0.09095197435353518, 0.1489641033232203, 0.19352601457375626, 0.008912382250107197, 0.011458777178709252, 0.0012731974643010282, 0.05347429350064318, 0.0012731974643010282, 0.04710830617913804, 0.09548980982257711, 0.010185579714408225, 0.08785062503677094, 0.16933526275203672, 0.02037115942881645, 0.07511865039376066, 0.07511865039376066, 0.043123872332909194, 0.22888824545928724, 0.21561936166454596, 0.006634441897370644, 0.10283384940924499, 0.026537767589482578, 0.0298549885381679, 0.2388399083053432, 0.06966163992239177, 0.0298549885381679, 0.009951662846055967, 0.05926197112027278, 0.20741689892095475, 0.009876995186712131, 0.002469248796678033, 0.03456948315349246, 0.012346243983390163, 0.06666971751030688, 0.027161736763458358, 0.041977229543526555, 0.303717601991398, 0.009876995186712131, 0.11111619585051147, 0.1135854446471895, 0.13604046104176148, 0.061836573200800674, 0.5070599002465656, 0.07420388784096081, 0.037101943920480406, 0.012367314640160136, 0.1731424049622419, 0.9956887335374621, 0.026424671169331476, 0.3517784349417253, 0.016515419480832173, 0.0016515419480832173, 0.08918326519649374, 0.07101630376757834, 0.014863877532748955, 0.07762247155991121, 0.20974582740656858, 0.021470045325081826, 0.014863877532748955, 0.08918326519649374, 0.004954625844249652, 0.01156079363658252, 0.25257204023094226, 0.42095340038490375, 0.33676272030792304, 0.180389653097152, 0.12025976873143467, 0.04342713870857363, 0.010021647394286222, 0.026724393051429925, 0.07349208089143229, 0.2371789883314406, 0.09687592481143348, 0.05344878610285985, 0.090194826548576, 0.0033405491314287407, 0.006681098262857481, 0.05678933523428859, 0.2172798876165025, 0.06207996789042928, 0.34143982339736106, 0.1551999197260732, 0.2172798876165025, 0.26231193895875127, 0.43718656493125213, 0.08743731298625043, 0.08743731298625043, 0.08743731298625043, 0.007401258150476985, 0.29605032601907944, 0.01480251630095397, 0.01480251630095397, 0.02960503260190794, 0.007401258150476985, 0.14062390485906273, 0.02960503260190794, 0.04440754890286191, 0.2516427771162175, 0.11101887225715477, 0.03700629075238493, 0.007401258150476985, 0.16412998960867173, 0.06565199584346869, 0.06565199584346869, 0.34467297817821063, 0.09847799376520304, 0.27902098233474193, 0.08040311546894643, 0.058331672006882704, 0.07567352044136134, 0.02049491178620203, 0.0031530633517233893, 0.11351028066204202, 0.4272400841585193, 0.025224506813787115, 0.05517860865515931, 0.07882658379308473, 0.0015765316758616947, 0.006306126703446779, 0.05202554530343593, 0.1362951825806171, 0.15859803063926353, 0.10407995760701669, 0.022302848058646435, 0.00991237691495397, 0.004956188457476985, 0.04460569611729287, 0.170988501782956, 0.05699616726098533, 0.047083790346031364, 0.11399233452197066, 0.052039978803508344, 0.04460569611729287, 0.03717141343107739, 0.4987012672244921, 0.24935063361224605, 0.12467531680612302, 0.07380246033068757, 0.1033234444629626, 0.014760492066137516, 0.07380246033068757, 0.05904196826455006, 0.1918863968597877, 0.02952098413227503, 0.11808393652910013, 0.2804493492566128, 0.05904196826455006, 0.42656821998613953, 0.10664205499653488, 0.42656821998613953, 0.5531258689946542, 0.06145842988829491, 0.030729214944147456, 0.338021364385622, 0.03280000405805012, 0.05466667343008353, 0.010933334686016706, 0.03280000405805012, 0.7872000973932028, 0.06560000811610024, 0.05982105321096258, 0.18145719473991984, 0.03256924008152407, 0.019275672701310163, 0.017281637594278077, 0.0432040939856952, 0.029245848236470594, 0.0571623397349198, 0.31572222528008026, 0.06115040994898397, 0.04652748583074867, 0.07244994222216579, 0.015287602487245993, 0.004652748583074867, 0.04453345072371659, 0.5741891013060372, 0.07096719229625179, 0.051612503488183116, 0.16128907340057225, 0.012903125872045779, 0.009677344404034335, 0.11612813284841202, 0.058125977844744416, 0.30031755219784617, 0.04843831487062035, 0.00968766297412407, 0.3196928781460943, 0.11625195568948883, 0.01937532594824814, 0.058125977844744416, 0.03875065189649628, 0.029062988922372208, 0.13337492604955611, 0.17260284547589613, 0.27459543598438024, 0.06276467108214405, 0.14906609382009212, 0.03922791942634003, 0.015691167770536012, 0.15691167770536013, 0.007845583885268006, 0.05846161404056755, 0.016703318297305016, 0.45098959402723543, 0.4676929123245404, 0.0888935268322718, 0.06667014512420386, 0.37779748903715515, 0.444467634161359, 0.05783644219521343, 0.00826234888503049, 0.0027541162950101635, 0.43515037461160583, 0.4819703516267786, 0.005508232590020327, 0.0027541162950101635, 0.1104739033118196, 0.0552369516559098, 0.828554274838647, 0.19155090841186445, 0.7278934519650849, 0.07662036336474579, 0.044463843851690124, 0.03890586337022886, 0.15006547299945416, 0.0055579804814612655, 0.022231921925845062, 0.1111596096292253, 0.6113778529607392, 0.011115960962922531, 0.0055579804814612655, 0.5023547793157017, 0.07691556429714093, 0.033650559379999154, 0.002403611384285654, 0.004807222768571308, 0.19709613351142363, 0.1826744652057097, 0.13034374959986686, 0.0999302080265646, 0.05793055537771861, 0.0014482638844429652, 0.007241319422214826, 0.008689583306657792, 0.08544756918213495, 0.40551388764403024, 0.017379166613315584, 0.1288954857154239, 0.05503402760883268, 0.3971636529714726, 0.3971636529714726, 0.6943300868604274, 0.09919001240863248, 0.19838002481726497, 0.20583167374646558, 0.10650592420601998, 0.04188435221585055, 0.0071801746655743804, 0.09693235798525414, 0.01316365355355303, 0.04308104799344628, 0.3494351670579532, 0.0035900873327871902, 0.0023933915551914604, 0.11488279464919009, 0.0011966957775957302, 0.015557045108744491, 1.0185848529535146, 0.16469328193605923, 0.49407984580817765, 0.16469328193605923, 0.33025715369123315, 0.11388177713490798, 0.07971724399443558, 0.31886897597774233, 0.011388177713490799, 0.15943448798887117, 0.32546234505409105, 0.1415053674148222, 0.04009318743419962, 0.015329748136605738, 0.0011792113951235182, 0.00707526837074111, 0.0023584227902470364, 0.012971325346358701, 0.24291754739544477, 0.008254479765864627, 0.010612902556111664, 0.05660214696592888, 0.004716845580494073, 0.04363082161957017, 0.08726164323914035, 1.0179161724900312, 0.19978424605847023, 0.5993527381754107, 0.19978424605847023, 0.14393836775966862, 0.14393836775966862, 0.07196918387983431, 0.5757534710386745, 0.19996356731903103, 0.7998542692761241, 0.6465668884406222, 0.09515512697805383, 0.004879750101438657, 0.014639250304315973, 0.0024398750507193287, 0.009759500202877315, 0.0024398750507193287, 0.07075637647086053, 0.1537121281953177, 0.0465078291128434, 0.009301565822568681, 0.15812661898366756, 0.725522134160357, 0.009301565822568681, 0.0465078291128434, 0.251853511603559, 0.104270562128862, 0.012298579122891415, 0.007486091640020861, 0.005881929145730677, 0.02406243741435277, 0.002138883325720246, 0.019249949931482217, 0.16576345774331908, 0.01818050826862209, 0.0069513708085908, 0.14972183280041723, 0.008555533302880985, 0.028874924897223323, 0.1946383826405424, 1.0112255273272357, 0.9749855953162635, 0.05131503133243492, 0.00678606835400979, 0.8573066353899036, 0.004524045569339861, 0.00678606835400979, 0.0022620227846699304, 0.038454387339388815, 0.06559866075542797, 0.0022620227846699304, 0.01583415949268951, 0.08992908156491727, 0.655197594258683, 0.03854103495639311, 0.11562310486917934, 0.10277609321704831, 0.1410700179337919, 0.747671095049097, 0.01410700179337919, 0.02821400358675838, 0.08464201076027514, 0.25130848934926203, 0.09214644609472943, 0.020942374112438506, 0.09214644609472943, 0.008376949644975401, 0.06701559715980321, 0.22198916559184814, 0.06282712233731551, 0.0041884748224877005, 0.012565424467463103, 0.16335051807702033, 0.0636640094438688, 0.14269519358108523, 0.01975779603430411, 0.0021953106704782344, 0.0021953106704782344, 0.037320281398129984, 0.18001547497921522, 0.34246846459460456, 0.0636640094438688, 0.004390621340956469, 0.03512497072765175, 0.0021953106704782344, 0.10317960151247701, 0.1684952387903386, 0.1684952387903386, 0.028082539798389764, 0.04212380969758465, 0.014041269899194882, 0.04212380969758465, 0.46336190667343113, 0.0842476193951693, 0.07363742825316243, 0.08415706086075705, 0.2945497130126497, 0.15779448911391947, 0.28403008040505506, 0.010519632607594632, 0.06311779564556778, 0.03155889782278389, 0.13445031414199887, 0.5378012565679955, 0.26890062828399774, 0.13405146680244892, 0.07299832350628406, 0.0013272422455688011, 0.32384710791878746, 0.04645347859490804, 0.005308968982275205, 0.01061793796455041, 0.015926906946825612, 0.04379899410377044, 0.20572254806316417, 0.05441693206832084, 0.019908633683532018, 0.06370762778730245, 0.21332821133979382, 0.07384438084839016, 0.008204931205376685, 0.3199923170096907, 0.01640986241075337, 0.15589369290215702, 0.08204931205376685, 0.06563944964301348, 0.0574345184376368, 0.16947163605855406, 0.38131118113174667, 0.38131118113174667, 0.08473581802927703, 0.517054403265374, 0.04366237183129825, 0.04136435226122992, 0.009192078280273316, 0.006894058710204987, 0.011490097850341646, 0.2229078982966279, 0.009192078280273316, 0.002298019570068329, 0.002298019570068329, 0.12868909592382644, 0.1551381295562298, 0.775690647781149, 0.09123408579286693, 0.09123408579286693, 0.45617042896433463, 0.09123408579286693, 0.3649363431714677, 1.010033126867421, 0.008594380715810151, 0.008594380715810151, 0.09453818787391166, 0.06016066501067106, 0.7219279801280527, 0.10313256858972182, 0.0255686494365883, 0.19602631234717696, 0.03409153258211773, 0.13210468875570622, 0.08096738988252962, 0.008522883145529432, 0.1832419876288828, 0.0255686494365883, 0.1576733381922945, 0.0511372988731766, 0.10653603931911791, 0.5423426754286428, 0.46486515036740805, 0.9821071740372332, 0.5042366101306918, 0.5042366101306918, 0.6187270988176816, 0.24749083952707265, 0.9435789350223499, 0.07863157791852915, 0.22388832328445965, 0.10176741967475439, 0.2645952911543614, 0.24424180721941052, 0.10176741967475439, 0.06106045180485263, 0.17006950096210557, 0.10129531405266477, 0.034653660070648476, 0.005864465550417434, 0.005864465550417434, 0.03305426037508008, 0.0031987993911367823, 0.052247056721900775, 0.19939182871419275, 0.05757838904046208, 0.053313323185613035, 0.15140983784714102, 0.006930732014129695, 0.0298554609839433, 0.0964971149659596, 0.028892231495818464, 0.20224562047072925, 0.28892231495818466, 0.0866766944874554, 0.26003008346236617, 0.0866766944874554, 0.028892231495818464, 0.028892231495818464, 0.03983954950662398, 0.05734480610801936, 0.016901627063416233, 0.003018147689895756, 0.004225406765854058, 0.13883479373520477, 0.0018108886139374535, 0.013279849835541327, 0.2571461831791184, 0.04225406765854058, 0.006036295379791512, 0.2662006262488057, 0.0012072590759583024, 0.018712515677353686, 0.13340212789339242, 0.1868102490120172, 0.5604307470360516, 0.1868102490120172, 0.029241642934201444, 0.029241642934201444, 0.263174786407813, 0.20469150053941013, 0.08772492880260434, 0.35089971521041735, 0.05848328586840289, 0.5578110808959577, 0.4183583106719682, 0.23347381382735338, 0.020302070767595947, 0.0016918392306329954, 0.03214494538202692, 0.0016918392306329954, 0.03214494538202692, 0.0016918392306329954, 0.05244701614962286, 0.3062229007445722, 0.20302070767595948, 0.11504506768304369, 0.981664443623029, 0.3787500056834801, 0.3787500056834801, 0.18937500284174005, 0.22052431462015398, 0.5108813288700234, 0.018377026218346165, 0.055131078655038496, 0.018377026218346165, 0.0441048629240308, 0.025727836705684633, 0.058806483898707726, 0.0110262157310077, 0.0330786471930231, 0.9569439920071162, 0.03189813306690387, 0.08761892501001425, 0.6300217941196263, 0.016689319049526526, 0.020861648811908155, 0.004172329762381632, 0.12934222263383058, 0.02920630833667142, 0.08344659524763262, 0.02477892184125636, 0.9663779518089981, 0.12936724021407997, 0.1737217225731931, 0.011088620589778284, 0.001848103431629714, 0.10903810246615313, 0.003696206863259428, 0.07762034412844798, 0.10903810246615313, 0.07577224069681827, 0.005544310294889142, 0.001848103431629714, 0.29939275592401365, 0.9069014414470439, 0.10076682682744932, 0.06652170468133528, 0.9313038655386938, 0.06027522445882776, 0.4822017956706221, 0.06027522445882776, 0.18082567337648328, 0.18082567337648328, 0.39554728787399906, 0.13048982692750483, 0.04077807091484526, 0.00611671063722679, 0.0010194517728711315, 0.009175065955840184, 0.0010194517728711315, 0.025486294321778288, 0.20490980634709743, 0.010194517728711315, 0.004077807091484526, 0.044855878006329786, 0.005097258864355658, 0.003058355318613395, 0.11723695388018013, 0.07401768632531237, 0.07401768632531237, 0.4441061179518742, 0.2960707453012495, 0.07401768632531237, 0.07401768632531237, 0.13269984309363414, 0.36566178985801406, 0.008846656206242276, 0.002948885402080759, 0.008846656206242276, 0.02359108321664607, 0.19757532193941085, 0.171035353320684, 0.017693312412484553, 0.0648754788457767, 0.08063843188403202, 0.12095764782604804, 0.8063843188403202, 1.0203587688588056, 0.5924766954905993, 0.11849533909811986, 0.11849533909811986, 0.47140175182776956, 0.5892521897847119, 0.9213603267289356, 0.15489982450749398, 0.08311697900402117, 0.052892623002558925, 0.013223155750639731, 0.00188902225009139, 0.01700120025082251, 0.01133413350054834, 0.03211337825155363, 0.42503000627056275, 0.00755608900036556, 0.06233773425301587, 0.037780445001827805, 0.009445111250456951, 0.01511217800073112, 0.07556089000365561, 0.271060547380871, 0.1642791196247703, 0.032855823924954064, 0.057497691868669605, 0.024641867943715545, 0.14785120766229326, 0.032855823924954064, 0.016427911962477032, 0.23820472345591695, 0.016427911962477032, 1.0146839891713553, 0.218850637894374, 0.765977232630309, 0.15499701136443067, 0.06948141888750341, 0.42223323785482836, 0.016034173589423863, 0.021378898119231816, 0.3206834717884773, 0.7310241079055312, 0.16614184270580254, 0.06645673708232101, 0.033228368541160506, 0.016614184270580253, 0.18566299099663494, 0.17212506456979698, 0.025786526527310408, 0.005157305305462082, 0.008058289539784503, 0.09508781656945713, 0.003223315815913801, 0.024819531782536267, 0.17438138564093664, 0.06059833733917946, 0.012893263263655204, 0.1508511801847659, 0.002900984234322421, 0.0048349737238707014, 0.0744585953476088, 0.11007504856459195, 0.11007504856459195, 0.11007504856459195, 0.5503752428229598, 0.11007504856459195, 0.31513801331048474, 0.05252300221841412, 0.05252300221841412, 0.5252300221841412, 0.05252300221841412, 0.27018319979636995, 0.14990809795153429, 0.0470641702871096, 0.026146761270616443, 0.0017431174180410963, 0.020917409016493155, 0.012201821926287675, 0.0941283405742192, 0.22660526434534253, 0.012201821926287675, 0.017431174180410965, 0.0034862348360821926, 0.02788987868865754, 0.0888989883200959, 0.02770069674199319, 0.10526264761957412, 0.06648167218078366, 0.060941532832385015, 0.07756195087758093, 0.6481963037626406, 0.011080278696797275, 0.0055401393483986375, 0.07144657272928755, 0.9288054454807381, 0.10186210851593695, 0.08276296316919877, 0.0063663817822460595, 0.012732763564492119, 0.15915954455615147, 0.019099145346738178, 0.019099145346738178, 0.07003019960470665, 0.18462507168513573, 0.3565173798057793, 0.2548793977473771, 0.1823614101037719, 0.0405247578008382, 0.0095979689528301, 0.0021328819895178003, 0.06558612117767236, 0.0069318664659328505, 0.0234617018846958, 0.255945838742136, 0.0266610248689725, 0.0095979689528301, 0.0383918758113204, 0.0063986459685534, 0.0069318664659328505, 0.07091832615146686, 0.07718065733626567, 0.15107703138162643, 0.16092988125434118, 0.001642141645452461, 0.036127116199954144, 0.19541485580884285, 0.06240138252719352, 0.2840905046632758, 0.021347841390881993, 0.001642141645452461, 0.003284283290904922, 0.0049264249363573836, 0.19912019126948027, 0.09956009563474014, 0.33850432515811646, 0.019912019126948028, 0.31859230603116845, 0.019912019126948028, 0.0711729798648039, 0.1423459597296078, 0.0711729798648039, 0.23724326621601302, 0.1423459597296078, 0.047448653243202604, 0.18979461297281042, 0.11862163310800651, 0.0036675973138365434, 0.17604467106415408, 0.3484217448144716, 0.4731200534849141, 0.06677875471114302, 0.06677875471114302, 0.33389377355571503, 0.5151503934859604], \"Term\": [\"able\", \"able\", \"able\", \"able\", \"able\", \"able\", \"able\", \"able\", \"able\", \"able\", \"able\", \"able\", \"able_bodied\", \"able_bodied\", \"able_bodied\", \"access\", \"access\", \"access\", \"access\", \"access\", \"access\", \"access\", \"access\", \"access\", \"access\", \"access\", \"access\", \"access\", \"accessibility\", \"accessibility\", \"accessibility\", \"accessibility\", \"accessibility\", \"accessibility\", \"accessibility\", \"accessibility\", \"accompany\", \"accompany\", \"accompany\", \"accreditation\", \"accreditation\", \"accreditation\", \"accreditation\", \"accreditation\", \"achieve\", \"achieve\", \"achieve\", \"achieve\", \"achieve\", \"achieve\", \"achieve\", \"achieve\", \"achieve\", \"achieve\", \"achieve\", \"achieve\", \"achieve\", \"achieve\", \"achieve\", \"activate\", \"active\", \"active\", \"active\", \"active\", \"active\", \"active\", \"active\", \"active\", \"active\", \"active\", \"activity\", \"activity\", \"activity\", \"activity\", \"activity\", \"activity\", \"activity\", \"activity\", \"activity\", \"activity\", \"activity\", \"additional\", \"additional\", \"additional\", \"additional\", \"additional\", \"additional\", \"additional\", \"additional\", \"additional\", \"additional\", \"additional\", \"additional\", \"admit\", \"advisor\", \"advisor\", \"advisor\", \"afternoon\", \"afternoon\", \"afternoon\", \"afternoon\", \"age\", \"age\", \"age\", \"age\", \"age\", \"age\", \"age\", \"age\", \"aim\", \"aim\", \"aim\", \"aim\", \"aim\", \"aim\", \"aim\", \"aim\", \"aim\", \"aim\", \"airport\", \"airport\", \"airport\", \"alliance\", \"alliance\", \"alliance\", \"amateur_swimming_association\", \"amateur_swimming_association\", \"ambush_markete\", \"ambush_markete\", \"ambush_markete\", \"anchor\", \"anchor\", \"anchor\", \"ancillary\", \"ancillary\", \"ancillary\", \"answer\", \"answer\", \"answer\", \"answer\", \"answer\", \"answer\", \"answer\", \"anticipated_final_cost\", \"anticipated_final_cost\", \"apology\", \"apology\", \"appendix\", \"appendix\", \"appendix\", \"appendix\", \"appendix\", \"appendix_memorandum_submitte\", \"appendix_memorandum_submitte\", \"appendix_memorandum_submitte\", \"appendix_memorandum_submitte\", \"applicable\", \"appointment\", \"appointment\", \"appointment\", \"appointment\", \"appointment\", \"appointment\", \"appointment\", \"appointment\", \"appraisal\", \"appraisal\", \"appraisal\", \"aquatic\", \"aquatic\", \"aquatic\", \"aquatic\", \"aquatic\", \"area\", \"area\", \"area\", \"area\", \"area\", \"area\", \"area\", \"area\", \"area\", \"area\", \"area\", \"area\", \"area\", \"area\", \"area\", \"argument\", \"argument\", \"argument\", \"argument\", \"arrangement\", \"arrangement\", \"arrangement\", \"arrangement\", \"arrangement\", \"arrangement\", \"arrangement\", \"arrangement\", \"arrangement\", \"arrangement\", \"arrangement\", \"arrangement\", \"art\", \"art\", \"art\", \"art\", \"art\", \"art\", \"art\", \"art\", \"artist\", \"artist\", \"artist\", \"arup\", \"arup\", \"arup\", \"arup\", \"arup\", \"arup\", \"ask\", \"ask\", \"ask\", \"ask\", \"ask\", \"ask\", \"ask\", \"ask\", \"ask\", \"ask\", \"assessment\", \"assessment\", \"assessment\", \"assessment\", \"assessment\", \"assessment\", \"assessment\", \"assessment\", \"assessment\", \"assessment\", \"assessment\", \"athen\", \"athen\", \"athlete\", \"athlete\", \"athlete\", \"athlete\", \"athlete\", \"athlete\", \"athlete\", \"athlete\", \"athlete\", \"athlete\", \"athlete\", \"athlete\", \"athlete\", \"athlete\", \"athlete\", \"athletic\", \"athletic\", \"athletic\", \"athletic\", \"athletic\", \"athletic\", \"athletic\", \"athletic\", \"athletic\", \"athletic\", \"attach\", \"attach\", \"attach\", \"attach\", \"attach\", \"attach\", \"attach\", \"attach\", \"attainment\", \"attainment\", \"attributable\", \"auditor_general\", \"auditor_general\", \"authority\", \"authority\", \"authority\", \"authority\", \"authority\", \"authority\", \"authority\", \"authority\", \"authority\", \"authority\", \"authority\", \"authority\", \"backing\", \"backing\", \"backing\", \"backing\", \"badge\", \"banking\", \"banking\", \"banking\", \"banking\", \"barrier\", \"barrier\", \"barrier\", \"barrier\", \"barrier\", \"barrier\", \"barrier\", \"barrier\", \"base\", \"base\", \"base\", \"base\", \"base\", \"base\", \"base\", \"base\", \"base\", \"base\", \"base\", \"base\", \"base\", \"base\", \"base\", \"bath\", \"bath\", \"bath\", \"bath\", \"bath\", \"beacon\", \"beacon\", \"beacon\", \"beacon\", \"beg\", \"belong\", \"belong\", \"belong\", \"beneficiary\", \"beneficiary\", \"benefit\", \"benefit\", \"benefit\", \"benefit\", \"benefit\", \"benefit\", \"benefit\", \"benefit\", \"benefit\", \"benefit\", \"benefit\", \"benefit\", \"benefit\", \"benefit\", \"bene\\ufb01ts\", \"bene\\ufb01ts\", \"bene\\ufb01ts\", \"bene\\ufb01ts\", \"bid\", \"bid\", \"bid\", \"bid\", \"bid\", \"bid\", \"bid\", \"bid\", \"bid\", \"bid\", \"bid\", \"bid\", \"bid\", \"bid\", \"bid\", \"bidding\", \"bidding\", \"bidding\", \"bidding\", \"bidding\", \"bidding\", \"bidding\", \"bidding\", \"bidding\", \"bidding\", \"big\", \"big\", \"big\", \"big\", \"big\", \"big\", \"big\", \"big\", \"big\", \"blend\", \"blend\", \"blight\", \"blight\", \"blight\", \"blind\", \"blind\", \"blind\", \"boa\", \"boa\", \"boa\", \"boa\", \"boa\", \"boa\", \"boa\", \"boa\", \"body\", \"body\", \"body\", \"body\", \"body\", \"body\", \"body\", \"body\", \"body\", \"body\", \"body\", \"body\", \"body\", \"body\", \"bombing\", \"bombing\", \"boost\", \"boost\", \"boost\", \"boost\", \"boost\", \"boost\", \"boost\", \"boost\", \"boost\", \"border\", \"border\", \"border\", \"borough\", \"borough\", \"borough\", \"borough\", \"borough\", \"borough\", \"borough\", \"borough\", \"borough\", \"borough\", \"boxing\", \"boxing\", \"breakfast\", \"bring\", \"bring\", \"bring\", \"bring\", \"bring\", \"bring\", \"bring\", \"bring\", \"bring\", \"bring\", \"bring\", \"bring\", \"bring\", \"british\", \"british\", \"british\", \"british\", \"british\", \"british\", \"british\", \"british\", \"british\", \"british\", \"british\", \"british\", \"bronze\", \"brownfield\", \"brownfield\", \"brownfield\", \"bryant\", \"budget\", \"budget\", \"budget\", \"budget\", \"budget\", \"budget\", \"budget\", \"budget\", \"budget\", \"budget\", \"budget\", \"bus\", \"bus\", \"bus\", \"bus\", \"bus\", \"business\", \"business\", \"business\", \"business\", \"business\", \"business\", \"business\", \"business\", \"business\", \"business\", \"business\", \"business\", \"business\", \"camelot\", \"camelot\", \"camelot\", \"camera\", \"candidate_file\", \"candidate_file\", \"capability\", \"capability\", \"capability\", \"capability\", \"capability\", \"capability\", \"capability\", \"capability\", \"capacity\", \"capacity\", \"capacity\", \"capacity\", \"capacity\", \"capacity\", \"capacity\", \"capacity\", \"capacity\", \"capacity\", \"capacity\", \"capacity\", \"carbon\", \"carbon\", \"carbon\", \"carbon\", \"carbon\", \"carbon\", \"carnival\", \"carnival\", \"carnival\", \"case\", \"case\", \"case\", \"case\", \"case\", \"case\", \"case\", \"case\", \"case\", \"case\", \"case\", \"case\", \"case\", \"case\", \"case\", \"catalytic\", \"catalytic\", \"catalytic\", \"ccpr\", \"ccpr\", \"centrepiece\", \"centrepiece\", \"centrepiece\", \"certify\", \"chair\", \"chair\", \"chair\", \"chair\", \"chair\", \"chair\", \"chair\", \"chair\", \"chairman\", \"chairman\", \"chairman\", \"chairman\", \"chairman\", \"chairman\", \"chairman\", \"chairman\", \"chairman\", \"chairman\", \"characteristic\", \"characteristic\", \"charismatic\", \"charter\", \"charter\", \"charter\", \"charter\", \"charter\", \"charter\", \"cheap\", \"cheap\", \"child\", \"child\", \"child\", \"child\", \"child\", \"child\", \"child\", \"child\", \"child\", \"child\", \"childhood\", \"childhood\", \"chunk\", \"city\", \"city\", \"city\", \"city\", \"city\", \"city\", \"city\", \"city\", \"city\", \"city\", \"city\", \"city\", \"city\", \"city\", \"clarify\", \"clarify\", \"clarify\", \"clarify\", \"clarify\", \"clarify\", \"clarify\", \"clarify\", \"clear\", \"clear\", \"clear\", \"clear\", \"clear\", \"clear\", \"clear\", \"clear\", \"clear\", \"clear\", \"clear\", \"clear\", \"clear\", \"clear\", \"clear\", \"clm\", \"clm\", \"clm\", \"club\", \"club\", \"club\", \"club\", \"club\", \"club\", \"club\", \"club\", \"club\", \"club\", \"coach\", \"coach\", \"coach\", \"coach\", \"coach\", \"coach\", \"coach\", \"coach\", \"coach\", \"coincide\", \"coincide\", \"coincide\", \"college\", \"college\", \"college\", \"college\", \"college\", \"college\", \"come\", \"come\", \"come\", \"come\", \"come\", \"come\", \"come\", \"come\", \"come\", \"come\", \"come\", \"come\", \"come\", \"come\", \"come\", \"command\", \"commerce\", \"commerce\", \"commitment\", \"commitment\", \"commitment\", \"commitment\", \"commitment\", \"commitment\", \"commitment\", \"commitment\", \"commitment\", \"commitment\", \"commitment\", \"commitment\", \"committee\", \"committee\", \"committee\", \"committee\", \"committee\", \"committee\", \"committee\", \"committee\", \"committee\", \"committee\", \"committee\", \"committee\", \"committee\", \"committee\", \"committee\", \"community\", \"community\", \"community\", \"community\", \"community\", \"community\", \"community\", \"community\", \"community\", \"community\", \"community\", \"community\", \"community\", \"community\", \"company\", \"company\", \"company\", \"company\", \"company\", \"company\", \"company\", \"company\", \"company\", \"compelling\", \"compelling\", \"compelling\", \"compelling\", \"compelling\", \"compete\", \"compete\", \"compete\", \"compete\", \"compete\", \"compete\", \"compete\", \"compete\", \"compete\", \"compete\", \"compete\", \"compete\", \"complete\", \"complete\", \"complete\", \"complete\", \"complete\", \"complete\", \"complete\", \"complete\", \"completion_date\", \"comptroller\", \"comptroller\", \"conceive\", \"conceive\", \"conceive\", \"concordat\", \"concrete\", \"concrete\", \"concrete\", \"concrete\", \"confident\", \"confident\", \"confident\", \"confident\", \"confident\", \"confident\", \"confident\", \"confident\", \"confirm\", \"confirm\", \"confirm\", \"confirm\", \"confirm\", \"confirm\", \"confirm\", \"congestion\", \"congestion\", \"congestion\", \"congestion\", \"connection\", \"connection\", \"connection\", \"connection\", \"connection\", \"connection\", \"connection\", \"conservation\", \"conservation\", \"conservation\", \"conservative\", \"conservative\", \"conservative\", \"considerable\", \"considerable\", \"considerable\", \"considerable\", \"considerable\", \"considerable\", \"considerable\", \"considerable\", \"considerable\", \"consideration\", \"consideration\", \"consideration\", \"consideration\", \"consideration\", \"consideration\", \"consideration\", \"consideration\", \"consideration\", \"consideration\", \"consideration\", \"construction\", \"construction\", \"construction\", \"construction\", \"construction\", \"construction\", \"construction\", \"construction\", \"construction\", \"construction\", \"construction\", \"context\", \"context\", \"context\", \"context\", \"context\", \"context\", \"context\", \"context\", \"context\", \"contingency\", \"contingency\", \"contingency\", \"contingency\", \"contingency\", \"contingency\", \"contingency\", \"contract\", \"contract\", \"contract\", \"contract\", \"contract\", \"contract\", \"contract\", \"contract\", \"contract\", \"contract\", \"contract\", \"contract\", \"contractor\", \"contractor\", \"contractor\", \"contractor\", \"contractor\", \"contractor\", \"contractor\", \"contractor\", \"contrary\", \"contrary\", \"contrary\", \"controller\", \"convergence\", \"convergence\", \"convergence\", \"convey\", \"convey\", \"convey\", \"cool\", \"cool\", \"coordinated\", \"coordinated\", \"coordinated\", \"coordinated\", \"coordinated\", \"cope\", \"cope\", \"cope\", \"cope\", \"cope\", \"copy\", \"copy\", \"copy\", \"copy\", \"copy\", \"corporation_tax\", \"cost\", \"cost\", \"cost\", \"cost\", \"cost\", \"cost\", \"cost\", \"cost\", \"cost\", \"cost\", \"cost\", \"cost\", \"cost\", \"cost\", \"cost\", \"cost_overrun\", \"cost_overrun\", \"couldn\", \"couldn\", \"council\", \"council\", \"council\", \"council\", \"council\", \"council\", \"council\", \"council\", \"country\", \"country\", \"country\", \"country\", \"country\", \"country\", \"country\", \"country\", \"country\", \"country\", \"country\", \"country\", \"country\", \"country\", \"country\", \"course\", \"course\", \"course\", \"course\", \"course\", \"course\", \"course\", \"course\", \"course\", \"course\", \"course\", \"coverage\", \"coverage\", \"coverage\", \"coverage\", \"coverage\", \"coverage\", \"create\", \"create\", \"create\", \"create\", \"create\", \"create\", \"create\", \"create\", \"create\", \"create\", \"create\", \"create\", \"create\", \"create\", \"creation\", \"creation\", \"creation\", \"creation\", \"creation\", \"creation\", \"creation\", \"creation\", \"creation\", \"creative\", \"creative\", \"creative\", \"creative\", \"creative\", \"creative\", \"creative_industrie\", \"creative_industrie\", \"creative_programmer\", \"creative_programmer\", \"creative_programmer\", \"creativity\", \"creativity\", \"cricket\", \"cricket\", \"cricket\", \"cricket\", \"cricket\", \"cricket\", \"crisis\", \"crisis\", \"crisis\", \"crisis\", \"crisis\", \"crossrail\", \"crossrail\", \"crossrail\", \"crossrail\", \"crossrail\", \"crossrail\", \"crowd\", \"crowd\", \"crowd\", \"crowd\", \"crowd\", \"crowd\", \"cultural\", \"cultural\", \"cultural\", \"cultural\", \"cultural\", \"cultural\", \"cultural\", \"cultural\", \"cup\", \"current_economic_climate\", \"current_economic_climate\", \"current_economic_climate\", \"curriculum\", \"curriculum\", \"curriculum\", \"curriculum\", \"curriculum\", \"custom\", \"custom\", \"custom\", \"customer\", \"customer\", \"customer\", \"customer\", \"customer\", \"customer\", \"customer\", \"cycle\", \"cycle\", \"cycle\", \"cycle\", \"cycle\", \"cycle\", \"cycle\", \"cycle\", \"cycling\", \"cycling\", \"cycling\", \"cycling\", \"cycling\", \"dame_helen_ghosh\", \"dame_tanni_grey_thompson\", \"dame_tanni_grey_thompson\", \"dance\", \"dance\", \"dance\", \"dance\", \"data\", \"data\", \"data\", \"data\", \"david_higgin\", \"david_higgin\", \"david_higgin\", \"day\", \"day\", \"day\", \"day\", \"day\", \"day\", \"day\", \"day\", \"day\", \"day\", \"day\", \"day\", \"day\", \"dcsf\", \"dcsf\", \"decision\", \"decision\", \"decision\", \"decision\", \"decision\", \"decision\", \"decision\", \"decision\", \"decision\", \"decision\", \"decision\", \"decision\", \"decision\", \"decision\", \"defence\", \"defence\", \"deficit\", \"deficit\", \"deficit\", \"deficit\", \"deficit\", \"delay\", \"delay\", \"delay\", \"delay\", \"delay\", \"delegation\", \"delegation\", \"deliver\", \"deliver\", \"deliver\", \"deliver\", \"deliver\", \"deliver\", \"deliver\", \"deliver\", \"deliver\", \"deliver\", \"deliver\", \"deliver\", \"deliver\", \"deliver\", \"deliver\", \"deliverability\", \"deliverability\", \"deliverer\", \"deliverer\", \"deliverer\", \"delivery\", \"delivery\", \"delivery\", \"delivery\", \"delivery\", \"delivery\", \"delivery\", \"delivery\", \"delivery\", \"delivery\", \"delivery\", \"delivery\", \"delivery\", \"delivery\", \"demand\", \"demand\", \"demand\", \"demand\", \"demand\", \"demand\", \"demand\", \"democratic\", \"department\", \"department\", \"department\", \"department\", \"department\", \"department\", \"department\", \"department\", \"department\", \"department\", \"deploy\", \"deploy\", \"deploy\", \"deprivation\", \"deprivation\", \"deprivation\", \"deprivation\", \"deprive\", \"deprive\", \"deprive\", \"deprive\", \"depth\", \"depth\", \"depth\", \"depth\", \"derelict\", \"derelict\", \"derelict\", \"derelict\", \"description\", \"description\", \"description\", \"designation\", \"designation\", \"designation\", \"destination\", \"destination\", \"destination\", \"destination\", \"destination\", \"destination\", \"detailed\", \"detailed\", \"detailed\", \"detailed\", \"detailed\", \"detailed\", \"detailed\", \"detailed\", \"detailed\", \"detailed\", \"develop\", \"develop\", \"develop\", \"develop\", \"develop\", \"develop\", \"develop\", \"develop\", \"develop\", \"develop\", \"develop\", \"develop\", \"develop\", \"develop\", \"develop\", \"development\", \"development\", \"development\", \"development\", \"development\", \"development\", \"development\", \"development\", \"development\", \"development\", \"development\", \"development\", \"development\", \"development\", \"development\", \"development_corporation\", \"development_corporation\", \"development_corporation\", \"development_corporation\", \"devolved_administration\", \"different\", \"different\", \"different\", \"different\", \"different\", \"different\", \"different\", \"different\", \"different\", \"dif\\ufb01cult\", \"dif\\ufb01cult\", \"director\", \"director\", \"director\", \"director\", \"director\", \"director\", \"director\", \"director\", \"disability\", \"disability\", \"disability\", \"disability\", \"disability\", \"disability\", \"disability\", \"disabled\", \"disabled\", \"disabled\", \"disabled\", \"disabled\", \"disabled\", \"disabled\", \"disabled\", \"disabled\", \"discipline\", \"discipline\", \"discipline\", \"discipline\", \"discipline\", \"discount\", \"discount\", \"discount\", \"discount\", \"discount\", \"discount\", \"disruption\", \"disruption\", \"disruption\", \"disruption\", \"disruption\", \"disruption\", \"distributor\", \"distributor\", \"distributor\", \"distributor\", \"diverse_communitie\", \"diving_pool\", \"diving_pool\", \"diving_pool\", \"diving_pool\", \"documentation\", \"documentation\", \"dome\", \"dome\", \"dome\", \"dome\", \"dome\", \"dome\", \"dome\", \"east\", \"east\", \"east\", \"east\", \"east\", \"east\", \"east\", \"east\", \"eastway\", \"eastway\", \"eastway\", \"economic\", \"economic\", \"economic\", \"economic\", \"economic\", \"economic\", \"economic\", \"economic\", \"economic\", \"economic\", \"economic\", \"educate\", \"educate\", \"educate\", \"education\", \"education\", \"education\", \"education\", \"education\", \"education\", \"education\", \"education\", \"education\", \"education\", \"effect\", \"effect\", \"effect\", \"effect\", \"effect\", \"effect\", \"effect\", \"effect\", \"elite\", \"elite\", \"elite\", \"elite\", \"elite\", \"elite\", \"elite\", \"elite\", \"elite\", \"elite\", \"elite\", \"emission\", \"emission\", \"employment\", \"employment\", \"employment\", \"employment\", \"employment\", \"employment\", \"employment\", \"employment\", \"employment\", \"employment\", \"encompass\", \"encompass\", \"encompass\", \"encompass\", \"encompass\", \"encompass\", \"encouragement\", \"encouragement\", \"encouragement\", \"encouragement\", \"end\", \"end\", \"end\", \"end\", \"end\", \"end\", \"end\", \"end\", \"end\", \"end\", \"end\", \"end\", \"end\", \"endorse\", \"endorse\", \"endorse\", \"endorse\", \"endorse\", \"endorse\", \"endorse\", \"enduring\", \"enduring\", \"engender\", \"engender\", \"engender\", \"enhancement\", \"enhancement\", \"enhancement\", \"enhancement\", \"enhancement\", \"enhancement\", \"enhancement\", \"ensure\", \"ensure\", \"ensure\", \"ensure\", \"ensure\", \"ensure\", \"ensure\", \"ensure\", \"ensure\", \"ensure\", \"ensure\", \"ensure\", \"ensure\", \"ensure\", \"ensure\", \"entertainment\", \"entertainment\", \"equation\", \"equitable\", \"equitable\", \"estimate\", \"estimate\", \"estimate\", \"estimate\", \"estimate\", \"estimate\", \"estimate\", \"estimate\", \"estimate\", \"estimate\", \"ethos\", \"ethos\", \"event\", \"event\", \"event\", \"event\", \"event\", \"event\", \"event\", \"event\", \"event\", \"event\", \"event\", \"event\", \"event\", \"event\", \"event\", \"everyday\", \"everyday\", \"everyday\", \"evidence\", \"evidence\", \"evidence\", \"evidence\", \"evidence\", \"evidence\", \"evidence\", \"evidence\", \"evidence\", \"evidence\", \"evidence\", \"evidence\", \"evidence\", \"evidence\", \"examination\", \"examination\", \"examination\", \"examination\", \"examination\", \"examination\", \"executive\", \"executive\", \"executive\", \"executive\", \"executive\", \"executive\", \"exhibition\", \"exhibition\", \"expected\", \"expected\", \"experience\", \"experience\", \"experience\", \"experience\", \"experience\", \"experience\", \"experience\", \"experience\", \"experience\", \"experience\", \"experience\", \"experience\", \"experience\", \"experience\", \"experience\", \"explicit\", \"explicit\", \"explicit\", \"explicit\", \"explicit\", \"explicit\", \"extension\", \"extension\", \"extension\", \"extension\", \"extraordinary\", \"extraordinary\", \"extraordinary\", \"extraordinary\", \"extraordinary\", \"facilitate\", \"facilitate\", \"facilitate\", \"facilitate\", \"facilitate\", \"facilitate\", \"facilitate\", \"facilitate\", \"facility\", \"facility\", \"facility\", \"facility\", \"facility\", \"facility\", \"facility\", \"facility\", \"facility\", \"facility\", \"facility\", \"facility\", \"facility\", \"facility\", \"facility\", \"factor\", \"factor\", \"factor\", \"factor\", \"factor\", \"factor\", \"factor\", \"factor\", \"factor\", \"favour\", \"favour\", \"favour\", \"favour\", \"favour\", \"feasibility\", \"feasibility\", \"feasibility\", \"feasibility\", \"feasibility\", \"feasibility\", \"federation\", \"federation\", \"federation\", \"federation\", \"federation\", \"federation\", \"federation\", \"field\", \"field\", \"field\", \"field\", \"field\", \"field\", \"field\", \"field\", \"field\", \"fifa\", \"fifa\", \"figure\", \"figure\", \"figure\", \"figure\", \"figure\", \"figure\", \"figure\", \"figure\", \"figure\", \"figure\", \"figure\", \"finalise\", \"finalise\", \"finalise\", \"finalise\", \"finalise\", \"finalise\", \"financial\", \"financial\", \"financial\", \"financial\", \"financial\", \"financial\", \"financial\", \"financial\", \"financial\", \"financial\", \"financial\", \"financial\", \"financial\", \"financially_expose\", \"finely_balance\", \"finely_balanced\", \"finely_balanced\", \"fitness\", \"fitness\", \"fitness\", \"fitness\", \"fitness\", \"five_host_boroughs\", \"five_host_boroughs\", \"five_host_boroughs\", \"five_host_boroughs\", \"five_host_boroughs\", \"flat\", \"float\", \"flow\", \"flow\", \"flow\", \"flow\", \"flow\", \"flow\", \"follow\", \"follow\", \"follow\", \"follow\", \"follow\", \"follow\", \"follow\", \"follow\", \"follow\", \"follow\", \"follow\", \"follow\", \"follow\", \"follow\", \"follow\", \"football\", \"football\", \"football\", \"football\", \"football\", \"football\", \"football\", \"football\", \"football\", \"football\", \"football\", \"football\", \"football\", \"forecast\", \"forecast\", \"forecast\", \"forecast\", \"forecast\", \"forecast\", \"forecast\", \"forum\", \"forum\", \"forum\", \"forum\", \"forum\", \"forum\", \"forum\", \"forum\", \"forum\", \"forward\", \"forward\", \"frank\", \"friendly\", \"friendly\", \"fringe\", \"functionality\", \"functionality\", \"fund\", \"fund\", \"fund\", \"fund\", \"fund\", \"fund\", \"fund\", \"fund\", \"fund\", \"fund\", \"fund\", \"fund\", \"funding\", \"funding\", \"funding\", \"funding\", \"funding\", \"funding\", \"funding\", \"funding\", \"funding\", \"funding\", \"funding\", \"funding\", \"funding\", \"funding\", \"funding\", \"fundraising\", \"fundraising\", \"gallery\", \"gallery\", \"gallery\", \"generate\", \"generate\", \"generate\", \"generate\", \"generate\", \"generate\", \"generate\", \"generate\", \"generate\", \"generation\", \"generation\", \"generation\", \"generation\", \"generation\", \"generation\", \"generation\", \"generation\", \"gentleman\", \"girl\", \"girl\", \"girl\", \"gold\", \"gold\", \"gold\", \"gold\", \"gold\", \"gold\", \"gold_medal\", \"gold_medal\", \"gold_medal\", \"gold_medal\", \"gold_medal\", \"gold_medal\", \"good\", \"good\", \"good\", \"good\", \"good\", \"good\", \"good\", \"good\", \"good\", \"good\", \"good\", \"good\", \"good\", \"good\", \"good\", \"governance_arrangement\", \"governing_bodie\", \"governing_bodie\", \"governing_bodie\", \"governing_bodie\", \"governing_bodie\", \"governing_bodie\", \"governing_bodie\", \"governing_bodie\", \"governing_bodie\", \"governing_bodie\", \"government\", \"government\", \"government\", \"government\", \"government\", \"government\", \"government\", \"government\", \"government\", \"government\", \"government\", \"government\", \"government\", \"government\", \"government\", \"governmental\", \"governmental\", \"grant\", \"grant\", \"grant\", \"grant\", \"grant\", \"grant\", \"grant\", \"grant\", \"grant\", \"greek\", \"green\", \"green\", \"green\", \"green\", \"green\", \"gross\", \"gross\", \"gross\", \"gross\", \"gross\", \"group\", \"group\", \"group\", \"group\", \"group\", \"group\", \"group\", \"group\", \"group\", \"group\", \"group\", \"group\", \"group\", \"group\", \"grow\", \"grow\", \"grow\", \"grow\", \"grow\", \"grow\", \"grow\", \"grow\", \"guard\", \"guard\", \"guard\", \"gym\", \"gym\", \"hackney\", \"hackney\", \"hackney\", \"hackney\", \"hackney\", \"hackney\", \"hall\", \"hall\", \"hall\", \"hall\", \"hall\", \"handball\", \"handball\", \"handball\", \"handball\", \"handball\", \"happen\", \"happen\", \"happen\", \"happen\", \"happen\", \"happen\", \"happen\", \"happen\", \"happen\", \"happen\", \"happen\", \"haven\", \"haven\", \"haven\", \"head\", \"head\", \"head\", \"head\", \"head\", \"head\", \"head\", \"health\", \"health\", \"health\", \"health\", \"health\", \"health\", \"health\", \"health\", \"health\", \"health\", \"health\", \"healthy\", \"healthy\", \"healthy\", \"healthy\", \"healthy\", \"healthy\", \"hearing\", \"hearing\", \"helpful\", \"helpful\", \"helpful\", \"helpful\", \"helpful\", \"helpful\", \"heritage\", \"heritage\", \"heritage\", \"heritage\", \"heritage\", \"heritage\", \"hero\", \"hero\", \"hero\", \"hero\", \"highway\", \"highway\", \"holding\", \"holding\", \"home\", \"home\", \"home\", \"home\", \"home\", \"home\", \"home\", \"home\", \"home\", \"home\", \"home\", \"home\", \"hope\", \"hope\", \"hope\", \"hope\", \"hope\", \"hope\", \"hope\", \"hope\", \"hope\", \"hope\", \"host\", \"host\", \"host\", \"host\", \"host\", \"host\", \"host\", \"host\", \"host\", \"host\", \"host\", \"host\", \"host\", \"host\", \"host\", \"host_borough\", \"host_borough\", \"host_borough\", \"host_borough\", \"host_borough\", \"host_borough\", \"hotel\", \"hotel\", \"hotel\", \"hotel\", \"hotspot\", \"hotspot\", \"hour\", \"hour\", \"hour\", \"hour\", \"hour\", \"hour\", \"hour\", \"hour\", \"huge\", \"huge\", \"huge\", \"huge\", \"huge\", \"huge\", \"huge\", \"huge\", \"huge\", \"huge\", \"huge\", \"imbalance\", \"imbalance\", \"immigration\", \"immigration\", \"immigration\", \"immigration\", \"impact\", \"impact\", \"impact\", \"impact\", \"impact\", \"impact\", \"impact\", \"impact\", \"impact\", \"impact\", \"impact\", \"impact\", \"impact\", \"impact\", \"impact\", \"important\", \"important\", \"important\", \"important\", \"important\", \"important\", \"important\", \"important\", \"important\", \"important\", \"important\", \"important\", \"important\", \"important\", \"improve\", \"improve\", \"improve\", \"improve\", \"improve\", \"improve\", \"improve\", \"improve\", \"improve\", \"improve\", \"improve\", \"improve\", \"improves_cultural_life\", \"improves_cultural_life\", \"inadequate\", \"inadequate\", \"inbound\", \"inbound\", \"include\", \"include\", \"include\", \"include\", \"include\", \"include\", \"include\", \"include\", \"include\", \"include\", \"include\", \"include\", \"include\", \"include\", \"include\", \"inclusion\", \"inclusion\", \"inclusion\", \"inclusion\", \"inclusion\", \"inclusion\", \"inclusion\", \"inclusion\", \"increase\", \"increase\", \"increase\", \"increase\", \"increase\", \"increase\", \"increase\", \"increase\", \"increase\", \"increase\", \"increase\", \"increase\", \"increase\", \"increase\", \"increase\", \"incremental\", \"incremental\", \"incremental\", \"independence\", \"indirect\", \"indirect\", \"indirect\", \"indirect\", \"industry\", \"industry\", \"industry\", \"industry\", \"industry\", \"industry\", \"industry\", \"industry\", \"industry\", \"industry\", \"industry\", \"industry\", \"inflation\", \"inflation\", \"inflation\", \"information\", \"information\", \"information\", \"information\", \"information\", \"information\", \"information\", \"information\", \"information\", \"information\", \"information\", \"information\", \"information\", \"information\", \"information\", \"infrastructure\", \"infrastructure\", \"infrastructure\", \"infrastructure\", \"infrastructure\", \"infrastructure\", \"infrastructure\", \"infrastructure\", \"infrastructure\", \"infrastructure\", \"infrastructure\", \"infrastructure\", \"infrastructure\", \"infrastructure\", \"infrastructure\", \"initiative\", \"initiative\", \"initiative\", \"initiative\", \"initiative\", \"initiative\", \"initiative\", \"initiative\", \"initiative\", \"inquiry\", \"inquiry\", \"inquiry\", \"inquiry\", \"inquiry\", \"inquiry\", \"inquiry\", \"inquiry\", \"inquiry\", \"inquiry\", \"inquiry\", \"inspiring\", \"inspiring\", \"interesting\", \"interesting\", \"interesting\", \"interesting\", \"international\", \"international\", \"international\", \"international\", \"international\", \"international\", \"international\", \"international\", \"international\", \"international\", \"international\", \"international\", \"international\", \"international\", \"international\", \"interpretation\", \"interpretation\", \"interpretation\", \"interview\", \"interview\", \"interview\", \"interview\", \"interview\", \"interview\", \"interview\", \"investment\", \"investment\", \"investment\", \"investment\", \"investment\", \"investment\", \"investment\", \"investment\", \"investment\", \"investment\", \"investment\", \"investment\", \"investment\", \"investment\", \"investment\", \"ioc\", \"ioc\", \"ioc\", \"ioc\", \"ioc\", \"ioc\", \"ioc\", \"ioc\", \"ipc\", \"ipc\", \"ipc\", \"irrelevant\", \"issue\", \"issue\", \"issue\", \"issue\", \"issue\", \"issue\", \"issue\", \"issue\", \"issue\", \"issue\", \"issue\", \"issue\", \"issue\", \"issue\", \"issue\", \"job\", \"job\", \"job\", \"job\", \"job\", \"job\", \"job\", \"job\", \"job\", \"job\", \"job\", \"job\", \"job\", \"joint_venture_agreement\", \"jonathan_stephen\", \"journey\", \"journey\", \"journey\", \"journey\", \"journey\", \"kind\", \"kind\", \"kind\", \"kind\", \"kind\", \"kind\", \"kind\", \"know\", \"know\", \"know\", \"know\", \"know\", \"know\", \"know\", \"know\", \"know\", \"know\", \"know\", \"know\", \"knowledgeable\", \"knowledgeable\", \"knowledgeable\", \"knowledgeable\", \"labour\", \"labour\", \"labour\", \"labour\", \"labour\", \"land\", \"land\", \"land\", \"land\", \"land\", \"land\", \"land\", \"land\", \"land\", \"land\", \"language\", \"language\", \"language\", \"language\", \"language\", \"lasting\", \"lasting\", \"lasting\", \"lasting\", \"lasting\", \"launch\", \"launch\", \"launch\", \"launch\", \"launch\", \"launch\", \"launch\", \"launch\", \"launch\", \"lead\", \"lead\", \"lead\", \"lead\", \"lead\", \"lead\", \"lead\", \"lead\", \"lead\", \"lead\", \"lead\", \"lead\", \"lead\", \"lead\", \"lead\", \"league\", \"league\", \"league\", \"leaving_laste\", \"leaving_laste\", \"leaving_laste\", \"left\", \"left\", \"legacy\", \"legacy\", \"legacy\", \"legacy\", \"legacy\", \"legacy\", \"legacy\", \"legacy\", \"legacy\", \"legacy\", \"legacy\", \"legacy\", \"legacy\", \"legacy\", \"legacy\", \"letter\", \"letter\", \"letter\", \"letter\", \"letter\", \"letter\", \"letter\", \"letter\", \"level\", \"level\", \"level\", \"level\", \"level\", \"level\", \"level\", \"level\", \"level\", \"level\", \"level\", \"level\", \"level\", \"level\", \"level\", \"liaise\", \"liaise\", \"liaison\", \"liaison\", \"liaison\", \"library\", \"library\", \"library\", \"license\", \"license\", \"licensing\", \"licensing\", \"licensing\", \"licensing\", \"life\", \"life\", \"life\", \"life\", \"life\", \"life\", \"life\", \"life\", \"life\", \"life\", \"like\", \"like\", \"like\", \"like\", \"like\", \"like\", \"like\", \"like\", \"like\", \"likely\", \"likely\", \"likely\", \"likely\", \"likely\", \"likely\", \"likely\", \"likely\", \"likely\", \"likely\", \"line\", \"line\", \"line\", \"line\", \"line\", \"line\", \"line\", \"line\", \"line\", \"line\", \"line\", \"linkage\", \"linkage\", \"literacy\", \"literacy\", \"literacy\", \"local\", \"local\", \"local\", \"local\", \"local\", \"local\", \"local\", \"local\", \"local\", \"local\", \"local\", \"local\", \"local\", \"local\", \"local\", \"locate\", \"locate\", \"locate\", \"locate\", \"locate\", \"locate\", \"locate\", \"locate\", \"locate\", \"locate\", \"location\", \"location\", \"location\", \"location\", \"location\", \"location\", \"location\", \"location\", \"location\", \"location\", \"location\", \"lodge\", \"lodge\", \"londoner\", \"londoner\", \"londoner\", \"londoner\", \"londoner\", \"londoner\", \"londoner\", \"londoner\", \"look\", \"look\", \"look\", \"look\", \"look\", \"look\", \"look\", \"look\", \"look\", \"look\", \"look\", \"look\", \"look\", \"look\", \"lottery\", \"lottery\", \"lottery\", \"lottery\", \"lottery\", \"lottery\", \"lottery\", \"lottery\", \"lottery\", \"lottery\", \"lottery\", \"lottery_distributor\", \"lottery_distributor\", \"lottery_distributor\", \"lucky\", \"lucky\", \"magnitude\", \"magnitude\", \"main\", \"main\", \"main\", \"main\", \"main\", \"main\", \"main\", \"main\", \"main\", \"main\", \"main\", \"main\", \"mainstream\", \"mainstream\", \"mainstream\", \"mainstream\", \"mainstream\", \"major\", \"major\", \"major\", \"major\", \"major\", \"major\", \"major\", \"major\", \"major\", \"major\", \"major\", \"major\", \"major\", \"major\", \"major\", \"make_sure\", \"make_sure\", \"make_sure\", \"make_sure\", \"make_sure\", \"make_sure\", \"make_sure\", \"make_sure\", \"maker\", \"maker\", \"maker\", \"maker\", \"management\", \"management\", \"management\", \"management\", \"management\", \"management\", \"management\", \"management\", \"management\", \"management\", \"management\", \"management\", \"management\", \"management\", \"manchester\", \"manchester\", \"manchester\", \"manchester\", \"manchester\", \"manchester\", \"manchester\", \"manchester\", \"masterplan\", \"masterplan\", \"masterplan\", \"masterplan\", \"masterplan\", \"masterplan\", \"materialise\", \"materialise\", \"mayor\", \"mayor\", \"mayor\", \"mayor\", \"mayor\", \"mayor\", \"mayor\", \"mayor\", \"mayor\", \"mayor\", \"mayor\", \"mayor\", \"mayor\", \"mayor\", \"mean\", \"mean\", \"mean\", \"mean\", \"mean\", \"mean\", \"mean\", \"mean\", \"mean\", \"mean\", \"mean\", \"mean\", \"mean\", \"mean\", \"mean\", \"measurable\", \"measurable\", \"measurable\", \"measure\", \"measure\", \"measure\", \"measure\", \"measure\", \"measure\", \"measure\", \"measure\", \"measure\", \"measure\", \"measure\", \"medal\", \"medal\", \"medal\", \"medal\", \"medal\", \"medal\", \"medal_table\", \"medal_table\", \"medal_table\", \"medal_target\", \"medallist\", \"medallist\", \"medallist\", \"medicine\", \"medicine\", \"medicine\", \"medicine\", \"member\", \"member\", \"member\", \"member\", \"member\", \"member\", \"member\", \"member\", \"member\", \"member\", \"member\", \"member\", \"member\", \"member\", \"mental\", \"mental\", \"mental\", \"mentor\", \"mentor\", \"mentor\", \"mentor\", \"merchandise\", \"merchandise\", \"merchandise\", \"merchandise\", \"merit\", \"merit\", \"merit\", \"merit\", \"methodology\", \"methodology\", \"methodology\", \"methodology\", \"metropolitan\", \"metropolitan\", \"metropolitan\", \"military\", \"military\", \"mini\", \"mini\", \"ministerial_funders_group\", \"ministerial_funders_group\", \"minute\", \"minute\", \"minute\", \"minute\", \"minute\", \"minute\", \"minute\", \"minute\", \"minute\", \"minute\", \"minute\", \"miss_kirkbride\", \"mission\", \"mission\", \"mission\", \"mission\", \"moment\", \"moment\", \"moment\", \"moment\", \"moment\", \"moment\", \"moment\", \"momentum\", \"momentum\", \"momentum\", \"momentum\", \"momentum\", \"momentum\", \"momentum\", \"money\", \"money\", \"money\", \"money\", \"money\", \"money\", \"money\", \"money\", \"money\", \"money\", \"money\", \"morning\", \"morning\", \"morning\", \"morning\", \"morning\", \"mount\", \"mount\", \"mount\", \"mount\", \"museum\", \"museum\", \"museum\", \"music\", \"music\", \"music\", \"nao\", \"nao\", \"nation\", \"nation\", \"nation\", \"nation\", \"nation\", \"nation\", \"nation\", \"nation\", \"nation\", \"nation\", \"nation\", \"nation\", \"nation\", \"national\", \"national\", \"national\", \"national\", \"national\", \"national\", \"national\", \"national\", \"national\", \"national\", \"national\", \"national\", \"national\", \"national\", \"national\", \"national_audit_office\", \"national_audit_office\", \"national_lottery_distribution\", \"national_lottery_distribution\", \"national_lottery_distribution\", \"ndpb\", \"ndpb\", \"ndpb\", \"neighbour\", \"neighbour\", \"neighbourhood\", \"neighbourhood\", \"neighbourhood\", \"neighbourhood\", \"neighbourhood\", \"neighbouring\", \"neighbouring\", \"network\", \"network\", \"network\", \"network\", \"network\", \"network\", \"network\", \"network\", \"network\", \"network\", \"network\", \"new\", \"new\", \"new\", \"new\", \"new\", \"new\", \"new\", \"new\", \"new\", \"new\", \"new\", \"new\", \"new\", \"new\", \"new\", \"newspaper\", \"newspaper\", \"newspaper\", \"ngb\", \"ngb\", \"ngbs\", \"ngbs\", \"ngbs\", \"nice\", \"nice\", \"nine_english\", \"nine_english\", \"nine_english\", \"nldf\", \"nldf\", \"normal\", \"normal\", \"normal\", \"normal\", \"normal\", \"normal\", \"normal\", \"note\", \"note\", \"note\", \"note\", \"note\", \"note\", \"note\", \"note\", \"notional\", \"number\", \"number\", \"number\", \"number\", \"number\", \"number\", \"number\", \"number\", \"number\", \"number\", \"number\", \"number\", \"number\", \"number\", \"number\", \"nurture\", \"nurture\", \"objective\", \"objective\", \"objective\", \"objective\", \"objective\", \"objective\", \"objective\", \"objective\", \"objective\", \"objective\", \"objective\", \"objective\", \"obligation\", \"obligation\", \"obligation\", \"obligation\", \"obligation\", \"obligation\", \"obligation\", \"obligation\", \"oda\", \"oda\", \"oda\", \"oda\", \"oda\", \"oda\", \"oda\", \"oda\", \"oda\", \"offer\", \"offer\", \"offer\", \"offer\", \"offer\", \"offer\", \"offer\", \"offer\", \"offer\", \"offer\", \"offer\", \"offer\", \"offer\", \"offer\", \"offer\", \"old\", \"old\", \"old\", \"old\", \"old\", \"old\", \"old\", \"olympian\", \"olympian\", \"olympian\", \"online\", \"online\", \"online\", \"open_book\", \"open_book\", \"open_space\", \"open_space\", \"open_space\", \"open_space\", \"oplc\", \"oplc\", \"oplc\", \"oplc\", \"oplc\", \"opportunity\", \"opportunity\", \"opportunity\", \"opportunity\", \"opportunity\", \"opportunity\", \"opportunity\", \"opportunity\", \"opportunity\", \"opportunity\", \"opportunity\", \"opportunity\", \"opportunity\", \"opportunity\", \"opportunity\", \"opt\", \"opt\", \"opt\", \"option\", \"option\", \"option\", \"option\", \"option\", \"option\", \"option\", \"option\", \"option\", \"option\", \"option\", \"organisation\", \"organisation\", \"organisation\", \"organisation\", \"organisation\", \"organisation\", \"organisation\", \"organisation\", \"organisation\", \"organisation\", \"organisation\", \"organisation\", \"organisation\", \"organisation\", \"organisation\", \"organise\", \"organise\", \"organise\", \"organise\", \"organise\", \"organise\", \"organise\", \"organise\", \"organise\", \"organise\", \"organise\", \"organise\", \"orn\", \"orn\", \"pack\", \"pack\", \"pack\", \"package\", \"package\", \"package\", \"package\", \"package\", \"package\", \"package\", \"pair\", \"pair\", \"paragraph\", \"paragraph\", \"paragraph\", \"paragraph\", \"paragraph\", \"paragraph\", \"paralympian\", \"paralympian\", \"paralympian\", \"paralympic\", \"paralympic\", \"paralympic\", \"paralympic\", \"paralympic\", \"paralympic\", \"paralympic\", \"paralympic\", \"paralympic\", \"paralympic\", \"paralympic\", \"parent\", \"parent\", \"parent\", \"parent\", \"parent\", \"park\", \"park\", \"park\", \"park\", \"park\", \"park\", \"park\", \"park\", \"park\", \"park\", \"park\", \"park\", \"parkland\", \"parkland\", \"parkland\", \"parkland\", \"parkland\", \"participant\", \"participant\", \"participant\", \"participant\", \"participant\", \"participant\", \"participant\", \"participant\", \"participant\", \"participate\", \"participate\", \"participate\", \"participate\", \"participate\", \"participate\", \"participate\", \"participate\", \"participate\", \"participation\", \"participation\", \"participation\", \"participation\", \"participation\", \"participation\", \"participation\", \"participation\", \"participation\", \"participation\", \"participation\", \"participation\", \"partner\", \"partner\", \"partner\", \"partner\", \"partner\", \"partner\", \"partner\", \"partner\", \"partner\", \"partner\", \"partner\", \"pathway\", \"pathway\", \"pathway\", \"pathway\", \"pathway\", \"pathway\", \"pay\", \"pay\", \"pay\", \"pay\", \"pay\", \"pay\", \"pay\", \"pay\", \"pay\", \"peace\", \"peace\", \"peace\", \"peak\", \"peak\", \"peak\", \"peak\", \"peak\", \"people\", \"people\", \"people\", \"people\", \"people\", \"people\", \"people\", \"people\", \"people\", \"people\", \"people\", \"people\", \"people\", \"people\", \"people\", \"performance\", \"performance\", \"performance\", \"performance\", \"performance\", \"performance\", \"performance\", \"performance\", \"performance\", \"performance\", \"performance\", \"pfi\", \"pfi\", \"phase\", \"phase\", \"phase\", \"phase\", \"phase\", \"phase\", \"phase\", \"physical\", \"physical\", \"physical\", \"physical\", \"physical\", \"physical\", \"physical\", \"physical\", \"physical\", \"physical\", \"physical\", \"physical_activity\", \"physical_activity\", \"physical_activity\", \"physical_activity\", \"physical_activity\", \"physical_activity\", \"physical_activity\", \"physical_activity\", \"physically_active\", \"physically_active\", \"physically_active\", \"physiotherapy\", \"picketts_lock\", \"picketts_lock\", \"picketts_lock\", \"picketts_lock\", \"piece\", \"piece\", \"piece\", \"piece\", \"piece\", \"piece\", \"piece\", \"piece\", \"pinnacle\", \"pinnacle\", \"pioneer\", \"pioneer\", \"place\", \"place\", \"place\", \"place\", \"place\", \"place\", \"place\", \"place\", \"place\", \"place\", \"place\", \"place\", \"place\", \"place\", \"place\", \"plan\", \"plan\", \"plan\", \"plan\", \"plan\", \"plan\", \"plan\", \"plan\", \"plan\", \"plan\", \"plan\", \"plan\", \"plan\", \"plan\", \"plan\", \"plane\", \"planet\", \"planet\", \"planet\", \"planning\", \"planning\", \"planning\", \"planning\", \"planning\", \"planning\", \"planning\", \"planning\", \"planning\", \"planning\", \"planning\", \"planning\", \"planning\", \"podium\", \"podium\", \"podium\", \"point\", \"point\", \"point\", \"point\", \"point\", \"point\", \"point\", \"point\", \"point\", \"point\", \"point\", \"point\", \"point\", \"point\", \"politic\", \"poll\", \"poll\", \"poll\", \"poll\", \"poor\", \"poor\", \"poor\", \"poor\", \"poor\", \"poor\", \"poor\", \"poor\", \"poor\", \"poor\", \"portal\", \"portal\", \"possess\", \"possible\", \"possible\", \"possible\", \"possible\", \"possible\", \"possible\", \"possible\", \"possible\", \"possible\", \"possible\", \"possible\", \"possible\", \"possible\", \"possible\", \"possible\", \"preparation\", \"preparation\", \"preparation\", \"preparation\", \"preparation\", \"preparation\", \"preparation\", \"preparation\", \"preparation\", \"preparation\", \"preparation\", \"preparation\", \"prestige\", \"prestige\", \"prestige\", \"prestige\", \"price\", \"price\", \"price\", \"price\", \"price\", \"price\", \"price\", \"pricing\", \"pricing\", \"pricing\", \"priority\", \"priority\", \"priority\", \"priority\", \"priority\", \"priority\", \"priority\", \"priority\", \"priority\", \"priority\", \"priority\", \"priority\", \"probability\", \"probability\", \"probability\", \"probability\", \"process\", \"process\", \"process\", \"process\", \"process\", \"process\", \"process\", \"process\", \"process\", \"process\", \"process\", \"process\", \"process\", \"process\", \"process\", \"procurement\", \"procurement\", \"procurement\", \"procurement\", \"procurement\", \"procurement\", \"procurement\", \"programme\", \"programme\", \"programme\", \"programme\", \"programme\", \"programme\", \"programme\", \"programme\", \"programme\", \"programme\", \"programme\", \"programme\", \"programme\", \"programme\", \"programme\", \"progress\", \"progress\", \"progress\", \"progress\", \"progress\", \"progress\", \"progress\", \"progress\", \"progress\", \"progress\", \"progress\", \"progressive\", \"progressive\", \"project\", \"project\", \"project\", \"project\", \"project\", \"project\", \"project\", \"project\", \"project\", \"project\", \"project\", \"project\", \"project\", \"project\", \"project\", \"promote\", \"promote\", \"promote\", \"promote\", \"promote\", \"promote\", \"promote\", \"promote\", \"promote\", \"promote\", \"promote\", \"promote\", \"proposal\", \"proposal\", \"proposal\", \"proposal\", \"proposal\", \"proposal\", \"proposal\", \"proposal\", \"proposal\", \"proposal\", \"proposal\", \"propose\", \"propose\", \"propose\", \"propose\", \"propose\", \"propose\", \"propose\", \"propose\", \"propose\", \"propose\", \"propose\", \"propose\", \"propose\", \"prove\", \"prove\", \"prove\", \"prove\", \"prove\", \"prove\", \"prove\", \"prove\", \"prove\", \"provide\", \"provide\", \"provide\", \"provide\", \"provide\", \"provide\", \"provide\", \"provide\", \"provide\", \"provide\", \"provide\", \"provide\", \"provide\", \"provide\", \"provide\", \"provision\", \"provision\", \"provision\", \"provision\", \"provision\", \"provision\", \"provision\", \"provision\", \"provision\", \"provision\", \"provision\", \"provision\", \"provision\", \"provision\", \"psa\", \"psa\", \"public\", \"public\", \"public\", \"public\", \"public\", \"public\", \"public\", \"public\", \"public\", \"public\", \"public\", \"public\", \"public\", \"public\", \"public\", \"publicly_funde\", \"publicly_funde\", \"publicly_funde\", \"pupil\", \"pupil\", \"pupil\", \"pupil\", \"pupil\", \"pure\", \"qualified\", \"qualified\", \"qualified\", \"qualified\", \"qualitative\", \"qualitative\", \"query\", \"query\", \"question\", \"question\", \"question\", \"question\", \"question\", \"question\", \"question\", \"question\", \"question\", \"question\", \"question\", \"question\", \"question\", \"question\", \"racing\", \"racing\", \"rail\", \"rail\", \"rail\", \"rail\", \"rail\", \"rail\", \"rail\", \"rda\", \"rda\", \"react\", \"react\", \"readiness\", \"readiness\", \"readiness\", \"ready\", \"ready\", \"ready\", \"ready\", \"ready\", \"ready\", \"ready\", \"ready\", \"recent\", \"recent\", \"recent\", \"recent\", \"recent\", \"recent\", \"recent\", \"recent\", \"recent\", \"recent\", \"recent\", \"recent\", \"recent\", \"recommend\", \"recommend\", \"recommend\", \"recommend\", \"recommend\", \"recommend\", \"recommend\", \"recommend\", \"reconcile\", \"recoup\", \"recoup\", \"recoup\", \"recreation\", \"recreation\", \"recreation\", \"recreation\", \"recreation\", \"recreation\", \"recreational\", \"recreational\", \"recreational\", \"recreational\", \"recreational\", \"redevelopment\", \"redevelopment\", \"redevelopment\", \"redevelopment\", \"redevelopment\", \"redress\", \"redress\", \"redress\", \"refresh\", \"regard\", \"regard\", \"regard\", \"regard\", \"regard\", \"regard\", \"regard\", \"regard\", \"regard\", \"regard\", \"regard\", \"regard\", \"regard\", \"regeneration\", \"regeneration\", \"regeneration\", \"regeneration\", \"regeneration\", \"regeneration\", \"regeneration\", \"regeneration\", \"regeneration\", \"regeneration\", \"regeneration\", \"regeneration\", \"regeneration\", \"regeneration\", \"region\", \"region\", \"region\", \"region\", \"region\", \"region\", \"region\", \"region\", \"region\", \"region\", \"region\", \"regional\", \"regional\", \"regional\", \"regional\", \"regional\", \"regional\", \"regional\", \"regional\", \"regional\", \"regional\", \"regional\", \"regional\", \"rehabilitation\", \"rehabilitation\", \"reimburse\", \"reimburse\", \"reliable\", \"reliable\", \"reliable\", \"reliable\", \"relocatable\", \"remember\", \"remember\", \"remember\", \"remember\", \"remember\", \"remember\", \"remote\", \"remote\", \"remote\", \"remove\", \"remove\", \"remove\", \"remove\", \"remove\", \"remove\", \"remove\", \"renegotiate\", \"renegotiate\", \"renegotiate\", \"renewal\", \"renewal\", \"renewal\", \"renewal\", \"renewal\", \"renewal\", \"rent\", \"rent\", \"rent\", \"rent\", \"report\", \"report\", \"report\", \"report\", \"report\", \"report\", \"report\", \"report\", \"report\", \"report\", \"report\", \"report\", \"report\", \"require\", \"require\", \"require\", \"require\", \"require\", \"require\", \"require\", \"require\", \"require\", \"require\", \"require\", \"require\", \"require\", \"require\", \"requirement\", \"requirement\", \"requirement\", \"requirement\", \"requirement\", \"requirement\", \"requirement\", \"requirement\", \"requirement\", \"requirement\", \"requirement\", \"resident\", \"resident\", \"resident\", \"resident\", \"resident\", \"resident\", \"resident\", \"revenue\", \"revenue\", \"revenue\", \"revenue\", \"revenue\", \"revenue\", \"revenue\", \"revenue\", \"revitalise\", \"revitalise\", \"ride\", \"ride\", \"ride\", \"ride\", \"ride\", \"right\", \"right\", \"right\", \"right\", \"right\", \"right\", \"right\", \"right\", \"right\", \"right\", \"right\", \"right\", \"right\", \"risk\", \"risk\", \"risk\", \"risk\", \"risk\", \"risk\", \"risk\", \"risk\", \"risk\", \"risk\", \"risk\", \"risk_assessment\", \"risk_assessment\", \"rival\", \"role_model\", \"role_model\", \"role_model\", \"role_model\", \"route\", \"route\", \"route\", \"route\", \"route\", \"route\", \"route\", \"route\", \"route\", \"rower\", \"rower\", \"sander\", \"sander\", \"sander\", \"sander\", \"satisfaction\", \"satisfaction\", \"satisfaction\", \"satisfaction\", \"scenario\", \"scenario\", \"scenario\", \"scenario\", \"scenario\", \"scenario\", \"scheme\", \"scheme\", \"scheme\", \"scheme\", \"scheme\", \"scheme\", \"scheme\", \"scheme\", \"scheme\", \"scheme\", \"scholarship\", \"scholarship\", \"school\", \"school\", \"school\", \"school\", \"school\", \"school\", \"school\", \"school\", \"school\", \"school\", \"school\", \"science\", \"science\", \"science\", \"science\", \"science\", \"science\", \"screening\", \"screening\", \"screening\", \"sea\", \"sea\", \"sea\", \"sea\", \"seb\", \"secret\", \"sector\", \"sector\", \"sector\", \"sector\", \"sector\", \"sector\", \"sector\", \"sector\", \"sector\", \"sector\", \"sector\", \"secure\", \"secure\", \"secure\", \"secure\", \"secure\", \"secure\", \"secure\", \"secure\", \"secure\", \"secure\", \"security\", \"security\", \"security\", \"security\", \"security\", \"security\", \"security\", \"security\", \"security_guard\", \"select\", \"select\", \"select\", \"select\", \"select\", \"select\", \"select\", \"select\", \"select\", \"select\", \"self_finance\", \"service\", \"service\", \"service\", \"service\", \"service\", \"service\", \"service\", \"service\", \"service\", \"service\", \"service\", \"service\", \"service\", \"service\", \"service\", \"shall\", \"shall\", \"shall\", \"shall\", \"shoot\", \"shoot\", \"shoot\", \"shoot\", \"shoot\", \"shooting\", \"shooting\", \"shooting\", \"significance\", \"significance\", \"significant\", \"significant\", \"significant\", \"significant\", \"significant\", \"significant\", \"significant\", \"significant\", \"significant\", \"significant\", \"significant\", \"significant\", \"significant\", \"significant\", \"significant\", \"silver\", \"silver\", \"silver\", \"silver_medal\", \"similarity\", \"similarity\", \"sir_clive_woodward\", \"site\", \"site\", \"site\", \"site\", \"site\", \"site\", \"site\", \"site\", \"site\", \"site\", \"site\", \"site\", \"site\", \"site\", \"site\", \"situate\", \"situate\", \"situate\", \"skill\", \"skill\", \"skill\", \"skill\", \"skill\", \"skill\", \"skill\", \"skill\", \"skill\", \"skill\", \"skill\", \"skill\", \"skill\", \"sky\", \"sky\", \"snapshot\", \"snapshot\", \"snapshot\", \"social\", \"social\", \"social\", \"social\", \"social\", \"social\", \"social\", \"social\", \"social\", \"social\", \"social\", \"society\", \"society\", \"society\", \"society\", \"society\", \"society\", \"soft\", \"soft\", \"soft\", \"soft\", \"soft\", \"soldier\", \"soldier\", \"soldier\", \"solution\", \"solution\", \"solution\", \"solution\", \"solution\", \"solution\", \"solution\", \"solution\", \"solution\", \"solution\", \"solution\", \"sort\", \"sort\", \"sort\", \"sort\", \"sort\", \"source_national_audit\", \"south_w\", \"south_w\", \"south_w\", \"south_w\", \"south_wale\", \"south_wale\", \"southern\", \"southern\", \"southern\", \"specialist\", \"specialist\", \"specialist\", \"specialist\", \"specialist\", \"specialist\", \"specialist\", \"specialist\", \"specialist\", \"spend\", \"spend\", \"spend\", \"spend\", \"spend\", \"spend\", \"spend\", \"spend\", \"spend\", \"spend\", \"spend\", \"sporting\", \"sporting\", \"sporting\", \"sporting\", \"sporting\", \"sporting\", \"sporting\", \"sporting\", \"sporting\", \"sporting\", \"sporting\", \"sporting\", \"sporting\", \"sporting\", \"sporting\", \"sporting_giant\", \"sporting_giants_campaign\", \"spring\", \"spring\", \"spring\", \"spring\", \"spring\", \"squad\", \"squad\", \"squad\", \"square\", \"square\", \"square\", \"square\", \"stadia\", \"stadia\", \"stadia\", \"stadia\", \"stadia\", \"stadium\", \"stadium\", \"stadium\", \"stadium\", \"stadium\", \"stadium\", \"stadium\", \"stadium\", \"stadium\", \"stadium\", \"stadium\", \"stadium\", \"stadium\", \"stage\", \"stage\", \"stage\", \"stage\", \"stage\", \"stage\", \"stage\", \"stage\", \"stage\", \"stage\", \"stage\", \"stage\", \"stage\", \"stage\", \"stage\", \"stakeholder\", \"stakeholder\", \"stakeholder\", \"stakeholder\", \"stakeholder\", \"stakeholder\", \"stakeholder\", \"stakeholder\", \"stakeholder\", \"stakeholder\", \"stakeholder\", \"state\", \"state\", \"state\", \"state\", \"state\", \"state\", \"state\", \"state\", \"state\", \"state\", \"state\", \"state\", \"state\", \"station\", \"station\", \"station\", \"station\", \"station\", \"station\", \"station\", \"stationery_office_limite\", \"strategy\", \"strategy\", \"strategy\", \"strategy\", \"strategy\", \"strategy\", \"strategy\", \"strategy\", \"strategy\", \"strategy\", \"strategy\", \"strategy\", \"strategy\", \"strategy\", \"stratford_station\", \"stratford_station\", \"stratford_station\", \"strong\", \"strong\", \"strong\", \"strong\", \"strong\", \"strong\", \"strong\", \"strong\", \"strong\", \"strong\", \"strong\", \"strong\", \"strong\", \"student\", \"student\", \"student\", \"student\", \"student\", \"studio\", \"studio\", \"studio\", \"studio\", \"studio\", \"submit\", \"submit\", \"submit\", \"submit\", \"submit\", \"submit\", \"submit\", \"submit\", \"submit\", \"submit\", \"submit\", \"submit\", \"submit\", \"subsidy\", \"subsidy\", \"subsidy\", \"subsidy\", \"subsidy\", \"subsidy\", \"success\", \"success\", \"success\", \"success\", \"success\", \"success\", \"success\", \"success\", \"success\", \"success\", \"success\", \"success\", \"success\", \"successful\", \"successful\", \"successful\", \"successful\", \"successful\", \"successful\", \"successful\", \"successful\", \"successful\", \"successful\", \"successful\", \"successful\", \"successful\", \"successful\", \"suitability\", \"suitability\", \"suitability\", \"suitable\", \"suitable\", \"suitable\", \"suitable\", \"suitable\", \"suitable\", \"suitable\", \"suitable\", \"suitable\", \"suitable\", \"supplementary\", \"supplementary\", \"supplementary\", \"supplementary_memorandum_submitte\", \"supplementary_memorandum_submitte\", \"supplementary_memorandum_submitte\", \"supplementary_memorandum_submitte\", \"supplier\", \"supplier\", \"supplier\", \"supplier\", \"supplier\", \"supplier\", \"support\", \"support\", \"support\", \"support\", \"support\", \"support\", \"support\", \"support\", \"support\", \"support\", \"support\", \"support\", \"support\", \"support\", \"support\", \"sure\", \"sure\", \"sure\", \"sure\", \"sure\", \"sure\", \"sure\", \"survey\", \"survey\", \"survey\", \"survey\", \"survey\", \"survey\", \"survey\", \"survey\", \"survey\", \"survey\", \"sustainability\", \"sustainability\", \"sustainability\", \"sustainability\", \"sustainability\", \"sustainability\", \"sustainability\", \"sustainability\", \"sustainability\", \"swim\", \"swim\", \"swim\", \"swim\", \"swimmer\", \"swimmer\", \"swimmer\", \"swimmer\", \"swimming\", \"swimming\", \"swimming\", \"swimming\", \"swimming\", \"swimming\", \"swimming\", \"sydney\", \"sydney\", \"sydney\", \"symbol\", \"symbol\", \"symbol\", \"talent\", \"talent\", \"talent\", \"talent\", \"talent\", \"talent\", \"talent\", \"talent\", \"talent\", \"talk\", \"talk\", \"talk\", \"talk\", \"talk\", \"talk\", \"talk\", \"target\", \"target\", \"target\", \"target\", \"target\", \"target\", \"target\", \"target\", \"target\", \"target\", \"target\", \"taste\", \"taste\", \"teaching\", \"teaching\", \"teaching\", \"team\", \"team\", \"team\", \"team\", \"team\", \"team\", \"team\", \"team\", \"team\", \"team\", \"team\", \"team\", \"team\", \"tech\", \"technological\", \"technological\", \"technological\", \"technology\", \"technology\", \"technology\", \"technology\", \"technology\", \"technology\", \"term\", \"term\", \"term\", \"term\", \"term\", \"term\", \"term\", \"term\", \"term\", \"term\", \"term\", \"term\", \"term\", \"term\", \"term\", \"territory\", \"testimony\", \"testimony\", \"testimony\", \"thame\", \"thame\", \"thame\", \"thame\", \"thames_gateway_development_corporation\", \"thames_gateway_development_corporation\", \"ticket\", \"ticket\", \"ticket\", \"ticket\", \"ticket\", \"ticket\", \"ticket\", \"ticket\", \"ticket\", \"tier\", \"tier\", \"tier\", \"tier\", \"tier\", \"tier\", \"time\", \"time\", \"time\", \"time\", \"time\", \"time\", \"time\", \"time\", \"time\", \"time\", \"time\", \"time\", \"time\", \"time\", \"time\", \"tooth\", \"torch\", \"torch\", \"tourism\", \"tourism\", \"tourism\", \"tourism\", \"tourism\", \"tourism\", \"tourism\", \"tourism\", \"tourism\", \"tourist\", \"tourist\", \"tourist\", \"tourist\", \"tourist\", \"traffic\", \"traffic\", \"traffic\", \"traffic\", \"traffic\", \"train\", \"train\", \"train\", \"train\", \"train\", \"train\", \"train\", \"train\", \"train\", \"train\", \"train\", \"training\", \"training\", \"training\", \"training\", \"training\", \"training\", \"training\", \"training\", \"training\", \"training\", \"training\", \"training\", \"training\", \"transform\", \"transform\", \"transform\", \"transform\", \"transform\", \"transform\", \"transform\", \"transform\", \"transformation\", \"transformation\", \"transformation\", \"transformation\", \"transformation\", \"transformation\", \"transformation\", \"transformation\", \"transitional\", \"transitional\", \"transitional\", \"transport\", \"transport\", \"transport\", \"transport\", \"transport\", \"transport\", \"transport\", \"transport\", \"transport\", \"transport\", \"transport\", \"transport\", \"transport\", \"travel\", \"travel\", \"travel\", \"travel\", \"travel\", \"travel\", \"travel\", \"travel\", \"travel\", \"trip\", \"trip\", \"trip\", \"trip\", \"try\", \"try\", \"try\", \"try\", \"try\", \"try\", \"try\", \"try\", \"try\", \"try\", \"try\", \"tune\", \"tune\", \"typical\", \"typical\", \"typical\", \"typical\", \"typical\", \"ultimate_guarantor\", \"uncertainty\", \"uncertainty\", \"uncertainty\", \"uncertainty\", \"uncertainty\", \"uncertainty\", \"undertake\", \"undertake\", \"undertake\", \"undertake\", \"undertake\", \"undertake\", \"undertake\", \"undertake\", \"undertake\", \"undertake\", \"undertake\", \"unequivocal\", \"unequivocal\", \"union\", \"unlimited\", \"unlimited\", \"unlock\", \"unlock\", \"upfront\", \"upfront\", \"upgrade\", \"upgrade\", \"upgrade\", \"upgrade\", \"upgrade\", \"upgrade\", \"use\", \"use\", \"use\", \"use\", \"use\", \"use\", \"use\", \"use\", \"use\", \"use\", \"use\", \"use\", \"use\", \"use\", \"use\", \"utilise\", \"utilise\", \"utilise\", \"utilise\", \"utilise\", \"utilise\", \"utilise\", \"utilise\", \"venue\", \"venue\", \"venue\", \"venue\", \"venue\", \"venue\", \"venue\", \"venue\", \"venue\", \"venue\", \"venue\", \"venue\", \"venue\", \"venue\", \"venue\", \"verify\", \"verify\", \"verify\", \"viability\", \"viability\", \"viability\", \"viability\", \"viability\", \"viability\", \"viability\", \"victory\", \"victory\", \"village\", \"village\", \"village\", \"village\", \"village\", \"village\", \"village\", \"village\", \"village\", \"village\", \"village\", \"visa\", \"visionary\", \"visionary\", \"visionary\", \"visit\", \"visit\", \"visit\", \"visit\", \"visit\", \"visit\", \"visit\", \"visit\", \"visit\", \"visit\", \"visitbritain\", \"visitbritain\", \"visitor\", \"visitor\", \"visitor\", \"visitor\", \"visitor\", \"visitor\", \"visitor\", \"visitor\", \"volleyball\", \"volleyball\", \"volunteer\", \"volunteer\", \"volunteer\", \"volunteer\", \"volunteer\", \"volunteer\", \"volunteer\", \"volunteer\", \"volunteer\", \"volunteer\", \"volunteer\", \"volunteer\", \"vulnerable\", \"vulnerable\", \"wage\", \"wage\", \"waterway\", \"waterway\", \"waterway\", \"waterway\", \"waterway\", \"way\", \"way\", \"way\", \"way\", \"way\", \"way\", \"way\", \"way\", \"way\", \"way\", \"way\", \"way\", \"way\", \"way\", \"way\", \"weekly\", \"weekly\", \"weekly\", \"weekly\", \"weekly\", \"weekly\", \"welcome\", \"welcome\", \"welcome\", \"welcome\", \"welcome\", \"welcome\", \"welcome\", \"welcome\", \"welcome\", \"welcome\", \"wembley\", \"wembley\", \"wembley\", \"west\", \"western\", \"western\", \"western\", \"whitehall\", \"whitehall\", \"wholehearte\", \"win\", \"win\", \"win\", \"win\", \"win\", \"win\", \"win\", \"win\", \"win\", \"win\", \"win\", \"win\", \"win\", \"win\", \"win\", \"wish\", \"wish\", \"wish\", \"wish\", \"wish\", \"wish\", \"wish\", \"wish\", \"wish\", \"wish\", \"witnesses_questions_tuesday_january\", \"witnesses_questions_wednesday_january\", \"witnesses_questions_wednesday_january\", \"woman\", \"woman\", \"woman\", \"woman\", \"woman\", \"woman\", \"wonderful\", \"wonderful\", \"wonderful\", \"wonderful\", \"wonderful\", \"work\", \"work\", \"work\", \"work\", \"work\", \"work\", \"work\", \"work\", \"work\", \"work\", \"work\", \"work\", \"work\", \"work\", \"work\", \"workless\", \"workless\", \"workless\", \"workless\", \"workless\", \"worklessness\", \"worklessness\", \"worklessness\", \"worklessness\", \"worklessness\", \"world\", \"world\", \"world\", \"world\", \"world\", \"world\", \"world\", \"world\", \"world\", \"world\", \"world\", \"world\", \"world\", \"world\", \"world_class\", \"world_class\", \"world_class\", \"world_class\", \"world_class\", \"world_class\", \"world_class\", \"world_class\", \"wouldn\", \"wouldn\", \"write\", \"write\", \"write\", \"write\", \"write\", \"write\", \"write\", \"write\", \"write\", \"write\", \"year\", \"year\", \"year\", \"year\", \"year\", \"year\", \"year\", \"year\", \"year\", \"year\", \"year\", \"year\", \"year\", \"year\", \"year\", \"young\", \"young\", \"young\", \"young\", \"young\", \"young\", \"young\", \"young\", \"young\", \"young\", \"young\", \"young\", \"youngster\", \"youngster\", \"youngster\", \"youngster\", \"youngster\", \"youngster\", \"zone\", \"zone\", \"zone\", \"zone\", \"zone\", \"zone\", \"zone\", \"zone\", \"\\ufb01gure\", \"\\ufb01gure\", \"\\ufb01gure\", \"\\ufb01gure\", \"\\ufb01nal\", \"\\ufb01nal\", \"\\ufb01nal\", \"\\ufb01nal\"]}, \"R\": 30, \"lambda.step\": 0.01, \"plot.opts\": {\"xlab\": \"PC1\", \"ylab\": \"PC2\"}, \"topic.order\": [1, 2, 3, 4, 5, 6, 7, 8, 9, 10, 11, 12, 13, 14, 15]};\n",
       "\n",
       "function LDAvis_load_lib(url, callback){\n",
       "  var s = document.createElement('script');\n",
       "  s.src = url;\n",
       "  s.async = true;\n",
       "  s.onreadystatechange = s.onload = callback;\n",
       "  s.onerror = function(){console.warn(\"failed to load library \" + url);};\n",
       "  document.getElementsByTagName(\"head\")[0].appendChild(s);\n",
       "}\n",
       "\n",
       "if(typeof(LDAvis) !== \"undefined\"){\n",
       "   // already loaded: just create the visualization\n",
       "   !function(LDAvis){\n",
       "       new LDAvis(\"#\" + \"ldavis_el9194828889146378727899750445\", ldavis_el9194828889146378727899750445_data);\n",
       "   }(LDAvis);\n",
       "}else if(typeof define === \"function\" && define.amd){\n",
       "   // require.js is available: use it to load d3/LDAvis\n",
       "   require.config({paths: {d3: \"https://d3js.org/d3.v5\"}});\n",
       "   require([\"d3\"], function(d3){\n",
       "      window.d3 = d3;\n",
       "      LDAvis_load_lib(\"https://cdn.jsdelivr.net/gh/bmabey/pyLDAvis@3.3.1/pyLDAvis/js/ldavis.v3.0.0.js\", function(){\n",
       "        new LDAvis(\"#\" + \"ldavis_el9194828889146378727899750445\", ldavis_el9194828889146378727899750445_data);\n",
       "      });\n",
       "    });\n",
       "}else{\n",
       "    // require.js not available: dynamically load d3 & LDAvis\n",
       "    LDAvis_load_lib(\"https://d3js.org/d3.v5.js\", function(){\n",
       "         LDAvis_load_lib(\"https://cdn.jsdelivr.net/gh/bmabey/pyLDAvis@3.3.1/pyLDAvis/js/ldavis.v3.0.0.js\", function(){\n",
       "                 new LDAvis(\"#\" + \"ldavis_el9194828889146378727899750445\", ldavis_el9194828889146378727899750445_data);\n",
       "            })\n",
       "         });\n",
       "}\n",
       "</script>"
      ],
      "text/plain": [
       "PreparedData(topic_coordinates=              x         y  topics  cluster       Freq\n",
       "topic                                                \n",
       "0      0.032628  0.102269       1        1  16.967873\n",
       "1      0.048074  0.059504       2        1  14.896681\n",
       "2      0.145656 -0.030026       3        1   2.712430\n",
       "3      0.003857 -0.022652       4        1   0.297208\n",
       "4     -0.157578 -0.121114       5        1   0.952126\n",
       "5      0.047656  0.062733       6        1   3.614811\n",
       "6      0.164309 -0.224854       7        1   1.082730\n",
       "7      0.112742 -0.058171       8        1   4.053002\n",
       "8      0.084886  0.041399       9        1  19.002563\n",
       "9      0.065959  0.003595      10        1   4.517502\n",
       "10    -0.116279  0.041261      11        1   2.620549\n",
       "11    -0.036780  0.123362      12        1  15.949464\n",
       "12    -0.219381 -0.092749      13        1   0.675553\n",
       "13    -0.179628 -0.024424      14        1   1.546799\n",
       "14     0.003878  0.139868      15        1  11.110710, topic_info=            Term         Freq        Total Category  logprob  loglift\n",
       "376       people  2758.000000  2758.000000  Default  30.0000  30.0000\n",
       "408      project  1690.000000  1690.000000  Default  29.0000  29.0000\n",
       "58           bid  1561.000000  1561.000000  Default  28.0000  28.0000\n",
       "635         cost  3045.000000  3045.000000  Default  27.0000  27.0000\n",
       "497      stadium   989.000000   989.000000  Default  26.0000  26.0000\n",
       "..           ...          ...          ...      ...      ...      ...\n",
       "587         work   231.201161  3102.395350  Topic15  -5.0530  -0.3994\n",
       "828  contingency   163.181256   942.936932  Topic15  -5.4015   0.4431\n",
       "286       legacy   194.988179  2704.760382  Topic15  -5.2234  -0.4326\n",
       "566          use   181.238314  1875.703746  Topic15  -5.2965  -0.1397\n",
       "138      deliver   156.652240  1478.940730  Topic15  -5.4423  -0.0478\n",
       "\n",
       "[1051 rows x 6 columns], token_table=      Topic      Freq   Term\n",
       "term                        \n",
       "1         1  0.417821   able\n",
       "1         2  0.122534   able\n",
       "1         3  0.040175   able\n",
       "1         4  0.004018   able\n",
       "1         6  0.006026   able\n",
       "...     ...       ...    ...\n",
       "3321     15  0.473120  ﬁgure\n",
       "3323      1  0.066779   ﬁnal\n",
       "3323      2  0.066779   ﬁnal\n",
       "3323      9  0.333894   ﬁnal\n",
       "3323     15  0.515150   ﬁnal\n",
       "\n",
       "[4839 rows x 3 columns], R=30, lambda_step=0.01, plot_opts={'xlab': 'PC1', 'ylab': 'PC2'}, topic_order=[1, 2, 3, 4, 5, 6, 7, 8, 9, 10, 11, 12, 13, 14, 15])"
      ]
     },
     "execution_count": 128,
     "metadata": {},
     "output_type": "execute_result"
    }
   ],
   "source": [
    "# Visualize the topics\n",
    "pyLDAvis.enable_notebook()\n",
    "vis = pyLDAvis.gensim_models.prepare(lda_model, corpus, id2word, sort_topics = False )\n",
    "vis"
   ]
  },
  {
   "cell_type": "markdown",
   "metadata": {},
   "source": [
    "### Prototypical texts for each topic\n",
    "I followed the method of extraction of prototypical text suggested by PTBI proposed by Marchetti and Puranam (2020). Its heart lies in that for parameter L (probability that a document belongs to a topic), at least 1/L documents with probablity that they belong to the topic >= L are needed to interpret the topics, this method tries to find out the opitimal value of L to maximize the percentage of interpretable topics (Marchetti and Puranam, 2020, p. 20)"
   ]
  },
  {
   "cell_type": "code",
   "execution_count": 129,
   "metadata": {},
   "outputs": [],
   "source": [
    "List_num_doc = [x for x in range(1, 20, 1)] # generate a list of 1/L (minimum number of documents to interpret a topic)\n",
    "list_L = [1/x for x in List_num_doc]        # generate a list of L"
   ]
  },
  {
   "cell_type": "code",
   "execution_count": 130,
   "metadata": {},
   "outputs": [],
   "source": [
    "# create the function for computing the percentage of potentially interpretable topics against parameter L\n",
    "def perc(i, df):\n",
    "    list_num_topics = []\n",
    "    for j in df:                                  \n",
    "        topic_filter = df[j] >= i         \n",
    "        m = df[j][topic_filter].count()           \n",
    "        list_num_topics.append(m)                                             \n",
    "        count1 = sum(map(lambda x : x >= 1/i, list_num_topics))                                     \n",
    "        perc1 = count1 / k\n",
    "    return(perc1)"
   ]
  },
  {
   "cell_type": "markdown",
   "metadata": {},
   "source": [
    "The following chart shows that the percentage of potentially interpretable topics for “high enough” levels of L is not large enough, so the paragraph-based interpretation can be explored. "
   ]
  },
  {
   "cell_type": "code",
   "execution_count": 131,
   "metadata": {},
   "outputs": [
    {
     "data": {
      "application/vnd.plotly.v1+json": {
       "config": {
        "plotlyServerURL": "https://plotly.com"
       },
       "data": [
        {
         "hovertemplate": "Parameter L=%{x}<br>Percentage of interpretable topics=%{y}<extra></extra>",
         "legendgroup": "",
         "line": {
          "color": "#636efa",
          "dash": "solid"
         },
         "mode": "lines+markers",
         "name": "",
         "orientation": "v",
         "showlegend": false,
         "type": "scatter",
         "x": [
          1,
          0.5,
          0.3333333333333333,
          0.25,
          0.2,
          0.16666666666666666,
          0.14285714285714285,
          0.125,
          0.1111111111111111,
          0.1,
          0.09090909090909091,
          0.08333333333333333,
          0.07692307692307693,
          0.07142857142857142,
          0.06666666666666667,
          0.0625,
          0.058823529411764705,
          0.05555555555555555,
          0.05263157894736842
         ],
         "xaxis": "x",
         "y": [
          0,
          0.6666666666666666,
          0.8,
          0.8,
          0.8,
          0.8,
          0.8,
          0.8,
          0.7333333333333333,
          0.7333333333333333,
          0.7333333333333333,
          0.7333333333333333,
          0.7333333333333333,
          0.7333333333333333,
          0.7333333333333333,
          0.7333333333333333,
          0.7333333333333333,
          0.7333333333333333,
          0.7333333333333333
         ],
         "yaxis": "y"
        }
       ],
       "layout": {
        "autosize": false,
        "height": 400,
        "legend": {
         "tracegroupgap": 0
        },
        "template": {
         "data": {
          "bar": [
           {
            "error_x": {
             "color": "#2a3f5f"
            },
            "error_y": {
             "color": "#2a3f5f"
            },
            "marker": {
             "line": {
              "color": "#E5ECF6",
              "width": 0.5
             }
            },
            "type": "bar"
           }
          ],
          "barpolar": [
           {
            "marker": {
             "line": {
              "color": "#E5ECF6",
              "width": 0.5
             }
            },
            "type": "barpolar"
           }
          ],
          "carpet": [
           {
            "aaxis": {
             "endlinecolor": "#2a3f5f",
             "gridcolor": "white",
             "linecolor": "white",
             "minorgridcolor": "white",
             "startlinecolor": "#2a3f5f"
            },
            "baxis": {
             "endlinecolor": "#2a3f5f",
             "gridcolor": "white",
             "linecolor": "white",
             "minorgridcolor": "white",
             "startlinecolor": "#2a3f5f"
            },
            "type": "carpet"
           }
          ],
          "choropleth": [
           {
            "colorbar": {
             "outlinewidth": 0,
             "ticks": ""
            },
            "type": "choropleth"
           }
          ],
          "contour": [
           {
            "colorbar": {
             "outlinewidth": 0,
             "ticks": ""
            },
            "colorscale": [
             [
              0,
              "#0d0887"
             ],
             [
              0.1111111111111111,
              "#46039f"
             ],
             [
              0.2222222222222222,
              "#7201a8"
             ],
             [
              0.3333333333333333,
              "#9c179e"
             ],
             [
              0.4444444444444444,
              "#bd3786"
             ],
             [
              0.5555555555555556,
              "#d8576b"
             ],
             [
              0.6666666666666666,
              "#ed7953"
             ],
             [
              0.7777777777777778,
              "#fb9f3a"
             ],
             [
              0.8888888888888888,
              "#fdca26"
             ],
             [
              1,
              "#f0f921"
             ]
            ],
            "type": "contour"
           }
          ],
          "contourcarpet": [
           {
            "colorbar": {
             "outlinewidth": 0,
             "ticks": ""
            },
            "type": "contourcarpet"
           }
          ],
          "heatmap": [
           {
            "colorbar": {
             "outlinewidth": 0,
             "ticks": ""
            },
            "colorscale": [
             [
              0,
              "#0d0887"
             ],
             [
              0.1111111111111111,
              "#46039f"
             ],
             [
              0.2222222222222222,
              "#7201a8"
             ],
             [
              0.3333333333333333,
              "#9c179e"
             ],
             [
              0.4444444444444444,
              "#bd3786"
             ],
             [
              0.5555555555555556,
              "#d8576b"
             ],
             [
              0.6666666666666666,
              "#ed7953"
             ],
             [
              0.7777777777777778,
              "#fb9f3a"
             ],
             [
              0.8888888888888888,
              "#fdca26"
             ],
             [
              1,
              "#f0f921"
             ]
            ],
            "type": "heatmap"
           }
          ],
          "heatmapgl": [
           {
            "colorbar": {
             "outlinewidth": 0,
             "ticks": ""
            },
            "colorscale": [
             [
              0,
              "#0d0887"
             ],
             [
              0.1111111111111111,
              "#46039f"
             ],
             [
              0.2222222222222222,
              "#7201a8"
             ],
             [
              0.3333333333333333,
              "#9c179e"
             ],
             [
              0.4444444444444444,
              "#bd3786"
             ],
             [
              0.5555555555555556,
              "#d8576b"
             ],
             [
              0.6666666666666666,
              "#ed7953"
             ],
             [
              0.7777777777777778,
              "#fb9f3a"
             ],
             [
              0.8888888888888888,
              "#fdca26"
             ],
             [
              1,
              "#f0f921"
             ]
            ],
            "type": "heatmapgl"
           }
          ],
          "histogram": [
           {
            "marker": {
             "colorbar": {
              "outlinewidth": 0,
              "ticks": ""
             }
            },
            "type": "histogram"
           }
          ],
          "histogram2d": [
           {
            "colorbar": {
             "outlinewidth": 0,
             "ticks": ""
            },
            "colorscale": [
             [
              0,
              "#0d0887"
             ],
             [
              0.1111111111111111,
              "#46039f"
             ],
             [
              0.2222222222222222,
              "#7201a8"
             ],
             [
              0.3333333333333333,
              "#9c179e"
             ],
             [
              0.4444444444444444,
              "#bd3786"
             ],
             [
              0.5555555555555556,
              "#d8576b"
             ],
             [
              0.6666666666666666,
              "#ed7953"
             ],
             [
              0.7777777777777778,
              "#fb9f3a"
             ],
             [
              0.8888888888888888,
              "#fdca26"
             ],
             [
              1,
              "#f0f921"
             ]
            ],
            "type": "histogram2d"
           }
          ],
          "histogram2dcontour": [
           {
            "colorbar": {
             "outlinewidth": 0,
             "ticks": ""
            },
            "colorscale": [
             [
              0,
              "#0d0887"
             ],
             [
              0.1111111111111111,
              "#46039f"
             ],
             [
              0.2222222222222222,
              "#7201a8"
             ],
             [
              0.3333333333333333,
              "#9c179e"
             ],
             [
              0.4444444444444444,
              "#bd3786"
             ],
             [
              0.5555555555555556,
              "#d8576b"
             ],
             [
              0.6666666666666666,
              "#ed7953"
             ],
             [
              0.7777777777777778,
              "#fb9f3a"
             ],
             [
              0.8888888888888888,
              "#fdca26"
             ],
             [
              1,
              "#f0f921"
             ]
            ],
            "type": "histogram2dcontour"
           }
          ],
          "mesh3d": [
           {
            "colorbar": {
             "outlinewidth": 0,
             "ticks": ""
            },
            "type": "mesh3d"
           }
          ],
          "parcoords": [
           {
            "line": {
             "colorbar": {
              "outlinewidth": 0,
              "ticks": ""
             }
            },
            "type": "parcoords"
           }
          ],
          "pie": [
           {
            "automargin": true,
            "type": "pie"
           }
          ],
          "scatter": [
           {
            "marker": {
             "colorbar": {
              "outlinewidth": 0,
              "ticks": ""
             }
            },
            "type": "scatter"
           }
          ],
          "scatter3d": [
           {
            "line": {
             "colorbar": {
              "outlinewidth": 0,
              "ticks": ""
             }
            },
            "marker": {
             "colorbar": {
              "outlinewidth": 0,
              "ticks": ""
             }
            },
            "type": "scatter3d"
           }
          ],
          "scattercarpet": [
           {
            "marker": {
             "colorbar": {
              "outlinewidth": 0,
              "ticks": ""
             }
            },
            "type": "scattercarpet"
           }
          ],
          "scattergeo": [
           {
            "marker": {
             "colorbar": {
              "outlinewidth": 0,
              "ticks": ""
             }
            },
            "type": "scattergeo"
           }
          ],
          "scattergl": [
           {
            "marker": {
             "colorbar": {
              "outlinewidth": 0,
              "ticks": ""
             }
            },
            "type": "scattergl"
           }
          ],
          "scattermapbox": [
           {
            "marker": {
             "colorbar": {
              "outlinewidth": 0,
              "ticks": ""
             }
            },
            "type": "scattermapbox"
           }
          ],
          "scatterpolar": [
           {
            "marker": {
             "colorbar": {
              "outlinewidth": 0,
              "ticks": ""
             }
            },
            "type": "scatterpolar"
           }
          ],
          "scatterpolargl": [
           {
            "marker": {
             "colorbar": {
              "outlinewidth": 0,
              "ticks": ""
             }
            },
            "type": "scatterpolargl"
           }
          ],
          "scatterternary": [
           {
            "marker": {
             "colorbar": {
              "outlinewidth": 0,
              "ticks": ""
             }
            },
            "type": "scatterternary"
           }
          ],
          "surface": [
           {
            "colorbar": {
             "outlinewidth": 0,
             "ticks": ""
            },
            "colorscale": [
             [
              0,
              "#0d0887"
             ],
             [
              0.1111111111111111,
              "#46039f"
             ],
             [
              0.2222222222222222,
              "#7201a8"
             ],
             [
              0.3333333333333333,
              "#9c179e"
             ],
             [
              0.4444444444444444,
              "#bd3786"
             ],
             [
              0.5555555555555556,
              "#d8576b"
             ],
             [
              0.6666666666666666,
              "#ed7953"
             ],
             [
              0.7777777777777778,
              "#fb9f3a"
             ],
             [
              0.8888888888888888,
              "#fdca26"
             ],
             [
              1,
              "#f0f921"
             ]
            ],
            "type": "surface"
           }
          ],
          "table": [
           {
            "cells": {
             "fill": {
              "color": "#EBF0F8"
             },
             "line": {
              "color": "white"
             }
            },
            "header": {
             "fill": {
              "color": "#C8D4E3"
             },
             "line": {
              "color": "white"
             }
            },
            "type": "table"
           }
          ]
         },
         "layout": {
          "annotationdefaults": {
           "arrowcolor": "#2a3f5f",
           "arrowhead": 0,
           "arrowwidth": 1
          },
          "autotypenumbers": "strict",
          "coloraxis": {
           "colorbar": {
            "outlinewidth": 0,
            "ticks": ""
           }
          },
          "colorscale": {
           "diverging": [
            [
             0,
             "#8e0152"
            ],
            [
             0.1,
             "#c51b7d"
            ],
            [
             0.2,
             "#de77ae"
            ],
            [
             0.3,
             "#f1b6da"
            ],
            [
             0.4,
             "#fde0ef"
            ],
            [
             0.5,
             "#f7f7f7"
            ],
            [
             0.6,
             "#e6f5d0"
            ],
            [
             0.7,
             "#b8e186"
            ],
            [
             0.8,
             "#7fbc41"
            ],
            [
             0.9,
             "#4d9221"
            ],
            [
             1,
             "#276419"
            ]
           ],
           "sequential": [
            [
             0,
             "#0d0887"
            ],
            [
             0.1111111111111111,
             "#46039f"
            ],
            [
             0.2222222222222222,
             "#7201a8"
            ],
            [
             0.3333333333333333,
             "#9c179e"
            ],
            [
             0.4444444444444444,
             "#bd3786"
            ],
            [
             0.5555555555555556,
             "#d8576b"
            ],
            [
             0.6666666666666666,
             "#ed7953"
            ],
            [
             0.7777777777777778,
             "#fb9f3a"
            ],
            [
             0.8888888888888888,
             "#fdca26"
            ],
            [
             1,
             "#f0f921"
            ]
           ],
           "sequentialminus": [
            [
             0,
             "#0d0887"
            ],
            [
             0.1111111111111111,
             "#46039f"
            ],
            [
             0.2222222222222222,
             "#7201a8"
            ],
            [
             0.3333333333333333,
             "#9c179e"
            ],
            [
             0.4444444444444444,
             "#bd3786"
            ],
            [
             0.5555555555555556,
             "#d8576b"
            ],
            [
             0.6666666666666666,
             "#ed7953"
            ],
            [
             0.7777777777777778,
             "#fb9f3a"
            ],
            [
             0.8888888888888888,
             "#fdca26"
            ],
            [
             1,
             "#f0f921"
            ]
           ]
          },
          "colorway": [
           "#636efa",
           "#EF553B",
           "#00cc96",
           "#ab63fa",
           "#FFA15A",
           "#19d3f3",
           "#FF6692",
           "#B6E880",
           "#FF97FF",
           "#FECB52"
          ],
          "font": {
           "color": "#2a3f5f"
          },
          "geo": {
           "bgcolor": "white",
           "lakecolor": "white",
           "landcolor": "#E5ECF6",
           "showlakes": true,
           "showland": true,
           "subunitcolor": "white"
          },
          "hoverlabel": {
           "align": "left"
          },
          "hovermode": "closest",
          "mapbox": {
           "style": "light"
          },
          "paper_bgcolor": "white",
          "plot_bgcolor": "#E5ECF6",
          "polar": {
           "angularaxis": {
            "gridcolor": "white",
            "linecolor": "white",
            "ticks": ""
           },
           "bgcolor": "#E5ECF6",
           "radialaxis": {
            "gridcolor": "white",
            "linecolor": "white",
            "ticks": ""
           }
          },
          "scene": {
           "xaxis": {
            "backgroundcolor": "#E5ECF6",
            "gridcolor": "white",
            "gridwidth": 2,
            "linecolor": "white",
            "showbackground": true,
            "ticks": "",
            "zerolinecolor": "white"
           },
           "yaxis": {
            "backgroundcolor": "#E5ECF6",
            "gridcolor": "white",
            "gridwidth": 2,
            "linecolor": "white",
            "showbackground": true,
            "ticks": "",
            "zerolinecolor": "white"
           },
           "zaxis": {
            "backgroundcolor": "#E5ECF6",
            "gridcolor": "white",
            "gridwidth": 2,
            "linecolor": "white",
            "showbackground": true,
            "ticks": "",
            "zerolinecolor": "white"
           }
          },
          "shapedefaults": {
           "line": {
            "color": "#2a3f5f"
           }
          },
          "ternary": {
           "aaxis": {
            "gridcolor": "white",
            "linecolor": "white",
            "ticks": ""
           },
           "baxis": {
            "gridcolor": "white",
            "linecolor": "white",
            "ticks": ""
           },
           "bgcolor": "#E5ECF6",
           "caxis": {
            "gridcolor": "white",
            "linecolor": "white",
            "ticks": ""
           }
          },
          "title": {
           "x": 0.05
          },
          "xaxis": {
           "automargin": true,
           "gridcolor": "white",
           "linecolor": "white",
           "ticks": "",
           "title": {
            "standoff": 15
           },
           "zerolinecolor": "white",
           "zerolinewidth": 2
          },
          "yaxis": {
           "automargin": true,
           "gridcolor": "white",
           "linecolor": "white",
           "ticks": "",
           "title": {
            "standoff": 15
           },
           "zerolinecolor": "white",
           "zerolinewidth": 2
          }
         }
        },
        "title": {
         "text": "Value selection for parameter L (document-based)"
        },
        "width": 1200,
        "xaxis": {
         "anchor": "y",
         "domain": [
          0,
          1
         ],
         "title": {
          "text": "Parameter L"
         }
        },
        "yaxis": {
         "anchor": "x",
         "domain": [
          0,
          1
         ],
         "title": {
          "text": "Percentage of interpretable topics"
         }
        }
       }
      },
      "text/html": [
       "<div>                            <div id=\"15ead0ba-ec7d-46f1-bed1-0e77611cb7ee\" class=\"plotly-graph-div\" style=\"height:400px; width:1200px;\"></div>            <script type=\"text/javascript\">                require([\"plotly\"], function(Plotly) {                    window.PLOTLYENV=window.PLOTLYENV || {};                                    if (document.getElementById(\"15ead0ba-ec7d-46f1-bed1-0e77611cb7ee\")) {                    Plotly.newPlot(                        \"15ead0ba-ec7d-46f1-bed1-0e77611cb7ee\",                        [{\"hovertemplate\": \"Parameter L=%{x}<br>Percentage of interpretable topics=%{y}<extra></extra>\", \"legendgroup\": \"\", \"line\": {\"color\": \"#636efa\", \"dash\": \"solid\"}, \"mode\": \"lines+markers\", \"name\": \"\", \"orientation\": \"v\", \"showlegend\": false, \"type\": \"scatter\", \"x\": [1.0, 0.5, 0.3333333333333333, 0.25, 0.2, 0.16666666666666666, 0.14285714285714285, 0.125, 0.1111111111111111, 0.1, 0.09090909090909091, 0.08333333333333333, 0.07692307692307693, 0.07142857142857142, 0.06666666666666667, 0.0625, 0.058823529411764705, 0.05555555555555555, 0.05263157894736842], \"xaxis\": \"x\", \"y\": [0.0, 0.6666666666666666, 0.8, 0.8, 0.8, 0.8, 0.8, 0.8, 0.7333333333333333, 0.7333333333333333, 0.7333333333333333, 0.7333333333333333, 0.7333333333333333, 0.7333333333333333, 0.7333333333333333, 0.7333333333333333, 0.7333333333333333, 0.7333333333333333, 0.7333333333333333], \"yaxis\": \"y\"}],                        {\"autosize\": false, \"height\": 400, \"legend\": {\"tracegroupgap\": 0}, \"template\": {\"data\": {\"bar\": [{\"error_x\": {\"color\": \"#2a3f5f\"}, \"error_y\": {\"color\": \"#2a3f5f\"}, \"marker\": {\"line\": {\"color\": \"#E5ECF6\", \"width\": 0.5}}, \"type\": \"bar\"}], \"barpolar\": [{\"marker\": {\"line\": {\"color\": \"#E5ECF6\", \"width\": 0.5}}, \"type\": \"barpolar\"}], \"carpet\": [{\"aaxis\": {\"endlinecolor\": \"#2a3f5f\", \"gridcolor\": \"white\", \"linecolor\": \"white\", \"minorgridcolor\": \"white\", \"startlinecolor\": \"#2a3f5f\"}, \"baxis\": {\"endlinecolor\": \"#2a3f5f\", \"gridcolor\": \"white\", \"linecolor\": \"white\", \"minorgridcolor\": \"white\", \"startlinecolor\": \"#2a3f5f\"}, \"type\": \"carpet\"}], \"choropleth\": [{\"colorbar\": {\"outlinewidth\": 0, \"ticks\": \"\"}, \"type\": \"choropleth\"}], \"contour\": [{\"colorbar\": {\"outlinewidth\": 0, \"ticks\": \"\"}, \"colorscale\": [[0.0, \"#0d0887\"], [0.1111111111111111, \"#46039f\"], [0.2222222222222222, \"#7201a8\"], [0.3333333333333333, \"#9c179e\"], [0.4444444444444444, \"#bd3786\"], [0.5555555555555556, \"#d8576b\"], [0.6666666666666666, \"#ed7953\"], [0.7777777777777778, \"#fb9f3a\"], [0.8888888888888888, \"#fdca26\"], [1.0, \"#f0f921\"]], \"type\": \"contour\"}], \"contourcarpet\": [{\"colorbar\": {\"outlinewidth\": 0, \"ticks\": \"\"}, \"type\": \"contourcarpet\"}], \"heatmap\": [{\"colorbar\": {\"outlinewidth\": 0, \"ticks\": \"\"}, \"colorscale\": [[0.0, \"#0d0887\"], [0.1111111111111111, \"#46039f\"], [0.2222222222222222, \"#7201a8\"], [0.3333333333333333, \"#9c179e\"], [0.4444444444444444, \"#bd3786\"], [0.5555555555555556, \"#d8576b\"], [0.6666666666666666, \"#ed7953\"], [0.7777777777777778, \"#fb9f3a\"], [0.8888888888888888, \"#fdca26\"], [1.0, \"#f0f921\"]], \"type\": \"heatmap\"}], \"heatmapgl\": [{\"colorbar\": {\"outlinewidth\": 0, \"ticks\": \"\"}, \"colorscale\": [[0.0, \"#0d0887\"], [0.1111111111111111, \"#46039f\"], [0.2222222222222222, \"#7201a8\"], [0.3333333333333333, \"#9c179e\"], [0.4444444444444444, \"#bd3786\"], [0.5555555555555556, \"#d8576b\"], [0.6666666666666666, \"#ed7953\"], [0.7777777777777778, \"#fb9f3a\"], [0.8888888888888888, \"#fdca26\"], [1.0, \"#f0f921\"]], \"type\": \"heatmapgl\"}], \"histogram\": [{\"marker\": {\"colorbar\": {\"outlinewidth\": 0, \"ticks\": \"\"}}, \"type\": \"histogram\"}], \"histogram2d\": [{\"colorbar\": {\"outlinewidth\": 0, \"ticks\": \"\"}, \"colorscale\": [[0.0, \"#0d0887\"], [0.1111111111111111, \"#46039f\"], [0.2222222222222222, \"#7201a8\"], [0.3333333333333333, \"#9c179e\"], [0.4444444444444444, \"#bd3786\"], [0.5555555555555556, \"#d8576b\"], [0.6666666666666666, \"#ed7953\"], [0.7777777777777778, \"#fb9f3a\"], [0.8888888888888888, \"#fdca26\"], [1.0, \"#f0f921\"]], \"type\": \"histogram2d\"}], \"histogram2dcontour\": [{\"colorbar\": {\"outlinewidth\": 0, \"ticks\": \"\"}, \"colorscale\": [[0.0, \"#0d0887\"], [0.1111111111111111, \"#46039f\"], [0.2222222222222222, \"#7201a8\"], [0.3333333333333333, \"#9c179e\"], [0.4444444444444444, \"#bd3786\"], [0.5555555555555556, \"#d8576b\"], [0.6666666666666666, \"#ed7953\"], [0.7777777777777778, \"#fb9f3a\"], [0.8888888888888888, \"#fdca26\"], [1.0, \"#f0f921\"]], \"type\": \"histogram2dcontour\"}], \"mesh3d\": [{\"colorbar\": {\"outlinewidth\": 0, \"ticks\": \"\"}, \"type\": \"mesh3d\"}], \"parcoords\": [{\"line\": {\"colorbar\": {\"outlinewidth\": 0, \"ticks\": \"\"}}, \"type\": \"parcoords\"}], \"pie\": [{\"automargin\": true, \"type\": \"pie\"}], \"scatter\": [{\"marker\": {\"colorbar\": {\"outlinewidth\": 0, \"ticks\": \"\"}}, \"type\": \"scatter\"}], \"scatter3d\": [{\"line\": {\"colorbar\": {\"outlinewidth\": 0, \"ticks\": \"\"}}, \"marker\": {\"colorbar\": {\"outlinewidth\": 0, \"ticks\": \"\"}}, \"type\": \"scatter3d\"}], \"scattercarpet\": [{\"marker\": {\"colorbar\": {\"outlinewidth\": 0, \"ticks\": \"\"}}, \"type\": \"scattercarpet\"}], \"scattergeo\": [{\"marker\": {\"colorbar\": {\"outlinewidth\": 0, \"ticks\": \"\"}}, \"type\": \"scattergeo\"}], \"scattergl\": [{\"marker\": {\"colorbar\": {\"outlinewidth\": 0, \"ticks\": \"\"}}, \"type\": \"scattergl\"}], \"scattermapbox\": [{\"marker\": {\"colorbar\": {\"outlinewidth\": 0, \"ticks\": \"\"}}, \"type\": \"scattermapbox\"}], \"scatterpolar\": [{\"marker\": {\"colorbar\": {\"outlinewidth\": 0, \"ticks\": \"\"}}, \"type\": \"scatterpolar\"}], \"scatterpolargl\": [{\"marker\": {\"colorbar\": {\"outlinewidth\": 0, \"ticks\": \"\"}}, \"type\": \"scatterpolargl\"}], \"scatterternary\": [{\"marker\": {\"colorbar\": {\"outlinewidth\": 0, \"ticks\": \"\"}}, \"type\": \"scatterternary\"}], \"surface\": [{\"colorbar\": {\"outlinewidth\": 0, \"ticks\": \"\"}, \"colorscale\": [[0.0, \"#0d0887\"], [0.1111111111111111, \"#46039f\"], [0.2222222222222222, \"#7201a8\"], [0.3333333333333333, \"#9c179e\"], [0.4444444444444444, \"#bd3786\"], [0.5555555555555556, \"#d8576b\"], [0.6666666666666666, \"#ed7953\"], [0.7777777777777778, \"#fb9f3a\"], [0.8888888888888888, \"#fdca26\"], [1.0, \"#f0f921\"]], \"type\": \"surface\"}], \"table\": [{\"cells\": {\"fill\": {\"color\": \"#EBF0F8\"}, \"line\": {\"color\": \"white\"}}, \"header\": {\"fill\": {\"color\": \"#C8D4E3\"}, \"line\": {\"color\": \"white\"}}, \"type\": \"table\"}]}, \"layout\": {\"annotationdefaults\": {\"arrowcolor\": \"#2a3f5f\", \"arrowhead\": 0, \"arrowwidth\": 1}, \"autotypenumbers\": \"strict\", \"coloraxis\": {\"colorbar\": {\"outlinewidth\": 0, \"ticks\": \"\"}}, \"colorscale\": {\"diverging\": [[0, \"#8e0152\"], [0.1, \"#c51b7d\"], [0.2, \"#de77ae\"], [0.3, \"#f1b6da\"], [0.4, \"#fde0ef\"], [0.5, \"#f7f7f7\"], [0.6, \"#e6f5d0\"], [0.7, \"#b8e186\"], [0.8, \"#7fbc41\"], [0.9, \"#4d9221\"], [1, \"#276419\"]], \"sequential\": [[0.0, \"#0d0887\"], [0.1111111111111111, \"#46039f\"], [0.2222222222222222, \"#7201a8\"], [0.3333333333333333, \"#9c179e\"], [0.4444444444444444, \"#bd3786\"], [0.5555555555555556, \"#d8576b\"], [0.6666666666666666, \"#ed7953\"], [0.7777777777777778, \"#fb9f3a\"], [0.8888888888888888, \"#fdca26\"], [1.0, \"#f0f921\"]], \"sequentialminus\": [[0.0, \"#0d0887\"], [0.1111111111111111, \"#46039f\"], [0.2222222222222222, \"#7201a8\"], [0.3333333333333333, \"#9c179e\"], [0.4444444444444444, \"#bd3786\"], [0.5555555555555556, \"#d8576b\"], [0.6666666666666666, \"#ed7953\"], [0.7777777777777778, \"#fb9f3a\"], [0.8888888888888888, \"#fdca26\"], [1.0, \"#f0f921\"]]}, \"colorway\": [\"#636efa\", \"#EF553B\", \"#00cc96\", \"#ab63fa\", \"#FFA15A\", \"#19d3f3\", \"#FF6692\", \"#B6E880\", \"#FF97FF\", \"#FECB52\"], \"font\": {\"color\": \"#2a3f5f\"}, \"geo\": {\"bgcolor\": \"white\", \"lakecolor\": \"white\", \"landcolor\": \"#E5ECF6\", \"showlakes\": true, \"showland\": true, \"subunitcolor\": \"white\"}, \"hoverlabel\": {\"align\": \"left\"}, \"hovermode\": \"closest\", \"mapbox\": {\"style\": \"light\"}, \"paper_bgcolor\": \"white\", \"plot_bgcolor\": \"#E5ECF6\", \"polar\": {\"angularaxis\": {\"gridcolor\": \"white\", \"linecolor\": \"white\", \"ticks\": \"\"}, \"bgcolor\": \"#E5ECF6\", \"radialaxis\": {\"gridcolor\": \"white\", \"linecolor\": \"white\", \"ticks\": \"\"}}, \"scene\": {\"xaxis\": {\"backgroundcolor\": \"#E5ECF6\", \"gridcolor\": \"white\", \"gridwidth\": 2, \"linecolor\": \"white\", \"showbackground\": true, \"ticks\": \"\", \"zerolinecolor\": \"white\"}, \"yaxis\": {\"backgroundcolor\": \"#E5ECF6\", \"gridcolor\": \"white\", \"gridwidth\": 2, \"linecolor\": \"white\", \"showbackground\": true, \"ticks\": \"\", \"zerolinecolor\": \"white\"}, \"zaxis\": {\"backgroundcolor\": \"#E5ECF6\", \"gridcolor\": \"white\", \"gridwidth\": 2, \"linecolor\": \"white\", \"showbackground\": true, \"ticks\": \"\", \"zerolinecolor\": \"white\"}}, \"shapedefaults\": {\"line\": {\"color\": \"#2a3f5f\"}}, \"ternary\": {\"aaxis\": {\"gridcolor\": \"white\", \"linecolor\": \"white\", \"ticks\": \"\"}, \"baxis\": {\"gridcolor\": \"white\", \"linecolor\": \"white\", \"ticks\": \"\"}, \"bgcolor\": \"#E5ECF6\", \"caxis\": {\"gridcolor\": \"white\", \"linecolor\": \"white\", \"ticks\": \"\"}}, \"title\": {\"x\": 0.05}, \"xaxis\": {\"automargin\": true, \"gridcolor\": \"white\", \"linecolor\": \"white\", \"ticks\": \"\", \"title\": {\"standoff\": 15}, \"zerolinecolor\": \"white\", \"zerolinewidth\": 2}, \"yaxis\": {\"automargin\": true, \"gridcolor\": \"white\", \"linecolor\": \"white\", \"ticks\": \"\", \"title\": {\"standoff\": 15}, \"zerolinecolor\": \"white\", \"zerolinewidth\": 2}}}, \"title\": {\"text\": \"Value selection for parameter L (document-based)\"}, \"width\": 1200, \"xaxis\": {\"anchor\": \"y\", \"domain\": [0.0, 1.0], \"title\": {\"text\": \"Parameter L\"}}, \"yaxis\": {\"anchor\": \"x\", \"domain\": [0.0, 1.0], \"title\": {\"text\": \"Percentage of interpretable topics\"}}},                        {\"responsive\": true}                    ).then(function(){\n",
       "                            \n",
       "var gd = document.getElementById('15ead0ba-ec7d-46f1-bed1-0e77611cb7ee');\n",
       "var x = new MutationObserver(function (mutations, observer) {{\n",
       "        var display = window.getComputedStyle(gd).display;\n",
       "        if (!display || display === 'none') {{\n",
       "            console.log([gd, 'removed!']);\n",
       "            Plotly.purge(gd);\n",
       "            observer.disconnect();\n",
       "        }}\n",
       "}});\n",
       "\n",
       "// Listen for the removal of the full notebook cells\n",
       "var notebookContainer = gd.closest('#notebook-container');\n",
       "if (notebookContainer) {{\n",
       "    x.observe(notebookContainer, {childList: true});\n",
       "}}\n",
       "\n",
       "// Listen for the clearing of the current output cell\n",
       "var outputEl = gd.closest('.output');\n",
       "if (outputEl) {{\n",
       "    x.observe(outputEl, {childList: true});\n",
       "}}\n",
       "\n",
       "                        })                };                });            </script>        </div>"
      ]
     },
     "metadata": {},
     "output_type": "display_data"
    }
   ],
   "source": [
    "list_perc1 = []\n",
    "for i in list_L:\n",
    "    num = perc(i, df_topic_distribution)\n",
    "    list_perc1.append(num)\n",
    "\n",
    "df_L1 = pd.DataFrame({'Parameter L': list_L, 'Percentage of interpretable topics': list_perc1})\n",
    "fig_L1 = px.line(df_L1, x = 'Parameter L', y=\"Percentage of interpretable topics\", title = 'Value selection for parameter L (document-based)')\n",
    "fig_L1.update_layout(autosize=False, width=1200, height=400)\n",
    "fig_L1.update_traces(mode = \"lines + markers\")\n",
    "fig_L1.show()"
   ]
  },
  {
   "cell_type": "markdown",
   "metadata": {},
   "source": [
    "The following chart shows that when L = 0.5, the the percentage of interpretable topics is 86.7%, so we set L = 0.5 - ie, each topic needs at least 2(1/L) paragraphs to be interpreted."
   ]
  },
  {
   "cell_type": "code",
   "execution_count": 132,
   "metadata": {},
   "outputs": [
    {
     "data": {
      "application/vnd.plotly.v1+json": {
       "config": {
        "plotlyServerURL": "https://plotly.com"
       },
       "data": [
        {
         "hovertemplate": "Parameter L=%{x}<br>Percentage of interpretable topics=%{y}<extra></extra>",
         "legendgroup": "",
         "line": {
          "color": "#636efa",
          "dash": "solid"
         },
         "mode": "lines+markers",
         "name": "",
         "orientation": "v",
         "showlegend": false,
         "type": "scatter",
         "x": [
          1,
          0.5,
          0.3333333333333333,
          0.25,
          0.2,
          0.16666666666666666,
          0.14285714285714285,
          0.125,
          0.1111111111111111,
          0.1,
          0.09090909090909091,
          0.08333333333333333,
          0.07692307692307693,
          0.07142857142857142,
          0.06666666666666667,
          0.0625,
          0.058823529411764705,
          0.05555555555555555,
          0.05263157894736842
         ],
         "xaxis": "x",
         "y": [
          0,
          0.7333333333333333,
          0.8666666666666667,
          0.9333333333333333,
          0.9333333333333333,
          0.9333333333333333,
          0.9333333333333333,
          0.9333333333333333,
          0.9333333333333333,
          0.9333333333333333,
          1,
          1,
          1,
          1,
          1,
          1,
          1,
          1,
          1
         ],
         "yaxis": "y"
        }
       ],
       "layout": {
        "autosize": false,
        "height": 400,
        "legend": {
         "tracegroupgap": 0
        },
        "template": {
         "data": {
          "bar": [
           {
            "error_x": {
             "color": "#2a3f5f"
            },
            "error_y": {
             "color": "#2a3f5f"
            },
            "marker": {
             "line": {
              "color": "#E5ECF6",
              "width": 0.5
             }
            },
            "type": "bar"
           }
          ],
          "barpolar": [
           {
            "marker": {
             "line": {
              "color": "#E5ECF6",
              "width": 0.5
             }
            },
            "type": "barpolar"
           }
          ],
          "carpet": [
           {
            "aaxis": {
             "endlinecolor": "#2a3f5f",
             "gridcolor": "white",
             "linecolor": "white",
             "minorgridcolor": "white",
             "startlinecolor": "#2a3f5f"
            },
            "baxis": {
             "endlinecolor": "#2a3f5f",
             "gridcolor": "white",
             "linecolor": "white",
             "minorgridcolor": "white",
             "startlinecolor": "#2a3f5f"
            },
            "type": "carpet"
           }
          ],
          "choropleth": [
           {
            "colorbar": {
             "outlinewidth": 0,
             "ticks": ""
            },
            "type": "choropleth"
           }
          ],
          "contour": [
           {
            "colorbar": {
             "outlinewidth": 0,
             "ticks": ""
            },
            "colorscale": [
             [
              0,
              "#0d0887"
             ],
             [
              0.1111111111111111,
              "#46039f"
             ],
             [
              0.2222222222222222,
              "#7201a8"
             ],
             [
              0.3333333333333333,
              "#9c179e"
             ],
             [
              0.4444444444444444,
              "#bd3786"
             ],
             [
              0.5555555555555556,
              "#d8576b"
             ],
             [
              0.6666666666666666,
              "#ed7953"
             ],
             [
              0.7777777777777778,
              "#fb9f3a"
             ],
             [
              0.8888888888888888,
              "#fdca26"
             ],
             [
              1,
              "#f0f921"
             ]
            ],
            "type": "contour"
           }
          ],
          "contourcarpet": [
           {
            "colorbar": {
             "outlinewidth": 0,
             "ticks": ""
            },
            "type": "contourcarpet"
           }
          ],
          "heatmap": [
           {
            "colorbar": {
             "outlinewidth": 0,
             "ticks": ""
            },
            "colorscale": [
             [
              0,
              "#0d0887"
             ],
             [
              0.1111111111111111,
              "#46039f"
             ],
             [
              0.2222222222222222,
              "#7201a8"
             ],
             [
              0.3333333333333333,
              "#9c179e"
             ],
             [
              0.4444444444444444,
              "#bd3786"
             ],
             [
              0.5555555555555556,
              "#d8576b"
             ],
             [
              0.6666666666666666,
              "#ed7953"
             ],
             [
              0.7777777777777778,
              "#fb9f3a"
             ],
             [
              0.8888888888888888,
              "#fdca26"
             ],
             [
              1,
              "#f0f921"
             ]
            ],
            "type": "heatmap"
           }
          ],
          "heatmapgl": [
           {
            "colorbar": {
             "outlinewidth": 0,
             "ticks": ""
            },
            "colorscale": [
             [
              0,
              "#0d0887"
             ],
             [
              0.1111111111111111,
              "#46039f"
             ],
             [
              0.2222222222222222,
              "#7201a8"
             ],
             [
              0.3333333333333333,
              "#9c179e"
             ],
             [
              0.4444444444444444,
              "#bd3786"
             ],
             [
              0.5555555555555556,
              "#d8576b"
             ],
             [
              0.6666666666666666,
              "#ed7953"
             ],
             [
              0.7777777777777778,
              "#fb9f3a"
             ],
             [
              0.8888888888888888,
              "#fdca26"
             ],
             [
              1,
              "#f0f921"
             ]
            ],
            "type": "heatmapgl"
           }
          ],
          "histogram": [
           {
            "marker": {
             "colorbar": {
              "outlinewidth": 0,
              "ticks": ""
             }
            },
            "type": "histogram"
           }
          ],
          "histogram2d": [
           {
            "colorbar": {
             "outlinewidth": 0,
             "ticks": ""
            },
            "colorscale": [
             [
              0,
              "#0d0887"
             ],
             [
              0.1111111111111111,
              "#46039f"
             ],
             [
              0.2222222222222222,
              "#7201a8"
             ],
             [
              0.3333333333333333,
              "#9c179e"
             ],
             [
              0.4444444444444444,
              "#bd3786"
             ],
             [
              0.5555555555555556,
              "#d8576b"
             ],
             [
              0.6666666666666666,
              "#ed7953"
             ],
             [
              0.7777777777777778,
              "#fb9f3a"
             ],
             [
              0.8888888888888888,
              "#fdca26"
             ],
             [
              1,
              "#f0f921"
             ]
            ],
            "type": "histogram2d"
           }
          ],
          "histogram2dcontour": [
           {
            "colorbar": {
             "outlinewidth": 0,
             "ticks": ""
            },
            "colorscale": [
             [
              0,
              "#0d0887"
             ],
             [
              0.1111111111111111,
              "#46039f"
             ],
             [
              0.2222222222222222,
              "#7201a8"
             ],
             [
              0.3333333333333333,
              "#9c179e"
             ],
             [
              0.4444444444444444,
              "#bd3786"
             ],
             [
              0.5555555555555556,
              "#d8576b"
             ],
             [
              0.6666666666666666,
              "#ed7953"
             ],
             [
              0.7777777777777778,
              "#fb9f3a"
             ],
             [
              0.8888888888888888,
              "#fdca26"
             ],
             [
              1,
              "#f0f921"
             ]
            ],
            "type": "histogram2dcontour"
           }
          ],
          "mesh3d": [
           {
            "colorbar": {
             "outlinewidth": 0,
             "ticks": ""
            },
            "type": "mesh3d"
           }
          ],
          "parcoords": [
           {
            "line": {
             "colorbar": {
              "outlinewidth": 0,
              "ticks": ""
             }
            },
            "type": "parcoords"
           }
          ],
          "pie": [
           {
            "automargin": true,
            "type": "pie"
           }
          ],
          "scatter": [
           {
            "marker": {
             "colorbar": {
              "outlinewidth": 0,
              "ticks": ""
             }
            },
            "type": "scatter"
           }
          ],
          "scatter3d": [
           {
            "line": {
             "colorbar": {
              "outlinewidth": 0,
              "ticks": ""
             }
            },
            "marker": {
             "colorbar": {
              "outlinewidth": 0,
              "ticks": ""
             }
            },
            "type": "scatter3d"
           }
          ],
          "scattercarpet": [
           {
            "marker": {
             "colorbar": {
              "outlinewidth": 0,
              "ticks": ""
             }
            },
            "type": "scattercarpet"
           }
          ],
          "scattergeo": [
           {
            "marker": {
             "colorbar": {
              "outlinewidth": 0,
              "ticks": ""
             }
            },
            "type": "scattergeo"
           }
          ],
          "scattergl": [
           {
            "marker": {
             "colorbar": {
              "outlinewidth": 0,
              "ticks": ""
             }
            },
            "type": "scattergl"
           }
          ],
          "scattermapbox": [
           {
            "marker": {
             "colorbar": {
              "outlinewidth": 0,
              "ticks": ""
             }
            },
            "type": "scattermapbox"
           }
          ],
          "scatterpolar": [
           {
            "marker": {
             "colorbar": {
              "outlinewidth": 0,
              "ticks": ""
             }
            },
            "type": "scatterpolar"
           }
          ],
          "scatterpolargl": [
           {
            "marker": {
             "colorbar": {
              "outlinewidth": 0,
              "ticks": ""
             }
            },
            "type": "scatterpolargl"
           }
          ],
          "scatterternary": [
           {
            "marker": {
             "colorbar": {
              "outlinewidth": 0,
              "ticks": ""
             }
            },
            "type": "scatterternary"
           }
          ],
          "surface": [
           {
            "colorbar": {
             "outlinewidth": 0,
             "ticks": ""
            },
            "colorscale": [
             [
              0,
              "#0d0887"
             ],
             [
              0.1111111111111111,
              "#46039f"
             ],
             [
              0.2222222222222222,
              "#7201a8"
             ],
             [
              0.3333333333333333,
              "#9c179e"
             ],
             [
              0.4444444444444444,
              "#bd3786"
             ],
             [
              0.5555555555555556,
              "#d8576b"
             ],
             [
              0.6666666666666666,
              "#ed7953"
             ],
             [
              0.7777777777777778,
              "#fb9f3a"
             ],
             [
              0.8888888888888888,
              "#fdca26"
             ],
             [
              1,
              "#f0f921"
             ]
            ],
            "type": "surface"
           }
          ],
          "table": [
           {
            "cells": {
             "fill": {
              "color": "#EBF0F8"
             },
             "line": {
              "color": "white"
             }
            },
            "header": {
             "fill": {
              "color": "#C8D4E3"
             },
             "line": {
              "color": "white"
             }
            },
            "type": "table"
           }
          ]
         },
         "layout": {
          "annotationdefaults": {
           "arrowcolor": "#2a3f5f",
           "arrowhead": 0,
           "arrowwidth": 1
          },
          "autotypenumbers": "strict",
          "coloraxis": {
           "colorbar": {
            "outlinewidth": 0,
            "ticks": ""
           }
          },
          "colorscale": {
           "diverging": [
            [
             0,
             "#8e0152"
            ],
            [
             0.1,
             "#c51b7d"
            ],
            [
             0.2,
             "#de77ae"
            ],
            [
             0.3,
             "#f1b6da"
            ],
            [
             0.4,
             "#fde0ef"
            ],
            [
             0.5,
             "#f7f7f7"
            ],
            [
             0.6,
             "#e6f5d0"
            ],
            [
             0.7,
             "#b8e186"
            ],
            [
             0.8,
             "#7fbc41"
            ],
            [
             0.9,
             "#4d9221"
            ],
            [
             1,
             "#276419"
            ]
           ],
           "sequential": [
            [
             0,
             "#0d0887"
            ],
            [
             0.1111111111111111,
             "#46039f"
            ],
            [
             0.2222222222222222,
             "#7201a8"
            ],
            [
             0.3333333333333333,
             "#9c179e"
            ],
            [
             0.4444444444444444,
             "#bd3786"
            ],
            [
             0.5555555555555556,
             "#d8576b"
            ],
            [
             0.6666666666666666,
             "#ed7953"
            ],
            [
             0.7777777777777778,
             "#fb9f3a"
            ],
            [
             0.8888888888888888,
             "#fdca26"
            ],
            [
             1,
             "#f0f921"
            ]
           ],
           "sequentialminus": [
            [
             0,
             "#0d0887"
            ],
            [
             0.1111111111111111,
             "#46039f"
            ],
            [
             0.2222222222222222,
             "#7201a8"
            ],
            [
             0.3333333333333333,
             "#9c179e"
            ],
            [
             0.4444444444444444,
             "#bd3786"
            ],
            [
             0.5555555555555556,
             "#d8576b"
            ],
            [
             0.6666666666666666,
             "#ed7953"
            ],
            [
             0.7777777777777778,
             "#fb9f3a"
            ],
            [
             0.8888888888888888,
             "#fdca26"
            ],
            [
             1,
             "#f0f921"
            ]
           ]
          },
          "colorway": [
           "#636efa",
           "#EF553B",
           "#00cc96",
           "#ab63fa",
           "#FFA15A",
           "#19d3f3",
           "#FF6692",
           "#B6E880",
           "#FF97FF",
           "#FECB52"
          ],
          "font": {
           "color": "#2a3f5f"
          },
          "geo": {
           "bgcolor": "white",
           "lakecolor": "white",
           "landcolor": "#E5ECF6",
           "showlakes": true,
           "showland": true,
           "subunitcolor": "white"
          },
          "hoverlabel": {
           "align": "left"
          },
          "hovermode": "closest",
          "mapbox": {
           "style": "light"
          },
          "paper_bgcolor": "white",
          "plot_bgcolor": "#E5ECF6",
          "polar": {
           "angularaxis": {
            "gridcolor": "white",
            "linecolor": "white",
            "ticks": ""
           },
           "bgcolor": "#E5ECF6",
           "radialaxis": {
            "gridcolor": "white",
            "linecolor": "white",
            "ticks": ""
           }
          },
          "scene": {
           "xaxis": {
            "backgroundcolor": "#E5ECF6",
            "gridcolor": "white",
            "gridwidth": 2,
            "linecolor": "white",
            "showbackground": true,
            "ticks": "",
            "zerolinecolor": "white"
           },
           "yaxis": {
            "backgroundcolor": "#E5ECF6",
            "gridcolor": "white",
            "gridwidth": 2,
            "linecolor": "white",
            "showbackground": true,
            "ticks": "",
            "zerolinecolor": "white"
           },
           "zaxis": {
            "backgroundcolor": "#E5ECF6",
            "gridcolor": "white",
            "gridwidth": 2,
            "linecolor": "white",
            "showbackground": true,
            "ticks": "",
            "zerolinecolor": "white"
           }
          },
          "shapedefaults": {
           "line": {
            "color": "#2a3f5f"
           }
          },
          "ternary": {
           "aaxis": {
            "gridcolor": "white",
            "linecolor": "white",
            "ticks": ""
           },
           "baxis": {
            "gridcolor": "white",
            "linecolor": "white",
            "ticks": ""
           },
           "bgcolor": "#E5ECF6",
           "caxis": {
            "gridcolor": "white",
            "linecolor": "white",
            "ticks": ""
           }
          },
          "title": {
           "x": 0.05
          },
          "xaxis": {
           "automargin": true,
           "gridcolor": "white",
           "linecolor": "white",
           "ticks": "",
           "title": {
            "standoff": 15
           },
           "zerolinecolor": "white",
           "zerolinewidth": 2
          },
          "yaxis": {
           "automargin": true,
           "gridcolor": "white",
           "linecolor": "white",
           "ticks": "",
           "title": {
            "standoff": 15
           },
           "zerolinecolor": "white",
           "zerolinewidth": 2
          }
         }
        },
        "title": {
         "text": "Value selection for parameter L (paragraph-based )"
        },
        "width": 1200,
        "xaxis": {
         "anchor": "y",
         "domain": [
          0,
          1
         ],
         "title": {
          "text": "Parameter L"
         }
        },
        "yaxis": {
         "anchor": "x",
         "domain": [
          0,
          1
         ],
         "title": {
          "text": "Percentage of interpretable topics"
         }
        }
       }
      },
      "text/html": [
       "<div>                            <div id=\"16eec78d-64a7-4a6b-81a0-3c4fbc499cd4\" class=\"plotly-graph-div\" style=\"height:400px; width:1200px;\"></div>            <script type=\"text/javascript\">                require([\"plotly\"], function(Plotly) {                    window.PLOTLYENV=window.PLOTLYENV || {};                                    if (document.getElementById(\"16eec78d-64a7-4a6b-81a0-3c4fbc499cd4\")) {                    Plotly.newPlot(                        \"16eec78d-64a7-4a6b-81a0-3c4fbc499cd4\",                        [{\"hovertemplate\": \"Parameter L=%{x}<br>Percentage of interpretable topics=%{y}<extra></extra>\", \"legendgroup\": \"\", \"line\": {\"color\": \"#636efa\", \"dash\": \"solid\"}, \"mode\": \"lines+markers\", \"name\": \"\", \"orientation\": \"v\", \"showlegend\": false, \"type\": \"scatter\", \"x\": [1.0, 0.5, 0.3333333333333333, 0.25, 0.2, 0.16666666666666666, 0.14285714285714285, 0.125, 0.1111111111111111, 0.1, 0.09090909090909091, 0.08333333333333333, 0.07692307692307693, 0.07142857142857142, 0.06666666666666667, 0.0625, 0.058823529411764705, 0.05555555555555555, 0.05263157894736842], \"xaxis\": \"x\", \"y\": [0.0, 0.7333333333333333, 0.8666666666666667, 0.9333333333333333, 0.9333333333333333, 0.9333333333333333, 0.9333333333333333, 0.9333333333333333, 0.9333333333333333, 0.9333333333333333, 1.0, 1.0, 1.0, 1.0, 1.0, 1.0, 1.0, 1.0, 1.0], \"yaxis\": \"y\"}],                        {\"autosize\": false, \"height\": 400, \"legend\": {\"tracegroupgap\": 0}, \"template\": {\"data\": {\"bar\": [{\"error_x\": {\"color\": \"#2a3f5f\"}, \"error_y\": {\"color\": \"#2a3f5f\"}, \"marker\": {\"line\": {\"color\": \"#E5ECF6\", \"width\": 0.5}}, \"type\": \"bar\"}], \"barpolar\": [{\"marker\": {\"line\": {\"color\": \"#E5ECF6\", \"width\": 0.5}}, \"type\": \"barpolar\"}], \"carpet\": [{\"aaxis\": {\"endlinecolor\": \"#2a3f5f\", \"gridcolor\": \"white\", \"linecolor\": \"white\", \"minorgridcolor\": \"white\", \"startlinecolor\": \"#2a3f5f\"}, \"baxis\": {\"endlinecolor\": \"#2a3f5f\", \"gridcolor\": \"white\", \"linecolor\": \"white\", \"minorgridcolor\": \"white\", \"startlinecolor\": \"#2a3f5f\"}, \"type\": \"carpet\"}], \"choropleth\": [{\"colorbar\": {\"outlinewidth\": 0, \"ticks\": \"\"}, \"type\": \"choropleth\"}], \"contour\": [{\"colorbar\": {\"outlinewidth\": 0, \"ticks\": \"\"}, \"colorscale\": [[0.0, \"#0d0887\"], [0.1111111111111111, \"#46039f\"], [0.2222222222222222, \"#7201a8\"], [0.3333333333333333, \"#9c179e\"], [0.4444444444444444, \"#bd3786\"], [0.5555555555555556, \"#d8576b\"], [0.6666666666666666, \"#ed7953\"], [0.7777777777777778, \"#fb9f3a\"], [0.8888888888888888, \"#fdca26\"], [1.0, \"#f0f921\"]], \"type\": \"contour\"}], \"contourcarpet\": [{\"colorbar\": {\"outlinewidth\": 0, \"ticks\": \"\"}, \"type\": \"contourcarpet\"}], \"heatmap\": [{\"colorbar\": {\"outlinewidth\": 0, \"ticks\": \"\"}, \"colorscale\": [[0.0, \"#0d0887\"], [0.1111111111111111, \"#46039f\"], [0.2222222222222222, \"#7201a8\"], [0.3333333333333333, \"#9c179e\"], [0.4444444444444444, \"#bd3786\"], [0.5555555555555556, \"#d8576b\"], [0.6666666666666666, \"#ed7953\"], [0.7777777777777778, \"#fb9f3a\"], [0.8888888888888888, \"#fdca26\"], [1.0, \"#f0f921\"]], \"type\": \"heatmap\"}], \"heatmapgl\": [{\"colorbar\": {\"outlinewidth\": 0, \"ticks\": \"\"}, \"colorscale\": [[0.0, \"#0d0887\"], [0.1111111111111111, \"#46039f\"], [0.2222222222222222, \"#7201a8\"], [0.3333333333333333, \"#9c179e\"], [0.4444444444444444, \"#bd3786\"], [0.5555555555555556, \"#d8576b\"], [0.6666666666666666, \"#ed7953\"], [0.7777777777777778, \"#fb9f3a\"], [0.8888888888888888, \"#fdca26\"], [1.0, \"#f0f921\"]], \"type\": \"heatmapgl\"}], \"histogram\": [{\"marker\": {\"colorbar\": {\"outlinewidth\": 0, \"ticks\": \"\"}}, \"type\": \"histogram\"}], \"histogram2d\": [{\"colorbar\": {\"outlinewidth\": 0, \"ticks\": \"\"}, \"colorscale\": [[0.0, \"#0d0887\"], [0.1111111111111111, \"#46039f\"], [0.2222222222222222, \"#7201a8\"], [0.3333333333333333, \"#9c179e\"], [0.4444444444444444, \"#bd3786\"], [0.5555555555555556, \"#d8576b\"], [0.6666666666666666, \"#ed7953\"], [0.7777777777777778, \"#fb9f3a\"], [0.8888888888888888, \"#fdca26\"], [1.0, \"#f0f921\"]], \"type\": \"histogram2d\"}], \"histogram2dcontour\": [{\"colorbar\": {\"outlinewidth\": 0, \"ticks\": \"\"}, \"colorscale\": [[0.0, \"#0d0887\"], [0.1111111111111111, \"#46039f\"], [0.2222222222222222, \"#7201a8\"], [0.3333333333333333, \"#9c179e\"], [0.4444444444444444, \"#bd3786\"], [0.5555555555555556, \"#d8576b\"], [0.6666666666666666, \"#ed7953\"], [0.7777777777777778, \"#fb9f3a\"], [0.8888888888888888, \"#fdca26\"], [1.0, \"#f0f921\"]], \"type\": \"histogram2dcontour\"}], \"mesh3d\": [{\"colorbar\": {\"outlinewidth\": 0, \"ticks\": \"\"}, \"type\": \"mesh3d\"}], \"parcoords\": [{\"line\": {\"colorbar\": {\"outlinewidth\": 0, \"ticks\": \"\"}}, \"type\": \"parcoords\"}], \"pie\": [{\"automargin\": true, \"type\": \"pie\"}], \"scatter\": [{\"marker\": {\"colorbar\": {\"outlinewidth\": 0, \"ticks\": \"\"}}, \"type\": \"scatter\"}], \"scatter3d\": [{\"line\": {\"colorbar\": {\"outlinewidth\": 0, \"ticks\": \"\"}}, \"marker\": {\"colorbar\": {\"outlinewidth\": 0, \"ticks\": \"\"}}, \"type\": \"scatter3d\"}], \"scattercarpet\": [{\"marker\": {\"colorbar\": {\"outlinewidth\": 0, \"ticks\": \"\"}}, \"type\": \"scattercarpet\"}], \"scattergeo\": [{\"marker\": {\"colorbar\": {\"outlinewidth\": 0, \"ticks\": \"\"}}, \"type\": \"scattergeo\"}], \"scattergl\": [{\"marker\": {\"colorbar\": {\"outlinewidth\": 0, \"ticks\": \"\"}}, \"type\": \"scattergl\"}], \"scattermapbox\": [{\"marker\": {\"colorbar\": {\"outlinewidth\": 0, \"ticks\": \"\"}}, \"type\": \"scattermapbox\"}], \"scatterpolar\": [{\"marker\": {\"colorbar\": {\"outlinewidth\": 0, \"ticks\": \"\"}}, \"type\": \"scatterpolar\"}], \"scatterpolargl\": [{\"marker\": {\"colorbar\": {\"outlinewidth\": 0, \"ticks\": \"\"}}, \"type\": \"scatterpolargl\"}], \"scatterternary\": [{\"marker\": {\"colorbar\": {\"outlinewidth\": 0, \"ticks\": \"\"}}, \"type\": \"scatterternary\"}], \"surface\": [{\"colorbar\": {\"outlinewidth\": 0, \"ticks\": \"\"}, \"colorscale\": [[0.0, \"#0d0887\"], [0.1111111111111111, \"#46039f\"], [0.2222222222222222, \"#7201a8\"], [0.3333333333333333, \"#9c179e\"], [0.4444444444444444, \"#bd3786\"], [0.5555555555555556, \"#d8576b\"], [0.6666666666666666, \"#ed7953\"], [0.7777777777777778, \"#fb9f3a\"], [0.8888888888888888, \"#fdca26\"], [1.0, \"#f0f921\"]], \"type\": \"surface\"}], \"table\": [{\"cells\": {\"fill\": {\"color\": \"#EBF0F8\"}, \"line\": {\"color\": \"white\"}}, \"header\": {\"fill\": {\"color\": \"#C8D4E3\"}, \"line\": {\"color\": \"white\"}}, \"type\": \"table\"}]}, \"layout\": {\"annotationdefaults\": {\"arrowcolor\": \"#2a3f5f\", \"arrowhead\": 0, \"arrowwidth\": 1}, \"autotypenumbers\": \"strict\", \"coloraxis\": {\"colorbar\": {\"outlinewidth\": 0, \"ticks\": \"\"}}, \"colorscale\": {\"diverging\": [[0, \"#8e0152\"], [0.1, \"#c51b7d\"], [0.2, \"#de77ae\"], [0.3, \"#f1b6da\"], [0.4, \"#fde0ef\"], [0.5, \"#f7f7f7\"], [0.6, \"#e6f5d0\"], [0.7, \"#b8e186\"], [0.8, \"#7fbc41\"], [0.9, \"#4d9221\"], [1, \"#276419\"]], \"sequential\": [[0.0, \"#0d0887\"], [0.1111111111111111, \"#46039f\"], [0.2222222222222222, \"#7201a8\"], [0.3333333333333333, \"#9c179e\"], [0.4444444444444444, \"#bd3786\"], [0.5555555555555556, \"#d8576b\"], [0.6666666666666666, \"#ed7953\"], [0.7777777777777778, \"#fb9f3a\"], [0.8888888888888888, \"#fdca26\"], [1.0, \"#f0f921\"]], \"sequentialminus\": [[0.0, \"#0d0887\"], [0.1111111111111111, \"#46039f\"], [0.2222222222222222, \"#7201a8\"], [0.3333333333333333, \"#9c179e\"], [0.4444444444444444, \"#bd3786\"], [0.5555555555555556, \"#d8576b\"], [0.6666666666666666, \"#ed7953\"], [0.7777777777777778, \"#fb9f3a\"], [0.8888888888888888, \"#fdca26\"], [1.0, \"#f0f921\"]]}, \"colorway\": [\"#636efa\", \"#EF553B\", \"#00cc96\", \"#ab63fa\", \"#FFA15A\", \"#19d3f3\", \"#FF6692\", \"#B6E880\", \"#FF97FF\", \"#FECB52\"], \"font\": {\"color\": \"#2a3f5f\"}, \"geo\": {\"bgcolor\": \"white\", \"lakecolor\": \"white\", \"landcolor\": \"#E5ECF6\", \"showlakes\": true, \"showland\": true, \"subunitcolor\": \"white\"}, \"hoverlabel\": {\"align\": \"left\"}, \"hovermode\": \"closest\", \"mapbox\": {\"style\": \"light\"}, \"paper_bgcolor\": \"white\", \"plot_bgcolor\": \"#E5ECF6\", \"polar\": {\"angularaxis\": {\"gridcolor\": \"white\", \"linecolor\": \"white\", \"ticks\": \"\"}, \"bgcolor\": \"#E5ECF6\", \"radialaxis\": {\"gridcolor\": \"white\", \"linecolor\": \"white\", \"ticks\": \"\"}}, \"scene\": {\"xaxis\": {\"backgroundcolor\": \"#E5ECF6\", \"gridcolor\": \"white\", \"gridwidth\": 2, \"linecolor\": \"white\", \"showbackground\": true, \"ticks\": \"\", \"zerolinecolor\": \"white\"}, \"yaxis\": {\"backgroundcolor\": \"#E5ECF6\", \"gridcolor\": \"white\", \"gridwidth\": 2, \"linecolor\": \"white\", \"showbackground\": true, \"ticks\": \"\", \"zerolinecolor\": \"white\"}, \"zaxis\": {\"backgroundcolor\": \"#E5ECF6\", \"gridcolor\": \"white\", \"gridwidth\": 2, \"linecolor\": \"white\", \"showbackground\": true, \"ticks\": \"\", \"zerolinecolor\": \"white\"}}, \"shapedefaults\": {\"line\": {\"color\": \"#2a3f5f\"}}, \"ternary\": {\"aaxis\": {\"gridcolor\": \"white\", \"linecolor\": \"white\", \"ticks\": \"\"}, \"baxis\": {\"gridcolor\": \"white\", \"linecolor\": \"white\", \"ticks\": \"\"}, \"bgcolor\": \"#E5ECF6\", \"caxis\": {\"gridcolor\": \"white\", \"linecolor\": \"white\", \"ticks\": \"\"}}, \"title\": {\"x\": 0.05}, \"xaxis\": {\"automargin\": true, \"gridcolor\": \"white\", \"linecolor\": \"white\", \"ticks\": \"\", \"title\": {\"standoff\": 15}, \"zerolinecolor\": \"white\", \"zerolinewidth\": 2}, \"yaxis\": {\"automargin\": true, \"gridcolor\": \"white\", \"linecolor\": \"white\", \"ticks\": \"\", \"title\": {\"standoff\": 15}, \"zerolinecolor\": \"white\", \"zerolinewidth\": 2}}}, \"title\": {\"text\": \"Value selection for parameter L (paragraph-based )\"}, \"width\": 1200, \"xaxis\": {\"anchor\": \"y\", \"domain\": [0.0, 1.0], \"title\": {\"text\": \"Parameter L\"}}, \"yaxis\": {\"anchor\": \"x\", \"domain\": [0.0, 1.0], \"title\": {\"text\": \"Percentage of interpretable topics\"}}},                        {\"responsive\": true}                    ).then(function(){\n",
       "                            \n",
       "var gd = document.getElementById('16eec78d-64a7-4a6b-81a0-3c4fbc499cd4');\n",
       "var x = new MutationObserver(function (mutations, observer) {{\n",
       "        var display = window.getComputedStyle(gd).display;\n",
       "        if (!display || display === 'none') {{\n",
       "            console.log([gd, 'removed!']);\n",
       "            Plotly.purge(gd);\n",
       "            observer.disconnect();\n",
       "        }}\n",
       "}});\n",
       "\n",
       "// Listen for the removal of the full notebook cells\n",
       "var notebookContainer = gd.closest('#notebook-container');\n",
       "if (notebookContainer) {{\n",
       "    x.observe(notebookContainer, {childList: true});\n",
       "}}\n",
       "\n",
       "// Listen for the clearing of the current output cell\n",
       "var outputEl = gd.closest('.output');\n",
       "if (outputEl) {{\n",
       "    x.observe(outputEl, {childList: true});\n",
       "}}\n",
       "\n",
       "                        })                };                });            </script>        </div>"
      ]
     },
     "metadata": {},
     "output_type": "display_data"
    }
   ],
   "source": [
    "#df_topic_para2 = df_topic_para1.drop(['document_id', 'paragraphs'], axis = 1)\n",
    "list_perc2 = []\n",
    "for i in list_L:\n",
    "    num = perc(i, df_topic_para)\n",
    "    list_perc2.append(num)\n",
    "\n",
    "df_L2 = pd.DataFrame({'Parameter L': list_L, 'Percentage of interpretable topics': list_perc2})\n",
    "fig_L2 = px.line(df_L2, x = 'Parameter L', y=\"Percentage of interpretable topics\", title = 'Value selection for parameter L (paragraph-based )')\n",
    "fig_L2.update_layout(autosize=False, width=1200, height=400)\n",
    "fig_L2.update_traces(mode = \"lines + markers\")\n",
    "fig_L2.show()"
   ]
  },
  {
   "cell_type": "markdown",
   "metadata": {},
   "source": [
    "# Build topic model on paragraphs"
   ]
  },
  {
   "cell_type": "code",
   "execution_count": 133,
   "metadata": {},
   "outputs": [],
   "source": [
    "# tokenization\n",
    "#data2 = df_para.paragraphs.values.tolist()\n",
    "#data_words2_2 = list(sent_to_words(data2))"
   ]
  },
  {
   "cell_type": "code",
   "execution_count": 134,
   "metadata": {},
   "outputs": [],
   "source": [
    "# set the length of word threshold for removing the words less than the threshold\n",
    "#minimum_len = 4 \n",
    "#data_words2 = []\n",
    "#for i in data_words2_2:\n",
    "#    new_element = [x for x in i if len(x) >= minimum_len]\n",
    "#    data_words2.append(new_element)"
   ]
  },
  {
   "cell_type": "code",
   "execution_count": 135,
   "metadata": {},
   "outputs": [],
   "source": [
    "# Bigram & Trigram\n",
    "#bigram2 = gensim.models.Phrases(data_words2, min_count=5, threshold=100) # higher threshold fewer phrases.\n",
    "#trigram2 = gensim.models.Phrases(bigram2[data_words2], threshold=100)  \n",
    "#bigram_mod2 = gensim.models.phrases.Phraser(bigram2)\n",
    "#trigram_mod2 = gensim.models.phrases.Phraser(trigram2)"
   ]
  },
  {
   "cell_type": "code",
   "execution_count": 136,
   "metadata": {},
   "outputs": [],
   "source": [
    "# Remove Stop Words\n",
    "#data_words_nostops2 = remove_stopwords(data_words2)\n",
    "\n",
    "# Form Trigrams\n",
    "#data_words_trigrams2 = make_trigrams(data_words_nostops2)\n",
    "\n",
    "# Do lemmatization keeping only noun, adj, vb, adv\n",
    "#data_lemmatized2 = lemmatization(data_words_trigrams2, allowed_postags=['NOUN', 'ADJ', 'VERB', 'ADV'])"
   ]
  },
  {
   "cell_type": "code",
   "execution_count": 137,
   "metadata": {},
   "outputs": [],
   "source": [
    "# Create Dictionary\n",
    "#id2word2 = corpora.Dictionary(data_lemmatized2)\n",
    "\n",
    "# Create Corpus\n",
    "#texts2 = data_lemmatized2\n",
    "\n",
    "# Term Document Frequency\n",
    "#corpus2 = [id2word2.doc2bow(text) for text in texts]"
   ]
  },
  {
   "cell_type": "code",
   "execution_count": 138,
   "metadata": {},
   "outputs": [],
   "source": [
    "#lda_model2 = gensim.models.LdaModel(\n",
    "#    corpus=corpus2,\n",
    "#    id2word=id2word2,\n",
    "#   alpha=alpha,\n",
    "#    eta=eta,\n",
    "#    iterations=iterations,\n",
    "#    num_topics=k, \n",
    "#   passes=passes)"
   ]
  },
  {
   "cell_type": "code",
   "execution_count": 139,
   "metadata": {},
   "outputs": [],
   "source": [
    "# Compute Coherence Score\n",
    "#coherence_model_lda2 = CoherenceModel(model=lda_model2, texts=data_lemmatized2, dictionary=id2word2, coherence='c_v')\n",
    "#coherence_lda2 = coherence_model_lda2.get_coherence()\n",
    "#print('\\nCoherence Score: ', coherence_lda2)"
   ]
  },
  {
   "cell_type": "code",
   "execution_count": 140,
   "metadata": {},
   "outputs": [],
   "source": [
    "# Visualize the topics\n",
    "#vis2 = pyLDAvis.gensim_models.prepare(lda_model2, corpus2, id2word2, sort_topics = False)\n",
    "#vis2"
   ]
  },
  {
   "cell_type": "code",
   "execution_count": null,
   "metadata": {},
   "outputs": [],
   "source": []
  }
 ],
 "metadata": {
  "kernelspec": {
   "display_name": "Python 3",
   "language": "python",
   "name": "python3"
  },
  "language_info": {
   "codemirror_mode": {
    "name": "ipython",
    "version": 3
   },
   "file_extension": ".py",
   "mimetype": "text/x-python",
   "name": "python",
   "nbconvert_exporter": "python",
   "pygments_lexer": "ipython3",
   "version": "3.8.3"
  }
 },
 "nbformat": 4,
 "nbformat_minor": 4
}
